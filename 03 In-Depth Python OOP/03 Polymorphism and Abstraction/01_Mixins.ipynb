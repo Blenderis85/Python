{
 "cells": [
  {
   "cell_type": "code",
   "execution_count": 1,
   "metadata": {},
   "outputs": [
    {
     "name": "stdout",
     "output_type": "stream",
     "text": [
      "The bob111 has default access\n",
      "The top.admin has Admin Access Type\n",
      "The hacker911 is blocked\n"
     ]
    }
   ],
   "source": [
    "class AdminAccessMixin:\n",
    "    access = \"Admin\"\n",
    "    \n",
    "    def check_access(self):\n",
    "        print(f\"The {self.username} has Admin Access Type\")\n",
    "\n",
    "class BlockedAccessMixin:\n",
    "    access = \"Blocked\"\n",
    "    \n",
    "    def check_access(self):\n",
    "        print(f\"The {self.username} is blocked\")\n",
    "\n",
    "class User:\n",
    "    access = \"User\"\n",
    "\n",
    "    def __init__(self, username, password):\n",
    "        self.username = username\n",
    "        self.password = password\n",
    "    \n",
    "    def check_access(self):\n",
    "        print(f\"The {self.username} has default access\")\n",
    "\n",
    "class BlockedUser(BlockedAccessMixin, User):\n",
    "    pass\n",
    "\n",
    "class Admin(AdminAccessMixin, User):\n",
    "    pass\n",
    "\n",
    "user = User(\"bob111\", \"bob123secret\")\n",
    "admin = Admin(\"top.admin\", \"secret_password\")\n",
    "blocked_user = BlockedUser(\"hacker911\", \"qzdfaswe\")\n",
    "\n",
    "for person in [user, admin, blocked_user]:\n",
    "    person.check_access()\n"
   ]
  }
 ],
 "metadata": {
  "kernelspec": {
   "display_name": "venv",
   "language": "python",
   "name": "python3"
  },
  "language_info": {
   "codemirror_mode": {
    "name": "ipython",
    "version": 3
   },
   "file_extension": ".py",
   "mimetype": "text/x-python",
   "name": "python",
   "nbconvert_exporter": "python",
   "pygments_lexer": "ipython3",
   "version": "3.13.2"
  }
 },
 "nbformat": 4,
 "nbformat_minor": 2
}
