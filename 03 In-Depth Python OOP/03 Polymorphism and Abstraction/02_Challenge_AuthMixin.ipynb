{
 "cells": [
  {
   "cell_type": "code",
   "execution_count": 1,
   "metadata": {},
   "outputs": [
    {
     "name": "stdout",
     "output_type": "stream",
     "text": [
      "The password length should be >= 8.\n",
      "The password should be string.\n",
      "frank.admin is authenticated\n",
      "frank.admin is loggouted\n"
     ]
    }
   ],
   "source": [
    "class AuthMixin:\n",
    "    is_authenticated = False\n",
    "    \n",
    "    def login(self, taken_password):\n",
    "        if self.password == taken_password:\n",
    "            self.is_authenticated = True\n",
    "            print(f\"{self.username} is authenticated\")\n",
    "        else:\n",
    "            print(\"Wrong password!\")\n",
    "\n",
    "    def logout(self):\n",
    "        self.is_authenticated = False\n",
    "        print(f\"{self.username} is loggouted\")\n",
    "\n",
    "        \n",
    "class User(AuthMixin):    \n",
    "    def __init__(self, username, password):\n",
    "        self.username = username\n",
    "        self.password = password\n",
    "    \n",
    "    @property\n",
    "    def password(self):\n",
    "        return self._password\n",
    "\n",
    "    @password.setter\n",
    "    def password(self, new_password):\n",
    "        if isinstance(new_password, str):\n",
    "            if len(new_password) >= 8:\n",
    "                self._password = new_password\n",
    "            else:\n",
    "                print(\"The password length should be >= 8.\")\n",
    "        else:\n",
    "            print(\"The password should be string.\")\n",
    "\n",
    "\n",
    "class Admin(User):\n",
    "    def create_content(self):\n",
    "        print(f\"{self.username} creates the content\")\n",
    "        \n",
    "    def update_content(self):\n",
    "        print(f\"{self.username} updates the content\")\n",
    "        \n",
    "    def delete_content(self):\n",
    "        print(f\"{self.username} deletes the content\")\n",
    "\n",
    "\n",
    "frank = Admin(\"frank.admin\", \"secret.admin.pswrd\")\n",
    "frank.password = \"some password\"\n",
    "frank.password = \"123\"\n",
    "frank.password = 1231241241\n",
    "frank.login(\"some password\")\n",
    "frank.logout()\n"
   ]
  }
 ],
 "metadata": {
  "kernelspec": {
   "display_name": "venv",
   "language": "python",
   "name": "python3"
  },
  "language_info": {
   "codemirror_mode": {
    "name": "ipython",
    "version": 3
   },
   "file_extension": ".py",
   "mimetype": "text/x-python",
   "name": "python",
   "nbconvert_exporter": "python",
   "pygments_lexer": "ipython3",
   "version": "3.13.2"
  }
 },
 "nbformat": 4,
 "nbformat_minor": 2
}
