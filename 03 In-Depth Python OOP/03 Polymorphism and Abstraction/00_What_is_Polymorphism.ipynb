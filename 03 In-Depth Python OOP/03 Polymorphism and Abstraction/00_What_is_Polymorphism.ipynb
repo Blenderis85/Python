{
 "cells": [
  {
   "cell_type": "code",
   "execution_count": 1,
   "metadata": {},
   "outputs": [
    {
     "name": "stdout",
     "output_type": "stream",
     "text": [
      "3\n",
      "10\n",
      "5\n"
     ]
    }
   ],
   "source": [
    "dct = {1: \"first\", 2: \"second\", 3: \"third\"}\n",
    "string = \"Codefinity\"\n",
    "lst = [1, 2, 3, 4, 5]\n",
    "\n",
    "print(len(dct))  # counts the keys in dictionary\n",
    "print(len(string))  # counts the symbols in string\n",
    "print(len(lst))  # counts the elements in list\n"
   ]
  },
  {
   "cell_type": "code",
   "execution_count": 2,
   "metadata": {},
   "outputs": [
    {
     "name": "stdout",
     "output_type": "stream",
     "text": [
      "User\n",
      "This is standart user. 133\n",
      "Admin\n",
      "This is admin of this service. 3300\n",
      "Hacker\n",
      "This person can thief your data. 0\n"
     ]
    }
   ],
   "source": [
    "class User:\n",
    "    role = \"User\"\n",
    "    \n",
    "    def info(self, some_value):\n",
    "        print(\"This is standart user.\", some_value + 100)\n",
    "\n",
    "class Admin:\n",
    "    role = \"Admin\"\n",
    "    \n",
    "    def info(self, some_value):\n",
    "        print(\"This is admin of this service.\", some_value * 100)\n",
    "\n",
    "class Hacker:\n",
    "    role = \"Hacker\"\n",
    "\n",
    "    def info(self, some_value):\n",
    "        print(\"This person can thief your data.\", some_value * 0)\n",
    "\n",
    "user = User()\n",
    "admin = Admin()\n",
    "hacker = Hacker()\n",
    "\n",
    "lst = [user, admin, hacker]\n",
    "\n",
    "for item in lst:\n",
    "    print(item.role)\n",
    "    item.info(33)\n"
   ]
  }
 ],
 "metadata": {
  "kernelspec": {
   "display_name": "venv",
   "language": "python",
   "name": "python3"
  },
  "language_info": {
   "codemirror_mode": {
    "name": "ipython",
    "version": 3
   },
   "file_extension": ".py",
   "mimetype": "text/x-python",
   "name": "python",
   "nbconvert_exporter": "python",
   "pygments_lexer": "ipython3",
   "version": "3.13.2"
  }
 },
 "nbformat": 4,
 "nbformat_minor": 2
}
