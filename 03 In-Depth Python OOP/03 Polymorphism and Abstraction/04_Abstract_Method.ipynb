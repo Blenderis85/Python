{
 "cells": [
  {
   "cell_type": "code",
   "execution_count": 1,
   "metadata": {},
   "outputs": [
    {
     "name": "stdout",
     "output_type": "stream",
     "text": [
      "The first method\n",
      "The second method\n"
     ]
    }
   ],
   "source": [
    "from abc import ABC, abstractmethod\n",
    "\n",
    "class AbstractParent(ABC):\n",
    "    @abstractmethod\n",
    "    def first_method():\n",
    "        pass\n",
    "    \n",
    "    @abstractmethod\n",
    "    def second_method():\n",
    "        pass\n",
    "\n",
    "class Child(AbstractParent):\n",
    "    def first_method(self):\n",
    "      print(\"The first method\")\n",
    "\n",
    "    def second_method(self):\n",
    "        print(\"The second method\")\n",
    "\n",
    "\n",
    "instance = Child()\n",
    "instance.first_method()\n",
    "instance.second_method()\n"
   ]
  }
 ],
 "metadata": {
  "kernelspec": {
   "display_name": "venv",
   "language": "python",
   "name": "python3"
  },
  "language_info": {
   "codemirror_mode": {
    "name": "ipython",
    "version": 3
   },
   "file_extension": ".py",
   "mimetype": "text/x-python",
   "name": "python",
   "nbconvert_exporter": "python",
   "pygments_lexer": "ipython3",
   "version": "3.13.2"
  }
 },
 "nbformat": 4,
 "nbformat_minor": 2
}
