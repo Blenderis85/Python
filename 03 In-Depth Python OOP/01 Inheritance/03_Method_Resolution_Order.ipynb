{
 "cells": [
  {
   "cell_type": "code",
   "execution_count": 1,
   "metadata": {},
   "outputs": [
    {
     "name": "stdout",
     "output_type": "stream",
     "text": [
      "[<class '__main__.Child'>, <class '__main__.C'>, <class '__main__.B'>, <class '__main__.D'>, <class '__main__.A'>, <class 'object'>]\n"
     ]
    }
   ],
   "source": [
    "class A:\n",
    "    pass\n",
    "\n",
    "class B:\n",
    "    pass\n",
    "\n",
    "class C(B):\n",
    "    pass\n",
    "\n",
    "class D(A):\n",
    "    pass\n",
    "\n",
    "class Child(C, D):\n",
    "    pass\n",
    "\n",
    "print(Child.mro())\n"
   ]
  },
  {
   "cell_type": "code",
   "execution_count": 2,
   "metadata": {},
   "outputs": [
    {
     "name": "stdout",
     "output_type": "stream",
     "text": [
      "[<class 'int'>, <class 'object'>]\n",
      "[<class 'float'>, <class 'object'>]\n",
      "[<class 'bool'>, <class 'int'>, <class 'object'>]\n",
      "[<class 'str'>, <class 'object'>]\n",
      "[<class '__main__.SomeClass'>, <class 'object'>]\n"
     ]
    }
   ],
   "source": [
    "print(int.mro())\n",
    "print(float.mro())\n",
    "print(bool.mro())\n",
    "print(str.mro())\n",
    "\n",
    "class SomeClass:\n",
    "    pass\n",
    "\n",
    "print(SomeClass.mro())\n"
   ]
  }
 ],
 "metadata": {
  "kernelspec": {
   "display_name": "venv",
   "language": "python",
   "name": "python3"
  },
  "language_info": {
   "codemirror_mode": {
    "name": "ipython",
    "version": 3
   },
   "file_extension": ".py",
   "mimetype": "text/x-python",
   "name": "python",
   "nbconvert_exporter": "python",
   "pygments_lexer": "ipython3",
   "version": "3.13.2"
  }
 },
 "nbformat": 4,
 "nbformat_minor": 2
}
