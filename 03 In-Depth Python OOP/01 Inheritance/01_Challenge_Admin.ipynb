{
 "cells": [
  {
   "cell_type": "code",
   "execution_count": 1,
   "metadata": {},
   "outputs": [
    {
     "name": "stdout",
     "output_type": "stream",
     "text": [
      "frank.admin is authenticated\n",
      "frank.admin creates the content\n",
      "frank.admin updates the content\n",
      "frank.admin deletes the content\n",
      "frank.admin is loggouted\n"
     ]
    }
   ],
   "source": [
    "class User:\n",
    "    is_authenticated = False\n",
    "    \n",
    "    def __init__(self, username, password):\n",
    "        self.username = username\n",
    "        self.password = password\n",
    "    \n",
    "    def login(self, taken_password):\n",
    "        if self.password == taken_password:\n",
    "            self.is_authenticated = True\n",
    "            print(f\"{self.username} is authenticated\")\n",
    "        else:\n",
    "            print(\"Wrong password!\")\n",
    "\n",
    "    def logout(self):\n",
    "        self.is_authenticated = False\n",
    "        print(f\"{self.username} is loggouted\")\n",
    "\n",
    "\n",
    "class Admin(User):\n",
    "    def create_content(self):\n",
    "        print(f\"{self.username} creates the content\")\n",
    "        \n",
    "    def update_content(self):\n",
    "        print(f\"{self.username} updates the content\")\n",
    "        \n",
    "    def delete_content(self):\n",
    "        print(f\"{self.username} deletes the content\")\n",
    "\n",
    "\n",
    "frank = Admin(\"frank.admin\", \"secret.admin.pswrd\")\n",
    "frank.login(\"secret.admin.pswrd\")\n",
    "frank.create_content()\n",
    "frank.update_content()\n",
    "frank.delete_content()\n",
    "frank.logout()\n"
   ]
  }
 ],
 "metadata": {
  "kernelspec": {
   "display_name": "venv",
   "language": "python",
   "name": "python3"
  },
  "language_info": {
   "codemirror_mode": {
    "name": "ipython",
    "version": 3
   },
   "file_extension": ".py",
   "mimetype": "text/x-python",
   "name": "python",
   "nbconvert_exporter": "python",
   "pygments_lexer": "ipython3",
   "version": "3.13.2"
  }
 },
 "nbformat": 4,
 "nbformat_minor": 2
}
