{
 "cells": [
  {
   "cell_type": "code",
   "execution_count": 1,
   "metadata": {},
   "outputs": [
    {
     "name": "stdout",
     "output_type": "stream",
     "text": [
      "First\n",
      "Second\n",
      "The first_method from the First class\n",
      "The second_method from the Second class\n"
     ]
    }
   ],
   "source": [
    "class First:\n",
    "    first_attribute = \"First\"\n",
    "\n",
    "    def first_method(self):\n",
    "        print(\"The first_method from the First class\")\n",
    "  \n",
    "class Second:\n",
    "    second_attribute = \"Second\"\n",
    "\n",
    "    def second_method(self):\n",
    "        print(\"The second_method from the Second class\")\n",
    "\n",
    "  \n",
    "class Child(First, Second):\n",
    "    pass\n",
    "\n",
    "instance = Child()\n",
    "print(instance.first_attribute)\n",
    "print(instance.second_attribute)\n",
    "instance.first_method()\n",
    "instance.second_method()\n"
   ]
  },
  {
   "cell_type": "code",
   "execution_count": 2,
   "metadata": {},
   "outputs": [
    {
     "name": "stdout",
     "output_type": "stream",
     "text": [
      "Second\n"
     ]
    }
   ],
   "source": [
    "class First:\n",
    "    attribute = \"First\"\n",
    "    \n",
    "class Second:\n",
    "    attribute = \"Second\"\n",
    "    \n",
    "class Child(Second, First):  # Order starts from the `Second`\n",
    "    pass\n",
    "\n",
    "instance = Child()\n",
    "print(instance.attribute)\n"
   ]
  }
 ],
 "metadata": {
  "kernelspec": {
   "display_name": "venv",
   "language": "python",
   "name": "python3"
  },
  "language_info": {
   "codemirror_mode": {
    "name": "ipython",
    "version": 3
   },
   "file_extension": ".py",
   "mimetype": "text/x-python",
   "name": "python",
   "nbconvert_exporter": "python",
   "pygments_lexer": "ipython3",
   "version": "3.13.2"
  }
 },
 "nbformat": 4,
 "nbformat_minor": 2
}
