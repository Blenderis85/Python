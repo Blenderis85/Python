{
 "cells": [
  {
   "cell_type": "code",
   "execution_count": 1,
   "metadata": {},
   "outputs": [
    {
     "name": "stdout",
     "output_type": "stream",
     "text": [
      "User\n"
     ]
    }
   ],
   "source": [
    "class User:\n",
    "    role = \"User\"\n",
    "\n",
    "class Staff(User):\n",
    "    pass\n",
    "\n",
    "print(Staff.role)\n"
   ]
  },
  {
   "cell_type": "code",
   "execution_count": 2,
   "metadata": {},
   "outputs": [
    {
     "name": "stdout",
     "output_type": "stream",
     "text": [
      "Is a User with the name Bob\n",
      "User\n"
     ]
    }
   ],
   "source": [
    "class User:\n",
    "    role = \"User\"\n",
    "    \n",
    "    def __init__(self, name):\n",
    "        self.name = name\n",
    "    \n",
    "    def print_name(self):\n",
    "        print(f\"Is a {self.role} with the name {self.name}\")\n",
    "        \n",
    "\n",
    "class Staff(User):\n",
    "    pass\n",
    "\n",
    "\n",
    "bob = Staff(\"Bob\")\n",
    "\n",
    "bob.print_name()  # takes `print_name()` from the `User` class\n",
    "print(bob.role)  # takes `role` from the `User` class\n"
   ]
  },
  {
   "cell_type": "code",
   "execution_count": 3,
   "metadata": {},
   "outputs": [
    {
     "name": "stdout",
     "output_type": "stream",
     "text": [
      "Is a Staff with the name Bob\n",
      "Staff\n"
     ]
    }
   ],
   "source": [
    "class User:\n",
    "    role = \"User\"\n",
    "    \n",
    "    def __init__(self, name):\n",
    "        self.name = name\n",
    "    \n",
    "    def print_name(self):\n",
    "        print(f\"Is a {self.role} with the name {self.name}\")\n",
    "        \n",
    "\n",
    "class Staff(User):\n",
    "    role = \"Staff\"\n",
    "\n",
    "\n",
    "bob = Staff(\"Bob\")\n",
    "\n",
    "bob.print_name()  # takes `print_name()` from the `User` class\n",
    "print(bob.role)  # takes `role` from the `Staff` class\n"
   ]
  }
 ],
 "metadata": {
  "kernelspec": {
   "display_name": "venv",
   "language": "python",
   "name": "python3"
  },
  "language_info": {
   "codemirror_mode": {
    "name": "ipython",
    "version": 3
   },
   "file_extension": ".py",
   "mimetype": "text/x-python",
   "name": "python",
   "nbconvert_exporter": "python",
   "pygments_lexer": "ipython3",
   "version": "3.13.2"
  }
 },
 "nbformat": 4,
 "nbformat_minor": 2
}
