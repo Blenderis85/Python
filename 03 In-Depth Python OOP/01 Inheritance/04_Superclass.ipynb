{
 "cells": [
  {
   "cell_type": "code",
   "execution_count": 1,
   "metadata": {},
   "outputs": [
    {
     "name": "stdout",
     "output_type": "stream",
     "text": [
      "user123\n",
      "secret_password\n",
      "John\n",
      "Johnson\n",
      "24\n"
     ]
    }
   ],
   "source": [
    "class User:\n",
    "    def __init__(self, username, password):\n",
    "        self.username = username\n",
    "        self.password = password\n",
    "        \n",
    "class NewUser(User):\n",
    "    def __init__(self, username, password, name, surname, age):\n",
    "        super().__init__(username, password)\n",
    "        self.name = name\n",
    "        self.surname = surname\n",
    "        self.age = age\n",
    "        \n",
    "        \n",
    "user = NewUser(\"user123\", \"secret_password\", \"John\", \"Johnson\", 24)\n",
    "print(user.username)\n",
    "print(user.password)\n",
    "print(user.name)\n",
    "print(user.surname)\n",
    "print(user.age)\n"
   ]
  },
  {
   "cell_type": "code",
   "execution_count": 2,
   "metadata": {},
   "outputs": [
    {
     "name": "stdout",
     "output_type": "stream",
     "text": [
      "Admin\n",
      "User\n"
     ]
    }
   ],
   "source": [
    "class User:\n",
    "    role = \"User\"\n",
    "\n",
    "class Admin(User):\n",
    "    role = \"Admin\"\n",
    "    \n",
    "    def info(self):\n",
    "        print(self.role)\n",
    "        print(super().role)\n",
    "\n",
    "admin = Admin()\n",
    "admin.info()\n"
   ]
  }
 ],
 "metadata": {
  "kernelspec": {
   "display_name": "venv",
   "language": "python",
   "name": "python3"
  },
  "language_info": {
   "codemirror_mode": {
    "name": "ipython",
    "version": 3
   },
   "file_extension": ".py",
   "mimetype": "text/x-python",
   "name": "python",
   "nbconvert_exporter": "python",
   "pygments_lexer": "ipython3",
   "version": "3.13.2"
  }
 },
 "nbformat": 4,
 "nbformat_minor": 2
}
