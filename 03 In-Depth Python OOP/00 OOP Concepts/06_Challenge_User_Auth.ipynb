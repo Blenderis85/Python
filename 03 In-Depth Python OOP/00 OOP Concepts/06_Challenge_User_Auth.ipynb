{
 "cells": [
  {
   "cell_type": "code",
   "execution_count": 1,
   "metadata": {},
   "outputs": [
    {
     "name": "stdout",
     "output_type": "stream",
     "text": [
      "False\n",
      "Wrong password!\n",
      "User is authenticated\n",
      "True\n",
      "User is loggouted\n",
      "False\n"
     ]
    }
   ],
   "source": [
    "class User:\n",
    "    is_authenticated = False\n",
    "    \n",
    "    def __init__(self, username, password):\n",
    "        self.username = username\n",
    "        self.password = password\n",
    "    \n",
    "    def login(self, taken_password):\n",
    "        if self.password == taken_password:\n",
    "            self.is_authenticated = True\n",
    "            print(\"User is authenticated\")\n",
    "        else:\n",
    "            print(\"Wrong password!\")\n",
    "\n",
    "    def logout(self):\n",
    "        self.is_authenticated = False\n",
    "        print(\"User is loggouted\")\n",
    "\n",
    "        \n",
    "bob = User(\"bob123.user\", \"secret_bob_password\")\n",
    "print(bob.is_authenticated)  # False\n",
    "\n",
    "bob.login(\"123wsad123\")  # Try to login with wrong password\n",
    "bob.login(\"secret_bob_password\")\n",
    "\n",
    "print(bob.is_authenticated)  # True\n",
    "\n",
    "bob.logout()\n",
    "print(bob.is_authenticated)  # False\n"
   ]
  }
 ],
 "metadata": {
  "kernelspec": {
   "display_name": "venv",
   "language": "python",
   "name": "python3"
  },
  "language_info": {
   "codemirror_mode": {
    "name": "ipython",
    "version": 3
   },
   "file_extension": ".py",
   "mimetype": "text/x-python",
   "name": "python",
   "nbconvert_exporter": "python",
   "pygments_lexer": "ipython3",
   "version": "3.13.2"
  }
 },
 "nbformat": 4,
 "nbformat_minor": 2
}
