{
 "cells": [
  {
   "cell_type": "code",
   "execution_count": 1,
   "metadata": {},
   "outputs": [
    {
     "name": "stdout",
     "output_type": "stream",
     "text": [
      "Bob Smith 11\n"
     ]
    }
   ],
   "source": [
    "class User:\n",
    "    def __init__(self, name, surname, age):\n",
    "      # self=bob, name=\"Bob\", surname=\"Smith\", age=11\n",
    "        self.name = name\n",
    "      # bob.name = \"Bob\" (name argument)\n",
    "        self.surname = surname\n",
    "      # bob.surname = \"Smith\" (surname argument) \n",
    "        self.age = age\n",
    "      # bob.age = 11 (age argument)\n",
    "      \n",
    "bob = User(\"Bob\", \"Smith\", 11)\n",
    "print(bob.name, bob.surname, bob.age)\n"
   ]
  },
  {
   "cell_type": "code",
   "execution_count": 2,
   "metadata": {},
   "outputs": [
    {
     "name": "stdout",
     "output_type": "stream",
     "text": [
      "===== INIT ARGUMENTS =====\n",
      "self: <__main__.User object at 0x00000251F40281A0>\n",
      "name: Bob\n",
      "surname: Smith\n",
      "age: 11\n",
      "===== GLOBAL =====\n",
      "bob: <__main__.User object at 0x00000251F40281A0>\n",
      "bob.name: Bob\n",
      "bob.surname: Smith\n",
      "bob.age: 11\n"
     ]
    }
   ],
   "source": [
    "class User:\n",
    "    def __init__(self, name, surname, age):\n",
    "        print(\"===== INIT ARGUMENTS =====\")\n",
    "        print(\"self:\", self)\n",
    "        print(\"name:\", name)\n",
    "        print(\"surname:\", surname)\n",
    "        print(\"age:\", age)\n",
    "\n",
    "        self.name = name\n",
    "        self.surname = surname\n",
    "        self.age = age\n",
    "        \n",
    "bob = User(\"Bob\", \"Smith\", 11)\n",
    "print(\"===== GLOBAL =====\")\n",
    "print(\"bob:\", bob)\n",
    "print(\"bob.name:\", bob.name)\n",
    "print(\"bob.surname:\", bob.surname)\n",
    "print(\"bob.age:\", bob.age)\n"
   ]
  },
  {
   "cell_type": "code",
   "execution_count": 3,
   "metadata": {},
   "outputs": [
    {
     "name": "stdout",
     "output_type": "stream",
     "text": [
      "Bob Smith 11\n"
     ]
    }
   ],
   "source": [
    "class User:\n",
    "    pass\n",
    "\n",
    "def init(instance, arg1, arg2, arg3):\n",
    "    instance.name = arg1\n",
    "    instance.surname = arg2\n",
    "    instance.age = arg3\n",
    "\n",
    "bob = User()\n",
    "init(bob, \"Bob\", \"Smith\", 11)\n",
    "print(bob.name, bob.surname, bob.age)\n"
   ]
  }
 ],
 "metadata": {
  "kernelspec": {
   "display_name": "venv",
   "language": "python",
   "name": "python3"
  },
  "language_info": {
   "codemirror_mode": {
    "name": "ipython",
    "version": 3
   },
   "file_extension": ".py",
   "mimetype": "text/x-python",
   "name": "python",
   "nbconvert_exporter": "python",
   "pygments_lexer": "ipython3",
   "version": "3.13.2"
  }
 },
 "nbformat": 4,
 "nbformat_minor": 2
}
