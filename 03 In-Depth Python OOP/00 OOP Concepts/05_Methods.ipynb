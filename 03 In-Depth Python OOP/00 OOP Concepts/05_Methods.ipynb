{
 "cells": [
  {
   "cell_type": "code",
   "execution_count": 3,
   "metadata": {},
   "outputs": [
    {
     "name": "stdout",
     "output_type": "stream",
     "text": [
      "The plane Bon flew 56 km\n"
     ]
    }
   ],
   "source": [
    "class Plane:\n",
    "    name = \"Unknown\"\n",
    "\n",
    "    def fly(self, distance):\n",
    "        print(f\"The plane {self.name} flew {distance} km\")\n",
    "\n",
    "bon = Plane()\n",
    "bon.name = \"Bon\"\n",
    "bon.fly(56)\n"
   ]
  }
 ],
 "metadata": {
  "kernelspec": {
   "display_name": "venv",
   "language": "python",
   "name": "python3"
  },
  "language_info": {
   "codemirror_mode": {
    "name": "ipython",
    "version": 3
   },
   "file_extension": ".py",
   "mimetype": "text/x-python",
   "name": "python",
   "nbconvert_exporter": "python",
   "pygments_lexer": "ipython3",
   "version": "3.13.2"
  }
 },
 "nbformat": 4,
 "nbformat_minor": 2
}
