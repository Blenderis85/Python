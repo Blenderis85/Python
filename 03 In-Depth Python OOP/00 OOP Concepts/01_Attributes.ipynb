{
 "cells": [
  {
   "cell_type": "code",
   "execution_count": 1,
   "metadata": {},
   "outputs": [
    {
     "data": {
      "text/plain": [
       "'Value'"
      ]
     },
     "execution_count": 1,
     "metadata": {},
     "output_type": "execute_result"
    }
   ],
   "source": [
    "class Class:\n",
    "    attribute = \"Value\"\n",
    "    \n",
    "Class.attribute\n"
   ]
  },
  {
   "cell_type": "code",
   "execution_count": 2,
   "metadata": {},
   "outputs": [
    {
     "name": "stdout",
     "output_type": "stream",
     "text": [
      "20\n",
      "20\n"
     ]
    }
   ],
   "source": [
    "class User:\n",
    "    username = \"top_user_name\"\n",
    "    age = 20\n",
    "\n",
    "bob = User()\n",
    "\n",
    "print(User.age)\n",
    "print(bob.age)\n"
   ]
  },
  {
   "cell_type": "code",
   "execution_count": 3,
   "metadata": {},
   "outputs": [
    {
     "name": "stdout",
     "output_type": "stream",
     "text": [
      "Bob\n"
     ]
    }
   ],
   "source": [
    "class User:\n",
    "    pass\n",
    "\n",
    "bob = User()\n",
    "bob.name = \"Bob\"\n",
    "\n",
    "print(bob.name)\n"
   ]
  },
  {
   "cell_type": "code",
   "execution_count": 4,
   "metadata": {},
   "outputs": [
    {
     "name": "stdout",
     "output_type": "stream",
     "text": [
      "john.name = User\n",
      "bob.name = Bob\n"
     ]
    }
   ],
   "source": [
    "class User:\n",
    "    name = \"User\"\n",
    "    \n",
    "john = User()\n",
    "bob = User()\n",
    "bob.name = \"Bob\"\n",
    "\n",
    "print(\"john.name =\", john.name)\n",
    "print(\"bob.name =\", bob.name)\n"
   ]
  }
 ],
 "metadata": {
  "kernelspec": {
   "display_name": "venv",
   "language": "python",
   "name": "python3"
  },
  "language_info": {
   "codemirror_mode": {
    "name": "ipython",
    "version": 3
   },
   "file_extension": ".py",
   "mimetype": "text/x-python",
   "name": "python",
   "nbconvert_exporter": "python",
   "pygments_lexer": "ipython3",
   "version": "3.13.2"
  }
 },
 "nbformat": 4,
 "nbformat_minor": 2
}
