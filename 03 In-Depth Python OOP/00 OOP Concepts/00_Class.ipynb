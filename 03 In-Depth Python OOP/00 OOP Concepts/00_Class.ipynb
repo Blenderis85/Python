{
 "cells": [
  {
   "cell_type": "code",
   "execution_count": null,
   "metadata": {},
   "outputs": [],
   "source": [
    "class SomeClass:\n",
    "    pass\n"
   ]
  },
  {
   "cell_type": "code",
   "execution_count": 1,
   "metadata": {},
   "outputs": [
    {
     "name": "stdout",
     "output_type": "stream",
     "text": [
      "<class '__main__.SomeClass'>\n",
      "<class 'type'>\n",
      "<class 'type'>\n"
     ]
    }
   ],
   "source": [
    "class SomeClass:\n",
    "    pass\n",
    "  \n",
    "print(SomeClass)\n",
    "print(type(SomeClass))\n",
    "print(type(int))\n"
   ]
  },
  {
   "cell_type": "code",
   "execution_count": 2,
   "metadata": {},
   "outputs": [
    {
     "name": "stdout",
     "output_type": "stream",
     "text": [
      "<class '__main__.SomeClass'>\n",
      "<class '__main__.SomeClass'>\n"
     ]
    }
   ],
   "source": [
    "class SomeClass:\n",
    "    pass\n",
    "  \n",
    "instance = SomeClass()\n",
    "some_variable = SomeClass()\n",
    "\n",
    "print(type(instance))\n",
    "print(type(some_variable))\n"
   ]
  }
 ],
 "metadata": {
  "kernelspec": {
   "display_name": "venv",
   "language": "python",
   "name": "python3"
  },
  "language_info": {
   "codemirror_mode": {
    "name": "ipython",
    "version": 3
   },
   "file_extension": ".py",
   "mimetype": "text/x-python",
   "name": "python",
   "nbconvert_exporter": "python",
   "pygments_lexer": "ipython3",
   "version": "3.13.2"
  }
 },
 "nbformat": 4,
 "nbformat_minor": 2
}
