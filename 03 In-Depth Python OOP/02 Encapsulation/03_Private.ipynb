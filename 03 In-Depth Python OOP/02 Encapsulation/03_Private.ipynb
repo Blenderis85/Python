{
 "cells": [
  {
   "cell_type": "code",
   "execution_count": 1,
   "metadata": {},
   "outputs": [
    {
     "name": "stdout",
     "output_type": "stream",
     "text": [
      "Privated value\n",
      "Privated value\n"
     ]
    }
   ],
   "source": [
    "class SomeClass:\n",
    "    __value = \"Privated value\"\n",
    "\n",
    "instance = SomeClass()\n",
    "\n",
    "print(instance._SomeClass__value)\n",
    "print(SomeClass._SomeClass__value)\n"
   ]
  }
 ],
 "metadata": {
  "kernelspec": {
   "display_name": "venv",
   "language": "python",
   "name": "python3"
  },
  "language_info": {
   "codemirror_mode": {
    "name": "ipython",
    "version": 3
   },
   "file_extension": ".py",
   "mimetype": "text/x-python",
   "name": "python",
   "nbconvert_exporter": "python",
   "pygments_lexer": "ipython3",
   "version": "3.13.2"
  }
 },
 "nbformat": 4,
 "nbformat_minor": 2
}
