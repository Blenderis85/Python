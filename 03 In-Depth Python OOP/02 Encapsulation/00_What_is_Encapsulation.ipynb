{
 "cells": [
  {
   "cell_type": "code",
   "execution_count": null,
   "metadata": {},
   "outputs": [],
   "source": [
    "class SomeClass:\n",
    "    attribute = \"Public\"\n",
    "    _attribute = \"Protected\"\n",
    "    __attribute = \"Private\"\n",
    "    \n",
    "    def method(self):\n",
    "        print(\"Public method\")\n",
    "        \n",
    "    def _method(self):\n",
    "        print(\"Protected method\")\n",
    "\n",
    "    def __method(self):\n",
    "        print(\"Private method\")\n"
   ]
  }
 ],
 "metadata": {
  "kernelspec": {
   "display_name": "venv",
   "language": "python",
   "name": "python3"
  },
  "language_info": {
   "name": "python",
   "version": "3.13.2"
  }
 },
 "nbformat": 4,
 "nbformat_minor": 2
}
