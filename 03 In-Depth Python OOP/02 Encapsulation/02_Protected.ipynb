{
 "cells": [
  {
   "cell_type": "code",
   "execution_count": 1,
   "metadata": {},
   "outputs": [
    {
     "name": "stdout",
     "output_type": "stream",
     "text": [
      "Outside: Protected\n",
      "INFO\n",
      "first: Something\n",
      "_attribute: Protected\n",
      "You should use protected inside the class\n"
     ]
    }
   ],
   "source": [
    "class SomeClass():\n",
    "    first = \"Something\"\n",
    "    _attribute = \"Protected\"\n",
    "    \n",
    "    def _method(self):\n",
    "        print(\"You should use protected inside the class\")\n",
    "\n",
    "    def info(self):\n",
    "        print(\"INFO\")\n",
    "        print(\"first:\", self.first)\n",
    "        print(\"_attribute:\", self._attribute)\n",
    "        self._method()\n",
    "\n",
    "\n",
    "instance = SomeClass()\n",
    "print(\"Outside:\", instance._attribute)  # BAD PRACTICE\n",
    "instance.info()  # It's OK\n"
   ]
  },
  {
   "cell_type": "code",
   "execution_count": 2,
   "metadata": {},
   "outputs": [
    {
     "name": "stdout",
     "output_type": "stream",
     "text": [
      "Internet User\n"
     ]
    }
   ],
   "source": [
    "class User:\n",
    "  _entity = \"Internet User\"\n",
    "  \n",
    "class Admin(User):\n",
    "    def print_entity(self):\n",
    "        print(self._entity)\n",
    "\n",
    "admin = Admin()\n",
    "admin.print_entity()\n"
   ]
  }
 ],
 "metadata": {
  "kernelspec": {
   "display_name": "venv",
   "language": "python",
   "name": "python3"
  },
  "language_info": {
   "codemirror_mode": {
    "name": "ipython",
    "version": 3
   },
   "file_extension": ".py",
   "mimetype": "text/x-python",
   "name": "python",
   "nbconvert_exporter": "python",
   "pygments_lexer": "ipython3",
   "version": "3.13.2"
  }
 },
 "nbformat": 4,
 "nbformat_minor": 2
}
