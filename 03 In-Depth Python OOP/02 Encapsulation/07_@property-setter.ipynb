{
 "cells": [
  {
   "cell_type": "code",
   "execution_count": 1,
   "metadata": {},
   "outputs": [
    {
     "name": "stdout",
     "output_type": "stream",
     "text": [
      "bob123456\n"
     ]
    }
   ],
   "source": [
    "class User:\n",
    "    def __init__(self, username, password):\n",
    "        self.username = username\n",
    "        self.__password = password\n",
    "\n",
    "    @property\n",
    "    def password(self):\n",
    "        return self.__password\n",
    "\n",
    "bob = User(\"bob123top\", \"bob123456\")\n",
    "print(bob.password)\n"
   ]
  },
  {
   "cell_type": "code",
   "execution_count": 2,
   "metadata": {},
   "outputs": [
    {
     "name": "stdout",
     "output_type": "stream",
     "text": [
      "(old) bob123456\n",
      "(new) new_bob_password_123\n"
     ]
    }
   ],
   "source": [
    "class User:\n",
    "    def __init__(self, username, password):\n",
    "        self.username = username\n",
    "        self.__password = password\n",
    "\n",
    "    @property\n",
    "    def password(self):\n",
    "        return self.__password\n",
    "\n",
    "    @password.setter\n",
    "    def password(self, new_password):\n",
    "        self.__password = new_password\n",
    "\n",
    "\n",
    "bob = User(\"bob123top\", \"bob123456\")\n",
    "print(\"(old)\", bob.password)\n",
    "\n",
    "bob.password = \"new_bob_password_123\"\n",
    "print(\"(new)\", bob.password)\n"
   ]
  },
  {
   "cell_type": "code",
   "execution_count": 3,
   "metadata": {},
   "outputs": [
    {
     "name": "stdout",
     "output_type": "stream",
     "text": [
      "(old) bob123456\n",
      "Password must be STRING\n",
      "(old) bob123456\n",
      "The password length must be >= 8\n",
      "(old) bob123456\n",
      "(new) bob.top.user.123\n"
     ]
    }
   ],
   "source": [
    "class User:\n",
    "    def __init__(self, username, password):\n",
    "        self.username = username\n",
    "        self.__password = password\n",
    "\n",
    "    @property\n",
    "    def password(self):\n",
    "        return self.__password\n",
    "\n",
    "    @password.setter\n",
    "    def password(self, new_password):\n",
    "        if isinstance(new_password, str):\n",
    "            if len(new_password) >= 8:\n",
    "                self.__password = new_password\n",
    "            else:\n",
    "                print(\"The password length must be >= 8\")\n",
    "        else:\n",
    "            print(\"Password must be STRING\")\n",
    "\n",
    "\n",
    "\n",
    "bob = User(\"bob123top\", \"bob123456\")\n",
    "print(\"(old)\", bob.password)\n",
    "\n",
    "bob.password = 122\n",
    "print(\"(old)\", bob.password)\n",
    "\n",
    "bob.password = \"123\"\n",
    "print(\"(old)\", bob.password)\n",
    "\n",
    "bob.password = \"bob.top.user.123\"\n",
    "print(\"(new)\", bob.password)\n"
   ]
  }
 ],
 "metadata": {
  "kernelspec": {
   "display_name": "venv",
   "language": "python",
   "name": "python3"
  },
  "language_info": {
   "codemirror_mode": {
    "name": "ipython",
    "version": 3
   },
   "file_extension": ".py",
   "mimetype": "text/x-python",
   "name": "python",
   "nbconvert_exporter": "python",
   "pygments_lexer": "ipython3",
   "version": "3.13.2"
  }
 },
 "nbformat": 4,
 "nbformat_minor": 2
}
