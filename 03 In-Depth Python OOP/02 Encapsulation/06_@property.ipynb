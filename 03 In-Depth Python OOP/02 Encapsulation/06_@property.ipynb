{
 "cells": [
  {
   "cell_type": "code",
   "execution_count": 1,
   "metadata": {},
   "outputs": [
    {
     "name": "stdout",
     "output_type": "stream",
     "text": [
      "288\n",
      "55\n"
     ]
    }
   ],
   "source": [
    "class CinemaHall:\n",
    "    def __init__(self, rows, seats_in_row):\n",
    "        self.rows = rows\n",
    "        self.seats_in_row = seats_in_row\n",
    "\n",
    "    @property\n",
    "    def capacity(self):\n",
    "        return self.rows * self.seats_in_row\n",
    "\n",
    "hall = CinemaHall(24, 12)\n",
    "print(hall.capacity)\n",
    "\n",
    "hall.rows = 5\n",
    "hall.seats_in_row = 11\n",
    "print(hall.capacity)\n"
   ]
  }
 ],
 "metadata": {
  "kernelspec": {
   "display_name": "venv",
   "language": "python",
   "name": "python3"
  },
  "language_info": {
   "codemirror_mode": {
    "name": "ipython",
    "version": 3
   },
   "file_extension": ".py",
   "mimetype": "text/x-python",
   "name": "python",
   "nbconvert_exporter": "python",
   "pygments_lexer": "ipython3",
   "version": "3.13.2"
  }
 },
 "nbformat": 4,
 "nbformat_minor": 2
}
