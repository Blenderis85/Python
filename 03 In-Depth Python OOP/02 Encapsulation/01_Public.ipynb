{
 "cells": [
  {
   "cell_type": "code",
   "execution_count": 1,
   "metadata": {},
   "outputs": [
    {
     "name": "stdout",
     "output_type": "stream",
     "text": [
      "Public\n",
      "You can use it everywhere in your code\n"
     ]
    }
   ],
   "source": [
    "class SomeClass:\n",
    "    attribute = \"Public\"\n",
    "    \n",
    "    def method(self):\n",
    "        print(\"You can use it everywhere in your code\")\n",
    "\n",
    "instance = SomeClass()\n",
    "    \n",
    "print(instance.attribute)\n",
    "instance.method()\n"
   ]
  }
 ],
 "metadata": {
  "kernelspec": {
   "display_name": "venv",
   "language": "python",
   "name": "python3"
  },
  "language_info": {
   "codemirror_mode": {
    "name": "ipython",
    "version": 3
   },
   "file_extension": ".py",
   "mimetype": "text/x-python",
   "name": "python",
   "nbconvert_exporter": "python",
   "pygments_lexer": "ipython3",
   "version": "3.13.2"
  }
 },
 "nbformat": 4,
 "nbformat_minor": 2
}
