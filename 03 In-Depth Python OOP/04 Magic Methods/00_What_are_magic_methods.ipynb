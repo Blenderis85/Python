{
 "cells": [
  {
   "cell_type": "markdown",
   "metadata": {},
   "source": [
    "```python\n",
    "# What do you use:\n",
    "len(string)\n",
    "a + b\n",
    "\n",
    "# What Python does:\n",
    "string.__len__()\n",
    "a.__add__(b)\n",
    "```"
   ]
  },
  {
   "cell_type": "code",
   "execution_count": 1,
   "metadata": {},
   "outputs": [
    {
     "name": "stdout",
     "output_type": "stream",
     "text": [
      "<class '__main__.Road'>\n",
      "50\n"
     ]
    }
   ],
   "source": [
    "class Road:\n",
    "    def __init__(self, length):\n",
    "        self.length = length\n",
    "\n",
    "    def __add__(self, other_road):\n",
    "        return Road(self.length + other_road.length)\n",
    "\n",
    "road_1 = Road(20)\n",
    "road_2 = Road(30)\n",
    "road_3 = road_1 + road_2  # road_3 = road_1.__add__(road_2)\n",
    "\n",
    "print(type(road_3))\n",
    "print(road_3.length)\n"
   ]
  }
 ],
 "metadata": {
  "kernelspec": {
   "display_name": "venv",
   "language": "python",
   "name": "python3"
  },
  "language_info": {
   "codemirror_mode": {
    "name": "ipython",
    "version": 3
   },
   "file_extension": ".py",
   "mimetype": "text/x-python",
   "name": "python",
   "nbconvert_exporter": "python",
   "pygments_lexer": "ipython3",
   "version": "3.13.2"
  }
 },
 "nbformat": 4,
 "nbformat_minor": 2
}
