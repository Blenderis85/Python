{
 "cells": [
  {
   "cell_type": "code",
   "execution_count": 1,
   "metadata": {},
   "outputs": [
    {
     "name": "stdout",
     "output_type": "stream",
     "text": [
      "<__main__.User object at 0x000001D10EA6C050>\n"
     ]
    }
   ],
   "source": [
    "class User:\n",
    "    def __init__(self, username):\n",
    "        self.username = username\n",
    "\n",
    "instance = User(\"top.user.123\")\n",
    "\n",
    "print(instance)\n"
   ]
  },
  {
   "cell_type": "code",
   "execution_count": 2,
   "metadata": {},
   "outputs": [
    {
     "name": "stdout",
     "output_type": "stream",
     "text": [
      "User: top.user.123\n"
     ]
    }
   ],
   "source": [
    "class User:\n",
    "    def __init__(self, username):\n",
    "        self.username = username\n",
    "\n",
    "    def __repr__(self):\n",
    "        return f\"User: {self.username}\"\n",
    "\n",
    "instance = User(\"top.user.123\")\n",
    "\n",
    "print(instance)\n"
   ]
  },
  {
   "cell_type": "code",
   "execution_count": 3,
   "metadata": {},
   "outputs": [
    {
     "name": "stdout",
     "output_type": "stream",
     "text": [
      "This is a user top.user.123\n"
     ]
    }
   ],
   "source": [
    "class User:\n",
    "    def __init__(self, username):\n",
    "        self.username = username\n",
    "\n",
    "    def __repr__(self):\n",
    "        return f\"User: {self.username}\"\n",
    "\n",
    "    def __str__(self):\n",
    "        return f\"This is a user {self.username}\"\n",
    "\n",
    "instance = User(\"top.user.123\")\n",
    "\n",
    "print(instance)\n"
   ]
  },
  {
   "cell_type": "code",
   "execution_count": 4,
   "metadata": {},
   "outputs": [
    {
     "name": "stdout",
     "output_type": "stream",
     "text": [
      "top.user.123 is the best user!\n"
     ]
    }
   ],
   "source": [
    "class User:\n",
    "    def __init__(self, username):\n",
    "        self.username = username\n",
    "\n",
    "    def __repr__(self):\n",
    "        return f\"User: {self.username}\"\n",
    "\n",
    "    def __str__(self):\n",
    "        return f\"{self.username}\"\n",
    "\n",
    "instance = User(\"top.user.123\")\n",
    "string = str(instance) + \" is the best user!\"\n",
    "\n",
    "print(string)\n"
   ]
  }
 ],
 "metadata": {
  "kernelspec": {
   "display_name": "venv",
   "language": "python",
   "name": "python3"
  },
  "language_info": {
   "codemirror_mode": {
    "name": "ipython",
    "version": 3
   },
   "file_extension": ".py",
   "mimetype": "text/x-python",
   "name": "python",
   "nbconvert_exporter": "python",
   "pygments_lexer": "ipython3",
   "version": "3.13.2"
  }
 },
 "nbformat": 4,
 "nbformat_minor": 2
}
