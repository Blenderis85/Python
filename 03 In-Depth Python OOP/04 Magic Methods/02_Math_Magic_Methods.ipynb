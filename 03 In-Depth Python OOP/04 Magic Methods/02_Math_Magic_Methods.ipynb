{
 "cells": [
  {
   "cell_type": "markdown",
   "metadata": {},
   "source": [
    "```python\n",
    "a + b   # you write\n",
    "a.__add__(b)  # Python performs\n",
    "\n",
    "# self = a, other = b\n",
    "```"
   ]
  },
  {
   "cell_type": "code",
   "execution_count": 1,
   "metadata": {},
   "outputs": [
    {
     "name": "stdout",
     "output_type": "stream",
     "text": [
      "a * b = 300\n",
      "a.__mul__(b) = 300\n"
     ]
    }
   ],
   "source": [
    "a, b = 25, 12\n",
    "\n",
    "print(\"a * b =\", a * b)\n",
    "print(\"a.__mul__(b) =\", a.__mul__(b))\n"
   ]
  },
  {
   "cell_type": "code",
   "execution_count": 2,
   "metadata": {},
   "outputs": [
    {
     "name": "stdout",
     "output_type": "stream",
     "text": [
      "<class '__main__.Road'> <class '__main__.Road'>\n",
      "50\n",
      "92\n"
     ]
    }
   ],
   "source": [
    "class Road:\n",
    "    def __init__(self, length):\n",
    "        self.length = length\n",
    "\n",
    "    def __add__(self, other):\n",
    "        if isinstance(other, Road):\n",
    "            return Road(self.length + other.length)\n",
    "        return Road(self.length + other)\n",
    "\n",
    "road_1 = Road(20)\n",
    "road_2 = Road(30)\n",
    "road_3 = road_1 + road_2  # road_3 = road_1.__add__(road_2)\n",
    "road_4 = road_2 + 62\n",
    "\n",
    "print(type(road_3), type(road_4))\n",
    "print(road_3.length)\n",
    "print(road_4.length)\n"
   ]
  }
 ],
 "metadata": {
  "kernelspec": {
   "display_name": "venv",
   "language": "python",
   "name": "python3"
  },
  "language_info": {
   "codemirror_mode": {
    "name": "ipython",
    "version": 3
   },
   "file_extension": ".py",
   "mimetype": "text/x-python",
   "name": "python",
   "nbconvert_exporter": "python",
   "pygments_lexer": "ipython3",
   "version": "3.13.2"
  }
 },
 "nbformat": 4,
 "nbformat_minor": 2
}
