{
 "cells": [
  {
   "cell_type": "code",
   "execution_count": 1,
   "metadata": {},
   "outputs": [
    {
     "name": "stdout",
     "output_type": "stream",
     "text": [
      "a >= b is True\n",
      "a.__ge__(b) is True\n"
     ]
    }
   ],
   "source": [
    "a = 12.3\n",
    "b = 5.7\n",
    "\n",
    "print(\"a >= b is\", a >= b)\n",
    "print(\"a.__ge__(b) is\", a.__ge__(b))\n"
   ]
  },
  {
   "cell_type": "code",
   "execution_count": 2,
   "metadata": {},
   "outputs": [
    {
     "name": "stdout",
     "output_type": "stream",
     "text": [
      "False\n",
      "True\n",
      "True\n",
      "True\n",
      "False\n"
     ]
    }
   ],
   "source": [
    "class Road:\n",
    "    def __init__(self, length):\n",
    "        self.length = length\n",
    "\n",
    "    def __eq__(self, other):\n",
    "        if isinstance(other, Road):\n",
    "            return self.length == other.length  # compare with road\n",
    "        return self.length == other  # compare with number\n",
    "\n",
    "road_1 = Road(20)\n",
    "road_2 = Road(30)\n",
    "road_3 = Road(20)\n",
    "\n",
    "print(road_1 == road_2)\n",
    "print(road_1 == road_3)\n",
    "print(road_1 == 20)\n",
    "print(road_1 == 20.0)\n",
    "print(road_1 == 1412)\n"
   ]
  }
 ],
 "metadata": {
  "kernelspec": {
   "display_name": "venv",
   "language": "python",
   "name": "python3"
  },
  "language_info": {
   "codemirror_mode": {
    "name": "ipython",
    "version": 3
   },
   "file_extension": ".py",
   "mimetype": "text/x-python",
   "name": "python",
   "nbconvert_exporter": "python",
   "pygments_lexer": "ipython3",
   "version": "3.13.2"
  }
 },
 "nbformat": 4,
 "nbformat_minor": 2
}
