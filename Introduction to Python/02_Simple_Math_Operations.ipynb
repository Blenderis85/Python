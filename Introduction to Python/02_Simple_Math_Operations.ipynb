{
 "cells": [
  {
   "cell_type": "code",
   "execution_count": 1,
   "metadata": {},
   "outputs": [
    {
     "name": "stdout",
     "output_type": "stream",
     "text": [
      "380\n",
      "27\n",
      "33.75\n",
      "1.15\n"
     ]
    }
   ],
   "source": [
    "# Addition: Calculate the total inventory of apples and oranges.\n",
    "print(150 + 230)\n",
    "\n",
    "# Subtraction: Determine how many apples remain after selling 123.\n",
    "print(150 - 123)\n",
    "\n",
    "# Multiplication: Compute the total cost for 15 packs of butter, each priced at $2.25.\n",
    "print(15 * 2.25)\n",
    "\n",
    "# Division: Find the average price of 4 bananas if the total cost is $4.60.\n",
    "print(4.60 / 4)\n"
   ]
  },
  {
   "cell_type": "code",
   "execution_count": 2,
   "metadata": {},
   "outputs": [
    {
     "name": "stdout",
     "output_type": "stream",
     "text": [
      "9.809999999999999\n",
      "4.2\n",
      "11.0\n"
     ]
    }
   ],
   "source": [
    "print(5.42 + 4.39)\n",
    "print(3.5 * 1.2)\n",
    "print(55 / 5)\n"
   ]
  }
 ],
 "metadata": {
  "kernelspec": {
   "display_name": "venv",
   "language": "python",
   "name": "python3"
  },
  "language_info": {
   "codemirror_mode": {
    "name": "ipython",
    "version": 3
   },
   "file_extension": ".py",
   "mimetype": "text/x-python",
   "name": "python",
   "nbconvert_exporter": "python",
   "pygments_lexer": "ipython3",
   "version": "3.13.2"
  }
 },
 "nbformat": 4,
 "nbformat_minor": 2
}
