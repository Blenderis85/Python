{
 "cells": [
  {
   "cell_type": "code",
   "execution_count": 1,
   "metadata": {},
   "outputs": [
    {
     "name": "stdout",
     "output_type": "stream",
     "text": [
      "Total cost for 100 cupcakes is $ 50.0\n"
     ]
    }
   ],
   "source": [
    "# Calculate the total cost of 100 cupcakes\n",
    "item_price = 0.50\n",
    "item_quantity = 100\n",
    "total_cost = item_price * item_quantity\n",
    "\n",
    "print(\"Total cost for\", item_quantity, \"cupcakes is $\", total_cost)\n"
   ]
  },
  {
   "cell_type": "code",
   "execution_count": 2,
   "metadata": {},
   "outputs": [
    {
     "name": "stdout",
     "output_type": "stream",
     "text": [
      "Total cost for Soda cases of 5 is $ 34.95\n"
     ]
    }
   ],
   "source": [
    "item_name = \"Soda\"\n",
    "item_price = 6.99\n",
    "purchase_quantity = 5\n",
    "total_cost = item_price * purchase_quantity\n",
    "\n",
    "print(\"Total cost for\", item_name, \"cases of\", purchase_quantity, \"is $\", total_cost)\n"
   ]
  }
 ],
 "metadata": {
  "kernelspec": {
   "display_name": "venv",
   "language": "python",
   "name": "python3"
  },
  "language_info": {
   "codemirror_mode": {
    "name": "ipython",
    "version": 3
   },
   "file_extension": ".py",
   "mimetype": "text/x-python",
   "name": "python",
   "nbconvert_exporter": "python",
   "pygments_lexer": "ipython3",
   "version": "3.13.2"
  }
 },
 "nbformat": 4,
 "nbformat_minor": 2
}
