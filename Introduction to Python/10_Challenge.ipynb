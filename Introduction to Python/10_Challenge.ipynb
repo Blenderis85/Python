{
 "cells": [
  {
   "cell_type": "code",
   "execution_count": 1,
   "metadata": {},
   "outputs": [
    {
     "name": "stdout",
     "output_type": "stream",
     "text": [
      "We have Bubblegum for $1.50 in the Candy Aisle\n",
      "We have Chocolate for $2.00 in the Candy Aisle\n",
      "We have Pasta for $5.40 in the Pasta Aisle\n"
     ]
    }
   ],
   "source": [
    "# Lists of items and categories for slicing\n",
    "items = \"Bubblegum, Chocolate, Pasta\"\n",
    "categories = \"Candy Aisle, Pasta Aisle\"\n",
    "\n",
    "# Slice the `items` string into individual items\n",
    "candy1 = items[:9] # Bubblegum\n",
    "candy2 = items[11:20] # Chocolate\n",
    "dry_goods = items[22:] # Pasta\n",
    "\n",
    "# Slice the `categories` string into individual categories\n",
    "category1 = categories[:11] # Candy Aisle\n",
    "category2 = categories[13:] # Pasta Aisle\n",
    "\n",
    "# Replace the blank placeholders (`___`) with the names of the variables \n",
    "# to store the prices of each item\n",
    "bubblegum_price = \"$1.50\" # Bubblegum costs 1.50 dollars\n",
    "chocolate_price = \"$2.00\" # Chocolate costs 2.00 dollars\n",
    "pasta_price = \"$5.40\" # Pasta costs 5.40 dollars\n",
    "\n",
    "# Create print statements that combine the items, their prices, and categories \n",
    "print(\"We have \" + candy1 + \" for \" + bubblegum_price + \" in the \" + category1)\n",
    "print(\"We have \" + candy2 + \" for \" + chocolate_price + \" in the \" + category1)\n",
    "print(\"We have \" + dry_goods + \" for \" + pasta_price + \" in the \" + category2)\n"
   ]
  }
 ],
 "metadata": {
  "kernelspec": {
   "display_name": "venv",
   "language": "python",
   "name": "python3"
  },
  "language_info": {
   "codemirror_mode": {
    "name": "ipython",
    "version": 3
   },
   "file_extension": ".py",
   "mimetype": "text/x-python",
   "name": "python",
   "nbconvert_exporter": "python",
   "pygments_lexer": "ipython3",
   "version": "3.13.2"
  }
 },
 "nbformat": 4,
 "nbformat_minor": 2
}
