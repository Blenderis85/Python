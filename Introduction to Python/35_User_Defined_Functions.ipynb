{
 "cells": [
  {
   "cell_type": "code",
   "execution_count": 1,
   "metadata": {},
   "outputs": [
    {
     "name": "stdout",
     "output_type": "stream",
     "text": [
      "Hello, Alice! Welcome to our store.\n"
     ]
    }
   ],
   "source": [
    "def greet_customer(name):\n",
    "    print(f\"Hello, {name}! Welcome to our store.\")\n",
    "\n",
    "greet_customer(\"Alice\")\n"
   ]
  },
  {
   "cell_type": "code",
   "execution_count": 2,
   "metadata": {},
   "outputs": [
    {
     "name": "stdout",
     "output_type": "stream",
     "text": [
      "Apples has sufficient stock: 50 units.\n",
      "Bananas has sufficient stock: 30 units.\n",
      "Warning: Milk is running low on stock with only 8 units left!\n",
      "Please restock the item before proceeding with the check.\n"
     ]
    }
   ],
   "source": [
    "# Function to check stock levels of grocery items\n",
    "def check_stock(inventory):\n",
    "    for item, stock in inventory.items():\n",
    "        if stock < 10:\n",
    "            print(f\"Warning: {item} is running low on stock with only {stock} units left!\")\n",
    "            print(\"Please restock the item before proceeding with the check.\")\n",
    "            return  # Stops the function if stock is below 10\n",
    "        print(f\"{item} has sufficient stock: {stock} units.\")\n",
    "    \n",
    "    print(\"All items have sufficient stock.\")\n",
    "\n",
    "# Example inventory of a grocery store\n",
    "inventory = {\n",
    "    \"Apples\": 50,\n",
    "    \"Bananas\": 30,\n",
    "    \"Milk\": 8,  # This will trigger the early exit\n",
    "    \"Bread\": 25\n",
    "}\n",
    "\n",
    "# Check stock levels\n",
    "check_stock(inventory)\n"
   ]
  },
  {
   "cell_type": "code",
   "execution_count": 3,
   "metadata": {},
   "outputs": [
    {
     "name": "stdout",
     "output_type": "stream",
     "text": [
      "The discounted price of apples is $1.08\n",
      "The discounted price of milk is $1.87\n",
      "The discounted price of bread is $0.76\n"
     ]
    }
   ],
   "source": [
    "# `cost` and `discount_rate` are the parameters of the function\n",
    "def calculate_discounted_price(cost, discount_rate):\n",
    "    final_price = cost * (1 - discount_rate)\n",
    "    return final_price\n",
    "\n",
    "# Call the `calculate_discounted_price` function and pass in `cost` and `discount_rate` values as arguments\n",
    "apples_final_price = calculate_discounted_price(1.2, 0.10)\n",
    "milk_final_price = calculate_discounted_price(2.2, 0.15)\n",
    "bread_final_price = calculate_discounted_price(0.8, 0.05)\n",
    "\n",
    "# Display the discounted prices\n",
    "print(f\"The discounted price of apples is ${apples_final_price}\")\n",
    "print(f\"The discounted price of milk is ${milk_final_price}\")\n",
    "print(f\"The discounted price of bread is ${bread_final_price}\")\n"
   ]
  },
  {
   "cell_type": "code",
   "execution_count": 4,
   "metadata": {},
   "outputs": [
    {
     "name": "stdout",
     "output_type": "stream",
     "text": [
      "The total cost for apples is $15.00\n"
     ]
    }
   ],
   "source": [
    "def calculate_total_cost(price, quantity):\n",
    "    total_cost = price * quantity\n",
    "    return total_cost\n",
    "\n",
    "# Call the function and print the result\n",
    "apples_total_cost = calculate_total_cost(1.50, 10)\n",
    "print(f\"The total cost for apples is ${apples_total_cost:.2f}\")\n"
   ]
  }
 ],
 "metadata": {
  "kernelspec": {
   "display_name": "venv",
   "language": "python",
   "name": "python3"
  },
  "language_info": {
   "codemirror_mode": {
    "name": "ipython",
    "version": 3
   },
   "file_extension": ".py",
   "mimetype": "text/x-python",
   "name": "python",
   "nbconvert_exporter": "python",
   "pygments_lexer": "ipython3",
   "version": "3.13.2"
  }
 },
 "nbformat": 4,
 "nbformat_minor": 2
}
