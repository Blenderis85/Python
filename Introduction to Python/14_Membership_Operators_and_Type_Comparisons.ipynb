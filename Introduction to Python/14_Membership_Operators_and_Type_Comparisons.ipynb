{
 "cells": [
  {
   "cell_type": "code",
   "execution_count": 1,
   "metadata": {},
   "outputs": [
    {
     "name": "stdout",
     "output_type": "stream",
     "text": [
      "Is 'Straw' in 'Strawberries'? True\n"
     ]
    }
   ],
   "source": [
    "itemName = \"Strawberries\"\n",
    "in_name = \"Straw\" in itemName\n",
    "print(\"Is 'Straw' in 'Strawberries'?\", in_name) \n"
   ]
  },
  {
   "cell_type": "code",
   "execution_count": 2,
   "metadata": {},
   "outputs": [
    {
     "name": "stdout",
     "output_type": "stream",
     "text": [
      "Is the product organic? True\n",
      "Is the product locally sourced? True\n"
     ]
    }
   ],
   "source": [
    "# Product description from supplier\n",
    "product_description = \"Fresh organic milk from local farms, pasteurized and homogenized.\"\n",
    "\n",
    "# Check if the \"organic\" and \"local\" keywords are in the product description\n",
    "is_organic = \"organic\" in product_description\n",
    "is_local = \"local\" in product_description\n",
    "\n",
    "# Print the presence of these keywords to decide on marketing strategies\n",
    "print(\"Is the product organic?\", is_organic)\n",
    "print(\"Is the product locally sourced?\", is_local)\n"
   ]
  },
  {
   "cell_type": "code",
   "execution_count": 3,
   "metadata": {},
   "outputs": [
    {
     "name": "stdout",
     "output_type": "stream",
     "text": [
      "Is product_name a string? True\n",
      "Is product_price a float? False\n",
      "Is product_quantity an integer? True\n",
      "Data type check complete. Please review and correct any 'False' outcomes for data corrections.\n"
     ]
    }
   ],
   "source": [
    "# Sample data received from a cashier or inventory management system\n",
    "product_name = \"Almond Milk\"\n",
    "product_price = \"3.49\"\n",
    "product_quantity = 30\n",
    "\n",
    "# Checking if the data types are as expected\n",
    "correct_name_type = type(product_name) == str\n",
    "correct_price_type = type(product_price) == float  # Intentional error for demonstration\n",
    "correct_quantity_type = type(product_quantity) == int\n",
    "\n",
    "# Print the results to verify data types\n",
    "print(\"Is product_name a string?\", correct_name_type)\n",
    "print(\"Is product_price a float?\", correct_price_type)  # Expected: False, actual data type is a string\n",
    "print(\"Is product_quantity an integer?\", correct_quantity_type)\n",
    "\n",
    "print(\"Data type check complete. Please review and correct any 'False' outcomes for data corrections.\")\n"
   ]
  },
  {
   "cell_type": "code",
   "execution_count": 4,
   "metadata": {},
   "outputs": [
    {
     "name": "stdout",
     "output_type": "stream",
     "text": [
      "Contains 'raw': True\n",
      "Contains 'Imported': True\n",
      "Is price a float?: False\n",
      "Is count an integer?: True\n"
     ]
    }
   ],
   "source": [
    "# Product details\n",
    "description = \"Imported honey, raw and unfiltered\"\n",
    "price = \"5.99\" \n",
    "count = 120\n",
    "contains_raw = \"raw\" in description\n",
    "contains_Imported = \"Imported\" in description\n",
    "price_is_float = type(price) == float\n",
    "count_is_int = type(count) == int\n",
    "\n",
    "print(\"Contains 'raw':\", contains_raw)\n",
    "print(\"Contains 'Imported':\", contains_Imported)\n",
    "print(\"Is price a float?:\", price_is_float)\n",
    "print(\"Is count an integer?:\", count_is_int)\n"
   ]
  }
 ],
 "metadata": {
  "kernelspec": {
   "display_name": "venv",
   "language": "python",
   "name": "python3"
  },
  "language_info": {
   "codemirror_mode": {
    "name": "ipython",
    "version": 3
   },
   "file_extension": ".py",
   "mimetype": "text/x-python",
   "name": "python",
   "nbconvert_exporter": "python",
   "pygments_lexer": "ipython3",
   "version": "3.13.2"
  }
 },
 "nbformat": 4,
 "nbformat_minor": 2
}
