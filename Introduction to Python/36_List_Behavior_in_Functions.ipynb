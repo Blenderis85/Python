{
 "cells": [
  {
   "cell_type": "code",
   "execution_count": 1,
   "metadata": {},
   "outputs": [
    {
     "name": "stdout",
     "output_type": "stream",
     "text": [
      "Original list: ['Apple', 'Banana', 'Cherry']\n",
      "Modified list: ['Apple', 'Banana', 'Cherry', 'Strawberry']\n"
     ]
    }
   ],
   "source": [
    "def add_strawberry(original_list):\n",
    "    list_copy = original_list.copy()  # Create a copy of the original list\n",
    "    list_copy.append(\"Strawberry\")  # Modify the copied list\n",
    "    return list_copy\n",
    "\n",
    "# Original list\n",
    "fruits = [\"Apple\", \"Banana\", \"Cherry\"]\n",
    "\n",
    "# Call the function\n",
    "new_fruits = add_strawberry(fruits)\n",
    "\n",
    "# Check the results\n",
    "print(\"Original list:\", fruits)   # ['Apple', 'Banana', 'Cherry']\n",
    "print(\"Modified list:\", new_fruits)  # ['Apple', 'Banana', 'Cherry', 'Strawberry']\n"
   ]
  },
  {
   "cell_type": "code",
   "execution_count": 2,
   "metadata": {},
   "outputs": [
    {
     "name": "stdout",
     "output_type": "stream",
     "text": [
      "Updated product prices: [1.5, 2.25, 2.7, 0.99, 2.07]\n"
     ]
    }
   ],
   "source": [
    "def apply_discount(prices):\n",
    "    # Create a copy of the original list\n",
    "    prices_copy = prices.copy()\n",
    "    \n",
    "    # Iterate through the list using indices\n",
    "    for index in range(len(prices_copy)):\n",
    "        if prices_copy[index] > 2.00:\n",
    "            prices_copy[index] *= 0.90  # Apply a 10% discount\n",
    "    \n",
    "    return prices_copy\n",
    "\n",
    "# List of product prices\n",
    "product_prices = [1.50, 2.50, 3.00, 0.99, 2.30]\n",
    "\n",
    "# Call the function and store the updated prices\n",
    "updated_prices = apply_discount(product_prices)\n",
    "\n",
    "# Print the updated prices\n",
    "print(f\"Updated product prices: {updated_prices}\")\n"
   ]
  }
 ],
 "metadata": {
  "kernelspec": {
   "display_name": "venv",
   "language": "python",
   "name": "python3"
  },
  "language_info": {
   "codemirror_mode": {
    "name": "ipython",
    "version": 3
   },
   "file_extension": ".py",
   "mimetype": "text/x-python",
   "name": "python",
   "nbconvert_exporter": "python",
   "pygments_lexer": "ipython3",
   "version": "3.13.2"
  }
 },
 "nbformat": 4,
 "nbformat_minor": 2
}
