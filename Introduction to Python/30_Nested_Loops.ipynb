{
 "cells": [
  {
   "cell_type": "code",
   "execution_count": 1,
   "metadata": {},
   "outputs": [
    {
     "name": "stdout",
     "output_type": "stream",
     "text": [
      "Inventory Check:\n",
      "['Apples', 'Bananas', 'Cherries']\n",
      " - Apples\n",
      " - Bananas\n",
      " - Cherries\n",
      "\n",
      "['Milk', 'Cheese', 'Butter']\n",
      " - Milk\n",
      " - Cheese\n",
      " - Butter\n",
      "\n",
      "['Bread', 'Bagels', 'Muffins']\n",
      " - Bread\n",
      " - Bagels\n",
      " - Muffins\n",
      "\n"
     ]
    }
   ],
   "source": [
    "# List of lists representing stock in different departments\n",
    "department_stocks = [\n",
    "    [\"Apples\", \"Bananas\", \"Cherries\"],  # Fruits\n",
    "    [\"Milk\", \"Cheese\", \"Butter\"],       # Dairy\n",
    "    [\"Bread\", \"Bagels\", \"Muffins\"]      # Bakery\n",
    "]\n",
    "\n",
    "print(\"Inventory Check:\")\n",
    "for department in department_stocks:\n",
    "    print(department) # For each iteration of the outer loop, the entire sublist is accessed\n",
    "    # The inner loop then iterates over the items in that sublist\n",
    "    for item in department:\n",
    "        print(f\" - {item}\")\n",
    "    print(\"\")  # Add a line break for clarity\n"
   ]
  },
  {
   "cell_type": "code",
   "execution_count": 2,
   "metadata": {},
   "outputs": [
    {
     "name": "stdout",
     "output_type": "stream",
     "text": [
      "Aisle: 1\n",
      "Contains Tomatoes\n",
      "Contains Carrots\n",
      "Contains Lettuce\n",
      "\n",
      "Aisle: 2\n",
      "Contains Eggs\n",
      "Contains Butter\n",
      "Contains Cream\n",
      "\n",
      "Aisle: 3\n",
      "Contains Pasta\n",
      "Contains Rice\n",
      "Contains Cereal\n",
      "\n"
     ]
    }
   ],
   "source": [
    "# Each aisle contains a variety of items\n",
    "aisle1 = [\"Tomatoes\", \"Carrots\", \"Lettuce\"]\n",
    "aisle2 = [\"Eggs\", \"Butter\", \"Cream\"]\n",
    "aisle3 = [\"Pasta\", \"Rice\", \"Cereal\"]\n",
    "\n",
    "# Combine them into a single list of lists\n",
    "aisles = [aisle1, aisle2, aisle3]\n",
    "\n",
    "# Iterate through each aisle\n",
    "for index, aisle in enumerate(aisles, start=1):\n",
    "    print(f\"Aisle: {index}\")\n",
    "    for item in aisle:\n",
    "        print(f\"Contains {item}\")\n",
    "    print()  # Blank line for readability\n"
   ]
  }
 ],
 "metadata": {
  "kernelspec": {
   "display_name": "venv",
   "language": "python",
   "name": "python3"
  },
  "language_info": {
   "codemirror_mode": {
    "name": "ipython",
    "version": 3
   },
   "file_extension": ".py",
   "mimetype": "text/x-python",
   "name": "python",
   "nbconvert_exporter": "python",
   "pygments_lexer": "ipython3",
   "version": "3.13.2"
  }
 },
 "nbformat": 4,
 "nbformat_minor": 2
}
