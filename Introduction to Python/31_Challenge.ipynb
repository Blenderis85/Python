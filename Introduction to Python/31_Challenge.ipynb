{
 "cells": [
  {
   "cell_type": "code",
   "execution_count": 1,
   "metadata": {},
   "outputs": [
    {
     "name": "stdout",
     "output_type": "stream",
     "text": [
      "Processing Bread...\n",
      "Bread stock is low: 30 units. Restocking with 10 units.\n",
      "Bread stock is low: 40 units. Restocking with 10 units.\n",
      "Bread has been restocked. Current stock: 50 units.\n",
      "\n",
      "Processing Eggs...\n",
      "Eggs stock is low: 120 units. Restocking with 40 units.\n",
      "Eggs stock has exceeded 100 units. Discount applied.\n",
      "Eggs stock is low: 160 units. Restocking with 40 units.\n",
      "Eggs stock has exceeded 100 units. Discount applied.\n",
      "Eggs has been restocked. Current stock: 200 units.\n",
      "\n",
      "Processing Milk...\n",
      "Milk stock is low: 60 units. Restocking with 20 units.\n",
      "Milk stock is low: 80 units. Restocking with 20 units.\n",
      "Milk has been restocked. Current stock: 100 units.\n",
      "\n",
      "Processing Apples...\n",
      "Apples stock is low: 15 units. Restocking with 15 units.\n",
      "Apples stock is low: 30 units. Restocking with 15 units.\n",
      "Apples stock is low: 45 units. Restocking with 15 units.\n",
      "Apples has been restocked. Current stock: 60 units.\n",
      "\n",
      "Final Inventory Report:\n",
      "Bread: 50 units (Min: 50 units) - On sale: False\n",
      "Eggs: 200 units (Min: 200 units) - On sale: True\n",
      "Milk: 100 units (Min: 100 units) - On sale: False\n",
      "Apples: 60 units (Min: 50 units) - On sale: False\n"
     ]
    }
   ],
   "source": [
    "# Initialize the inventory dictionary with stock details\n",
    "inventory = {\n",
    "    \"Bread\": [30, 50, 10, False],   # \"Item\": [current stock, minimum stock, restock quantity, on sale (True/False)]\n",
    "    \"Eggs\": [120, 200, 40, False],\n",
    "    \"Milk\": [60, 100, 20, False],\n",
    "    \"Apples\": [15, 50, 15, False]\n",
    "}\n",
    "\n",
    "# Set the stock threshold for applying discounts\n",
    "discount_threshold = 100\n",
    "\n",
    "# Task 1: Loop through the inventory, accessing both item names and their stock information\n",
    "for item, stock_info in inventory.items():\n",
    "    current_stock = stock_info[0]  # Current stock level\n",
    "    min_stock = stock_info[1]      # Minimum stock requirement\n",
    "    restock_quantity = stock_info[2]  # Quantity to restock each time\n",
    "    on_sale = stock_info[3]        # Sale status (True if on sale)\n",
    "    \n",
    "    print(f\"Processing {item}...\")\n",
    "\n",
    "    # Task 2: Use a `while` loop to restock items until they meet the minimum stock requirement\n",
    "    while current_stock < min_stock:\n",
    "        print(f\"{item} stock is low: {current_stock} units. Restocking with {restock_quantity} units.\")\n",
    "        \n",
    "        # Increase the stock by the restock quantity\n",
    "        current_stock += restock_quantity\n",
    "        \n",
    "        # Update the inventory with the new stock level\n",
    "        inventory[item][0] = current_stock\n",
    "        \n",
    "        # Task 3: Apply a discount if the stock exceeds the threshold and the item is not on sale\n",
    "        if current_stock > discount_threshold and not on_sale:\n",
    "            inventory[item][3] = True  # Set the item to \"on sale\" using boolean type\n",
    "            print(f\"{item} stock has exceeded {discount_threshold} units. Discount applied.\")\n",
    "        elif current_stock > discount_threshold and on_sale:\n",
    "            print(f\"{item} is already discounted.\")\n",
    "\n",
    "    print(f\"{item} has been restocked. Current stock: {current_stock} units.\\n\")\n",
    "\n",
    "# Task 4: Final summary after restocking and applying discounts\n",
    "print(\"Final Inventory Report:\")\n",
    "for item, stock_info in inventory.items():\n",
    "    print(f\"{item}: {stock_info[0]} units (Min: {stock_info[1]} units) - On sale: {stock_info[3]}\")\n"
   ]
  }
 ],
 "metadata": {
  "kernelspec": {
   "display_name": "venv",
   "language": "python",
   "name": "python3"
  },
  "language_info": {
   "codemirror_mode": {
    "name": "ipython",
    "version": 3
   },
   "file_extension": ".py",
   "mimetype": "text/x-python",
   "name": "python",
   "nbconvert_exporter": "python",
   "pygments_lexer": "ipython3",
   "version": "3.13.2"
  }
 },
 "nbformat": 4,
 "nbformat_minor": 2
}
