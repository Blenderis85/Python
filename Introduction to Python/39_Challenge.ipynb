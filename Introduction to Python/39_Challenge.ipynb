{
 "cells": [
  {
   "cell_type": "code",
   "execution_count": 1,
   "metadata": {},
   "outputs": [
    {
     "name": "stdout",
     "output_type": "stream",
     "text": [
      "Apples has total revenue of $240.0\n",
      "Bananas has total revenue of $100.0\n",
      "Bread has total revenue of $75.0\n",
      "Oranges has total revenue of $250.0\n"
     ]
    }
   ],
   "source": [
    "# Task 1: Define a function to calculate the revenue for each product\n",
    "def calculate_revenue(prices, quantities_sold):\n",
    "    # Initialize a list to store the calculated revenues\n",
    "    revenue = []\n",
    "    \n",
    "    # Iterate through the `prices` and `quantities_sold` lists using indexing\n",
    "    for index in range(len(prices)):\n",
    "        # Append the revenue (price * quantity) for each product to the revenue list\n",
    "        revenue.append(prices[index] * quantities_sold[index])\n",
    "    \n",
    "    # Return the list of revenues\n",
    "    return revenue\n",
    "\n",
    "# Task 2: Define a function to format and display the sorted revenues\n",
    "def formatted_output(revenues):\n",
    "    for revenue in sorted(revenues):\n",
    "        # Print the formatted output for each product and its corresponding revenue\n",
    "        print(f\"{revenue[0]} has total revenue of ${revenue[1]}\")\n",
    "\n",
    "# List of products, their prices, and the quantities sold\n",
    "products = [\"Bread\", \"Apples\", \"Oranges\", \"Bananas\"]\n",
    "prices = [0.50, 1.20, 2.50, 2.00]  # price per item\n",
    "quantities_sold = [150, 200, 100, 50]  # number of items sold\n",
    "\n",
    "# Task 3: Call the `calculate_revenue()` function to get total `revenue` for each product\n",
    "revenue = calculate_revenue(prices, quantities_sold)\n",
    "\n",
    "# Task 4: Use `zip()` to combine the products and their corresponding revenues into a list\n",
    "revenue_per_product = list(zip(products, revenue))\n",
    "\n",
    "# Task 5: Display the sorted revenues using the `formatted_output()` function\n",
    "formatted_output(revenue_per_product)\n"
   ]
  }
 ],
 "metadata": {
  "kernelspec": {
   "display_name": "venv",
   "language": "python",
   "name": "python3"
  },
  "language_info": {
   "codemirror_mode": {
    "name": "ipython",
    "version": 3
   },
   "file_extension": ".py",
   "mimetype": "text/x-python",
   "name": "python",
   "nbconvert_exporter": "python",
   "pygments_lexer": "ipython3",
   "version": "3.13.2"
  }
 },
 "nbformat": 4,
 "nbformat_minor": 2
}
