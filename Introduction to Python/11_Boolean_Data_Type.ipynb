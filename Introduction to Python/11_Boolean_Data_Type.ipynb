{
 "cells": [
  {
   "cell_type": "code",
   "execution_count": 1,
   "metadata": {},
   "outputs": [
    {
     "name": "stdout",
     "output_type": "stream",
     "text": [
      "Is the item low in stock? False\n"
     ]
    }
   ],
   "source": [
    "# Define the quantity of the item and the low stock threshold\n",
    "milk_quantity = 12\n",
    "low_stock_threshold = 10\n",
    "\n",
    "# Check if the item quantity is below the low stock threshold\n",
    "low_stock = milk_quantity <= low_stock_threshold\n",
    "\n",
    "# Print the result\n",
    "print(\"Is the item low in stock?\", low_stock)\n"
   ]
  },
  {
   "cell_type": "code",
   "execution_count": 2,
   "metadata": {},
   "outputs": [
    {
     "name": "stdout",
     "output_type": "stream",
     "text": [
      "Is the purchase eligible for a discount? True\n"
     ]
    }
   ],
   "source": [
    "total_cost = 25.00\n",
    "discountEligible = total_cost >= 20.00\n",
    "\n",
    "print(\"Is the purchase eligible for a discount?\", discountEligible)\n"
   ]
  }
 ],
 "metadata": {
  "kernelspec": {
   "display_name": "venv",
   "language": "python",
   "name": "python3"
  },
  "language_info": {
   "codemirror_mode": {
    "name": "ipython",
    "version": 3
   },
   "file_extension": ".py",
   "mimetype": "text/x-python",
   "name": "python",
   "nbconvert_exporter": "python",
   "pygments_lexer": "ipython3",
   "version": "3.13.2"
  }
 },
 "nbformat": 4,
 "nbformat_minor": 2
}
