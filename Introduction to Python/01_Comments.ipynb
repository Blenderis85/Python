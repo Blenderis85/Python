{
 "cells": [
  {
   "cell_type": "code",
   "execution_count": 1,
   "metadata": {},
   "outputs": [
    {
     "name": "stdout",
     "output_type": "stream",
     "text": [
      "Fruit, Vegetables, and Salad Dressing are in Aisle 2\n",
      "Strawberries\n",
      "Cereal\n",
      "Blueberries\n",
      "Chicken\n",
      "Ranch dressing\n"
     ]
    }
   ],
   "source": [
    "# Aisle 2 in our grocery store contains Fruit, Vegetables, and Salad Dressing.\n",
    "# Your task is to comment out the items below that do not belong in Aisle 2.\n",
    "\n",
    "print(\"Fruit, Vegetables, and Salad Dressing are in Aisle 2\")\n",
    "print(\"Strawberries\")\n",
    "print(\"Cereal\")\n",
    "print(\"Blueberries\")\n",
    "print(\"Chicken\")\n",
    "print(\"Ranch dressing\")\n",
    "\n",
    "# Run the code after commenting out the unrelated items to see if you've done it right!\n"
   ]
  },
  {
   "cell_type": "code",
   "execution_count": 2,
   "metadata": {},
   "outputs": [
    {
     "name": "stdout",
     "output_type": "stream",
     "text": [
      "Fruit, Vegetables, and Salad Dressing are in Aisle 2\n",
      "Strawberries\n",
      "Blueberries\n"
     ]
    }
   ],
   "source": [
    "# Aisle 2 in our grocery store contains Fruit, Vegetables, and Salad Dressing.\n",
    "# Your task is to comment out the items below that do not belong in Aisle 2.\n",
    "\n",
    "print(\"Fruit, Vegetables, and Salad Dressing are in Aisle 2\")\n",
    "print(\"Strawberries\")\n",
    "#print(\"Cereal\")\n",
    "print(\"Blueberries\")\n",
    "#print(\"Chicken\")\n",
    "#print(\"Ranch dressing\")\n",
    "\n",
    "# Run the code after commenting out the unrelated items to see if you've done it right!\n"
   ]
  },
  {
   "cell_type": "code",
   "execution_count": 3,
   "metadata": {},
   "outputs": [
    {
     "name": "stdout",
     "output_type": "stream",
     "text": [
      "Welcome to Aisle 3: Snacks, Chips, and Sodas\n",
      "Potato Chips\n",
      "Diet Coke\n",
      "Milk\n",
      "Orange Juice\n",
      "Whole Wheat Bread\n",
      "Greek Yogurt\n"
     ]
    }
   ],
   "source": [
    "# Aisle 3 in our grocery store contains Snacks, Chips, and Sodas.\n",
    "# Try to comment out the items below that do not belong in Aisle 3.\n",
    "# Remember to use the shortcut keys to quickly comment lines of code.\n",
    "\n",
    "print(\"Welcome to Aisle 3: Snacks, Chips, and Sodas\")\n",
    "print(\"Potato Chips\")\n",
    "print(\"Diet Coke\")\n",
    "print(\"Milk\")\n",
    "print(\"Orange Juice\")  \n",
    "print(\"Whole Wheat Bread\") \n",
    "print(\"Greek Yogurt\")\n",
    "\n",
    "# Run the code after commenting out the unrelated items to see if you've done it right!\n",
    "# Use Ctrl + / on Windows or Command + / on Mac to toggle comments.\n"
   ]
  },
  {
   "cell_type": "code",
   "execution_count": 4,
   "metadata": {},
   "outputs": [
    {
     "name": "stdout",
     "output_type": "stream",
     "text": [
      "Welcome to Aisle 3: Snacks, Chips, and Sodas\n",
      "Potato Chips\n",
      "Diet Coke\n"
     ]
    }
   ],
   "source": [
    "# Aisle 3 in our grocery store contains Snacks, Chips, and Sodas.\n",
    "# Try to comment out the items below that do not belong in Aisle 3.\n",
    "# Remember to use the shortcut keys to quickly comment lines of code.\n",
    "\n",
    "print(\"Welcome to Aisle 3: Snacks, Chips, and Sodas\")\n",
    "print(\"Potato Chips\")\n",
    "print(\"Diet Coke\")\n",
    "# print(\"Milk\")\n",
    "# print(\"Orange Juice\")  \n",
    "# print(\"Whole Wheat Bread\") \n",
    "# print(\"Greek Yogurt\")\n",
    "\n",
    "# Run the code after commenting out the unrelated items to see if you've done it right!\n",
    "# Use Ctrl + / on Windows or Command + / on Mac to toggle comments.\n"
   ]
  }
 ],
 "metadata": {
  "kernelspec": {
   "display_name": "venv",
   "language": "python",
   "name": "python3"
  },
  "language_info": {
   "codemirror_mode": {
    "name": "ipython",
    "version": 3
   },
   "file_extension": ".py",
   "mimetype": "text/x-python",
   "name": "python",
   "nbconvert_exporter": "python",
   "pygments_lexer": "ipython3",
   "version": "3.13.2"
  }
 },
 "nbformat": 4,
 "nbformat_minor": 2
}
