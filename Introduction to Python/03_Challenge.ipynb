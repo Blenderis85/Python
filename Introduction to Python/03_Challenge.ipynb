{
 "cells": [
  {
   "cell_type": "code",
   "execution_count": 4,
   "metadata": {},
   "outputs": [
    {
     "name": "stdout",
     "output_type": "stream",
     "text": [
      "Total cost of milk: $ 288.26\n",
      "Total cost of bread after 10% discount: $ 285.12\n",
      "Total bags of apples sold: 23.0\n"
     ]
    }
   ],
   "source": [
    "print(\"Total cost of milk: $\", 58 * 4.97)\n",
    "print(\"Total cost of bread after 10% discount: $\", 60 * 5.28 * (1.00 - 0.10))\n",
    "print(\"Total bags of apples sold:\", 276 / 12)\n"
   ]
  }
 ],
 "metadata": {
  "kernelspec": {
   "display_name": "venv",
   "language": "python",
   "name": "python3"
  },
  "language_info": {
   "codemirror_mode": {
    "name": "ipython",
    "version": 3
   },
   "file_extension": ".py",
   "mimetype": "text/x-python",
   "name": "python",
   "nbconvert_exporter": "python",
   "pygments_lexer": "ipython3",
   "version": "3.13.2"
  }
 },
 "nbformat": 4,
 "nbformat_minor": 2
}
