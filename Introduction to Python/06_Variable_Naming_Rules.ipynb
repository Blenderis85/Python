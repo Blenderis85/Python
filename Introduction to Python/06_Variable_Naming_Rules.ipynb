{
 "cells": [
  {
   "cell_type": "code",
   "execution_count": 1,
   "metadata": {},
   "outputs": [
    {
     "name": "stdout",
     "output_type": "stream",
     "text": [
      "Apple 0.99 10 Green Valley Groceries\n"
     ]
    }
   ],
   "source": [
    "# Correct variable names\n",
    "item_name = \"Apple\"\n",
    "_item_price = 0.99\n",
    "item1_quantity = 10\n",
    "storeName = \"Green Valley Groceries\"\n",
    "print(item_name, _item_price, item1_quantity, storeName)\n"
   ]
  },
  {
   "cell_type": "markdown",
   "metadata": {},
   "source": [
    "```python\n",
    "# Incorrect variable names \n",
    "1item = \"Banana\" # Variables cannot start with a number. Instead try `item_one`, or `oneItem`\n",
    "item-name = \"Orange\" # Variables cannot contain a dash (-), use underscores (_) instead. For example `item_name` is a valid variable \n",
    "print = 5.0 # You cannot use reserved keywords as a variable\n",
    "# But you can use these words in combination with others to name a variable\n",
    "# For example, `print_quantity = 5.0` is valid.\n",
    "```\n"
   ]
  },
  {
   "cell_type": "code",
   "execution_count": 2,
   "metadata": {},
   "outputs": [
    {
     "name": "stdout",
     "output_type": "stream",
     "text": [
      "Item: Bread\n",
      "Price per loaf: $ 4.52\n",
      "Quantity in stock: 230\n"
     ]
    }
   ],
   "source": [
    "item_name = \"Bread\"\n",
    "item_price = 4.52\n",
    "items_in_stock = 230\n",
    "\n",
    "print(\"Item:\", item_name)\n",
    "print(\"Price per loaf: $\", item_price)\n",
    "print(\"Quantity in stock:\", items_in_stock)\n"
   ]
  }
 ],
 "metadata": {
  "kernelspec": {
   "display_name": "venv",
   "language": "python",
   "name": "python3"
  },
  "language_info": {
   "codemirror_mode": {
    "name": "ipython",
    "version": 3
   },
   "file_extension": ".py",
   "mimetype": "text/x-python",
   "name": "python",
   "nbconvert_exporter": "python",
   "pygments_lexer": "ipython3",
   "version": "3.13.2"
  }
 },
 "nbformat": 4,
 "nbformat_minor": 2
}
