{
 "cells": [
  {
   "cell_type": "code",
   "execution_count": 1,
   "metadata": {},
   "outputs": [
    {
     "name": "stdout",
     "output_type": "stream",
     "text": [
      "Eggs are too expensive, reducing the price by $1.\n",
      "Inventory after adding Tomatoes: {'Milk': ('Dairy', 3.5, 8), 'Eggs': ('Dairy', 4.5, 30), 'Bread': ('Bakery', 2.99, 15), 'Apples': ('Produce', 1.5, 50), 'Tomatoes': ('Produce', 1.2, 30)}\n",
      "Milk needs to be restocked. Increasing stock by 20 units.\n",
      "Updated inventory: {'Milk': ('Dairy', 3.5, 28), 'Eggs': ('Dairy', 4.5, 30), 'Bread': ('Bakery', 2.99, 15), 'Apples': ('Produce', 1.5, 50), 'Tomatoes': ('Produce', 1.2, 30)}\n"
     ]
    }
   ],
   "source": [
    "# Task 1: Define a dictionary for grocery inventory\n",
    "grocery_inventory = {\n",
    "    \"Milk\": (\"Dairy\", 3.50, 8), # Milk\n",
    "    \"Eggs\": (\"Dairy\", 5.50, 30), # Eggs\n",
    "    \"Bread\": (\"Bakery\", 2.99, 15), # Bread\n",
    "    \"Apples\": (\"Produce\", 1.50, 50) # Apples\n",
    "}\n",
    "\n",
    "# Task 2: Check if \"Eggs\" are too expensive and reduce the price if needed\n",
    "eggs_price = grocery_inventory[\"Eggs\"][1]\n",
    "if eggs_price > 5:\n",
    "    print(\"Eggs are too expensive, reducing the price by $1.\")\n",
    "    grocery_inventory[\"Eggs\"] = (grocery_inventory[\"Eggs\"][0], eggs_price - 1, grocery_inventory[\"Eggs\"][2])\n",
    "else:\n",
    "    print(\"The price of Eggs is reasonable.\")\n",
    "\n",
    "# Task 3: Add \"Tomatoes\" to the inventory\n",
    "grocery_inventory.update({\"Tomatoes\": (\"Produce\", 1.20, 30)})\n",
    "print(\"Inventory after adding Tomatoes:\", grocery_inventory)\n",
    "\n",
    "# Task 4: Check if \"Milk\" needs to be restocked and update stock if necessary\n",
    "milk_stock = grocery_inventory[\"Milk\"][2]\n",
    "if milk_stock < 10:\n",
    "    print(\"Milk needs to be restocked. Increasing stock by 20 units.\")\n",
    "    grocery_inventory[\"Milk\"] = (grocery_inventory[\"Milk\"][0], grocery_inventory[\"Milk\"][1], milk_stock + 20)\n",
    "else:\n",
    "    print(\"Milk has sufficient stock.\")\n",
    "\n",
    "# Task 5: Remove \"Apples\" from the inventory if the price exceeds $2\n",
    "apples_price = grocery_inventory[\"Apples\"][1]\n",
    "if apples_price > 2:\n",
    "    grocery_inventory.pop(\"Apples\")\n",
    "    print(\"Apples removed from inventory due to high price.\")\n",
    "\n",
    "# Print the final state of the inventory\n",
    "print(\"Updated inventory:\", grocery_inventory)\n"
   ]
  }
 ],
 "metadata": {
  "kernelspec": {
   "display_name": "venv",
   "language": "python",
   "name": "python3"
  },
  "language_info": {
   "codemirror_mode": {
    "name": "ipython",
    "version": 3
   },
   "file_extension": ".py",
   "mimetype": "text/x-python",
   "name": "python",
   "nbconvert_exporter": "python",
   "pygments_lexer": "ipython3",
   "version": "3.13.2"
  }
 },
 "nbformat": 4,
 "nbformat_minor": 2
}
