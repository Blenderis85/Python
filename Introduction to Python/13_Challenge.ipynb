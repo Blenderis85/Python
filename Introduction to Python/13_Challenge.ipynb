{
 "cells": [
  {
   "cell_type": "code",
   "execution_count": 2,
   "metadata": {},
   "outputs": [
    {
     "name": "stdout",
     "output_type": "stream",
     "text": [
      "Should the item be discounted? True\n"
     ]
    }
   ],
   "source": [
    "seasonal = True\n",
    "on_sale = False\n",
    "selling_well = False\n",
    "current_stock = 150\n",
    "high_stock_threshold = 100\n",
    "\n",
    "# Step 1: Combine conditions to determine overstock risk and discount eligibility\n",
    "overstockRisk = seasonal and current_stock > high_stock_threshold \n",
    "\n",
    "# Step 2: Ensure that the item is eligible for a discount by checking that it is not selling well and not already on sale\n",
    "discountEligible = not selling_well and not on_sale \n",
    "\n",
    "# Step 3: If either boolean variable is `True`, the item should be discounted \n",
    "makeDiscount = overstockRisk or discountEligible\n",
    "\n",
    "# Step 4: Print the results using the appropriate variable\n",
    "print(\"Should the item be discounted?\", makeDiscount)\n"
   ]
  }
 ],
 "metadata": {
  "kernelspec": {
   "display_name": "venv",
   "language": "python",
   "name": "python3"
  },
  "language_info": {
   "codemirror_mode": {
    "name": "ipython",
    "version": 3
   },
   "file_extension": ".py",
   "mimetype": "text/x-python",
   "name": "python",
   "nbconvert_exporter": "python",
   "pygments_lexer": "ipython3",
   "version": "3.13.2"
  }
 },
 "nbformat": 4,
 "nbformat_minor": 2
}
