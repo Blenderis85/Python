{
 "cells": [
  {
   "cell_type": "markdown",
   "metadata": {},
   "source": [
    "```python\n",
    "param_grid = {'n_neighbors': [1, 3, 5, 7],\n",
    "                         'weights': ['distance', 'uniform'],\n",
    "                         'p': [1, 2]\n",
    "}\n",
    "```"
   ]
  },
  {
   "cell_type": "markdown",
   "metadata": {},
   "source": [
    "```python\n",
    "param_grid = {'n_neighbors': [1, 3, 5, 7, 9, 12, 15, 17, 20, 25],\n",
    "                         'weights': ['distance', 'uniform'],\n",
    "                         'p': [1, 2, 3, 4, 5]\n",
    "}\n",
    "```"
   ]
  }
 ],
 "metadata": {
  "kernelspec": {
   "display_name": "venv",
   "language": "python",
   "name": "python3"
  },
  "language_info": {
   "name": "python",
   "version": "3.13.2"
  }
 },
 "nbformat": 4,
 "nbformat_minor": 2
}
