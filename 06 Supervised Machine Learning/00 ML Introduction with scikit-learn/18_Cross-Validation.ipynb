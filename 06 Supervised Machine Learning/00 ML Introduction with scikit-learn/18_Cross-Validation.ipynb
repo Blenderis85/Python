{
 "cells": [
  {
   "cell_type": "code",
   "execution_count": 1,
   "metadata": {},
   "outputs": [
    {
     "name": "stdout",
     "output_type": "stream",
     "text": [
      "[0.92753623 0.8115942  0.88235294 0.89705882 0.77941176]\n",
      "0.8595907928388747\n"
     ]
    }
   ],
   "source": [
    "import pandas as pd\n",
    "from sklearn.neighbors import KNeighborsClassifier\n",
    "from sklearn.model_selection import cross_val_score\n",
    "\n",
    "df = pd.read_csv('https://codefinity-content-media.s3.eu-west-1.amazonaws.com/a65bbc96-309e-4df9-a790-a1eb8c815a1c/penguins_pipelined.csv')\n",
    "# Assign X, y variables (X is already preprocessed and y is already encoded)\n",
    "X, y = df.drop('species', axis=1), df['species']\n",
    "# Print the cross-val scores and the mean for KNeighborsClassifier with 5 neighbors\n",
    "scores = cross_val_score(KNeighborsClassifier(), X, y)\n",
    "print(scores)\n",
    "print(scores.mean())\n"
   ]
  }
 ],
 "metadata": {
  "kernelspec": {
   "display_name": "venv",
   "language": "python",
   "name": "python3"
  },
  "language_info": {
   "codemirror_mode": {
    "name": "ipython",
    "version": 3
   },
   "file_extension": ".py",
   "mimetype": "text/x-python",
   "name": "python",
   "nbconvert_exporter": "python",
   "pygments_lexer": "ipython3",
   "version": "3.13.2"
  }
 },
 "nbformat": 4,
 "nbformat_minor": 2
}
