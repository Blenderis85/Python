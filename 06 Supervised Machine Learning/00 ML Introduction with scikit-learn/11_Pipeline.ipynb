{
 "cells": [
  {
   "cell_type": "code",
   "execution_count": 1,
   "metadata": {},
   "outputs": [
    {
     "name": "stdout",
     "output_type": "stream",
     "text": [
      "[[ 3.  0.  1. ... 79. 78. 72.]\n",
      " [ 1.  0.  1. ... 81. 73. 71.]\n",
      " [ 1.  1.  0. ... 68. 75. 79.]\n",
      " ...\n",
      " [ 4.  1.  0. ... 54. 59. 68.]\n",
      " [ 2.  0.  1. ... 79. 75. 73.]\n",
      " [ 4.  1.  0. ... 79. 82. 89.]]\n"
     ]
    }
   ],
   "source": [
    "import pandas as pd\n",
    "from sklearn.compose import make_column_transformer\n",
    "from sklearn.preprocessing import OneHotEncoder, OrdinalEncoder\n",
    "from sklearn.impute import SimpleImputer\n",
    "from sklearn.pipeline import make_pipeline\n",
    "\n",
    "df = pd.read_csv('https://codefinity-content-media.s3.eu-west-1.amazonaws.com/a65bbc96-309e-4df9-a790-a1eb8c815a1c/exams.csv')\n",
    "# Making a column transformer\n",
    "edu_categories = ['high school', 'some high school', 'some college', \"associate's degree\", \"bachelor's degree\", \"master's degree\"]\n",
    "ct = make_column_transformer(\n",
    "  (OrdinalEncoder(categories=[edu_categories]), ['parental level of education']),\n",
    "  (OneHotEncoder(), ['gender', 'race/ethnicity', 'lunch', 'test preparation course']), \n",
    "  remainder='passthrough'\n",
    ")\n",
    "# Making a Pipeline\n",
    "pipe = make_pipeline(ct, SimpleImputer(strategy='most_frequent'))\n",
    "print(pipe.fit_transform(df))\n"
   ]
  }
 ],
 "metadata": {
  "kernelspec": {
   "display_name": "venv",
   "language": "python",
   "name": "python3"
  },
  "language_info": {
   "codemirror_mode": {
    "name": "ipython",
    "version": 3
   },
   "file_extension": ".py",
   "mimetype": "text/x-python",
   "name": "python",
   "nbconvert_exporter": "python",
   "pygments_lexer": "ipython3",
   "version": "3.13.2"
  }
 },
 "nbformat": 4,
 "nbformat_minor": 2
}
