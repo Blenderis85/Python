{
 "cells": [
  {
   "cell_type": "code",
   "execution_count": 2,
   "metadata": {},
   "outputs": [
    {
     "name": "stdout",
     "output_type": "stream",
     "text": [
      "[[-0.97687549 -0.75419317  2.38869888 ...  0.78544923 -1.41834665\n",
      "  -0.56414208]\n",
      " [-0.97687549 -0.75419317  2.38869888 ...  0.1261879  -1.06225022\n",
      "  -0.50170305]\n",
      " [-0.97687549 -0.75419317  2.38869888 ...  0.43046236 -0.42127665\n",
      "  -1.18853234]\n",
      " ...\n",
      " [ 1.02367192 -0.75419317 -0.41863795 ... -0.73592307  1.50164406\n",
      "   1.93341896]\n",
      " [ 1.02367192 -0.75419317 -0.41863795 ... -1.19233476  0.7894512\n",
      "   1.24658968]\n",
      " [ 1.02367192 -0.75419317 -0.41863795 ... -0.53307343  0.86067049\n",
      "   1.49634578]]\n"
     ]
    }
   ],
   "source": [
    "import pandas as pd\n",
    "from sklearn.impute import SimpleImputer\n",
    "from sklearn.preprocessing import OneHotEncoder, StandardScaler\n",
    "from sklearn.compose import make_column_transformer\n",
    "from sklearn.pipeline import make_pipeline\n",
    "\n",
    "df = pd.read_csv('https://codefinity-content-media.s3.eu-west-1.amazonaws.com/a65bbc96-309e-4df9-a790-a1eb8c815a1c/penguins.csv')\n",
    "# Removing rows with more than 1 null\n",
    "df = df[df.isna().sum(axis=1) < 2] \n",
    "# Assigining X, y variables\n",
    "X, y = df.drop('species', axis=1), df['species']\n",
    "# Create the ColumnTransformer for encoding\n",
    "ct = make_column_transformer((OneHotEncoder(), ['island', 'sex']), \n",
    "                             remainder='passthrough')\n",
    "# Make a Pipeline of ct, SimpleImputer, and StandardScaler\n",
    "pipe = make_pipeline(ct, \n",
    "                     SimpleImputer(strategy='most_frequent'),\n",
    "\t\t\t\t\t StandardScaler()\n",
    "                    )\n",
    "# Transform X using the pipeline and print transformed X\n",
    "X_transformed = pipe.fit_transform(X)\n",
    "print(X_transformed)\n"
   ]
  }
 ],
 "metadata": {
  "kernelspec": {
   "display_name": "venv",
   "language": "python",
   "name": "python3"
  },
  "language_info": {
   "codemirror_mode": {
    "name": "ipython",
    "version": 3
   },
   "file_extension": ".py",
   "mimetype": "text/x-python",
   "name": "python",
   "nbconvert_exporter": "python",
   "pygments_lexer": "ipython3",
   "version": "3.13.2"
  }
 },
 "nbformat": 4,
 "nbformat_minor": 2
}
