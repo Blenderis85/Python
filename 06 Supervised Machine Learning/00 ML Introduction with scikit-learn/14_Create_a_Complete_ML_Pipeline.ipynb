{
 "cells": [
  {
   "cell_type": "code",
   "execution_count": 1,
   "metadata": {},
   "outputs": [
    {
     "name": "stdout",
     "output_type": "stream",
     "text": [
      "['Adelie' 'Adelie' 'Adelie' 'Adelie' 'Adelie' 'Adelie' 'Adelie' 'Adelie'\n",
      " 'Adelie' 'Adelie' 'Adelie' 'Adelie' 'Adelie' 'Adelie' 'Adelie' 'Adelie'\n",
      " 'Adelie' 'Adelie' 'Adelie' 'Adelie' 'Adelie' 'Adelie' 'Adelie' 'Adelie'\n",
      " 'Adelie' 'Adelie' 'Adelie' 'Adelie' 'Adelie' 'Adelie' 'Adelie' 'Adelie'\n",
      " 'Adelie' 'Chinstrap' 'Adelie' 'Adelie' 'Adelie' 'Adelie' 'Adelie'\n",
      " 'Adelie' 'Adelie' 'Adelie' 'Chinstrap' 'Chinstrap' 'Adelie' 'Adelie'\n",
      " 'Adelie' 'Adelie' 'Adelie' 'Adelie' 'Adelie' 'Adelie' 'Adelie' 'Adelie'\n",
      " 'Adelie' 'Adelie' 'Adelie' 'Adelie' 'Adelie' 'Adelie' 'Adelie' 'Adelie'\n",
      " 'Adelie' 'Adelie' 'Adelie' 'Adelie' 'Adelie' 'Adelie' 'Adelie' 'Adelie'\n",
      " 'Adelie' 'Adelie' 'Adelie' 'Adelie' 'Adelie' 'Adelie' 'Adelie' 'Adelie'\n",
      " 'Adelie' 'Adelie' 'Adelie' 'Adelie' 'Adelie' 'Adelie' 'Chinstrap'\n",
      " 'Adelie' 'Adelie' 'Adelie' 'Adelie' 'Chinstrap' 'Chinstrap' 'Adelie'\n",
      " 'Adelie' 'Adelie' 'Chinstrap' 'Adelie' 'Chinstrap' 'Adelie' 'Adelie'\n",
      " 'Adelie' 'Adelie' 'Adelie' 'Adelie' 'Adelie' 'Adelie' 'Adelie' 'Adelie'\n",
      " 'Adelie' 'Adelie' 'Adelie' 'Adelie' 'Adelie' 'Adelie' 'Adelie' 'Adelie'\n",
      " 'Adelie' 'Adelie' 'Adelie' 'Adelie' 'Adelie' 'Adelie' 'Adelie' 'Adelie'\n",
      " 'Adelie' 'Adelie' 'Adelie' 'Adelie' 'Adelie' 'Adelie' 'Adelie' 'Adelie'\n",
      " 'Adelie' 'Chinstrap' 'Adelie' 'Adelie' 'Adelie' 'Chinstrap' 'Chinstrap'\n",
      " 'Adelie' 'Chinstrap' 'Adelie' 'Chinstrap' 'Adelie' 'Chinstrap' 'Adelie'\n",
      " 'Adelie' 'Adelie' 'Chinstrap' 'Chinstrap' 'Chinstrap' 'Chinstrap'\n",
      " 'Adelie' 'Chinstrap' 'Chinstrap' 'Adelie' 'Chinstrap' 'Chinstrap'\n",
      " 'Adelie' 'Chinstrap' 'Chinstrap' 'Chinstrap' 'Chinstrap' 'Chinstrap'\n",
      " 'Chinstrap' 'Chinstrap' 'Chinstrap' 'Chinstrap' 'Chinstrap' 'Chinstrap'\n",
      " 'Adelie' 'Adelie' 'Chinstrap' 'Adelie' 'Chinstrap' 'Chinstrap'\n",
      " 'Chinstrap' 'Chinstrap' 'Chinstrap' 'Chinstrap' 'Chinstrap' 'Chinstrap'\n",
      " 'Chinstrap' 'Chinstrap' 'Chinstrap' 'Chinstrap' 'Chinstrap' 'Chinstrap'\n",
      " 'Chinstrap' 'Chinstrap' 'Chinstrap' 'Chinstrap' 'Chinstrap' 'Chinstrap'\n",
      " 'Chinstrap' 'Chinstrap' 'Chinstrap' 'Adelie' 'Adelie' 'Chinstrap'\n",
      " 'Chinstrap' 'Chinstrap' 'Chinstrap' 'Chinstrap' 'Chinstrap' 'Chinstrap'\n",
      " 'Adelie' 'Chinstrap' 'Chinstrap' 'Chinstrap' 'Chinstrap' 'Adelie'\n",
      " 'Chinstrap' 'Chinstrap' 'Chinstrap' 'Chinstrap' 'Chinstrap' 'Chinstrap'\n",
      " 'Chinstrap' 'Chinstrap' 'Gentoo' 'Gentoo' 'Gentoo' 'Gentoo' 'Gentoo'\n",
      " 'Gentoo' 'Gentoo' 'Gentoo' 'Gentoo' 'Gentoo' 'Gentoo' 'Gentoo' 'Gentoo'\n",
      " 'Gentoo' 'Gentoo' 'Gentoo' 'Gentoo' 'Gentoo' 'Gentoo' 'Gentoo' 'Gentoo'\n",
      " 'Gentoo' 'Gentoo' 'Gentoo' 'Gentoo' 'Gentoo' 'Gentoo' 'Gentoo' 'Gentoo'\n",
      " 'Gentoo' 'Gentoo' 'Gentoo' 'Gentoo' 'Gentoo' 'Gentoo' 'Gentoo' 'Gentoo'\n",
      " 'Gentoo' 'Gentoo' 'Gentoo' 'Gentoo' 'Gentoo' 'Gentoo' 'Gentoo' 'Gentoo'\n",
      " 'Gentoo' 'Gentoo' 'Gentoo' 'Gentoo' 'Gentoo' 'Gentoo' 'Gentoo' 'Gentoo'\n",
      " 'Gentoo' 'Gentoo' 'Gentoo' 'Gentoo' 'Gentoo' 'Gentoo' 'Gentoo' 'Gentoo'\n",
      " 'Gentoo' 'Gentoo' 'Gentoo' 'Gentoo' 'Gentoo' 'Gentoo' 'Gentoo' 'Gentoo'\n",
      " 'Gentoo' 'Gentoo' 'Gentoo' 'Gentoo' 'Gentoo' 'Gentoo' 'Gentoo' 'Gentoo'\n",
      " 'Gentoo' 'Gentoo' 'Gentoo' 'Gentoo' 'Gentoo' 'Gentoo' 'Gentoo' 'Gentoo'\n",
      " 'Gentoo' 'Gentoo' 'Gentoo' 'Gentoo' 'Gentoo' 'Gentoo' 'Gentoo' 'Gentoo'\n",
      " 'Gentoo' 'Gentoo' 'Gentoo' 'Gentoo' 'Gentoo' 'Gentoo' 'Gentoo' 'Gentoo'\n",
      " 'Gentoo' 'Gentoo' 'Gentoo' 'Gentoo' 'Gentoo' 'Gentoo' 'Gentoo' 'Gentoo'\n",
      " 'Gentoo' 'Gentoo' 'Gentoo' 'Gentoo' 'Gentoo' 'Gentoo' 'Gentoo' 'Gentoo'\n",
      " 'Gentoo' 'Gentoo' 'Gentoo' 'Gentoo' 'Gentoo' 'Gentoo']\n"
     ]
    }
   ],
   "source": [
    "import pandas as pd\n",
    "from sklearn.impute import SimpleImputer\n",
    "from sklearn.preprocessing import OneHotEncoder, LabelEncoder, StandardScaler\n",
    "from sklearn.compose import make_column_transformer\n",
    "from sklearn.pipeline import make_pipeline\n",
    "from sklearn.neighbors import KNeighborsClassifier\n",
    "\n",
    "df = pd.read_csv('https://codefinity-content-media.s3.eu-west-1.amazonaws.com/a65bbc96-309e-4df9-a790-a1eb8c815a1c/penguins.csv')\n",
    "# Removing rows with more than 1 null\n",
    "df = df[df.isna().sum(axis=1) < 2] \n",
    "# Assigining X, y variables\n",
    "X, y = df.drop('species', axis=1), df['species']\n",
    "# Encode the target\n",
    "label_enc = LabelEncoder()\n",
    "y = label_enc.fit_transform(y)\n",
    "# Create the ColumnTransformer for encoding features\n",
    "ct = make_column_transformer((OneHotEncoder(), ['island', 'sex']), \n",
    "                             remainder='passthrough')\n",
    "# Make a Pipeline of ct, SimpleImputer, and StandardScaler\n",
    "pipe = make_pipeline(ct, \n",
    "                     SimpleImputer(strategy='most_frequent'),\n",
    "                     StandardScaler(),\n",
    "                     KNeighborsClassifier()\n",
    "                    )\n",
    "# Train the model\n",
    "pipe.fit(X, y)\n",
    "# Print predictions\n",
    "y_pred = pipe.predict(X) # Get encoded predictions\n",
    "print(label_enc.inverse_transform(y_pred)) # Decode predictions and print\n"
   ]
  }
 ],
 "metadata": {
  "kernelspec": {
   "display_name": "venv",
   "language": "python",
   "name": "python3"
  },
  "language_info": {
   "codemirror_mode": {
    "name": "ipython",
    "version": 3
   },
   "file_extension": ".py",
   "mimetype": "text/x-python",
   "name": "python",
   "nbconvert_exporter": "python",
   "pygments_lexer": "ipython3",
   "version": "3.13.2"
  }
 },
 "nbformat": 4,
 "nbformat_minor": 2
}
