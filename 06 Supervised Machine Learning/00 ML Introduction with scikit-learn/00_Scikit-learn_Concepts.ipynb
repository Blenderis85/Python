{
 "cells": [
  {
   "cell_type": "markdown",
   "metadata": {},
   "source": [
    "```python\n",
    "estimator.fit(X, y) # For supervised learning tasks\n",
    "estimator.fit(X) # For unsupervised learning tasks\n",
    "```"
   ]
  },
  {
   "cell_type": "markdown",
   "metadata": {},
   "source": [
    "```python\n",
    "transformer.fit(X) # Train the transformer\n",
    "transformer.transform(X) # Transform the data using an already trained transformer\n",
    "transformer.fit_transform(X) # Train the transformer and transform the data\n",
    "```"
   ]
  },
  {
   "cell_type": "markdown",
   "metadata": {},
   "source": [
    "```python\n",
    "predictor.fit(X, y) # Training the predictor\n",
    "predictor.predict(X_new) # Predicting the target for new instances once the predictor is trained. \n",
    "```"
   ]
  },
  {
   "cell_type": "markdown",
   "metadata": {},
   "source": [
    "```python\n",
    "model.fit(X, y) # Train the model\n",
    "model.score(X, y) # Calculate a score for the trained model on X, y set.\n",
    "```"
   ]
  }
 ],
 "metadata": {
  "kernelspec": {
   "display_name": "venv",
   "language": "python",
   "name": "python3"
  },
  "language_info": {
   "name": "python",
   "version": "3.13.2"
  }
 },
 "nbformat": 4,
 "nbformat_minor": 2
}
