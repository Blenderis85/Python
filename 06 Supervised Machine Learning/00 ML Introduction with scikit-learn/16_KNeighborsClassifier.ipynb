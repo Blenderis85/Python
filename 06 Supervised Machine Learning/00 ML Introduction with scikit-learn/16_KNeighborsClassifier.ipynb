{
 "cells": [
  {
   "cell_type": "code",
   "execution_count": 1,
   "metadata": {},
   "outputs": [
    {
     "name": "stdout",
     "output_type": "stream",
     "text": [
      "5 Neighbors score: 0.9152046783625731\n",
      "1 Neighbor score: 1.0\n"
     ]
    }
   ],
   "source": [
    "import pandas as pd\n",
    "from sklearn.neighbors import KNeighborsClassifier\n",
    "\n",
    "df = pd.read_csv('https://codefinity-content-media.s3.eu-west-1.amazonaws.com/a65bbc96-309e-4df9-a790-a1eb8c815a1c/penguins_pipelined.csv')\n",
    "# Assign X, y variables (X is already preprocessed and y is already encoded)\n",
    "X, y = df.drop('species', axis=1), df['species']\n",
    "# Initialize and train a model\n",
    "knn5 = KNeighborsClassifier().fit(X, y) # Trained 5 neighbors model\n",
    "knn1 = KNeighborsClassifier(n_neighbors=1).fit(X, y) # Trained 1 neighbor model\n",
    "# Print the scores of both models\n",
    "print('5 Neighbors score:',knn5.score(X, y))\n",
    "print('1 Neighbor score:',knn1.score(X, y))\n"
   ]
  }
 ],
 "metadata": {
  "kernelspec": {
   "display_name": "venv",
   "language": "python",
   "name": "python3"
  },
  "language_info": {
   "codemirror_mode": {
    "name": "ipython",
    "version": 3
   },
   "file_extension": ".py",
   "mimetype": "text/x-python",
   "name": "python",
   "nbconvert_exporter": "python",
   "pygments_lexer": "ipython3",
   "version": "3.13.2"
  }
 },
 "nbformat": 4,
 "nbformat_minor": 2
}
