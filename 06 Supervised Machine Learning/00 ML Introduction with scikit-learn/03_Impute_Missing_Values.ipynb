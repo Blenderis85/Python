{
 "cells": [
  {
   "cell_type": "markdown",
   "metadata": {},
   "source": [
    "```python\n",
    "imputer.fit_transform(df[['column']])\n",
    "```"
   ]
  },
  {
   "cell_type": "markdown",
   "metadata": {},
   "source": [
    "```python\n",
    "df['column'] = imputer.fit_transform(df[['column']]).ravel()\n",
    "```"
   ]
  },
  {
   "cell_type": "code",
   "execution_count": 1,
   "metadata": {},
   "outputs": [
    {
     "name": "stdout",
     "output_type": "stream",
     "text": [
      "  species     island  culmen_depth_mm  flipper_length_mm  body_mass_g     sex\n",
      "0  Adelie  Torgersen             18.7              181.0       3750.0    MALE\n",
      "1  Adelie  Torgersen             17.4              186.0       3800.0  FEMALE\n",
      "2  Adelie  Torgersen             18.0              195.0       3250.0  FEMALE\n",
      "4  Adelie  Torgersen             19.3              193.0       3450.0  FEMALE\n",
      "5  Adelie  Torgersen             20.6              190.0       3650.0    MALE\n",
      "6  Adelie  Torgersen             17.8              181.0       3625.0  FEMALE\n",
      "7  Adelie  Torgersen             19.6              195.0       4675.0    MALE\n",
      "8  Adelie  Torgersen             18.1              193.0       3475.0    MALE\n"
     ]
    }
   ],
   "source": [
    "import pandas as pd\n",
    "from sklearn.impute import SimpleImputer\n",
    "\n",
    "df = pd.read_csv('https://codefinity-content-media.s3.eu-west-1.amazonaws.com/a65bbc96-309e-4df9-a790-a1eb8c815a1c/penguins.csv')\n",
    "\n",
    "# Removing rows with more than 1 null\n",
    "df = df[df.isna().sum(axis=1) < 2] \n",
    "\n",
    "# Transform the 'sex' column using SimpleImputer with 'most_frequent' strategy\n",
    "imputer = SimpleImputer(strategy='most_frequent')\n",
    "df['sex'] = imputer.fit_transform(df[['sex']]).ravel()\n",
    "\n",
    "print(df.head(8))\n"
   ]
  }
 ],
 "metadata": {
  "kernelspec": {
   "display_name": "venv",
   "language": "python",
   "name": "python3"
  },
  "language_info": {
   "codemirror_mode": {
    "name": "ipython",
    "version": 3
   },
   "file_extension": ".py",
   "mimetype": "text/x-python",
   "name": "python",
   "nbconvert_exporter": "python",
   "pygments_lexer": "ipython3",
   "version": "3.13.2"
  }
 },
 "nbformat": 4,
 "nbformat_minor": 2
}
