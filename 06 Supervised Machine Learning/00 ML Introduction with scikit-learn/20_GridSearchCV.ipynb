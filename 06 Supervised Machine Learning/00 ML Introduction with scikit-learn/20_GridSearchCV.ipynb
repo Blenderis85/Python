{
 "cells": [
  {
   "cell_type": "code",
   "execution_count": 1,
   "metadata": {},
   "outputs": [
    {
     "name": "stdout",
     "output_type": "stream",
     "text": [
      "KNeighborsClassifier(n_neighbors=7)\n",
      "0.8771952259164536\n"
     ]
    }
   ],
   "source": [
    "import pandas as pd\n",
    "from sklearn.neighbors import KNeighborsClassifier\n",
    "from sklearn.model_selection import GridSearchCV\n",
    "\n",
    "df = pd.read_csv('https://codefinity-content-media.s3.eu-west-1.amazonaws.com/a65bbc96-309e-4df9-a790-a1eb8c815a1c/penguins_pipelined.csv')\n",
    "# Assign X, y variables (X is already preprocessed and y is already encoded)\n",
    "X, y = df.drop('species', axis=1), df['species']\n",
    "# Create the param_grid and initialize GridSearchCV object\n",
    "param_grid = {'n_neighbors': [1,3,5,7,9]}\n",
    "grid_search = GridSearchCV(KNeighborsClassifier(), param_grid)\n",
    "# Train the GridSearchCV object. During training it finds the best parameters\n",
    "grid_search.fit(X, y)\n",
    "# Print the best estimator and its cross-validation score\n",
    "print(grid_search.best_estimator_)\n",
    "print(grid_search.best_score_)\n"
   ]
  },
  {
   "cell_type": "code",
   "execution_count": 2,
   "metadata": {},
   "outputs": [
    {
     "name": "stdout",
     "output_type": "stream",
     "text": [
      "0.9181286549707602\n"
     ]
    }
   ],
   "source": [
    "import pandas as pd\n",
    "from sklearn.neighbors import KNeighborsClassifier\n",
    "from sklearn.model_selection import GridSearchCV\n",
    "\n",
    "df = pd.read_csv('https://codefinity-content-media.s3.eu-west-1.amazonaws.com/a65bbc96-309e-4df9-a790-a1eb8c815a1c/penguins_pipelined.csv')\n",
    "# Assign X, y variables (X is already preprocessed and y is already encoded)\n",
    "X, y = df.drop('species', axis=1), df['species']\n",
    "# Create the param_grid and initialize GridSearchCV object\n",
    "param_grid = {'n_neighbors': [1,3,5,7,9]}\n",
    "grid_search = GridSearchCV(KNeighborsClassifier(), param_grid)\n",
    "# Train the GridSearchCV object. During training it finds the best parameters\n",
    "grid_search.fit(X, y)\n",
    "# Evaluate the grid_search on the training set\n",
    "# It is done only to show that .score() method works, evaluating on training set is not reliable.\n",
    "print(grid_search.score(X, y))\n"
   ]
  }
 ],
 "metadata": {
  "kernelspec": {
   "display_name": "venv",
   "language": "python",
   "name": "python3"
  },
  "language_info": {
   "codemirror_mode": {
    "name": "ipython",
    "version": 3
   },
   "file_extension": ".py",
   "mimetype": "text/x-python",
   "name": "python",
   "nbconvert_exporter": "python",
   "pygments_lexer": "ipython3",
   "version": "3.13.2"
  }
 },
 "nbformat": 4,
 "nbformat_minor": 2
}
