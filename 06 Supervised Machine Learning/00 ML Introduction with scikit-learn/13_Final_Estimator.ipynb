{
 "cells": [
  {
   "cell_type": "markdown",
   "metadata": {},
   "source": [
    "```python\n",
    "# Creating a pipeline\n",
    "pipe = make_pipeline(ct, \n",
    "                     SimpleImputer(strategy='most_frequent'),\n",
    "\t\t\t\t\t StandardScaler(),\n",
    "                     KNeighborsClassifier()\n",
    "                    )\n",
    "# Training a model using pipeline\n",
    "pipe.fit(X, y)\n",
    "# Predicting new instances\n",
    "pipe.predict(X_new)\n",
    "```"
   ]
  }
 ],
 "metadata": {
  "kernelspec": {
   "display_name": "venv",
   "language": "python",
   "name": "python3"
  },
  "language_info": {
   "name": "python",
   "version": "3.13.2"
  }
 },
 "nbformat": 4,
 "nbformat_minor": 2
}
