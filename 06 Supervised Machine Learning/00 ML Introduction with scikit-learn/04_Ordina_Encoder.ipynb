{
 "cells": [
  {
   "cell_type": "code",
   "execution_count": 1,
   "metadata": {},
   "outputs": [
    {
     "name": "stdout",
     "output_type": "stream",
     "text": [
      "['HS-grad' 'Some-college' 'Doctorate' 'Prof-school' 'Bachelors' 'Masters'\n",
      " 'Assoc']\n"
     ]
    }
   ],
   "source": [
    "import pandas as pd\n",
    "\n",
    "df = pd.read_csv('https://codefinity-content-media.s3.eu-west-1.amazonaws.com/a65bbc96-309e-4df9-a790-a1eb8c815a1c/adult_edu.csv')\n",
    "\n",
    "print(df['education'].unique())\n"
   ]
  },
  {
   "cell_type": "code",
   "execution_count": 2,
   "metadata": {},
   "outputs": [
    {
     "name": "stdout",
     "output_type": "stream",
     "text": [
      "0        0.0\n",
      "1        0.0\n",
      "2        1.0\n",
      "3        1.0\n",
      "4        0.0\n",
      "        ... \n",
      "28300    2.0\n",
      "28301    4.0\n",
      "28302    4.0\n",
      "28303    1.0\n",
      "28304    2.0\n",
      "Name: education, Length: 28305, dtype: float64\n"
     ]
    }
   ],
   "source": [
    "import pandas as pd\n",
    "from sklearn.preprocessing import OrdinalEncoder\n",
    "\n",
    "# Load the data and assign X, y variables\n",
    "df = pd.read_csv('https://codefinity-content-media.s3.eu-west-1.amazonaws.com/a65bbc96-309e-4df9-a790-a1eb8c815a1c/adult_edu.csv')\n",
    "y = df['income'] # 'income' is a target in this dataset\n",
    "X = df.drop('income', axis=1)\n",
    "# Create a list of categories so HS-grad is encoded as 0 and Doctorate as 6\n",
    "edu_categories = ['HS-grad', 'Some-college', 'Assoc', 'Bachelors', 'Masters', 'Prof-school', 'Doctorate']\n",
    "# Initialize an OrdinalEncoder instance with the correct categories\n",
    "ord_enc = OrdinalEncoder(categories=[edu_categories])\n",
    "# Transform the 'education' column and print it\n",
    "X['education'] = ord_enc.fit_transform(X[['education']])\n",
    "print(X['education'])\n"
   ]
  }
 ],
 "metadata": {
  "kernelspec": {
   "display_name": "venv",
   "language": "python",
   "name": "python3"
  },
  "language_info": {
   "codemirror_mode": {
    "name": "ipython",
    "version": 3
   },
   "file_extension": ".py",
   "mimetype": "text/x-python",
   "name": "python",
   "nbconvert_exporter": "python",
   "pygments_lexer": "ipython3",
   "version": "3.13.2"
  }
 },
 "nbformat": 4,
 "nbformat_minor": 2
}
