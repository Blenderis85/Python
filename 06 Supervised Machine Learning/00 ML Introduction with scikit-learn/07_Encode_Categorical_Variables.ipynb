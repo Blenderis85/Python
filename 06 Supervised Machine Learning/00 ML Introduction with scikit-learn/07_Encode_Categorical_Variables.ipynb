{
 "cells": [
  {
   "cell_type": "code",
   "execution_count": 1,
   "metadata": {},
   "outputs": [
    {
     "name": "stdout",
     "output_type": "stream",
     "text": [
      "  species     island  culmen_depth_mm  flipper_length_mm  body_mass_g     sex\n",
      "0  Adelie  Torgersen             18.7              181.0       3750.0    MALE\n",
      "1  Adelie  Torgersen             17.4              186.0       3800.0  FEMALE\n",
      "2  Adelie  Torgersen             18.0              195.0       3250.0  FEMALE\n",
      "3  Adelie  Torgersen             19.3              193.0       3450.0  FEMALE\n",
      "4  Adelie  Torgersen             20.6              190.0       3650.0    MALE\n"
     ]
    }
   ],
   "source": [
    "import pandas as pd\n",
    "\n",
    "df = pd.read_csv('https://codefinity-content-media.s3.eu-west-1.amazonaws.com/a65bbc96-309e-4df9-a790-a1eb8c815a1c/penguins_imputed.csv')\n",
    "\n",
    "print(df.head())\n"
   ]
  },
  {
   "cell_type": "code",
   "execution_count": 2,
   "metadata": {},
   "outputs": [
    {
     "name": "stdout",
     "output_type": "stream",
     "text": [
      "     culmen_depth_mm  flipper_length_mm  body_mass_g  island_Biscoe  \\\n",
      "0               18.7              181.0       3750.0            0.0   \n",
      "1               17.4              186.0       3800.0            0.0   \n",
      "2               18.0              195.0       3250.0            0.0   \n",
      "3               19.3              193.0       3450.0            0.0   \n",
      "4               20.6              190.0       3650.0            0.0   \n",
      "..               ...                ...          ...            ...   \n",
      "337             13.7              214.0       4925.0            1.0   \n",
      "338             14.3              215.0       4850.0            1.0   \n",
      "339             15.7              222.0       5750.0            1.0   \n",
      "340             14.8              212.0       5200.0            1.0   \n",
      "341             16.1              213.0       5400.0            1.0   \n",
      "\n",
      "     island_Dream  island_Torgersen  sex_FEMALE  sex_MALE  \n",
      "0             0.0               1.0         0.0       1.0  \n",
      "1             0.0               1.0         1.0       0.0  \n",
      "2             0.0               1.0         1.0       0.0  \n",
      "3             0.0               1.0         1.0       0.0  \n",
      "4             0.0               1.0         0.0       1.0  \n",
      "..            ...               ...         ...       ...  \n",
      "337           0.0               0.0         1.0       0.0  \n",
      "338           0.0               0.0         1.0       0.0  \n",
      "339           0.0               0.0         0.0       1.0  \n",
      "340           0.0               0.0         1.0       0.0  \n",
      "341           0.0               0.0         0.0       1.0  \n",
      "\n",
      "[342 rows x 8 columns]\n"
     ]
    }
   ],
   "source": [
    "import pandas as pd\n",
    "from sklearn.preprocessing import OneHotEncoder, LabelEncoder\n",
    "\n",
    "df = pd.read_csv('https://codefinity-content-media.s3.eu-west-1.amazonaws.com/a65bbc96-309e-4df9-a790-a1eb8c815a1c/penguins_imputed.csv')\n",
    "# Assign X, y variables\n",
    "y = df['species']\n",
    "X = df.drop('species', axis=1)\n",
    "# Initialize an OneHotEncoder object\n",
    "feature_enc = OneHotEncoder()\n",
    "# One-Hot Encode the 'island' and 'sex' columns and add encodings to X\n",
    "encoded = feature_enc.fit_transform(X[['island', 'sex']]).toarray()\n",
    "X[['island_Biscoe', 'island_Dream', 'island_Torgersen', 'sex_FEMALE', 'sex_MALE']] = encoded\n",
    "X.drop(['island', 'sex'], axis=1, inplace=True) # Drop initial 'sex', 'island' columns\n",
    "# Encode the y\n",
    "label_enc = LabelEncoder()\n",
    "y = label_enc.fit_transform(y)\n",
    "print(X)\n"
   ]
  }
 ],
 "metadata": {
  "kernelspec": {
   "display_name": "venv",
   "language": "python",
   "name": "python3"
  },
  "language_info": {
   "codemirror_mode": {
    "name": "ipython",
    "version": 3
   },
   "file_extension": ".py",
   "mimetype": "text/x-python",
   "name": "python",
   "nbconvert_exporter": "python",
   "pygments_lexer": "ipython3",
   "version": "3.13.2"
  }
 },
 "nbformat": 4,
 "nbformat_minor": 2
}
