{
 "cells": [
  {
   "cell_type": "code",
   "execution_count": 1,
   "metadata": {},
   "outputs": [
    {
     "name": "stdout",
     "output_type": "stream",
     "text": [
      "0.8849557522123894\n",
      "['Gentoo' 'Adelie' 'Gentoo' 'Gentoo' 'Adelie']\n",
      "KNeighborsClassifier(n_neighbors=7, p=1)\n"
     ]
    }
   ],
   "source": [
    "import pandas as pd\n",
    "from sklearn.impute import SimpleImputer\n",
    "from sklearn.preprocessing import OneHotEncoder, LabelEncoder, StandardScaler\n",
    "from sklearn.compose import make_column_transformer\n",
    "from sklearn.pipeline import make_pipeline\n",
    "from sklearn.neighbors import KNeighborsClassifier\n",
    "from sklearn.model_selection import GridSearchCV, train_test_split\n",
    "\n",
    "df = pd.read_csv('https://codefinity-content-media.s3.eu-west-1.amazonaws.com/a65bbc96-309e-4df9-a790-a1eb8c815a1c/penguins.csv')\n",
    "# Removing rows with more than 1 null\n",
    "df = df[df.isna().sum(axis=1) < 2] \n",
    "# Assigining X, y variables\n",
    "X, y = df.drop('species', axis=1), df['species']\n",
    "# Encode the target\n",
    "label_enc = LabelEncoder()\n",
    "y = label_enc.fit_transform(y)\n",
    "# Make a train-test split \n",
    "X_train, X_test, y_train, y_test = train_test_split(X, y, test_size=0.33)\n",
    "# Create the ColumnTransformer for encoding features\n",
    "ct = make_column_transformer((OneHotEncoder(), ['island', 'sex']), \n",
    "                             remainder='passthrough')\n",
    "# Make a param_grid for the grid search and initialize the GridSearchCV object\n",
    "param_grid = {'n_neighbors': [1, 3, 5, 7, 9, 12, 15, 20, 25],\n",
    "                         'weights': ['distance', 'uniform'],\n",
    "                         'p': [1, 2]\n",
    "}\n",
    "grid_search = GridSearchCV(KNeighborsClassifier(), param_grid)\n",
    "# Make a Pipeline of ct, SimpleImputer, and StandardScaler\n",
    "pipe = make_pipeline(ct, \n",
    "                     SimpleImputer(strategy='most_frequent'),\n",
    "                     StandardScaler(),\n",
    "                     grid_search\n",
    "                    )\n",
    "# Train the model\n",
    "pipe.fit(X_train, y_train)\n",
    "# Print score\n",
    "print(pipe.score(X_test, y_test))\n",
    "# Print predictions\n",
    "y_pred = pipe.predict(X_test) # Get encoded predictions\n",
    "print(label_enc.inverse_transform(y_pred[:5])) # Decode predictions and print 5 first\n",
    "# Print the best estimator\n",
    "print(grid_search.best_estimator_)"
   ]
  }
 ],
 "metadata": {
  "kernelspec": {
   "display_name": "venv",
   "language": "python",
   "name": "python3"
  },
  "language_info": {
   "codemirror_mode": {
    "name": "ipython",
    "version": 3
   },
   "file_extension": ".py",
   "mimetype": "text/x-python",
   "name": "python",
   "nbconvert_exporter": "python",
   "pygments_lexer": "ipython3",
   "version": "3.13.2"
  }
 },
 "nbformat": 4,
 "nbformat_minor": 2
}
