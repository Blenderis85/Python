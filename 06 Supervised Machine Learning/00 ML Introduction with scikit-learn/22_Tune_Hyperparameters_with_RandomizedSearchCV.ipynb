{
 "cells": [
  {
   "cell_type": "markdown",
   "metadata": {},
   "source": [
    "```python\n",
    "param_grid = {'n_neighbors': [1, 3, 5, 7, 9, 12, 15, 17, 20, 25],\n",
    "                         'weights': ['distance', 'uniform'],\n",
    "                         'p': [1, 2, 3, 4, 5]\n",
    "}\n",
    "```"
   ]
  },
  {
   "cell_type": "code",
   "execution_count": 1,
   "metadata": {},
   "outputs": [
    {
     "name": "stdout",
     "output_type": "stream",
     "text": [
      "GridSearchCV:\n",
      "KNeighborsClassifier(n_neighbors=12, p=1)\n",
      "0.8858908780903665\n",
      "RandomizedSearchCV:\n",
      "KNeighborsClassifier(n_neighbors=7, p=1)\n",
      "0.8830349531116793\n"
     ]
    }
   ],
   "source": [
    "import pandas as pd\n",
    "from sklearn.neighbors import KNeighborsClassifier\n",
    "from sklearn.model_selection import RandomizedSearchCV, GridSearchCV\n",
    "\n",
    "df = pd.read_csv('https://codefinity-content-media.s3.eu-west-1.amazonaws.com/a65bbc96-309e-4df9-a790-a1eb8c815a1c/penguins_pipelined.csv')\n",
    "# Assign X, y variables (X is already preprocessed and y is already encoded)\n",
    "X, y = df.drop('species', axis=1), df['species']\n",
    "# Create the param_grid and initialize a model\n",
    "param_grid = {'n_neighbors': [1, 3, 5, 7, 9, 12, 15, 17, 20, 25],\n",
    "                         'weights': ['distance', 'uniform'],\n",
    "                         'p': [1, 2, 3, 4, 5]\n",
    "}\n",
    "model = KNeighborsClassifier()\n",
    "# Initialize RandomizedSearchCV and GridSearchCV\n",
    "randomized = RandomizedSearchCV(model, param_grid, n_iter=20)\n",
    "grid = GridSearchCV(model, param_grid)\n",
    "# Train the GridSearchCV object. During training it finds the best parameters\n",
    "grid.fit(X, y)\n",
    "randomized.fit(X, y)\n",
    "# Print the best estimator and its cross-validation score\n",
    "print('GridSearchCV:')\n",
    "print(grid.best_estimator_)\n",
    "print(grid.best_score_)\n",
    "print('RandomizedSearchCV:')\n",
    "print(randomized.best_estimator_)\n",
    "print(randomized.best_score_)\n"
   ]
  }
 ],
 "metadata": {
  "kernelspec": {
   "display_name": "venv",
   "language": "python",
   "name": "python3"
  },
  "language_info": {
   "codemirror_mode": {
    "name": "ipython",
    "version": 3
   },
   "file_extension": ".py",
   "mimetype": "text/x-python",
   "name": "python",
   "nbconvert_exporter": "python",
   "pygments_lexer": "ipython3",
   "version": "3.13.2"
  }
 },
 "nbformat": 4,
 "nbformat_minor": 2
}
