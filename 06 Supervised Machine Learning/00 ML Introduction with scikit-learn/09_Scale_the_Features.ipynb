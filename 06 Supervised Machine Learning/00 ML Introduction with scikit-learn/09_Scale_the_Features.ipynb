{
 "cells": [
  {
   "cell_type": "code",
   "execution_count": 1,
   "metadata": {},
   "outputs": [
    {
     "name": "stdout",
     "output_type": "stream",
     "text": [
      "     species  culmen_depth_mm  flipper_length_mm  body_mass_g  island_Biscoe  \\\n",
      "0          0             18.7              181.0       3750.0            0.0   \n",
      "1          0             17.4              186.0       3800.0            0.0   \n",
      "2          0             18.0              195.0       3250.0            0.0   \n",
      "3          0             19.3              193.0       3450.0            0.0   \n",
      "4          0             20.6              190.0       3650.0            0.0   \n",
      "..       ...              ...                ...          ...            ...   \n",
      "337        2             13.7              214.0       4925.0            1.0   \n",
      "338        2             14.3              215.0       4850.0            1.0   \n",
      "339        2             15.7              222.0       5750.0            1.0   \n",
      "340        2             14.8              212.0       5200.0            1.0   \n",
      "341        2             16.1              213.0       5400.0            1.0   \n",
      "\n",
      "     island_Dream  island_Torgersen  sex_FEMALE  sex_MALE  \n",
      "0             0.0               1.0         0.0       1.0  \n",
      "1             0.0               1.0         1.0       0.0  \n",
      "2             0.0               1.0         1.0       0.0  \n",
      "3             0.0               1.0         1.0       0.0  \n",
      "4             0.0               1.0         0.0       1.0  \n",
      "..            ...               ...         ...       ...  \n",
      "337           0.0               0.0         1.0       0.0  \n",
      "338           0.0               0.0         1.0       0.0  \n",
      "339           0.0               0.0         0.0       1.0  \n",
      "340           0.0               0.0         1.0       0.0  \n",
      "341           0.0               0.0         0.0       1.0  \n",
      "\n",
      "[342 rows x 9 columns]\n"
     ]
    }
   ],
   "source": [
    "import pandas as pd\n",
    "\n",
    "df = pd.read_csv('https://codefinity-content-media.s3.eu-west-1.amazonaws.com/a65bbc96-309e-4df9-a790-a1eb8c815a1c/penguins_imputed_encoded.csv')\n",
    "\n",
    "print(df)\n"
   ]
  },
  {
   "cell_type": "code",
   "execution_count": 2,
   "metadata": {},
   "outputs": [
    {
     "name": "stdout",
     "output_type": "stream",
     "text": [
      "[[ 0.78544923 -1.41834665 -0.56414208 ...  2.38869888 -0.9655068\n",
      "   0.9655068 ]\n",
      " [ 0.1261879  -1.06225022 -0.50170305 ...  2.38869888  1.03572548\n",
      "  -1.03572548]\n",
      " [ 0.43046236 -0.42127665 -1.18853234 ...  2.38869888  1.03572548\n",
      "  -1.03572548]\n",
      " ...\n",
      " [-0.73592307  1.50164406  1.93341896 ... -0.41863795 -0.9655068\n",
      "   0.9655068 ]\n",
      " [-1.19233476  0.7894512   1.24658968 ... -0.41863795  1.03572548\n",
      "  -1.03572548]\n",
      " [-0.53307343  0.86067049  1.49634578 ... -0.41863795 -0.9655068\n",
      "   0.9655068 ]]\n"
     ]
    }
   ],
   "source": [
    "import pandas as pd\n",
    "from sklearn.preprocessing import StandardScaler\n",
    "\n",
    "df = pd.read_csv('https://codefinity-content-media.s3.eu-west-1.amazonaws.com/a65bbc96-309e-4df9-a790-a1eb8c815a1c/penguins_imputed_encoded.csv')\n",
    "\n",
    "# Assign X, y variables\n",
    "X, y = df.drop('species', axis=1), df['species']\n",
    "\n",
    "# Initialize a StandardScaler object and transform X\n",
    "scaler = StandardScaler()\n",
    "X = scaler.fit_transform(X)\n",
    "\n",
    "print(X)\n"
   ]
  }
 ],
 "metadata": {
  "kernelspec": {
   "display_name": "venv",
   "language": "python",
   "name": "python3"
  },
  "language_info": {
   "codemirror_mode": {
    "name": "ipython",
    "version": 3
   },
   "file_extension": ".py",
   "mimetype": "text/x-python",
   "name": "python",
   "nbconvert_exporter": "python",
   "pygments_lexer": "ipython3",
   "version": "3.13.2"
  }
 },
 "nbformat": 4,
 "nbformat_minor": 2
}
