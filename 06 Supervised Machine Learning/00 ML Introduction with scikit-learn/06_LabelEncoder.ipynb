{
 "cells": [
  {
   "cell_type": "code",
   "execution_count": 1,
   "metadata": {},
   "outputs": [
    {
     "name": "stdout",
     "output_type": "stream",
     "text": [
      "0        <=50K\n",
      "1        <=50K\n",
      "2        <=50K\n",
      "3        <=50K\n",
      "4        <=50K\n",
      "         ...  \n",
      "28300    <=50K\n",
      "28301    <=50K\n",
      "28302     >50K\n",
      "28303    <=50K\n",
      "28304    <=50K\n",
      "Name: income, Length: 28305, dtype: object\n",
      "All values:  ['<=50K' '>50K']\n"
     ]
    }
   ],
   "source": [
    "import pandas as pd\n",
    "\n",
    "# Load the data and assign X, y variables\n",
    "df = pd.read_csv('https://codefinity-content-media.s3.eu-west-1.amazonaws.com/a65bbc96-309e-4df9-a790-a1eb8c815a1c/adult_edu.csv')\n",
    "y = df['income'] # Income is a target in this dataset\n",
    "X = df.drop('income', axis=1)\n",
    "\n",
    "print(y)\n",
    "print('All values: ', y.unique())\n"
   ]
  },
  {
   "cell_type": "code",
   "execution_count": 2,
   "metadata": {},
   "outputs": [
    {
     "name": "stdout",
     "output_type": "stream",
     "text": [
      "[0 0 0 ... 1 0 0]\n",
      "['<=50K' '<=50K' '<=50K' ... '>50K' '<=50K' '<=50K']\n"
     ]
    }
   ],
   "source": [
    "import pandas as pd\n",
    "from sklearn.preprocessing import LabelEncoder\n",
    "\n",
    "# Load the data and assign X, y variables\n",
    "df = pd.read_csv('https://codefinity-content-media.s3.eu-west-1.amazonaws.com/a65bbc96-309e-4df9-a790-a1eb8c815a1c/adult_edu.csv')\n",
    "y = df['income'] # Income is a target in this dataset\n",
    "X = df.drop('income', axis=1)\n",
    "# Initialize a LabelEncoder object and encode the y variable\n",
    "label_enc = LabelEncoder()\n",
    "y = label_enc.fit_transform(y)\n",
    "print(y)\n",
    "# Decode the y variable back\n",
    "y_decoded = label_enc.inverse_transform(y)\n",
    "print(y_decoded)\n"
   ]
  }
 ],
 "metadata": {
  "kernelspec": {
   "display_name": "venv",
   "language": "python",
   "name": "python3"
  },
  "language_info": {
   "codemirror_mode": {
    "name": "ipython",
    "version": 3
   },
   "file_extension": ".py",
   "mimetype": "text/x-python",
   "name": "python",
   "nbconvert_exporter": "python",
   "pygments_lexer": "ipython3",
   "version": "3.13.2"
  }
 },
 "nbformat": 4,
 "nbformat_minor": 2
}
