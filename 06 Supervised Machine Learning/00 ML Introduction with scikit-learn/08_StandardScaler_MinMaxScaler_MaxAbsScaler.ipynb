{
 "cells": [
  {
   "cell_type": "code",
   "execution_count": 1,
   "metadata": {},
   "outputs": [
    {
     "name": "stdout",
     "output_type": "stream",
     "text": [
      "[[0.66666667 0.15254237 0.29166667 ... 1.         0.         1.        ]\n",
      " [0.51190476 0.23728814 0.30555556 ... 1.         1.         0.        ]\n",
      " [0.58333333 0.38983051 0.15277778 ... 1.         1.         0.        ]\n",
      " ...\n",
      " [0.30952381 0.84745763 0.84722222 ... 0.         0.         1.        ]\n",
      " [0.20238095 0.6779661  0.69444444 ... 0.         1.         0.        ]\n",
      " [0.35714286 0.69491525 0.75       ... 0.         0.         1.        ]]\n"
     ]
    }
   ],
   "source": [
    "import pandas as pd\n",
    "from sklearn.preprocessing import MinMaxScaler\n",
    "\n",
    "df = pd.read_csv('https://codefinity-content-media.s3.eu-west-1.amazonaws.com/a65bbc96-309e-4df9-a790-a1eb8c815a1c/penguins_imputed_encoded.csv')\n",
    "# Assign X,y variables\n",
    "X, y = df.drop('species', axis=1), df['species']\n",
    "# Initialize a MinMaxScaler object and transform the X\n",
    "minmax = MinMaxScaler()\n",
    "X = minmax.fit_transform(X)\n",
    "print(X)\n"
   ]
  }
 ],
 "metadata": {
  "kernelspec": {
   "display_name": "venv",
   "language": "python",
   "name": "python3"
  },
  "language_info": {
   "codemirror_mode": {
    "name": "ipython",
    "version": 3
   },
   "file_extension": ".py",
   "mimetype": "text/x-python",
   "name": "python",
   "nbconvert_exporter": "python",
   "pygments_lexer": "ipython3",
   "version": "3.13.2"
  }
 },
 "nbformat": 4,
 "nbformat_minor": 2
}
