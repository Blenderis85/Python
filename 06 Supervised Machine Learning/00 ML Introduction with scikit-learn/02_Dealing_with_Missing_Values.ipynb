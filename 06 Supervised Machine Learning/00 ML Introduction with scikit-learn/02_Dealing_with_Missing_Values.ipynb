{
 "cells": [
  {
   "cell_type": "code",
   "execution_count": 1,
   "metadata": {},
   "outputs": [
    {
     "name": "stdout",
     "output_type": "stream",
     "text": [
      "<class 'pandas.core.frame.DataFrame'>\n",
      "RangeIndex: 344 entries, 0 to 343\n",
      "Data columns (total 6 columns):\n",
      " #   Column             Non-Null Count  Dtype  \n",
      "---  ------             --------------  -----  \n",
      " 0   species            344 non-null    object \n",
      " 1   island             344 non-null    object \n",
      " 2   culmen_depth_mm    342 non-null    float64\n",
      " 3   flipper_length_mm  342 non-null    float64\n",
      " 4   body_mass_g        342 non-null    float64\n",
      " 5   sex                333 non-null    object \n",
      "dtypes: float64(3), object(3)\n",
      "memory usage: 16.3+ KB\n",
      "None\n"
     ]
    }
   ],
   "source": [
    "import pandas as pd\n",
    "\n",
    "df = pd.read_csv('https://codefinity-content-media.s3.eu-west-1.amazonaws.com/a65bbc96-309e-4df9-a790-a1eb8c815a1c/penguins.csv')\n",
    "\n",
    "print(df.info())\n"
   ]
  },
  {
   "cell_type": "code",
   "execution_count": 2,
   "metadata": {},
   "outputs": [
    {
     "name": "stdout",
     "output_type": "stream",
     "text": [
      "    species     island  culmen_depth_mm  flipper_length_mm  body_mass_g  sex\n",
      "3    Adelie  Torgersen              NaN                NaN          NaN  NaN\n",
      "8    Adelie  Torgersen             18.1              193.0       3475.0  NaN\n",
      "9    Adelie  Torgersen             20.2              190.0       4250.0  NaN\n",
      "10   Adelie  Torgersen             17.1              186.0       3300.0  NaN\n",
      "11   Adelie  Torgersen             17.3              180.0       3700.0  NaN\n",
      "47   Adelie      Dream             18.9              179.0       2975.0  NaN\n",
      "246  Gentoo     Biscoe             14.3              216.0       4100.0  NaN\n",
      "286  Gentoo     Biscoe             14.4              214.0       4650.0  NaN\n",
      "324  Gentoo     Biscoe             13.8              216.0       4725.0  NaN\n",
      "336  Gentoo     Biscoe             15.7              217.0       4875.0  NaN\n",
      "339  Gentoo     Biscoe              NaN                NaN          NaN  NaN\n"
     ]
    }
   ],
   "source": [
    "import pandas as pd\n",
    "\n",
    "df = pd.read_csv('https://codefinity-content-media.s3.eu-west-1.amazonaws.com/a65bbc96-309e-4df9-a790-a1eb8c815a1c/penguins.csv')\n",
    "\n",
    "print(df[df.isna().any(axis=1)])\n"
   ]
  },
  {
   "cell_type": "code",
   "execution_count": 3,
   "metadata": {},
   "outputs": [
    {
     "name": "stdout",
     "output_type": "stream",
     "text": [
      "  species     island  culmen_depth_mm  flipper_length_mm  body_mass_g     sex\n",
      "0  Adelie  Torgersen             18.7              181.0       3750.0    MALE\n",
      "1  Adelie  Torgersen             17.4              186.0       3800.0  FEMALE\n",
      "2  Adelie  Torgersen             18.0              195.0       3250.0  FEMALE\n",
      "4  Adelie  Torgersen             19.3              193.0       3450.0  FEMALE\n",
      "5  Adelie  Torgersen             20.6              190.0       3650.0    MALE\n",
      "6  Adelie  Torgersen             17.8              181.0       3625.0  FEMALE\n",
      "7  Adelie  Torgersen             19.6              195.0       4675.0    MALE\n",
      "8  Adelie  Torgersen             18.1              193.0       3475.0     NaN\n"
     ]
    }
   ],
   "source": [
    "import pandas as pd\n",
    "\n",
    "df = pd.read_csv('https://codefinity-content-media.s3.eu-west-1.amazonaws.com/a65bbc96-309e-4df9-a790-a1eb8c815a1c/penguins.csv')\n",
    "\n",
    "df = df[df.isna().sum(axis=1) < 2]\n",
    "print(df.head(8))\n"
   ]
  }
 ],
 "metadata": {
  "kernelspec": {
   "display_name": "venv",
   "language": "python",
   "name": "python3"
  },
  "language_info": {
   "codemirror_mode": {
    "name": "ipython",
    "version": 3
   },
   "file_extension": ".py",
   "mimetype": "text/x-python",
   "name": "python",
   "nbconvert_exporter": "python",
   "pygments_lexer": "ipython3",
   "version": "3.13.2"
  }
 },
 "nbformat": 4,
 "nbformat_minor": 2
}
