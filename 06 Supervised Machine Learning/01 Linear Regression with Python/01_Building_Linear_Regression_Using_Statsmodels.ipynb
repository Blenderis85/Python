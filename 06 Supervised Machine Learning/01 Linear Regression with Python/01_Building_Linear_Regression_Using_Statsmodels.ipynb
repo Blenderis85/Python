{
 "cells": [
  {
   "cell_type": "markdown",
   "metadata": {},
   "source": [
    "```python\n",
    "model = sm.OLS(y, X_tilde)\n",
    "model = model.fit()\n",
    "```"
   ]
  },
  {
   "cell_type": "markdown",
   "metadata": {},
   "source": [
    "```python\n",
    "model = sm.OLS(y, X_tilde).fit()\n",
    "```"
   ]
  },
  {
   "cell_type": "code",
   "execution_count": 2,
   "metadata": {},
   "outputs": [
    {
     "name": "stdout",
     "output_type": "stream",
     "text": [
      "beta_0 is:  38.727678737863904\n",
      "beta_1 is:  0.4025241370900602\n"
     ]
    }
   ],
   "source": [
    "import statsmodels.api as sm   # import statsmodels\n",
    "import pandas as pd\n",
    "\n",
    "file_link = 'https://codefinity-content-media.s3.eu-west-1.amazonaws.com/b22d1166-efda-45e8-979e-6c3ecfc566fc/simple_height_data.csv'\n",
    "df = pd.read_csv(file_link)\t# Open the file\n",
    "X, y = df['Father'], df['Height']\t# Assign the variables\n",
    "# Get the correct form of input for OLS\n",
    "X_tilde = sm.add_constant(X) \n",
    "# Initialize an OLS object\n",
    "regression_model = sm.OLS(y, X_tilde)\n",
    "# Train the object\n",
    "regression_model = regression_model.fit()\n",
    "# Get the paramters\n",
    "beta_0, beta_1 = regression_model.params\n",
    "print('beta_0 is: ', beta_0)\n",
    "print('beta_1 is: ', beta_1)\n"
   ]
  },
  {
   "cell_type": "code",
   "execution_count": 3,
   "metadata": {},
   "outputs": [
    {
     "name": "stdout",
     "output_type": "stream",
     "text": [
      "[64.89174765 66.90436833 68.91698902]\n"
     ]
    }
   ],
   "source": [
    "import statsmodels.api as sm\n",
    "import pandas as pd\n",
    "import numpy as np\n",
    "\n",
    "file_link = 'https://codefinity-content-media.s3.eu-west-1.amazonaws.com/b22d1166-efda-45e8-979e-6c3ecfc566fc/simple_height_data.csv'\n",
    "df = pd.read_csv(file_link)\t# Open the file\n",
    "X, y = df['Father'], df['Height']\t# Assign the variables\n",
    "\n",
    "X_tilde = sm.add_constant(X)  # Preprocess\n",
    "regression_model = sm.OLS(y, X_tilde)\t# Initialize an OLS object\n",
    "regression_model = regression_model.fit()\t# Train the object\n",
    "\n",
    "# Predict new values\n",
    "X_new = np.array([65,70,75])\t# Feature values of new instances\n",
    "X_new_tilde = sm.add_constant(X_new)\t# Preprocess X_new\n",
    "y_pred = regression_model.predict(X_new_tilde)\t# Predict the target\n",
    "print(y_pred)\n"
   ]
  },
  {
   "cell_type": "code",
   "execution_count": 4,
   "metadata": {},
   "outputs": [
    {
     "name": "stdout",
     "output_type": "stream",
     "text": [
      "                            OLS Regression Results                            \n",
      "==============================================================================\n",
      "Dep. Variable:                 Height   R-squared:                       0.631\n",
      "Model:                            OLS   Adj. R-squared:                  0.618\n",
      "Method:                 Least Squares   F-statistic:                     51.20\n",
      "Date:                Mon, 10 Mar 2025   Prob (F-statistic):           5.83e-08\n",
      "Time:                        07:30:55   Log-Likelihood:                -50.161\n",
      "No. Observations:                  32   AIC:                             104.3\n",
      "Df Residuals:                      30   BIC:                             107.3\n",
      "Df Model:                           1                                         \n",
      "Covariance Type:            nonrobust                                         \n",
      "==============================================================================\n",
      "                 coef    std err          t      P>|t|      [0.025      0.975]\n",
      "------------------------------------------------------------------------------\n",
      "const         38.7277      3.928      9.861      0.000      30.707      46.749\n",
      "Father         0.4025      0.056      7.156      0.000       0.288       0.517\n",
      "==============================================================================\n",
      "Omnibus:                        0.810   Durbin-Watson:                   1.795\n",
      "Prob(Omnibus):                  0.667   Jarque-Bera (JB):                0.134\n",
      "Skew:                           0.024   Prob(JB):                        0.935\n",
      "Kurtosis:                       3.313   Cond. No.                     1.29e+03\n",
      "==============================================================================\n",
      "\n",
      "Notes:\n",
      "[1] Standard Errors assume that the covariance matrix of the errors is correctly specified.\n",
      "[2] The condition number is large, 1.29e+03. This might indicate that there are\n",
      "strong multicollinearity or other numerical problems.\n"
     ]
    }
   ],
   "source": [
    "import statsmodels.api as sm\n",
    "import pandas as pd\n",
    "\n",
    "file_link = 'https://codefinity-content-media.s3.eu-west-1.amazonaws.com/b22d1166-efda-45e8-979e-6c3ecfc566fc/simple_height_data.csv'\n",
    "df = pd.read_csv(file_link)\t# Read the file\n",
    "X, y = df['Father'], df['Height']\n",
    "\n",
    "X_tilde = sm.add_constant(X) # Preprocess X\n",
    "regression_model = sm.OLS(y, X_tilde)\t# Initialize an OLS object\n",
    "regression_model = regression_model.fit()\t# Train the object\n",
    "# Print the summary\n",
    "print(regression_model.summary())\n"
   ]
  }
 ],
 "metadata": {
  "kernelspec": {
   "display_name": "venv",
   "language": "python",
   "name": "python3"
  },
  "language_info": {
   "codemirror_mode": {
    "name": "ipython",
    "version": 3
   },
   "file_extension": ".py",
   "mimetype": "text/x-python",
   "name": "python",
   "nbconvert_exporter": "python",
   "pygments_lexer": "ipython3",
   "version": "3.13.2"
  }
 },
 "nbformat": 4,
 "nbformat_minor": 2
}
