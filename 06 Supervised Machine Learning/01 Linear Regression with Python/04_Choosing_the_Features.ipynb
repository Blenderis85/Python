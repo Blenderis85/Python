{
 "cells": [
  {
   "cell_type": "code",
   "execution_count": 1,
   "metadata": {},
   "outputs": [
    {
     "name": "stdout",
     "output_type": "stream",
     "text": [
      "                            OLS Regression Results                            \n",
      "==============================================================================\n",
      "Dep. Variable:                 Height   R-squared:                       0.465\n",
      "Model:                            OLS   Adj. R-squared:                  0.431\n",
      "Method:                 Least Squares   F-statistic:                     13.48\n",
      "Date:                Mon, 10 Mar 2025   Prob (F-statistic):           6.14e-05\n",
      "Time:                        07:50:58   Log-Likelihood:                -62.693\n",
      "No. Observations:                  34   AIC:                             131.4\n",
      "Df Residuals:                      31   BIC:                             136.0\n",
      "Df Model:                           2                                         \n",
      "Covariance Type:            nonrobust                                         \n",
      "==============================================================================\n",
      "                 coef    std err          t      P>|t|      [0.025      0.975]\n",
      "------------------------------------------------------------------------------\n",
      "const         23.2453     11.427      2.034      0.051      -0.061      46.551\n",
      "Father         0.3270      0.077      4.252      0.000       0.170       0.484\n",
      "Mother         0.3187      0.180      1.767      0.087      -0.049       0.686\n",
      "==============================================================================\n",
      "Omnibus:                        8.230   Durbin-Watson:                   1.933\n",
      "Prob(Omnibus):                  0.016   Jarque-Bera (JB):                7.034\n",
      "Skew:                          -0.847   Prob(JB):                       0.0297\n",
      "Kurtosis:                       4.448   Cond. No.                     3.95e+03\n",
      "==============================================================================\n",
      "\n",
      "Notes:\n",
      "[1] Standard Errors assume that the covariance matrix of the errors is correctly specified.\n",
      "[2] The condition number is large, 3.95e+03. This might indicate that there are\n",
      "strong multicollinearity or other numerical problems.\n"
     ]
    }
   ],
   "source": [
    "import pandas as pd\n",
    "import statsmodels.api as sm\n",
    "\n",
    "file_link='https://codefinity-content-media.s3.eu-west-1.amazonaws.com/b22d1166-efda-45e8-979e-6c3ecfc566fc/heights_two_feature.csv'\n",
    "df = pd.read_csv(file_link)\t  # Open the file\n",
    "X,y = df[['Father', 'Mother']], df['Height']   # Assign the variables\n",
    "X_tilde = sm.add_constant(X)\t# Create X_tilde\n",
    "regression_model = sm.OLS(y, X_tilde).fit()  # Initialize and train an OLS object\n",
    "print(regression_model.summary())\t#Get the summary\n"
   ]
  },
  {
   "cell_type": "markdown",
   "metadata": {},
   "source": [
    "```python\n",
    "X_tilde = X_tilde.drop(___, axis=1)\n",
    "```"
   ]
  },
  {
   "cell_type": "markdown",
   "metadata": {},
   "source": [
    "```python\n",
    "X_tilde = X_tilde.drop(['Mother', 'const'], axis=1)\n",
    "```"
   ]
  },
  {
   "cell_type": "markdown",
   "metadata": {},
   "source": [
    "```python\n",
    "regression_model=sm.OLS(y, X_tilde)\n",
    "```"
   ]
  }
 ],
 "metadata": {
  "kernelspec": {
   "display_name": "venv",
   "language": "python",
   "name": "python3"
  },
  "language_info": {
   "codemirror_mode": {
    "name": "ipython",
    "version": 3
   },
   "file_extension": ".py",
   "mimetype": "text/x-python",
   "name": "python",
   "nbconvert_exporter": "python",
   "pygments_lexer": "ipython3",
   "version": "3.13.2"
  }
 },
 "nbformat": 4,
 "nbformat_minor": 2
}
