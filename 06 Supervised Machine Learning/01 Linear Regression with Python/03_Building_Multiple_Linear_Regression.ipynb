{
 "cells": [
  {
   "cell_type": "code",
   "execution_count": 1,
   "metadata": {},
   "outputs": [
    {
     "name": "stdout",
     "output_type": "stream",
     "text": [
      "   Father  Mother\n",
      "0    62.0    66.0\n",
      "1    62.5    63.0\n",
      "2    64.0    63.5\n",
      "3    65.0    65.0\n",
      "4    65.5    61.3\n"
     ]
    }
   ],
   "source": [
    "import pandas as pd\n",
    "import statsmodels.api as sm\n",
    "\n",
    "file_link='https://codefinity-content-media.s3.eu-west-1.amazonaws.com/b22d1166-efda-45e8-979e-6c3ecfc566fc/heights_two_feature.csv'\n",
    "df = pd.read_csv(file_link)\t# Open the file\n",
    "# Assign the variables\n",
    "X = df[['Father', 'Mother']]\n",
    "y = df['Height']\n",
    "print(X.head())\n"
   ]
  },
  {
   "cell_type": "code",
   "execution_count": 2,
   "metadata": {},
   "outputs": [
    {
     "name": "stdout",
     "output_type": "stream",
     "text": [
      "   const  Father  Mother\n",
      "0    1.0    62.0    66.0\n",
      "1    1.0    62.5    63.0\n",
      "2    1.0    64.0    63.5\n",
      "3    1.0    65.0    65.0\n",
      "4    1.0    65.5    61.3\n"
     ]
    }
   ],
   "source": [
    "import pandas as pd\n",
    "import statsmodels.api as sm\n",
    "\n",
    "file_link='https://codefinity-content-media.s3.eu-west-1.amazonaws.com/b22d1166-efda-45e8-979e-6c3ecfc566fc/heights_two_feature.csv'\n",
    "df = pd.read_csv(file_link)\t# Open the file\n",
    "# Assign the variables\n",
    "X = df[['Father', 'Mother']]\n",
    "y = df['Height']\n",
    "# Create X_tilde\n",
    "X_tilde = sm.add_constant(X)\n",
    "print(X_tilde.head())\n"
   ]
  },
  {
   "cell_type": "code",
   "execution_count": 3,
   "metadata": {},
   "outputs": [
    {
     "name": "stdout",
     "output_type": "stream",
     "text": [
      "beta_0 is:  23.245277519290312\n",
      "beta_1 is:  0.3269915145938074\n",
      "beta_2 is:  0.318655160217022\n",
      "Predictions: [64.2563459  66.84726895 70.07550233]\n"
     ]
    }
   ],
   "source": [
    "import pandas as pd\n",
    "import statsmodels.api as sm\n",
    "import numpy as np\n",
    "\n",
    "file_link='https://codefinity-content-media.s3.eu-west-1.amazonaws.com/b22d1166-efda-45e8-979e-6c3ecfc566fc/heights_two_feature.csv'\n",
    "df = pd.read_csv(file_link)\t  # Open the file\n",
    "X,y = df[['Father', 'Mother']], df['Height']   # Assign the variables\n",
    "X_tilde = sm.add_constant(X)\t# Create X_tilde\n",
    "# Initialize an OLS object\n",
    "regression_model = sm.OLS(y, X_tilde)\n",
    "# Train the object\n",
    "regression_model = regression_model.fit()\n",
    "# Get the paramters\n",
    "beta_0, beta_1, beta_2 = regression_model.params\n",
    "print('beta_0 is: ', beta_0)\n",
    "print('beta_1 is: ', beta_1)\n",
    "print('beta_2 is: ', beta_2)\n",
    "# Predict new values\n",
    "X_new = np.array([[65, 62],[70, 65],[75, 70]])\t# Feature values of new instances\n",
    "X_new_tilde = sm.add_constant(X_new)\t# Preprocess X_new\n",
    "y_pred = regression_model.predict(X_new_tilde)\t# Predict the target\n",
    "print('Predictions:', y_pred)\n"
   ]
  }
 ],
 "metadata": {
  "kernelspec": {
   "display_name": "venv",
   "language": "python",
   "name": "python3"
  },
  "language_info": {
   "codemirror_mode": {
    "name": "ipython",
    "version": 3
   },
   "file_extension": ".py",
   "mimetype": "text/x-python",
   "name": "python",
   "nbconvert_exporter": "python",
   "pygments_lexer": "ipython3",
   "version": "3.13.2"
  }
 },
 "nbformat": 4,
 "nbformat_minor": 2
}
