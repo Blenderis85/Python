{
 "cells": [
  {
   "cell_type": "code",
   "execution_count": 1,
   "metadata": {},
   "outputs": [
    {
     "name": "stdout",
     "output_type": "stream",
     "text": [
      "   age  square_feet   price\n",
      "0   16        14115  143000\n",
      "1   36        10382  200000\n",
      "2   51         7560  139000\n",
      "3    2        14230  256300\n",
      "4   15        10859  145000\n"
     ]
    }
   ],
   "source": [
    "import pandas as pd\n",
    "\n",
    "df = pd.read_csv('https://codefinity-content-media.s3.eu-west-1.amazonaws.com/b22d1166-efda-45e8-979e-6c3ecfc566fc/houseprices.csv')\n",
    "print(df.head())\n"
   ]
  },
  {
   "cell_type": "code",
   "execution_count": 2,
   "metadata": {},
   "outputs": [
    {
     "name": "stdout",
     "output_type": "stream",
     "text": [
      "Prediction: [216001. 207541. 170401.]\n",
      "                            OLS Regression Results                            \n",
      "==============================================================================\n",
      "Dep. Variable:                  price   R-squared:                       0.466\n",
      "Model:                            OLS   Adj. R-squared:                  0.463\n",
      "Method:                 Least Squares   F-statistic:                     133.7\n",
      "Date:                Mon, 10 Mar 2025   Prob (F-statistic):           1.85e-42\n",
      "Time:                        07:56:29   Log-Likelihood:                -3763.6\n",
      "No. Observations:                 309   AIC:                             7533.\n",
      "Df Residuals:                     306   BIC:                             7544.\n",
      "Df Model:                           2                                         \n",
      "Covariance Type:            nonrobust                                         \n",
      "===============================================================================\n",
      "                  coef    std err          t      P>|t|      [0.025      0.975]\n",
      "-------------------------------------------------------------------------------\n",
      "const        1.628e+05   8628.692     18.867      0.000    1.46e+05     1.8e+05\n",
      "age         -1218.8730     90.379    -13.486      0.000   -1396.716   -1041.030\n",
      "square_feet     5.8077      0.746      7.783      0.000       4.339       7.276\n",
      "==============================================================================\n",
      "Omnibus:                       45.733   Durbin-Watson:                   2.060\n",
      "Prob(Omnibus):                  0.000   Jarque-Bera (JB):               70.910\n",
      "Skew:                           0.895   Prob(JB):                     4.00e-16\n",
      "Kurtosis:                       4.518   Cond. No.                     3.23e+04\n",
      "==============================================================================\n",
      "\n",
      "Notes:\n",
      "[1] Standard Errors assume that the covariance matrix of the errors is correctly specified.\n",
      "[2] The condition number is large, 3.23e+04. This might indicate that there are\n",
      "strong multicollinearity or other numerical problems.\n"
     ]
    }
   ],
   "source": [
    "import pandas as pd\n",
    "import numpy as np\n",
    "import statsmodels.api as sm\n",
    "\n",
    "df = pd.read_csv('https://codefinity-content-media.s3.eu-west-1.amazonaws.com/b22d1166-efda-45e8-979e-6c3ecfc566fc/houseprices.csv')\n",
    "# Assign the variables\n",
    "X = df[['age', 'square_feet']]\n",
    "y = df['price']\n",
    "# Preprocess X\n",
    "X_tilde = sm.add_constant(X)\n",
    "# Build and train the model\n",
    "model = sm.OLS(y, X_tilde).fit()\n",
    "# Create and preprocess X_new\n",
    "X_new = np.array([[4, 10000], [30, 14000], [70, 16000]])\n",
    "X_new_tilde = sm.add_constant(X_new)\n",
    "# Predict instances from X_new and print them\n",
    "y_pred = model.predict(X_new_tilde)\n",
    "print('Prediction:', np.floor(y_pred)) # np.floor() keeps only the whole part of the numbers\n",
    "# Print the summary table\n",
    "print(model.summary())\n"
   ]
  }
 ],
 "metadata": {
  "kernelspec": {
   "display_name": "venv",
   "language": "python",
   "name": "python3"
  },
  "language_info": {
   "codemirror_mode": {
    "name": "ipython",
    "version": 3
   },
   "file_extension": ".py",
   "mimetype": "text/x-python",
   "name": "python",
   "nbconvert_exporter": "python",
   "pygments_lexer": "ipython3",
   "version": "3.13.2"
  }
 },
 "nbformat": 4,
 "nbformat_minor": 2
}
