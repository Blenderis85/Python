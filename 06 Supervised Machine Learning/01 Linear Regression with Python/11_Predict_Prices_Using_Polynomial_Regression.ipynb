{
 "cells": [
  {
   "cell_type": "markdown",
   "metadata": {},
   "source": [
    "```python\n",
    "rmse = mean_squared_error(y_true, y_predicted, squared=False)\n",
    "```"
   ]
  },
  {
   "cell_type": "code",
   "execution_count": 4,
   "metadata": {},
   "outputs": [
    {
     "name": "stdout",
     "output_type": "stream",
     "text": [
      "Train RMSE: 45987.05278064884\n",
      "Test RMSE: 45557.33496872648\n",
      "                            OLS Regression Results                            \n",
      "==============================================================================\n",
      "Dep. Variable:                  price   R-squared:                       0.475\n",
      "Model:                            OLS   Adj. R-squared:                  0.471\n",
      "Method:                 Least Squares   F-statistic:                     96.53\n",
      "Date:                Mon, 10 Mar 2025   Prob (F-statistic):           1.43e-30\n",
      "Time:                        08:23:12   Log-Likelihood:                -2625.5\n",
      "No. Observations:                 216   AIC:                             5257.\n",
      "Df Residuals:                     213   BIC:                             5267.\n",
      "Df Model:                           2                                         \n",
      "Covariance Type:            nonrobust                                         \n",
      "==============================================================================\n",
      "                 coef    std err          t      P>|t|      [0.025      0.975]\n",
      "------------------------------------------------------------------------------\n",
      "const       2.495e+05   7024.064     35.520      0.000    2.36e+05    2.63e+05\n",
      "x1         -3533.1986    331.914    -10.645      0.000   -4187.456   -2878.941\n",
      "x2            23.3017      3.214      7.249      0.000      16.966      29.638\n",
      "==============================================================================\n",
      "Omnibus:                       19.726   Durbin-Watson:                   1.782\n",
      "Prob(Omnibus):                  0.000   Jarque-Bera (JB):               22.267\n",
      "Skew:                           0.752   Prob(JB):                     1.46e-05\n",
      "Kurtosis:                       3.458   Cond. No.                     8.88e+03\n",
      "==============================================================================\n",
      "\n",
      "Notes:\n",
      "[1] Standard Errors assume that the covariance matrix of the errors is correctly specified.\n",
      "[2] The condition number is large, 8.88e+03. This might indicate that there are\n",
      "strong multicollinearity or other numerical problems.\n"
     ]
    }
   ],
   "source": [
    "import pandas as pd\n",
    "import statsmodels.api as sm\n",
    "from sklearn.preprocessing import PolynomialFeatures\n",
    "from sklearn.model_selection import train_test_split\n",
    "from sklearn.metrics import mean_squared_error\n",
    "\n",
    "# Load dataset\n",
    "df = pd.read_csv('https://codefinity-content-media.s3.eu-west-1.amazonaws.com/b22d1166-efda-45e8-979e-6c3ecfc566fc/houses_poly.csv')\n",
    "\n",
    "# Assign the variables\n",
    "X = df[['age']]\n",
    "y = df['price']\n",
    "n = 2  # Degree of Polynomial Regression\n",
    "\n",
    "# Preprocess X\n",
    "X_tilde = PolynomialFeatures(n).fit_transform(X)\n",
    "\n",
    "# Split the dataset\n",
    "X_tilde_train, X_tilde_test, y_train, y_test = train_test_split(X_tilde, y, test_size=0.3, random_state=0)\n",
    "\n",
    "# Build and train the model using the training set\n",
    "model = sm.OLS(y_train, X_tilde_train).fit()\n",
    "\n",
    "# Evaluate both sets\n",
    "y_train_pred = model.predict(X_tilde_train)\n",
    "y_test_pred = model.predict(X_tilde_test)\n",
    "\n",
    "# Calculate and print RMSE scores for both training and test sets\n",
    "train_rmse = mean_squared_error(y_train, y_train_pred) ** 0.5\n",
    "test_rmse = mean_squared_error(y_test, y_test_pred) ** 0.5\n",
    "\n",
    "print('Train RMSE:', train_rmse)\n",
    "print('Test RMSE:', test_rmse)\n",
    "\n",
    "# Print the summary\n",
    "print(model.summary())"
   ]
  }
 ],
 "metadata": {
  "kernelspec": {
   "display_name": "venv",
   "language": "python",
   "name": "python3"
  },
  "language_info": {
   "codemirror_mode": {
    "name": "ipython",
    "version": 3
   },
   "file_extension": ".py",
   "mimetype": "text/x-python",
   "name": "python",
   "nbconvert_exporter": "python",
   "pygments_lexer": "ipython3",
   "version": "3.13.2"
  }
 },
 "nbformat": 4,
 "nbformat_minor": 2
}
