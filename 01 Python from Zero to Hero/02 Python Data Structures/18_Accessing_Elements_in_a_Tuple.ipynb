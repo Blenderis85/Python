{
 "cells": [
  {
   "cell_type": "code",
   "execution_count": 1,
   "metadata": {},
   "outputs": [
    {
     "name": "stdout",
     "output_type": "stream",
     "text": [
      "Interstellar\n",
      "Memento\n"
     ]
    }
   ],
   "source": [
    "movies = (\"Inception\", \"Interstellar\", \"The Dark Knight\", \"Tenet\", \"Dunkirk\", \"Memento\", \"Following\")\n",
    "\n",
    "# Accessing the second movie\n",
    "print(movies[1])\n",
    "\n",
    "# Accessing the sixth movie\n",
    "print(movies[5])\n"
   ]
  },
  {
   "cell_type": "code",
   "execution_count": 2,
   "metadata": {},
   "outputs": [
    {
     "name": "stdout",
     "output_type": "stream",
     "text": [
      "Following\n",
      "Tenet\n"
     ]
    }
   ],
   "source": [
    "movies = (\"Inception\", \"Interstellar\", \"The Dark Knight\", \"Tenet\", \"Dunkirk\", \"Memento\", \"Following\")\n",
    "\n",
    "# Accessing the last movie\n",
    "print(movies[-1])\n",
    "\n",
    "# Accessing the fourth movie from the end\n",
    "print(movies[-4])\n"
   ]
  },
  {
   "cell_type": "code",
   "execution_count": 3,
   "metadata": {},
   "outputs": [
    {
     "name": "stdout",
     "output_type": "stream",
     "text": [
      "Favorite movies about space: ['2001: A Space Odyssey', 'The Martian']\n"
     ]
    }
   ],
   "source": [
    "space_movies = ('2001: A Space Odyssey', 'Interstellar', 'Star Wars: Episode IV - A New Hope', 'Gravity', 'The Martian')\n",
    "\n",
    "# Write your code here\n",
    "first_movie = space_movies[0]\n",
    "last_movie = space_movies[-1]\n",
    "\n",
    "favorite_movies = [first_movie, last_movie]\n",
    "\n",
    "# Testing \n",
    "print(\"Favorite movies about space:\", favorite_movies)\n"
   ]
  }
 ],
 "metadata": {
  "kernelspec": {
   "display_name": "venv",
   "language": "python",
   "name": "python3"
  },
  "language_info": {
   "codemirror_mode": {
    "name": "ipython",
    "version": 3
   },
   "file_extension": ".py",
   "mimetype": "text/x-python",
   "name": "python",
   "nbconvert_exporter": "python",
   "pygments_lexer": "ipython3",
   "version": "3.13.2"
  }
 },
 "nbformat": 4,
 "nbformat_minor": 2
}
