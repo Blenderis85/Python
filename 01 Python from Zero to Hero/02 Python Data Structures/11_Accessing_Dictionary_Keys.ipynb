{
 "cells": [
  {
   "cell_type": "code",
   "execution_count": 1,
   "metadata": {},
   "outputs": [
    {
     "name": "stdout",
     "output_type": "stream",
     "text": [
      "dict_keys(['title', 'author', 'year', 'genre'])\n"
     ]
    }
   ],
   "source": [
    "book = {\n",
    "    \"title\": \"Pride and Prejudice\",\n",
    "    \"author\": \"Jane Austen\",\n",
    "    \"year\": 1813,\n",
    "    \"genre\": \"Romance\"\n",
    "}\n",
    "keys = book.keys()\n",
    "print(keys)  # Output: dict_keys(['title', 'author', 'year', 'genre'])\n"
   ]
  },
  {
   "cell_type": "code",
   "execution_count": 2,
   "metadata": {},
   "outputs": [
    {
     "name": "stdout",
     "output_type": "stream",
     "text": [
      "title\n",
      "author\n",
      "year\n",
      "genre\n"
     ]
    }
   ],
   "source": [
    "book = {\n",
    "    \"title\": \"Pride and Prejudice\",\n",
    "    \"author\": \"Jane Austen\",\n",
    "    \"year\": 1813,\n",
    "    \"genre\": \"Romance\"\n",
    "}\n",
    "\n",
    "for key in book.keys():\n",
    "    print(key)\n"
   ]
  },
  {
   "cell_type": "code",
   "execution_count": 3,
   "metadata": {},
   "outputs": [
    {
     "name": "stdout",
     "output_type": "stream",
     "text": [
      "The 'author' key exists in the dictionary.\n"
     ]
    }
   ],
   "source": [
    "book = {\n",
    "    \"title\": \"Pride and Prejudice\",\n",
    "    \"author\": \"Jane Austen\",\n",
    "    \"year\": 1813,\n",
    "    \"genre\": \"Romance\"\n",
    "}\n",
    "\n",
    "if \"author\" in book:\n",
    "    print(\"The 'author' key exists in the dictionary.\")\n"
   ]
  },
  {
   "cell_type": "code",
   "execution_count": 4,
   "metadata": {},
   "outputs": [
    {
     "name": "stdout",
     "output_type": "stream",
     "text": [
      "The list of all books in the library: ['Hamlet', 'Macbeth', 'Romeo and Juliet', 'Othello', \"Harry Potter and the Sorcerer's Stone\", 'Harry Potter and the Chamber of Secrets', 'Harry Potter and the Prisoner of Azkaban', 'Harry Potter and the Goblet of Fire', '1984', 'Animal Farm', 'Coming Up for Air', 'It', 'The Shining', 'Carrie', 'Misery', 'Murder on the Orient Express', 'The Murder of Roger Ackroyd', 'And Then There Were None', 'Death on the Nile']\n"
     ]
    }
   ],
   "source": [
    "authors_books = {\n",
    "    'William Shakespeare': ['Hamlet', 'Macbeth', 'Romeo and Juliet', 'Othello'],\n",
    "    'J.K. Rowling': ['Harry Potter and the Sorcerer\\'s Stone', 'Harry Potter and the Chamber of Secrets', 'Harry Potter and the Prisoner of Azkaban', 'Harry Potter and the Goblet of Fire'],\n",
    "    'George Orwell': ['1984', 'Animal Farm', 'Coming Up for Air'],\n",
    "    'Stephen King': ['It', 'The Shining', 'Carrie', 'Misery'],\n",
    "    'Agatha Christie': ['Murder on the Orient Express', 'The Murder of Roger Ackroyd', 'And Then There Were None', 'Death on the Nile']\n",
    "}\n",
    "\n",
    "# Initialize keys as a list of dictionary keys\n",
    "keys = list(authors_books.keys())\n",
    "\n",
    "# Initialize an empty list to store all books\n",
    "all_books = []\n",
    "\n",
    "# Loop through each author in the dictionary\n",
    "for key in keys:\n",
    "    # Nested loop to iterate through each book in the author's list\n",
    "    for book in authors_books[key]:\n",
    "        all_books.append(book)\n",
    "\n",
    "# Testing\n",
    "print(\"The list of all books in the library:\", all_books)\n"
   ]
  }
 ],
 "metadata": {
  "kernelspec": {
   "display_name": "venv",
   "language": "python",
   "name": "python3"
  },
  "language_info": {
   "codemirror_mode": {
    "name": "ipython",
    "version": 3
   },
   "file_extension": ".py",
   "mimetype": "text/x-python",
   "name": "python",
   "nbconvert_exporter": "python",
   "pygments_lexer": "ipython3",
   "version": "3.13.2"
  }
 },
 "nbformat": 4,
 "nbformat_minor": 2
}
