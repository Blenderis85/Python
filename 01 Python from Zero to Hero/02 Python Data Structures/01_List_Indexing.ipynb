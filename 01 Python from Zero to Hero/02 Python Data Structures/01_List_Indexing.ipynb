{
 "cells": [
  {
   "cell_type": "code",
   "execution_count": 1,
   "metadata": {},
   "outputs": [
    {
     "name": "stdout",
     "output_type": "stream",
     "text": [
      "Rome\n",
      "New York\n"
     ]
    }
   ],
   "source": [
    "cities = [\"Rome\", \"London\", \"New York\", \"Brasilia\", \"Kioto\"]\n",
    "\n",
    "# Getting the first element\n",
    "print(cities[0])\n",
    "\n",
    "# Getting the third element\n",
    "print(cities[2])\n"
   ]
  },
  {
   "cell_type": "code",
   "execution_count": 2,
   "metadata": {},
   "outputs": [
    {
     "name": "stdout",
     "output_type": "stream",
     "text": [
      "Kioto\n",
      "Brasilia Brasilia\n"
     ]
    }
   ],
   "source": [
    "cities = [\"Rome\", \"London\", \"New York\", \"Brasilia\", \"Kioto\"]\n",
    "\n",
    "# Getting the last element\n",
    "print(cities[-1])\n",
    "\n",
    "# Getting the fourth element\n",
    "print(cities[3], cities[-2])\n"
   ]
  },
  {
   "cell_type": "code",
   "execution_count": 3,
   "metadata": {},
   "outputs": [
    {
     "name": "stdout",
     "output_type": "stream",
     "text": [
      "['Paris', 'France', 2000]\n",
      "Tokyo\n",
      "2500\n"
     ]
    }
   ],
   "source": [
    "cities = [\n",
    "    [\"Paris\", \"France\", 2000], \n",
    "    [\"Tokyo\", \"Japan\", 3000], \n",
    "    [\"New York\", \"USA\", 2500]\n",
    "]\n",
    "\n",
    "# Accessing the first sublist\n",
    "print(cities[0])  # Output: ['Paris', 'France', 2000]\n",
    "\n",
    "# Accessing the city name in the second sublist\n",
    "print(cities[1][0])  # Output: Tokyo\n",
    "\n",
    "# Accessing the cost of the trip in the third sublist\n",
    "print(cities[2][2])  # Output: 2500\n"
   ]
  },
  {
   "cell_type": "code",
   "execution_count": 4,
   "metadata": {},
   "outputs": [
    {
     "name": "stdout",
     "output_type": "stream",
     "text": [
      "The second element of the array is: Tokyo, the last element of the array is Berlin\n"
     ]
    }
   ],
   "source": [
    "cities = [\"Paris\", \"Tokyo\", \"New York\", \"Sydney\", \"Berlin\"]\n",
    "\n",
    "# Write your code here\n",
    "second = cities[1]\n",
    "last = cities[-1]\n",
    "\n",
    "# Testing\n",
    "print(f\"The second element of the array is: {second}, the last element of the array is {last}\")\n"
   ]
  }
 ],
 "metadata": {
  "kernelspec": {
   "display_name": "venv",
   "language": "python",
   "name": "python3"
  },
  "language_info": {
   "codemirror_mode": {
    "name": "ipython",
    "version": 3
   },
   "file_extension": ".py",
   "mimetype": "text/x-python",
   "name": "python",
   "nbconvert_exporter": "python",
   "pygments_lexer": "ipython3",
   "version": "3.13.2"
  }
 },
 "nbformat": 4,
 "nbformat_minor": 2
}
