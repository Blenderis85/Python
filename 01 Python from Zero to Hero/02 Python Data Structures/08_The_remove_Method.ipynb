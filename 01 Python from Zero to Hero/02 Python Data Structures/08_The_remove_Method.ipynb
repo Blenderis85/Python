{
 "cells": [
  {
   "cell_type": "code",
   "execution_count": 1,
   "metadata": {},
   "outputs": [
    {
     "name": "stdout",
     "output_type": "stream",
     "text": [
      "['Paris', 'Oslo', 'Sydney']\n"
     ]
    }
   ],
   "source": [
    "travel_wishlist = [\"Paris\", \"Oslo\", \"Kyoto\", \"Sydney\"]\n",
    "\n",
    "# Remove a specific city\n",
    "travel_wishlist.remove(\"Kyoto\")\n",
    "print(travel_wishlist)  # Output: ['Paris', 'Oslo', 'Sydney']\n"
   ]
  },
  {
   "cell_type": "code",
   "execution_count": 2,
   "metadata": {},
   "outputs": [
    {
     "name": "stdout",
     "output_type": "stream",
     "text": [
      "['Paris', 'Oslo', 'Rome', 'Sydney']\n"
     ]
    }
   ],
   "source": [
    "travel_wishlist = [\"Paris\", \"Oslo\", \"Rome\", \"Sydney\"]\n",
    "\n",
    "if \"Kyoto\" in travel_wishlist:\n",
    "    travel_wishlist.remove(\"Kyoto\")\n",
    "\n",
    "print(travel_wishlist)\n"
   ]
  },
  {
   "cell_type": "code",
   "execution_count": 3,
   "metadata": {},
   "outputs": [
    {
     "name": "stdout",
     "output_type": "stream",
     "text": [
      "Updated list: ['Paris', 'Kyoto']\n"
     ]
    }
   ],
   "source": [
    "travel_wishlist = [\"Paris\", \"Oslo\", \"Kyoto\", \"Sydney\"]\n",
    "\n",
    "# Deleting element\n",
    "travel_wishlist.remove(\"Oslo\")\n",
    "travel_wishlist.remove(\"Sydney\")\n",
    "\n",
    "# Testing\n",
    "print('Updated list:', travel_wishlist)\n"
   ]
  }
 ],
 "metadata": {
  "kernelspec": {
   "display_name": "venv",
   "language": "python",
   "name": "python3"
  },
  "language_info": {
   "codemirror_mode": {
    "name": "ipython",
    "version": 3
   },
   "file_extension": ".py",
   "mimetype": "text/x-python",
   "name": "python",
   "nbconvert_exporter": "python",
   "pygments_lexer": "ipython3",
   "version": "3.13.2"
  }
 },
 "nbformat": 4,
 "nbformat_minor": 2
}
