{
 "cells": [
  {
   "cell_type": "code",
   "execution_count": 1,
   "metadata": {},
   "outputs": [
    {
     "name": "stdout",
     "output_type": "stream",
     "text": [
      "['London', ['Paris', 'Madrid'], 'Rome', ['Bangkok', ['New York', 'Los Angeles']]]\n"
     ]
    }
   ],
   "source": [
    "cities = [\"London\", [\"Paris\", \"Madrid\"], \"Rome\", [\"Bangkok\", [\"New York\", \"Los Angeles\"]]]\n",
    "\n",
    "print(cities)\n"
   ]
  },
  {
   "cell_type": "code",
   "execution_count": 2,
   "metadata": {},
   "outputs": [
    {
     "name": "stdout",
     "output_type": "stream",
     "text": [
      "[['Paris', 'Berlin', 'Rome'], ['Tokyo', 'Seoul', 'Bangkok'], ['New York', 'Los Angeles', 'Chicago']]\n"
     ]
    }
   ],
   "source": [
    "europe_cities = [\"Paris\", \"Berlin\", \"Rome\"]\n",
    "asia_cities = [\"Tokyo\", \"Seoul\", \"Bangkok\"]\n",
    "america_cities = [\"New York\", \"Los Angeles\", \"Chicago\"]\n",
    "\n",
    "world_cities = [europe_cities, asia_cities, america_cities]\n",
    "\n",
    "print(world_cities)\n"
   ]
  },
  {
   "cell_type": "code",
   "execution_count": 3,
   "metadata": {},
   "outputs": [
    {
     "name": "stdout",
     "output_type": "stream",
     "text": [
      "travel_wishlist: [['Paris', 'France', 2000], ['Tokyo', 'Japan', 3500], ['Berlin', 'Germany', 3400]]\n"
     ]
    }
   ],
   "source": [
    "# Put in the lists `[city name, country, the estimated cost]`\n",
    "first_city =  [\"Paris\", \"France\", 2000]\n",
    "second_city = [\"Tokyo\", \"Japan\", 3500]\n",
    "third_city = [\"Berlin\", \"Germany\", 3400]\n",
    "\n",
    "# Put variables in the list \n",
    "travel_wishlist = [first_city, second_city, third_city]\n",
    "\n",
    "# Testing\n",
    "print('travel_wishlist:', travel_wishlist)\n"
   ]
  }
 ],
 "metadata": {
  "kernelspec": {
   "display_name": "venv",
   "language": "python",
   "name": "python3"
  },
  "language_info": {
   "codemirror_mode": {
    "name": "ipython",
    "version": 3
   },
   "file_extension": ".py",
   "mimetype": "text/x-python",
   "name": "python",
   "nbconvert_exporter": "python",
   "pygments_lexer": "ipython3",
   "version": "3.13.2"
  }
 },
 "nbformat": 4,
 "nbformat_minor": 2
}
