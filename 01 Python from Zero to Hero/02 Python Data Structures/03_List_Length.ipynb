{
 "cells": [
  {
   "cell_type": "code",
   "execution_count": 1,
   "metadata": {},
   "outputs": [
    {
     "name": "stdout",
     "output_type": "stream",
     "text": [
      "5\n"
     ]
    }
   ],
   "source": [
    "cities_list = [\"Tokyo\", \"New York\", \"Sydney\", \"Berlin\", [\"Paris\", \"France\"]]\n",
    "\n",
    "list_length = len(cities_list)\n",
    "\n",
    "print(list_length)\n"
   ]
  },
  {
   "cell_type": "code",
   "execution_count": 2,
   "metadata": {},
   "outputs": [
    {
     "name": "stdout",
     "output_type": "stream",
     "text": [
      "list_length: 30\n"
     ]
    }
   ],
   "source": [
    "travel_wishlist = [\n",
    "    \"Paris\", \"Tokyo\", \"New York\", \"Sydney\", \"Rio de Janeiro\", \n",
    "    \"Cape Town\", \"Berlin\", \"Bangkok\", \"Moscow\", \"Dubai\",\n",
    "    \"Rome\", \"Toronto\", \"Beijing\", \"Mumbai\", \"Seoul\",\n",
    "    \"Istanbul\", \"Mexico City\", \"Athens\", \"San Francisco\", \"Cairo\",\n",
    "    \"Lisbon\", \"Buenos Aires\", \"Singapore\", \"Helsinki\", \"Vienna\",\n",
    "    \"Stockholm\", \"Kuala Lumpur\", \"Los Angeles\", \"Jakarta\", \"Madrid\"\n",
    "]\n",
    "\n",
    "# Write your code here\n",
    "list_length = len(travel_wishlist)\n",
    "\n",
    "# Testing\n",
    "print(\"list_length:\", list_length)\n"
   ]
  }
 ],
 "metadata": {
  "kernelspec": {
   "display_name": "venv",
   "language": "python",
   "name": "python3"
  },
  "language_info": {
   "codemirror_mode": {
    "name": "ipython",
    "version": 3
   },
   "file_extension": ".py",
   "mimetype": "text/x-python",
   "name": "python",
   "nbconvert_exporter": "python",
   "pygments_lexer": "ipython3",
   "version": "3.13.2"
  }
 },
 "nbformat": 4,
 "nbformat_minor": 2
}
