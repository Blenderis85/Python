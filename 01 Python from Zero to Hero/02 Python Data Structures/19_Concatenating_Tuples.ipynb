{
 "cells": [
  {
   "cell_type": "code",
   "execution_count": 1,
   "metadata": {},
   "outputs": [
    {
     "name": "stdout",
     "output_type": "stream",
     "text": [
      "('Inception', 'Interstellar', 'Dunkirk', 2010, 2014, 2017)\n"
     ]
    }
   ],
   "source": [
    "movie_titles = (\"Inception\", \"Interstellar\", \"Dunkirk\")\n",
    "release_years = (2010, 2014, 2017)\n",
    "\n",
    "# Concatenate the tuples\n",
    "combined_tuple = movie_titles + release_years\n",
    "\n",
    "print(combined_tuple)\n"
   ]
  },
  {
   "cell_type": "code",
   "execution_count": 2,
   "metadata": {},
   "outputs": [
    {
     "name": "stdout",
     "output_type": "stream",
     "text": [
      "Now playing in theaters: ('2001: A Space Odyssey', 'Interstellar', 'Star Wars: Episode IV - A New Hope', 'Gravity', 'The Martian', 'The Lion King', 'Jurassic Park', 'Finding Nemo')\n"
     ]
    }
   ],
   "source": [
    "space_movies = ('2001: A Space Odyssey', 'Interstellar', 'Star Wars: Episode IV - A New Hope', 'Gravity', 'The Martian')\n",
    "\n",
    "new_movies = ['The Lion King', 'Jurassic Park', 'Finding Nemo']\n",
    "\n",
    "# Write your code here\n",
    "animal_movies = tuple(new_movies)\n",
    "\n",
    "movie_poster = space_movies + animal_movies\n",
    "\n",
    "# Testing\n",
    "print(\"Now playing in theaters:\", movie_poster)\n"
   ]
  }
 ],
 "metadata": {
  "kernelspec": {
   "display_name": "venv",
   "language": "python",
   "name": "python3"
  },
  "language_info": {
   "codemirror_mode": {
    "name": "ipython",
    "version": 3
   },
   "file_extension": ".py",
   "mimetype": "text/x-python",
   "name": "python",
   "nbconvert_exporter": "python",
   "pygments_lexer": "ipython3",
   "version": "3.13.2"
  }
 },
 "nbformat": 4,
 "nbformat_minor": 2
}
