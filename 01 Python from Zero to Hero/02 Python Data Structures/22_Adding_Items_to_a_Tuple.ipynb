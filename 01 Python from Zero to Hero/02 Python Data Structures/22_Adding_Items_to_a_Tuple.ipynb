{
 "cells": [
  {
   "cell_type": "code",
   "execution_count": 1,
   "metadata": {},
   "outputs": [
    {
     "name": "stdout",
     "output_type": "stream",
     "text": [
      "After: ('Inception', 'Interstellar', 'Tenet', 'Dunkirk')\n"
     ]
    }
   ],
   "source": [
    "# Original tuple of movies\n",
    "movies = (\"Inception\", \"Interstellar\", \"Tenet\")\n",
    "\n",
    "# Convert the tuple to a list\n",
    "movies_list = list(movies)\n",
    "\n",
    "# Add a new movie to the list\n",
    "movies_list.append(\"Dunkirk\")\n",
    "\n",
    "# Convert the list back to a tuple\n",
    "movies = tuple(movies_list)\n",
    "\n",
    "print(\"After:\", movies)\n"
   ]
  },
  {
   "cell_type": "code",
   "execution_count": 2,
   "metadata": {},
   "outputs": [
    {
     "name": "stdout",
     "output_type": "stream",
     "text": [
      "('Inception', 'Interstellar', 'Tenet', 'Dunkirk')\n"
     ]
    }
   ],
   "source": [
    "# Original tuple of movies\n",
    "movies = (\"Inception\", \"Interstellar\", \"Tenet\")\n",
    "\n",
    "# Create a new tuple with the movie to add\n",
    "new_movies = (\"Dunkirk\",)\n",
    "\n",
    "# Concatenate the tuples\n",
    "movies += new_movies\n",
    "\n",
    "print(movies)\n"
   ]
  },
  {
   "cell_type": "code",
   "execution_count": 3,
   "metadata": {},
   "outputs": [
    {
     "name": "stdout",
     "output_type": "stream",
     "text": [
      "Updated animal movies: ('The Lion King', 'Jurassic Park', 'Finding Nemo', 'Dumbo', 'The Lion King')\n"
     ]
    }
   ],
   "source": [
    "animal_movies = ('The Lion King', 'Jurassic Park', 'Finding Nemo')\n",
    "\n",
    "# Write your code here\n",
    "new_movies = (\"Dumbo\", \"The Lion King\")\n",
    "animal_movies += new_movies\n",
    "\n",
    "print(\"Updated animal movies:\", animal_movies)\n"
   ]
  }
 ],
 "metadata": {
  "kernelspec": {
   "display_name": "venv",
   "language": "python",
   "name": "python3"
  },
  "language_info": {
   "codemirror_mode": {
    "name": "ipython",
    "version": 3
   },
   "file_extension": ".py",
   "mimetype": "text/x-python",
   "name": "python",
   "nbconvert_exporter": "python",
   "pygments_lexer": "ipython3",
   "version": "3.13.2"
  }
 },
 "nbformat": 4,
 "nbformat_minor": 2
}
