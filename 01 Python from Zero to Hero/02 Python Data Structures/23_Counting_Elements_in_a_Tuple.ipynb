{
 "cells": [
  {
   "cell_type": "code",
   "execution_count": 1,
   "metadata": {},
   "outputs": [
    {
     "name": "stdout",
     "output_type": "stream",
     "text": [
      "'Action' appears 3 times in the tuple.\n"
     ]
    }
   ],
   "source": [
    "# Tuple of movie genres\n",
    "movie_genres = (\"Action\", \"Drama\", \"Action\", \"Comedy\", \"Drama\", \"Action\")\n",
    "\n",
    "# Counting occurrences of \"Action\"\n",
    "action_count = movie_genres.count(\"Action\")\n",
    "\n",
    "print(f\"'Action' appears {action_count} times in the tuple.\")\n"
   ]
  },
  {
   "cell_type": "code",
   "execution_count": 2,
   "metadata": {},
   "outputs": [
    {
     "name": "stdout",
     "output_type": "stream",
     "text": [
      "The number of occurrences of the director: 3\n"
     ]
    }
   ],
   "source": [
    "directors = (\n",
    "    'Steven Spielberg',\n",
    "    'Christopher Nolan',\n",
    "    'Quentin Tarantino',\n",
    "    'Martin Scorsese',\n",
    "    'Steven Spielberg',\n",
    "\t'Ridley Scott',\n",
    "    'James Cameron',\n",
    "    'Steven Spielberg'\n",
    ")\n",
    "\n",
    "# Write your code here\n",
    "director_count = directors.count('Steven Spielberg')\n",
    "\n",
    "# Testing\n",
    "print(\"The number of occurrences of the director:\", director_count)\n"
   ]
  }
 ],
 "metadata": {
  "kernelspec": {
   "display_name": "venv",
   "language": "python",
   "name": "python3"
  },
  "language_info": {
   "codemirror_mode": {
    "name": "ipython",
    "version": 3
   },
   "file_extension": ".py",
   "mimetype": "text/x-python",
   "name": "python",
   "nbconvert_exporter": "python",
   "pygments_lexer": "ipython3",
   "version": "3.13.2"
  }
 },
 "nbformat": 4,
 "nbformat_minor": 2
}
