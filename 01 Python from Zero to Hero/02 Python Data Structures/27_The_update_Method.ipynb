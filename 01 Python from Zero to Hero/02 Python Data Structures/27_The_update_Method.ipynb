{
 "cells": [
  {
   "cell_type": "code",
   "execution_count": 1,
   "metadata": {},
   "outputs": [
    {
     "name": "stdout",
     "output_type": "stream",
     "text": [
      "{'Interstellar', 'Tenet', 'Inception', 'Memento', 'The Prestige'}\n"
     ]
    }
   ],
   "source": [
    "# Original set of favorite movies\n",
    "favorite_movies = {\"Inception\", \"Interstellar\", \"Tenet\"}\n",
    "\n",
    "# Adding multiple new movies\n",
    "favorite_movies.update([\"Tenet\", \"Memento\", \"The Prestige\"])\n",
    "\n",
    "# Print the updated set\n",
    "print(favorite_movies)\n"
   ]
  },
  {
   "cell_type": "code",
   "execution_count": 2,
   "metadata": {},
   "outputs": [
    {
     "name": "stdout",
     "output_type": "stream",
     "text": [
      "Updated set: {'Guardians of the Galaxy', 'Spider-Man: No Way Home', 'Black Panther', 'Iron Man', 'Avengers: Endgame'}\n"
     ]
    }
   ],
   "source": [
    "marvel_movies = {\n",
    "    'Avengers: Endgame',\n",
    "    'Black Panther',\n",
    "    'Iron Man'\n",
    "}\n",
    "\n",
    "movies_to_add = ('Spider-Man: No Way Home', 'Guardians of the Galaxy')\n",
    "\n",
    "# Write your code here\n",
    "marvel_movies.update(movies_to_add)\n",
    "\n",
    "# Testing\n",
    "print(\"Updated set:\", marvel_movies)\n"
   ]
  }
 ],
 "metadata": {
  "kernelspec": {
   "display_name": "venv",
   "language": "python",
   "name": "python3"
  },
  "language_info": {
   "codemirror_mode": {
    "name": "ipython",
    "version": 3
   },
   "file_extension": ".py",
   "mimetype": "text/x-python",
   "name": "python",
   "nbconvert_exporter": "python",
   "pygments_lexer": "ipython3",
   "version": "3.13.2"
  }
 },
 "nbformat": 4,
 "nbformat_minor": 2
}
