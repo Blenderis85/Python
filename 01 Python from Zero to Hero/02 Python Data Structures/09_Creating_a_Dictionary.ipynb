{
 "cells": [
  {
   "cell_type": "code",
   "execution_count": 1,
   "metadata": {},
   "outputs": [
    {
     "name": "stdout",
     "output_type": "stream",
     "text": [
      "{'title': 'Pride and Prejudice', 'author': 'Jane Austen', 'year': 1813, 'genre': 'Romance'}\n"
     ]
    }
   ],
   "source": [
    "book = {\n",
    "    \"title\": \"Pride and Prejudice\",\n",
    "    \"author\": \"Jane Austen\",\n",
    "    \"year\": 1813,\n",
    "    \"genre\": \"Romance\"\n",
    "}\n",
    "print(book)\n"
   ]
  },
  {
   "cell_type": "code",
   "execution_count": 2,
   "metadata": {},
   "outputs": [
    {
     "name": "stdout",
     "output_type": "stream",
     "text": [
      "{1: 'Classics', 2: 'Science Fiction', 3: 'Mystery', 4: 'Non-fiction'}\n"
     ]
    }
   ],
   "source": [
    "shelves = {1: \"Classics\", 2: \"Science Fiction\", 3: \"Mystery\", 4: \"Non-fiction\"}\n",
    "print(shelves)\n"
   ]
  },
  {
   "cell_type": "code",
   "execution_count": 3,
   "metadata": {},
   "outputs": [
    {
     "name": "stdout",
     "output_type": "stream",
     "text": [
      "{'title': 'Animal Farm', 'author': 'George Orwell'}\n"
     ]
    }
   ],
   "source": [
    "book = {\"title\": \"1984\", \"author\": \"George Orwell\", \"title\": \"Animal Farm\"}\n",
    "print(book)  # Output: {'title': 'Animal Farm', 'author': 'George Orwell'}\n"
   ]
  },
  {
   "cell_type": "code",
   "execution_count": 4,
   "metadata": {},
   "outputs": [
    {
     "name": "stdout",
     "output_type": "stream",
     "text": [
      "Library dictionary: {'The Great Gatsby': 'F. Scott Fitzgerald', '1984': 'George Orwell', 'To Kill a Mockingbird': 'Harper Lee'}\n"
     ]
    }
   ],
   "source": [
    "# Write your code here\n",
    "library = {\n",
    "\t\"The Great Gatsby\": \"F. Scott Fitzgerald\",\n",
    "\t\"1984\": \"George Orwell\",\n",
    "\t\"To Kill a Mockingbird\": \"Harper Lee\"\n",
    "}\n",
    "\n",
    "# Testing\n",
    "print('Library dictionary:', library)\n"
   ]
  }
 ],
 "metadata": {
  "kernelspec": {
   "display_name": "venv",
   "language": "python",
   "name": "python3"
  },
  "language_info": {
   "codemirror_mode": {
    "name": "ipython",
    "version": 3
   },
   "file_extension": ".py",
   "mimetype": "text/x-python",
   "name": "python",
   "nbconvert_exporter": "python",
   "pygments_lexer": "ipython3",
   "version": "3.13.2"
  }
 },
 "nbformat": 4,
 "nbformat_minor": 2
}
