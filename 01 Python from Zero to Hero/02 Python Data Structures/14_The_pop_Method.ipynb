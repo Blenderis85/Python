{
 "cells": [
  {
   "cell_type": "code",
   "execution_count": 1,
   "metadata": {},
   "outputs": [
    {
     "name": "stdout",
     "output_type": "stream",
     "text": [
      "Updated dictionary: {'title': 'Pride and Prejudice', 'author': 'Jane Austen', 'year': 1813}\n",
      "Removed value: 5\n"
     ]
    }
   ],
   "source": [
    "book = {\n",
    "    \"title\": \"Pride and Prejudice\",\n",
    "    \"author\": \"Jane Austen\",\n",
    "    \"year\": 1813,\n",
    "    \"copies\": 5\n",
    "}\n",
    "\n",
    "# Remove the 'copies' key and retrieve its value\n",
    "removed_copies = book.pop(\"copies\")\n",
    "\n",
    "print(\"Updated dictionary:\", book)\n",
    "print(\"Removed value:\", removed_copies)\n"
   ]
  },
  {
   "cell_type": "code",
   "execution_count": 2,
   "metadata": {},
   "outputs": [
    {
     "name": "stdout",
     "output_type": "stream",
     "text": [
      "Updated dictionary: {'William Shakespeare': ['Hamlet', 'Macbeth', 'Romeo and Juliet', 'Othello'], 'J.K. Rowling': [\"Harry Potter and the Sorcerer's Stone\", 'Harry Potter and the Chamber of Secrets', 'Harry Potter and the Prisoner of Azkaban', 'Harry Potter and the Goblet of Fire'], 'George Orwell': ['1984', 'Animal Farm', 'Coming Up for Air'], 'Agatha Christie': ['Murder on the Orient Express', 'The Murder of Roger Ackroyd', 'And Then There Were None', 'Death on the Nile']}.\n",
      "Stephen King's books: ['It', 'The Shining', 'Carrie', 'Misery']\n"
     ]
    }
   ],
   "source": [
    "authors_books = {\n",
    "    'William Shakespeare': ['Hamlet', 'Macbeth', 'Romeo and Juliet', 'Othello'],\n",
    "    'J.K. Rowling': ['Harry Potter and the Sorcerer\\'s Stone', 'Harry Potter and the Chamber of Secrets', 'Harry Potter and the Prisoner of Azkaban', 'Harry Potter and the Goblet of Fire'],\n",
    "    'George Orwell': ['1984', 'Animal Farm', 'Coming Up for Air'],\n",
    "    'Stephen King': ['It', 'The Shining', 'Carrie', 'Misery'],\n",
    "    'Agatha Christie': ['Murder on the Orient Express', 'The Murder of Roger Ackroyd', 'And Then There Were None', 'Death on the Nile']\n",
    "}\n",
    "\n",
    "# Write your code here\n",
    "kings_books = authors_books.pop('Stephen King')\n",
    "\n",
    "# Testing \n",
    "print(f\"Updated dictionary: {authors_books}.\\nStephen King\\'s books: {kings_books}\")\n"
   ]
  }
 ],
 "metadata": {
  "kernelspec": {
   "display_name": "venv",
   "language": "python",
   "name": "python3"
  },
  "language_info": {
   "codemirror_mode": {
    "name": "ipython",
    "version": 3
   },
   "file_extension": ".py",
   "mimetype": "text/x-python",
   "name": "python",
   "nbconvert_exporter": "python",
   "pygments_lexer": "ipython3",
   "version": "3.13.2"
  }
 },
 "nbformat": 4,
 "nbformat_minor": 2
}
