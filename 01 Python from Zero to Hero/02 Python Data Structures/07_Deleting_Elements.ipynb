{
 "cells": [
  {
   "cell_type": "code",
   "execution_count": null,
   "metadata": {},
   "outputs": [],
   "source": [
    "travel_wishlist = [\"Paris\", \"Oslo\", \"Kyoto\", \"Sydney\"]\n"
   ]
  },
  {
   "cell_type": "code",
   "execution_count": 1,
   "metadata": {},
   "outputs": [
    {
     "name": "stdout",
     "output_type": "stream",
     "text": [
      "['Paris', 'Oslo', 'Kyoto']\n"
     ]
    }
   ],
   "source": [
    "travel_wishlist = [\"Paris\", \"Oslo\", \"Kyoto\", \"Sydney\"]\n",
    "\n",
    "# Remove the last city\n",
    "del travel_wishlist[-1]\n",
    "print(travel_wishlist) # Output: ['Paris', 'Oslo', 'Kyoto']\n"
   ]
  },
  {
   "cell_type": "code",
   "execution_count": 2,
   "metadata": {},
   "outputs": [
    {
     "name": "stdout",
     "output_type": "stream",
     "text": [
      "['Oslo', 'Sydney', 'Rome']\n"
     ]
    }
   ],
   "source": [
    "travel_wishlist = [\"Paris\", \"Oslo\", \"Kyoto\", \"Sydney\", \"Rome\"]\n",
    "\n",
    "# Write your code below\n",
    "del travel_wishlist[0]\n",
    "del travel_wishlist[1]\n",
    "\n",
    "# Testing \n",
    "print(travel_wishlist)\n"
   ]
  }
 ],
 "metadata": {
  "kernelspec": {
   "display_name": "venv",
   "language": "python",
   "name": "python3"
  },
  "language_info": {
   "codemirror_mode": {
    "name": "ipython",
    "version": 3
   },
   "file_extension": ".py",
   "mimetype": "text/x-python",
   "name": "python",
   "nbconvert_exporter": "python",
   "pygments_lexer": "ipython3",
   "version": "3.13.2"
  }
 },
 "nbformat": 4,
 "nbformat_minor": 2
}
