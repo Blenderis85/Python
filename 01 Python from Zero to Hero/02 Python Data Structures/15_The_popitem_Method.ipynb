{
 "cells": [
  {
   "cell_type": "code",
   "execution_count": 1,
   "metadata": {},
   "outputs": [
    {
     "name": "stdout",
     "output_type": "stream",
     "text": [
      "Removed item: ('genre', 'Romance')\n",
      "Updated dictionary: {'title': 'Pride and Prejudice', 'author': 'Jane Austen', 'year': 1813}\n"
     ]
    }
   ],
   "source": [
    "book = {\n",
    "    \"title\": \"Pride and Prejudice\",\n",
    "    \"author\": \"Jane Austen\",\n",
    "    \"year\": 1813,\n",
    "    \"genre\": \"Romance\"\n",
    "}\n",
    "\n",
    "# Removing the last key-value pair using popitem()\n",
    "popped_item = book.popitem()\n",
    "\n",
    "# Printing the updated dictionary and the removed pair\n",
    "print(\"Removed item:\", popped_item)\n",
    "print(\"Updated dictionary:\", book)\n"
   ]
  },
  {
   "cell_type": "code",
   "execution_count": 2,
   "metadata": {},
   "outputs": [
    {
     "name": "stdout",
     "output_type": "stream",
     "text": [
      "Removed element: ('Agatha Christie', ['Murder on the Orient Express', 'The Murder of Roger Ackroyd', 'And Then There Were None', 'Death on the Nile'])\n",
      "Updated dictionary: {'William Shakespeare': ['Hamlet', 'Macbeth', 'Romeo and Juliet', 'Othello'], 'J.K. Rowling': [\"Harry Potter and the Sorcerer's Stone\", 'Harry Potter and the Chamber of Secrets', 'Harry Potter and the Prisoner of Azkaban', 'Harry Potter and the Goblet of Fire'], 'George Orwell': ['1984', 'Animal Farm', 'Coming Up for Air'], 'Stephen King': ['It', 'The Shining', 'Carrie', 'Misery'], 'Mark Twain': ['The Adventures of Tom Sawyer', 'Adventures of Huckleberry Finn', 'The Prince and the Pauper']}\n"
     ]
    }
   ],
   "source": [
    "authors_books = {\n",
    "    'William Shakespeare': ['Hamlet', 'Macbeth', 'Romeo and Juliet', 'Othello'],\n",
    "    'J.K. Rowling': ['Harry Potter and the Sorcerer\\'s Stone', 'Harry Potter and the Chamber of Secrets', 'Harry Potter and the Prisoner of Azkaban', 'Harry Potter and the Goblet of Fire'],\n",
    "    'George Orwell': ['1984', 'Animal Farm', 'Coming Up for Air'],\n",
    "    'Stephen King': ['It', 'The Shining', 'Carrie', 'Misery'],\n",
    "    'Agatha Christie': ['Murder on the Orient Express', 'The Murder of Roger Ackroyd', 'And Then There Were None', 'Death on the Nile']\n",
    "}\n",
    "\n",
    "# Write your code here\n",
    "removed_element = authors_books.popitem()\n",
    "\n",
    "key_to_add = 'Mark Twain'\n",
    "value_to_add = ['The Adventures of Tom Sawyer', 'Adventures of Huckleberry Finn', 'The Prince and the Pauper']\n",
    "\n",
    "authors_books[key_to_add] = value_to_add\n",
    "\n",
    "# Testing\n",
    "print(\"Removed element:\", removed_element)\n",
    "print(\"Updated dictionary:\", authors_books)\n"
   ]
  }
 ],
 "metadata": {
  "kernelspec": {
   "display_name": "venv",
   "language": "python",
   "name": "python3"
  },
  "language_info": {
   "codemirror_mode": {
    "name": "ipython",
    "version": 3
   },
   "file_extension": ".py",
   "mimetype": "text/x-python",
   "name": "python",
   "nbconvert_exporter": "python",
   "pygments_lexer": "ipython3",
   "version": "3.13.2"
  }
 },
 "nbformat": 4,
 "nbformat_minor": 2
}
