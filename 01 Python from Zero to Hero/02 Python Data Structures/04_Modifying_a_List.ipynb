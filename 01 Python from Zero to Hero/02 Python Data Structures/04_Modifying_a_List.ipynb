{
 "cells": [
  {
   "cell_type": "code",
   "execution_count": 1,
   "metadata": {},
   "outputs": [
    {
     "name": "stdout",
     "output_type": "stream",
     "text": [
      "['Paris', 'Tokyo', 'Rome', 'Berlin', 'Sydney']\n",
      "['Paris', 'Tokyo', 'Rome', 'Dubai', 'Cape Town']\n"
     ]
    }
   ],
   "source": [
    "cities = [\"Paris\", \"Tokyo\", \"New York\", \"Berlin\", \"Sydney\"]\n",
    "\n",
    "# Replacing the fourth city\n",
    "cities[2] = \"Rome\"\n",
    "print(cities)  # Output: ['Paris', 'Tokyo', 'Rome', 'Berlin', 'Sydney']\n",
    "\n",
    "# Replacing the last two cities with new ones\n",
    "cities[-2:] = [\"Dubai\", \"Cape Town\"]\n",
    "print(cities)  # Output: ['Paris', 'Tokyo', 'Rome', 'Dubai', 'Cape Town']\n"
   ]
  },
  {
   "cell_type": "code",
   "execution_count": 2,
   "metadata": {},
   "outputs": [
    {
     "name": "stdout",
     "output_type": "stream",
     "text": [
      "['Paris', 'Seoul', 'Bangkok', 'Mumbai', 'Berlin', 'Sydney']\n"
     ]
    }
   ],
   "source": [
    "cities = [\"Paris\", \"Tokyo\", \"New York\", \"Berlin\", \"Sydney\"]\n",
    "\n",
    "# Replacing multiple cities in the middle\n",
    "cities[1:3] = [\"Seoul\", \"Bangkok\", \"Mumbai\"]\n",
    "\n",
    "print(cities)  # Output: ['Paris', 'Seoul', 'Bangkok', 'Mumbai', 'Berlin', 'Sydney']\n"
   ]
  },
  {
   "cell_type": "code",
   "execution_count": 3,
   "metadata": {},
   "outputs": [
    {
     "name": "stdout",
     "output_type": "stream",
     "text": [
      "Updated list: [['Paris', 'France', 1600.0], ['Tokyo', 'Japan', 2400.0], ['New York', 'USA', 2000.0]]\n"
     ]
    }
   ],
   "source": [
    "# Initial travel wishlist with nested lists\n",
    "travel_wishlist = [\n",
    "    [\"Paris\", \"France\", 2000],\n",
    "    [\"Tokyo\", \"Japan\", 3000],\n",
    "    [\"New York\", \"USA\", 2500]\n",
    "]\n",
    "\n",
    "# Applying a 20% discount to the estimated cost\n",
    "travel_wishlist[0][2] = travel_wishlist[0][2] * 0.8\n",
    "travel_wishlist[1][2] = travel_wishlist[1][2] * 0.8\n",
    "travel_wishlist[2][2] = travel_wishlist[2][2] * 0.8\n",
    "\n",
    "# Printing the updated travel_wishlist to verify the change\n",
    "print('Updated list:', travel_wishlist)\n"
   ]
  }
 ],
 "metadata": {
  "kernelspec": {
   "display_name": "venv",
   "language": "python",
   "name": "python3"
  },
  "language_info": {
   "codemirror_mode": {
    "name": "ipython",
    "version": 3
   },
   "file_extension": ".py",
   "mimetype": "text/x-python",
   "name": "python",
   "nbconvert_exporter": "python",
   "pygments_lexer": "ipython3",
   "version": "3.13.2"
  }
 },
 "nbformat": 4,
 "nbformat_minor": 2
}
