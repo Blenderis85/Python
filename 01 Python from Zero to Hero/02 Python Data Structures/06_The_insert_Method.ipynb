{
 "cells": [
  {
   "cell_type": "code",
   "execution_count": 1,
   "metadata": {},
   "outputs": [
    {
     "name": "stdout",
     "output_type": "stream",
     "text": [
      "['Paris', 'Oslo', 'Kyoto', 'Sydney']\n"
     ]
    }
   ],
   "source": [
    "travel_wishlist = [\"Paris\", \"Oslo\", \"Kyoto\", \"Sydney\"]\n",
    "\n",
    "print(travel_wishlist)  # Output: ['Paris', 'Oslo', 'Kyoto', 'Sydney']\n"
   ]
  },
  {
   "cell_type": "code",
   "execution_count": 2,
   "metadata": {},
   "outputs": [
    {
     "name": "stdout",
     "output_type": "stream",
     "text": [
      "['Chicago', 'Paris', 'Oslo', 'Kyoto', 'Sydney']\n"
     ]
    }
   ],
   "source": [
    "travel_wishlist = [\"Paris\", \"Oslo\", \"Kyoto\", \"Sydney\"]\n",
    "\n",
    "# Adding \"Rome\" as the first destination\n",
    "travel_wishlist.insert(0, \"Chicago\")\n",
    "print(travel_wishlist)  # Output: ['Chicago', 'Paris', 'Oslo', 'Kyoto', 'Sydney']\n"
   ]
  },
  {
   "cell_type": "code",
   "execution_count": 3,
   "metadata": {},
   "outputs": [
    {
     "name": "stdout",
     "output_type": "stream",
     "text": [
      "Updated travel_wishlist: ['London', 'Paris', 'Budapest', 'Oslo', 'Kyoto', 'Sydney']\n"
     ]
    }
   ],
   "source": [
    "travel_wishlist = [\"Paris\", \"Oslo\", \"Kyoto\", \"Sydney\"]\n",
    "\n",
    "# Adding new elements\n",
    "travel_wishlist.insert(0, \"London\")\n",
    "travel_wishlist.insert(2, \"Budapest\")\n",
    "\n",
    "# Testing \n",
    "print(\"Updated travel_wishlist:\", travel_wishlist)\n"
   ]
  }
 ],
 "metadata": {
  "kernelspec": {
   "display_name": "venv",
   "language": "python",
   "name": "python3"
  },
  "language_info": {
   "codemirror_mode": {
    "name": "ipython",
    "version": 3
   },
   "file_extension": ".py",
   "mimetype": "text/x-python",
   "name": "python",
   "nbconvert_exporter": "python",
   "pygments_lexer": "ipython3",
   "version": "3.13.2"
  }
 },
 "nbformat": 4,
 "nbformat_minor": 2
}
