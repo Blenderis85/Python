{
 "cells": [
  {
   "cell_type": "code",
   "execution_count": 1,
   "metadata": {},
   "outputs": [
    {
     "name": "stdout",
     "output_type": "stream",
     "text": [
      "milk\n",
      "eggs\n",
      "cheese\n",
      "butter\n"
     ]
    }
   ],
   "source": [
    "groceryItems = [\"milk\", \"eggs\", \"cheese\", \"butter\"]\n",
    "for item in groceryItems:\n",
    "    # Code to be executed\n",
    "    print(item)\n"
   ]
  },
  {
   "cell_type": "code",
   "execution_count": 2,
   "metadata": {},
   "outputs": [
    {
     "name": "stdout",
     "output_type": "stream",
     "text": [
      "C\n",
      "a\n",
      "r\n",
      "r\n",
      "o\n",
      "t\n",
      "Produce\n",
      "Bakery\n",
      "Meat\n",
      "Dairy\n"
     ]
    }
   ],
   "source": [
    "# Print each letter in the string\n",
    "vegetable = \"Carrot\"\n",
    "for letter in vegetable:\n",
    "    print(letter)\n",
    "\n",
    "# Tuple containing different categories of the grocery store\n",
    "categories = (\"Produce\", \"Bakery\", \"Meat\", \"Dairy\")\n",
    "for category in categories:\n",
    "    print(category)\n"
   ]
  },
  {
   "cell_type": "code",
   "execution_count": 3,
   "metadata": {},
   "outputs": [
    {
     "name": "stdout",
     "output_type": "stream",
     "text": [
      "Product list:\n",
      "milk\n",
      "eggs\n",
      "bread\n"
     ]
    }
   ],
   "source": [
    "# Dictionary of products and their stock counts\n",
    "productStock = {\"milk\": 120, \"eggs\": 200, \"bread\": 80}\n",
    "\n",
    "# Print each dictionary key\n",
    "print(\"Product list:\")\n",
    "for product in productStock:\n",
    "    print(product)\n"
   ]
  },
  {
   "cell_type": "code",
   "execution_count": 4,
   "metadata": {},
   "outputs": [
    {
     "name": "stdout",
     "output_type": "stream",
     "text": [
      "Stock counts:\n",
      "120\n",
      "200\n",
      "80\n"
     ]
    }
   ],
   "source": [
    "# Dictionary of products and their stock counts\n",
    "productStock = {\"milk\": 120, \"eggs\": 200, \"bread\": 80}\n",
    "\n",
    "# Print each dictionary value\n",
    "print(\"Stock counts:\")\n",
    "for stock in productStock.values():\n",
    "    print(stock)\n"
   ]
  },
  {
   "cell_type": "code",
   "execution_count": 5,
   "metadata": {},
   "outputs": [
    {
     "name": "stdout",
     "output_type": "stream",
     "text": [
      "Inventory details:\n",
      "milk has 120 units in stock.\n",
      "eggs has 200 units in stock.\n",
      "bread has 80 units in stock.\n"
     ]
    }
   ],
   "source": [
    "# Dictionary of products and their stock counts\n",
    "productStock = {\"milk\": 120, \"eggs\": 200, \"bread\": 80}\n",
    "\n",
    "# Print both the key and value for each dictionary item\n",
    "print(\"Inventory details:\")\n",
    "for product, stock in productStock.items():\n",
    "    print(f\"{product} has {stock} units in stock.\")\n"
   ]
  },
  {
   "cell_type": "code",
   "execution_count": 6,
   "metadata": {},
   "outputs": [
    {
     "name": "stdout",
     "output_type": "stream",
     "text": [
      "Checking inventory status:\n",
      "milk has adequate stock with 120 units available.\n",
      "eggs requires restocking. Only 30 units remain.\n",
      "bread has adequate stock with 80 units available.\n",
      "apples requires restocking. Only 10 units remain.\n"
     ]
    }
   ],
   "source": [
    "# Product names as keys and their stock levels as values\n",
    "inventory = {\n",
    "    \"milk\": 120,\n",
    "    \"eggs\": 30,\n",
    "    \"bread\": 80,\n",
    "    \"apples\": 10\n",
    "}\n",
    "\n",
    "# The threshold stock level that triggers a restock\n",
    "minimum_stock = 50\n",
    "\n",
    "# Evaluating stock levels and deciding if restocking is necessary\n",
    "print(\"Checking inventory status:\")\n",
    "for product, quantity in inventory.items():\n",
    "    if quantity < minimum_stock:\n",
    "        print(f\"{product} requires restocking. Only {quantity} units remain.\")\n",
    "    else:\n",
    "        print(f\"{product} has adequate stock with {quantity} units available.\")\n"
   ]
  },
  {
   "cell_type": "code",
   "execution_count": 7,
   "metadata": {},
   "outputs": [
    {
     "name": "stdout",
     "output_type": "stream",
     "text": [
      "--- Processing: Milk ---\n",
      "No promotions for Milk\n",
      "--- Processing: Eggs ---\n",
      "Promotion for Eggs: 20% off\n",
      "--- Processing: Bread ---\n",
      "Bread needs restocking. Current stock: 30. Minimum required: 50\n",
      "Updated stock for Bread: 50\n",
      "No promotions for Bread\n",
      "--- Processing: Apples ---\n",
      "Promotion for Apples: Buy one, get one free\n"
     ]
    }
   ],
   "source": [
    "# Each product has a list with current stock as the first item \n",
    "# and minimum stock as the second item\n",
    "inventory = {\n",
    "    \"Milk\": [25, 20],\n",
    "    \"Eggs\": [250, 200],\n",
    "    \"Bread\": [30, 50],  # This item needs restocking\n",
    "    \"Apples\": [50, 45]\n",
    "}\n",
    "\n",
    "# Promotions dictionary\n",
    "promotions = {\n",
    "    \"Eggs\": \"20% off\",\n",
    "    \"Apples\": \"Buy one, get one free\"\n",
    "}\n",
    "\n",
    "# Task 1: Complete the for loop to iterate through the `inventory` dictionary\n",
    "for item in inventory:\n",
    "    # Print the current item \n",
    "    print(f\"--- Processing: {item} ---\")\n",
    "\n",
    "    # Task 2: Access the current stock and minimum stock for each product\n",
    "    current_stock = inventory[item][0]  # Access current stock\n",
    "    min_stock = inventory[item][1]  # Access minimum stock\n",
    "    \n",
    "    # Task 3: Write a condition to check if current stock is less than or equal to minimum stock\n",
    "    if current_stock <= min_stock:\n",
    "        # If the stock is too low, print a message indicating the need for restocking\n",
    "        print(f\"{item} needs restocking. Current stock: {current_stock}. Minimum required: {min_stock}\")\n",
    "        \n",
    "        # Task 4: Increase the current stock by 20 units and update the inventory\n",
    "        inventory[item][0] = current_stock + 20\n",
    "        \n",
    "        # Print the updated stock level for the item\n",
    "        print(f\"Updated stock for {item}: {inventory[item][0]}\")\n",
    "\n",
    "    # Task 5: Complete the condition to check if the product has a promotion\n",
    "    if item in promotions:\n",
    "        # If a promotion exists, print the promotion details\n",
    "        print(f\"Promotion for {item}: {promotions[item]}\")\n",
    "    else:\n",
    "        # If no promotion exists, print a message indicating that there is no promotion\n",
    "        print(f\"No promotions for {item}\")\n"
   ]
  }
 ],
 "metadata": {
  "kernelspec": {
   "display_name": "venv",
   "language": "python",
   "name": "python3"
  },
  "language_info": {
   "codemirror_mode": {
    "name": "ipython",
    "version": 3
   },
   "file_extension": ".py",
   "mimetype": "text/x-python",
   "name": "python",
   "nbconvert_exporter": "python",
   "pygments_lexer": "ipython3",
   "version": "3.13.2"
  }
 },
 "nbformat": 4,
 "nbformat_minor": 2
}
