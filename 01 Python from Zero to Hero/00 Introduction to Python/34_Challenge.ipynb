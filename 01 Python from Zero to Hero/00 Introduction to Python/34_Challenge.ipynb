{
 "cells": [
  {
   "cell_type": "code",
   "execution_count": 1,
   "metadata": {},
   "outputs": [
    {
     "name": "stdout",
     "output_type": "stream",
     "text": [
      "Product: Apple, Price: 0.5, Quantity Sold: 100\n",
      "Product: Banana, Price: 1.2, Quantity Sold: 50\n",
      "Product: Cherry, Price: 1.75, Quantity Sold: 40\n",
      "Product: Mango, Price: 2.5, Quantity Sold: 25\n"
     ]
    }
   ],
   "source": [
    "# List of product names\n",
    "products = [\"Banana\", \"Apple\", \"Mango\", \"Cherry\"]\n",
    "\n",
    "# List of product prices\n",
    "prices = [1.20, 0.50, 2.50, 1.75]\n",
    "\n",
    "# List of quantity sold\n",
    "quantities_sold = [50, 100, 25, 40]\n",
    "\n",
    "# Combine the lists into a list of tuples\n",
    "combined_list = list(zip(products, prices, quantities_sold))\n",
    "\n",
    "# Sort the combined list by product name in ascending order\n",
    "sorted_products = sorted(combined_list)\n",
    "\n",
    "# Display the sorted products\n",
    "for product in sorted_products:\n",
    "    print(f\"Product: {product[0]}, Price: {product[1]}, Quantity Sold: {product[2]}\")\n"
   ]
  }
 ],
 "metadata": {
  "kernelspec": {
   "display_name": "venv",
   "language": "python",
   "name": "python3"
  },
  "language_info": {
   "codemirror_mode": {
    "name": "ipython",
    "version": 3
   },
   "file_extension": ".py",
   "mimetype": "text/x-python",
   "name": "python",
   "nbconvert_exporter": "python",
   "pygments_lexer": "ipython3",
   "version": "3.13.2"
  }
 },
 "nbformat": 4,
 "nbformat_minor": 2
}
