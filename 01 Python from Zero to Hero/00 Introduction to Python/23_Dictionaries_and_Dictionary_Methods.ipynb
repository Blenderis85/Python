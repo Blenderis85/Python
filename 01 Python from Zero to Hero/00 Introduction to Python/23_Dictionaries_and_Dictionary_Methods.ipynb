{
 "cells": [
  {
   "cell_type": "code",
   "execution_count": 1,
   "metadata": {},
   "outputs": [
    {
     "name": "stdout",
     "output_type": "stream",
     "text": [
      "Price of Milk: 3.49\n",
      "Price of Bread: 1.99\n"
     ]
    }
   ],
   "source": [
    "# Dictionary creation\n",
    "groceryItems = {\n",
    "    \"Milk\": 3.49,\n",
    "    \"Eggs\": 2.99,\n",
    "    \"Bread\": 1.99,\n",
    "    \"Apples\": 0.99\n",
    "}\n",
    "\n",
    "# Extracting dictionary elements by their keys\n",
    "print(\"Price of Milk:\", groceryItems[\"Milk\"])\n",
    "print(\"Price of Bread:\", groceryItems[\"Bread\"])\n"
   ]
  },
  {
   "cell_type": "code",
   "execution_count": 2,
   "metadata": {},
   "outputs": [
    {
     "name": "stdout",
     "output_type": "stream",
     "text": [
      "Data under key ('Bread', 'Milk'): [2.99, 1.59]\n"
     ]
    }
   ],
   "source": [
    "# A dictionary with various types of keys and values\n",
    "store_info = {\n",
    "    \"Store Name\": \"Grocery Galore\",    # String key and string value\n",
    "    42: \"Inventory Count\",             # Integer key and string value\n",
    "    (\"Bread\", \"Milk\"): [2.99, 1.59]    # Tuple key and list value (prices of bread and milk)\n",
    "}\n",
    "\n",
    "# Extracting dictionary element (list) by its key (tuple)\n",
    "print(\"Data under key ('Bread', 'Milk'):\", store_info[(\"Bread\", \"Milk\")])\n"
   ]
  },
  {
   "cell_type": "code",
   "execution_count": 3,
   "metadata": {},
   "outputs": [
    {
     "name": "stdout",
     "output_type": "stream",
     "text": [
      "Count of Oranges: 18\n",
      "Updated Inventory: {'Apples': 30, 'Oranges': 18, 'Bananas': 45, 'Mangoes': 20}\n",
      "Updated Inventory: {'Apples': 30, 'Oranges': 18, 'Bananas': 45, 'Mangoes': 20, 'Pineapples': 15}\n",
      "Removed Item: 45\n",
      "Current Inventory: {'Apples': 30, 'Oranges': 18, 'Mangoes': 20, 'Pineapples': 15}\n"
     ]
    }
   ],
   "source": [
    "# Dictionary for a grocery store inventory\n",
    "inventory = {\n",
    "    \"Apples\": 30,\n",
    "    \"Oranges\": 18,\n",
    "    \"Bananas\": 45\n",
    "}\n",
    "\n",
    "# Get the count of Oranges\n",
    "print(\"Count of Oranges:\", inventory.get(\"Oranges\"))\n",
    "\n",
    "# Update inventory by adding a new item\n",
    "inventory.update({\"Mangoes\": 20})\n",
    "print(\"Updated Inventory:\", inventory)\n",
    "\n",
    "# You can also add a new item to the end of the dictionary like this\n",
    "inventory[\"Pineapples\"] = 15\n",
    "print(\"Updated Inventory:\", inventory)\n",
    "\n",
    "# Remove Bananas from the inventory\n",
    "removed_item = inventory.pop(\"Bananas\")\n",
    "print(\"Removed Item:\", removed_item)\n",
    "print(\"Current Inventory:\", inventory)\n"
   ]
  },
  {
   "cell_type": "code",
   "execution_count": 4,
   "metadata": {},
   "outputs": [
    {
     "name": "stdout",
     "output_type": "stream",
     "text": [
      "Details of Bread: (117, 'Bakery')\n",
      "Inventory after adding Cookies: {'Milk': (113, 'Dairy'), 'Eggs': (116, 'Dairy'), 'Bread': (117, 'Bakery'), 'Apples': (141, 'Produce'), 'Cookies': (143, 'Bakery')}\n",
      "Inventory after removing Eggs: {'Milk': (113, 'Dairy'), 'Bread': (117, 'Bakery'), 'Apples': (141, 'Produce'), 'Cookies': (143, 'Bakery')}\n"
     ]
    }
   ],
   "source": [
    "# Task 1: Define a dictionary for grocery inventory with proper syntax\n",
    "grocery_inventory = {\n",
    "    \"Milk\": (113, \"Dairy\"),\n",
    "    \"Eggs\": (116, \"Dairy\"),\n",
    "    \"Bread\": (117, \"Bakery\"),\n",
    "    \"Apples\": (141, \"Produce\")\n",
    "}\n",
    "\n",
    "# Task 2: Retrieve and print the details of \"Bread\"\n",
    "bread_details = grocery_inventory.get(\"Bread\")\n",
    "print(\"Details of Bread:\", bread_details)\n",
    "\n",
    "# Task 3: Add \"Cookies\" to the inventory\n",
    "grocery_inventory.update({\"Cookies\": (143, \"Bakery\")}) \n",
    "print(\"Inventory after adding Cookies:\", grocery_inventory)\n",
    "\n",
    "# Task 4: Remove \"Eggs\" from the inventory\n",
    "grocery_inventory.pop(\"Eggs\")  \n",
    "print(\"Inventory after removing Eggs:\", grocery_inventory)\n"
   ]
  }
 ],
 "metadata": {
  "kernelspec": {
   "display_name": "venv",
   "language": "python",
   "name": "python3"
  },
  "language_info": {
   "codemirror_mode": {
    "name": "ipython",
    "version": 3
   },
   "file_extension": ".py",
   "mimetype": "text/x-python",
   "name": "python",
   "nbconvert_exporter": "python",
   "pygments_lexer": "ipython3",
   "version": "3.13.2"
  }
 },
 "nbformat": 4,
 "nbformat_minor": 2
}
