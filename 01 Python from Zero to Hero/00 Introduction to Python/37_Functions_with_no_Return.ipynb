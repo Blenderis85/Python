{
 "cells": [
  {
   "cell_type": "code",
   "execution_count": 1,
   "metadata": {},
   "outputs": [
    {
     "name": "stdout",
     "output_type": "stream",
     "text": [
      "Today's total sales: $ 65.23\n"
     ]
    }
   ],
   "source": [
    "# Prices of items sold today\n",
    "prices = [12.99, 23.50, 4.99, 8.75, 15.00]\n",
    "\n",
    "def total_sales(prices):\n",
    "    print(f\"Today's total sales: $\", sum(prices))\n",
    "\n",
    "total_sales(prices)\n"
   ]
  },
  {
   "cell_type": "code",
   "execution_count": 2,
   "metadata": {},
   "outputs": [
    {
     "name": "stdout",
     "output_type": "stream",
     "text": [
      "Updated inventory: {'apples': 45, 'bananas': 75, 'oranges': 85}\n"
     ]
    }
   ],
   "source": [
    "# Define the function that adjusts inventory levels\n",
    "def update_inventory(inventory, items_sold):\n",
    "    # Iterate over each item in the dictionary\n",
    "    for product, quantity_sold in items_sold.items():\n",
    "        # Decrease the inventory by the quantity sold for each product\n",
    "        inventory[product] -= quantity_sold\n",
    "\n",
    "# Inventory dictionary\n",
    "inventory = {\n",
    "    \"apples\": 50,\n",
    "    \"bananas\": 75,\n",
    "    \"oranges\": 100\n",
    "}\n",
    "\n",
    "# Items sold dictionary\n",
    "items_sold = {\n",
    "    \"apples\": 5,\n",
    "    \"oranges\": 15\n",
    "}\n",
    "\n",
    "# Update the inventory based on items sold\n",
    "update_inventory(inventory, items_sold)\n",
    "\n",
    "# Display the updated inventory\n",
    "print(\"Updated inventory:\", inventory)\n"
   ]
  },
  {
   "cell_type": "code",
   "execution_count": 3,
   "metadata": {},
   "outputs": [
    {
     "name": "stdout",
     "output_type": "stream",
     "text": [
      "Restock order placed for apples. New stock level: 67 units.\n",
      "Restock order placed for oranges. New stock level: 52 units.\n",
      "Final inventory status: {'apples': 67, 'bananas': 75, 'oranges': 52, 'grapes': 50}\n"
     ]
    }
   ],
   "source": [
    "# Dictionary representing the current stock of products\n",
    "inventory = {\n",
    "    \"apples\": 17,\n",
    "    \"bananas\": 75,\n",
    "    \"oranges\": 2,\n",
    "    \"grapes\": 50\n",
    "}\n",
    "\n",
    "# Function to restock items that have low stock levels by adding a specified amount\n",
    "def restock(product, inventory, restock_amount):\n",
    "    inventory[product] += restock_amount\n",
    "    print(f\"Restock order placed for {product}. New stock level: {inventory[product]} units.\")\n",
    "\n",
    "# Function to check which items are below the stock threshold and trigger the `restock` function\n",
    "def check_stock_levels(inventory, threshold):\n",
    "    for product, quantity in inventory.items():\n",
    "        if quantity < threshold:\n",
    "            # If the stock is below the threshold, call the `restock` function to add 50 units\n",
    "            restock(product, inventory, 50)\n",
    "\n",
    "# Checking the stock levels for all products in the inventory with a threshold of 30 units\n",
    "check_stock_levels(inventory, 30)\n",
    "\n",
    "# Display the final inventory after restocking\n",
    "print(\"Final inventory status:\", inventory)\n"
   ]
  }
 ],
 "metadata": {
  "kernelspec": {
   "display_name": "venv",
   "language": "python",
   "name": "python3"
  },
  "language_info": {
   "codemirror_mode": {
    "name": "ipython",
    "version": 3
   },
   "file_extension": ".py",
   "mimetype": "text/x-python",
   "name": "python",
   "nbconvert_exporter": "python",
   "pygments_lexer": "ipython3",
   "version": "3.13.2"
  }
 },
 "nbformat": 4,
 "nbformat_minor": 2
}
