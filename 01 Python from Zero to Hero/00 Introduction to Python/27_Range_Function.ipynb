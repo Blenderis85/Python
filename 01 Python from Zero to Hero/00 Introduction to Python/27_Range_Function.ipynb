{
 "cells": [
  {
   "cell_type": "code",
   "execution_count": 1,
   "metadata": {},
   "outputs": [
    {
     "name": "stdout",
     "output_type": "stream",
     "text": [
      "Good morning! The store is now open on day 0.\n",
      "Good morning! The store is now open on day 1.\n",
      "Good morning! The store is now open on day 2.\n",
      "Good morning! The store is now open on day 3.\n",
      "Good morning! The store is now open on day 4.\n",
      "Good morning! The store is now open on day 5.\n",
      "Good morning! The store is now open on day 6.\n"
     ]
    }
   ],
   "source": [
    "# Announce store opening every day for 7 days\n",
    "for day in range(7):\n",
    "    print(f\"Good morning! The store is now open on day {day}.\")\n"
   ]
  },
  {
   "cell_type": "code",
   "execution_count": 2,
   "metadata": {},
   "outputs": [
    {
     "name": "stdout",
     "output_type": "stream",
     "text": [
      "Seasonal sale on December 25.\n",
      "Seasonal sale on December 26.\n",
      "Seasonal sale on December 27.\n",
      "Seasonal sale on December 28.\n",
      "Seasonal sale on December 29.\n",
      "Seasonal sale on December 30.\n",
      "Seasonal sale on December 31.\n"
     ]
    }
   ],
   "source": [
    "# Planning seasonal sale days in the last week of December\n",
    "for day in range(25, 32):\n",
    "    print(f\"Seasonal sale on December {day}.\") \n"
   ]
  },
  {
   "cell_type": "code",
   "execution_count": 3,
   "metadata": {},
   "outputs": [
    {
     "name": "stdout",
     "output_type": "stream",
     "text": [
      "Staff shift starts at hour 1.\n",
      "Staff shift starts at hour 4.\n",
      "Staff shift starts at hour 7.\n",
      "Staff shift starts at hour 10.\n"
     ]
    }
   ],
   "source": [
    "# Schedule staff shifts every three hours throughout a 12-hour day\n",
    "for hour in range(1, 13, 3):\n",
    "    print(f\"Staff shift starts at hour {hour}.\")\n"
   ]
  },
  {
   "cell_type": "code",
   "execution_count": 4,
   "metadata": {},
   "outputs": [
    {
     "name": "stdout",
     "output_type": "stream",
     "text": [
      "Monday Task: Restock Fruits\n",
      "Tuesday Task: Clean Dairy Section\n",
      "Wednesday Task: Review Meat Inventory\n",
      "Thursday Task: Restock Vegetables\n",
      "Friday Task: Check Bakery Expiry Dates\n",
      "Saturday Task: Organize Front Displays\n",
      "Sunday Task: Prepare Weekly Sales Report\n"
     ]
    }
   ],
   "source": [
    "# List of daily tasks for a week\n",
    "weekly_tasks = [\n",
    "    \"Restock Fruits\",\n",
    "    \"Clean Dairy Section\",\n",
    "    \"Review Meat Inventory\",\n",
    "    \"Restock Vegetables\",\n",
    "    \"Check Bakery Expiry Dates\",\n",
    "    \"Organize Front Displays\",\n",
    "    \"Prepare Weekly Sales Report\"\n",
    "]\n",
    "\n",
    "# List of weekdays corresponding to each task\n",
    "weekdays = [\n",
    "    \"Monday\", \"Tuesday\", \"Wednesday\", \"Thursday\", \"Friday\", \"Saturday\", \"Sunday\"\n",
    "]\n",
    "\n",
    "# Loop through each day using the range function\n",
    "for day in range(7):\n",
    "    task = weekly_tasks[day]  # Access the task corresponding to the current day\n",
    "    weekday = weekdays[day]   # Access the corresponding weekday\n",
    "    print(f\"{weekday} Task: {task}\")\n"
   ]
  },
  {
   "cell_type": "code",
   "execution_count": 5,
   "metadata": {},
   "outputs": [
    {
     "name": "stdout",
     "output_type": "stream",
     "text": [
      "Monday: Promotion on Milk\n",
      "Tuesday: Promotion on Eggs\n",
      "Wednesday: Promotion on Bread\n",
      "Thursday: Promotion on Apples\n",
      "Friday: Promotion on Oranges\n"
     ]
    }
   ],
   "source": [
    "# List of products on promotion for each weekday\n",
    "daily_promotions = [\"Milk\", \"Eggs\", \"Bread\", \"Apples\", \"Oranges\"]\n",
    "\n",
    "# List of weekdays corresponding to the promotions\n",
    "weekdays = [\"Monday\", \"Tuesday\", \"Wednesday\", \"Thursday\", \"Friday\"]\n",
    "\n",
    "# Initialize the `for` loop to iterate over the range of indices using `range()` function\n",
    "for day in range(5): \n",
    "    weekday = weekdays[day]  # Get the current weekday\n",
    "    promotion = daily_promotions[day]  # Get the promotion for the current day\n",
    "    print(f\"{weekday}: Promotion on {promotion}\")\n"
   ]
  }
 ],
 "metadata": {
  "kernelspec": {
   "display_name": "venv",
   "language": "python",
   "name": "python3"
  },
  "language_info": {
   "codemirror_mode": {
    "name": "ipython",
    "version": 3
   },
   "file_extension": ".py",
   "mimetype": "text/x-python",
   "name": "python",
   "nbconvert_exporter": "python",
   "pygments_lexer": "ipython3",
   "version": "3.13.2"
  }
 },
 "nbformat": 4,
 "nbformat_minor": 2
}
