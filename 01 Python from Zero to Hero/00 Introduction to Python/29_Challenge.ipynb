{
 "cells": [
  {
   "cell_type": "code",
   "execution_count": 1,
   "metadata": {},
   "outputs": [
    {
     "name": "stdout",
     "output_type": "stream",
     "text": [
      "Stock after sales for Apples: 120 units.\n",
      "Stock after sales for Bananas: 155 units.\n",
      "Stock after sales for Oranges: 80 units.\n",
      "Stock after sales for Mangoes: 110 units.\n",
      "Stock after shipment for Apples: 170 units.\n",
      "Stock after shipment for Bananas: 225 units.\n",
      "Stock after shipment for Oranges: 110 units.\n",
      "Stock after shipment for Mangoes: 150 units.\n",
      "Final stock levels for all products: [['Apples', 170], ['Bananas', 225], ['Oranges', 110], ['Mangoes', 150]]\n"
     ]
    }
   ],
   "source": [
    "# List of products with their initial stock levels at the start of the week\n",
    "products = [\n",
    "    [\"Apples\", 150],  \n",
    "    [\"Bananas\", 200],\n",
    "    [\"Oranges\", 100],\n",
    "    [\"Mangoes\", 120]\n",
    "]\n",
    "\n",
    "# List of products sold by the end of the week\n",
    "units_sold = [[\"Apples\", 30], [\"Bananas\", 45], [\"Oranges\", 20], [\"Mangoes\", 10]]\n",
    "\n",
    "# New shipment received at the end of the week\n",
    "shipment_received = [[\"Apples\", 50], [\"Bananas\", 70], [\"Oranges\", 30], [\"Mangoes\", 40]]\n",
    "\n",
    "# Deduct sold units from stock\n",
    "for i in range(len(products)):\n",
    "    products[i][1] -= units_sold[i][1]\n",
    "    print(f\"Stock after sales for {products[i][0]}: {products[i][1]} units.\")\n",
    "\n",
    "# Add new shipment to stock\n",
    "for i in range(len(products)):\n",
    "    products[i][1] += shipment_received[i][1]\n",
    "    print(f\"Stock after shipment for {products[i][0]}: {products[i][1]} units.\")\n",
    "\n",
    "# Print final stock levels\n",
    "print(f\"Final stock levels for all products: {products}\")\n"
   ]
  }
 ],
 "metadata": {
  "kernelspec": {
   "display_name": "venv",
   "language": "python",
   "name": "python3"
  },
  "language_info": {
   "codemirror_mode": {
    "name": "ipython",
    "version": 3
   },
   "file_extension": ".py",
   "mimetype": "text/x-python",
   "name": "python",
   "nbconvert_exporter": "python",
   "pygments_lexer": "ipython3",
   "version": "3.13.2"
  }
 },
 "nbformat": 4,
 "nbformat_minor": 2
}
