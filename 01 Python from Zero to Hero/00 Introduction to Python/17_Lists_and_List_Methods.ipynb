{
 "cells": [
  {
   "cell_type": "code",
   "execution_count": 1,
   "metadata": {},
   "outputs": [
    {
     "name": "stdout",
     "output_type": "stream",
     "text": [
      "['milk', 'eggs', 'cheese', 'butter']\n"
     ]
    }
   ],
   "source": [
    "# A list showcasing various grocery categories\n",
    "grocery_items = [\"milk\", \"eggs\", \"cheese\", \"butter\"]\n",
    "print(grocery_items)\n"
   ]
  },
  {
   "cell_type": "code",
   "execution_count": 2,
   "metadata": {},
   "outputs": [
    {
     "name": "stdout",
     "output_type": "stream",
     "text": [
      "['apple', 34, True, 1.99, 'Fuji']\n"
     ]
    }
   ],
   "source": [
    "# A list containing information about the apple category\n",
    "# Each position holds different apple details:  \n",
    "# Name, quantity, discount status, price, and origin\n",
    "apple_details = [\"apple\", 34, True, 1.99, \"Fuji\"]\n",
    "print(apple_details)\n"
   ]
  },
  {
   "cell_type": "code",
   "execution_count": 3,
   "metadata": {},
   "outputs": [
    {
     "name": "stdout",
     "output_type": "stream",
     "text": [
      "Updated inventory: ['apples', 'carrots', 'oranges']\n"
     ]
    }
   ],
   "source": [
    "# Creating an inventory\n",
    "inventory = [\"carrots\", \"bananas\", \"apples\"]\n",
    "\n",
    "# Adding a new item\n",
    "inventory.append(\"oranges\")\n",
    "\n",
    "# Removing an outdated item\n",
    "inventory.remove(\"bananas\")\n",
    "\n",
    "# Sorting the inventory\n",
    "inventory.sort()\n",
    "\n",
    "# Checking the result\n",
    "print(\"Updated inventory:\", inventory)\n"
   ]
  }
 ],
 "metadata": {
  "kernelspec": {
   "display_name": "venv",
   "language": "python",
   "name": "python3"
  },
  "language_info": {
   "codemirror_mode": {
    "name": "ipython",
    "version": 3
   },
   "file_extension": ".py",
   "mimetype": "text/x-python",
   "name": "python",
   "nbconvert_exporter": "python",
   "pygments_lexer": "ipython3",
   "version": "3.13.2"
  }
 },
 "nbformat": 4,
 "nbformat_minor": 2
}
