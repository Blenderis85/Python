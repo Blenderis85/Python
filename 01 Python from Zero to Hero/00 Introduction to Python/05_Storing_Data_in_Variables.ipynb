{
 "cells": [
  {
   "cell_type": "code",
   "execution_count": 1,
   "metadata": {},
   "outputs": [
    {
     "name": "stdout",
     "output_type": "stream",
     "text": [
      "Item: Banana\n",
      "Price: $ 0.5\n",
      "Quantity: 100\n",
      "In stock: True\n"
     ]
    }
   ],
   "source": [
    "# Storing different types of data in variables\n",
    "item_name = \"Banana\"\n",
    "item_price = 0.50\n",
    "item_quantity = 100\n",
    "in_stock = True\n",
    "\n",
    "print(\"Item:\", item_name)\n",
    "print(\"Price: $\", item_price)\n",
    "print(\"Quantity:\", item_quantity)\n",
    "print(\"In stock:\", in_stock)\n"
   ]
  },
  {
   "cell_type": "code",
   "execution_count": 3,
   "metadata": {},
   "outputs": [
    {
     "name": "stdout",
     "output_type": "stream",
     "text": [
      "Item: Eggs\n",
      "Price per unit: $ 3.99\n",
      "Quantity in stock: 120\n",
      "In stock: True\n"
     ]
    }
   ],
   "source": [
    "item_name = \"Eggs\"\n",
    "item_price = 3.99\n",
    "item_stock_quantity = 120\n",
    "in_stock = True\n",
    "\n",
    "print(\"Item:\", item_name)\n",
    "print(\"Price per unit: $\", item_price)\n",
    "print(\"Quantity in stock:\", item_stock_quantity)\n",
    "print(\"In stock:\", in_stock)\n"
   ]
  }
 ],
 "metadata": {
  "kernelspec": {
   "display_name": "venv",
   "language": "python",
   "name": "python3"
  },
  "language_info": {
   "codemirror_mode": {
    "name": "ipython",
    "version": 3
   },
   "file_extension": ".py",
   "mimetype": "text/x-python",
   "name": "python",
   "nbconvert_exporter": "python",
   "pygments_lexer": "ipython3",
   "version": "3.13.2"
  }
 },
 "nbformat": 4,
 "nbformat_minor": 2
}
