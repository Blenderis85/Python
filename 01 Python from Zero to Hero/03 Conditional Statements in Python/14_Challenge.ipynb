{
 "cells": [
  {
   "cell_type": "code",
   "execution_count": 1,
   "metadata": {},
   "outputs": [
    {
     "name": "stdout",
     "output_type": "stream",
     "text": [
      "Your fitness level: Hard Worker\n"
     ]
    }
   ],
   "source": [
    "exercise_time = 8  # Example value for total exercise time in hours\n",
    "title = \"\"\n",
    "\n",
    "if exercise_time > 10:\n",
    "    title = \"Super Achiever\"\n",
    "elif exercise_time >= 6:\n",
    "    title = \"Hard Worker\"\n",
    "elif exercise_time >= 3:\n",
    "    title = \"Getting There\"\n",
    "else:\n",
    "    title = \"Needs Improvement\"\n",
    "\n",
    "# Testing\n",
    "print(\"Your fitness level:\", title)\n"
   ]
  }
 ],
 "metadata": {
  "kernelspec": {
   "display_name": "venv",
   "language": "python",
   "name": "python3"
  },
  "language_info": {
   "codemirror_mode": {
    "name": "ipython",
    "version": 3
   },
   "file_extension": ".py",
   "mimetype": "text/x-python",
   "name": "python",
   "nbconvert_exporter": "python",
   "pygments_lexer": "ipython3",
   "version": "3.13.2"
  }
 },
 "nbformat": 4,
 "nbformat_minor": 2
}
