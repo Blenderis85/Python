{
 "cells": [
  {
   "cell_type": "code",
   "execution_count": 1,
   "metadata": {},
   "outputs": [
    {
     "name": "stdout",
     "output_type": "stream",
     "text": [
      "No steps recorded yet. Time to get moving!\n"
     ]
    }
   ],
   "source": [
    "steps_taken = 0\n",
    "\n",
    "if not steps_taken:\n",
    "    print(\"No steps recorded yet. Time to get moving!\")\n"
   ]
  },
  {
   "cell_type": "code",
   "execution_count": 2,
   "metadata": {},
   "outputs": [
    {
     "name": "stdout",
     "output_type": "stream",
     "text": [
      "Amazing! You've achieved all your fitness goals for the day.\n"
     ]
    }
   ],
   "source": [
    "steps_taken = 8000\n",
    "calories_burned = 600\n",
    "hydration_level = 2\n",
    "\n",
    "if steps_taken >= 5000 and calories_burned >= 500 and hydration_level >= 2:\n",
    "    print(\"Amazing! You've achieved all your fitness goals for the day.\")\n"
   ]
  },
  {
   "cell_type": "code",
   "execution_count": 3,
   "metadata": {},
   "outputs": [
    {
     "name": "stdout",
     "output_type": "stream",
     "text": [
      "Great job! You're making progress on your fitness journey.\n"
     ]
    }
   ],
   "source": [
    "steps_taken = 8000\n",
    "calories_burned = 200\n",
    "hydration_level = 2\n",
    "\n",
    "if steps_taken >= 10000 or calories_burned >= 500 or hydration_level >= 2:\n",
    "    print(\"Great job! You're making progress on your fitness journey.\")\n"
   ]
  }
 ],
 "metadata": {
  "kernelspec": {
   "display_name": "venv",
   "language": "python",
   "name": "python3"
  },
  "language_info": {
   "codemirror_mode": {
    "name": "ipython",
    "version": 3
   },
   "file_extension": ".py",
   "mimetype": "text/x-python",
   "name": "python",
   "nbconvert_exporter": "python",
   "pygments_lexer": "ipython3",
   "version": "3.13.2"
  }
 },
 "nbformat": 4,
 "nbformat_minor": 2
}
