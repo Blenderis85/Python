{
 "cells": [
  {
   "cell_type": "code",
   "execution_count": 1,
   "metadata": {},
   "outputs": [
    {
     "name": "stdout",
     "output_type": "stream",
     "text": [
      "This is not your favorite activity, but keep going!\n"
     ]
    }
   ],
   "source": [
    "favorite_activity = \"Yoga\"\n",
    "current_activity = \"Running\"\n",
    "\n",
    "if favorite_activity != current_activity:\n",
    "    print(\"This is not your favorite activity, but keep going!\")\n"
   ]
  },
  {
   "cell_type": "code",
   "execution_count": 2,
   "metadata": {},
   "outputs": [
    {
     "name": "stdout",
     "output_type": "stream",
     "text": [
      "Great job on completing your morning run!\n"
     ]
    }
   ],
   "source": [
    "# Check if the user completed their morning routine\n",
    "morning_run_completed = True\n",
    "\n",
    "if morning_run_completed:\n",
    "    print(\"Great job on completing your morning run!\")\n"
   ]
  },
  {
   "cell_type": "code",
   "execution_count": 3,
   "metadata": {},
   "outputs": [
    {
     "name": "stdout",
     "output_type": "stream",
     "text": [
      "Best conditions for running now!\n"
     ]
    }
   ],
   "source": [
    "street_temperature = 15  # degrees Celsius\n",
    "\n",
    "if 10 <= street_temperature <= 20:\n",
    "    print(\"Best conditions for running now!\")\n"
   ]
  },
  {
   "cell_type": "code",
   "execution_count": 4,
   "metadata": {},
   "outputs": [
    {
     "name": "stdout",
     "output_type": "stream",
     "text": [
      "You're on track with your step count!\n",
      "Great job meeting your hydration goal!\n"
     ]
    }
   ],
   "source": [
    "daily_steps = 7500\n",
    "hydration_goal_met = True\n",
    "\n",
    "# Step count range check\n",
    "if 5000 <= daily_steps <= 10000:\n",
    "    print(\"You're on track with your step count!\")\n",
    "\n",
    "# Hydration goal check\n",
    "if hydration_goal_met:\n",
    "    print(\"Great job meeting your hydration goal!\")\n"
   ]
  }
 ],
 "metadata": {
  "kernelspec": {
   "display_name": "venv",
   "language": "python",
   "name": "python3"
  },
  "language_info": {
   "codemirror_mode": {
    "name": "ipython",
    "version": 3
   },
   "file_extension": ".py",
   "mimetype": "text/x-python",
   "name": "python",
   "nbconvert_exporter": "python",
   "pygments_lexer": "ipython3",
   "version": "3.13.2"
  }
 },
 "nbformat": 4,
 "nbformat_minor": 2
}
