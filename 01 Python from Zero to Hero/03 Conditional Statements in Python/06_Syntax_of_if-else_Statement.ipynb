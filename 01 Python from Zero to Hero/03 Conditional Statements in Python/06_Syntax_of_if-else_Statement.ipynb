{
 "cells": [
  {
   "cell_type": "code",
   "execution_count": 1,
   "metadata": {},
   "outputs": [
    {
     "name": "stdout",
     "output_type": "stream",
     "text": [
      "Keep going, you're almost there!\n"
     ]
    }
   ],
   "source": [
    "steps_taken = 9000\n",
    "step_goal = 10000\n",
    "\n",
    "if steps_taken >= step_goal:\n",
    "    print(\"Great job, you've reached your step goal!\")\n",
    "else:\n",
    "    print(\"Keep going, you're almost there!\")\n"
   ]
  }
 ],
 "metadata": {
  "kernelspec": {
   "display_name": "venv",
   "language": "python",
   "name": "python3"
  },
  "language_info": {
   "codemirror_mode": {
    "name": "ipython",
    "version": 3
   },
   "file_extension": ".py",
   "mimetype": "text/x-python",
   "name": "python",
   "nbconvert_exporter": "python",
   "pygments_lexer": "ipython3",
   "version": "3.13.2"
  }
 },
 "nbformat": 4,
 "nbformat_minor": 2
}
