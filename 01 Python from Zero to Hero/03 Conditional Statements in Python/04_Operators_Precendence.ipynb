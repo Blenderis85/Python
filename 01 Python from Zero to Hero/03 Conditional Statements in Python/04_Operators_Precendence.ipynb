{
 "cells": [
  {
   "cell_type": "code",
   "execution_count": 1,
   "metadata": {},
   "outputs": [
    {
     "name": "stdout",
     "output_type": "stream",
     "text": [
      "The first expression is: True\n",
      "The second expression is: False\n",
      "The third expression is: True\n"
     ]
    }
   ],
   "source": [
    "# Example 1: AND has higher precedence than OR\n",
    "steps_taken = 8000\n",
    "step_goal = 10000\n",
    "calories_burned = 450\n",
    "calorie_goal = 500\n",
    "\n",
    "first_result = steps_taken <= step_goal or calories_burned <= calorie_goal and False\n",
    "# Same as: steps_taken >= step_goal or (calories_burned >= calorie_goal and False)\n",
    "\n",
    "# Example 2: Parentheses change the precedence\n",
    "second_result = (steps_taken >= step_goal or calories_burned >= calorie_goal) and False\n",
    "\n",
    "# Example 3: NOT has the highest precedence\n",
    "third_result = not steps_taken >= step_goal or calories_burned >= calorie_goal\n",
    "# Same as: (not (steps_taken >= step_goal)) or (calories_burned >= calorie_goal)\n",
    "\n",
    "print('The first expression is:', first_result)\n",
    "print('The second expression is:', second_result)\n",
    "print('The third expression is:', third_result)\n"
   ]
  },
  {
   "cell_type": "code",
   "execution_count": 2,
   "metadata": {},
   "outputs": [
    {
     "name": "stdout",
     "output_type": "stream",
     "text": [
      "Keep pushing! You haven't met the conditions yet.\n"
     ]
    }
   ],
   "source": [
    "steps_taken = 9000\n",
    "step_goal = 10000\n",
    "calories_burned = 350\n",
    "calorie_goal = 500\n",
    "morning_exercise = False\n",
    "\n",
    "# Rewrite this using a single if statement\n",
    "if steps_taken <= step_goal and calories_burned <= calorie_goal and not morning_exercise:\n",
    "    print(\"Keep pushing! You haven't met the conditions yet.\")\n"
   ]
  }
 ],
 "metadata": {
  "kernelspec": {
   "display_name": "venv",
   "language": "python",
   "name": "python3"
  },
  "language_info": {
   "codemirror_mode": {
    "name": "ipython",
    "version": 3
   },
   "file_extension": ".py",
   "mimetype": "text/x-python",
   "name": "python",
   "nbconvert_exporter": "python",
   "pygments_lexer": "ipython3",
   "version": "3.13.2"
  }
 },
 "nbformat": 4,
 "nbformat_minor": 2
}
