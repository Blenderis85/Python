{
 "cells": [
  {
   "cell_type": "code",
   "execution_count": 1,
   "metadata": {},
   "outputs": [
    {
     "name": "stdout",
     "output_type": "stream",
     "text": [
      "Great job, you've reached at least one goal\n"
     ]
    }
   ],
   "source": [
    "steps_taken = 12000\n",
    "step_goal = 10000\n",
    "calories_burned = 350\n",
    "calorie_goal = 500\n",
    "\n",
    "if steps_taken >= step_goal or calories_burned >= calorie_goal:\n",
    "    print(\"Great job, you've reached at least one goal\")\n"
   ]
  }
 ],
 "metadata": {
  "kernelspec": {
   "display_name": "venv",
   "language": "python",
   "name": "python3"
  },
  "language_info": {
   "codemirror_mode": {
    "name": "ipython",
    "version": 3
   },
   "file_extension": ".py",
   "mimetype": "text/x-python",
   "name": "python",
   "nbconvert_exporter": "python",
   "pygments_lexer": "ipython3",
   "version": "3.13.2"
  }
 },
 "nbformat": 4,
 "nbformat_minor": 2
}
