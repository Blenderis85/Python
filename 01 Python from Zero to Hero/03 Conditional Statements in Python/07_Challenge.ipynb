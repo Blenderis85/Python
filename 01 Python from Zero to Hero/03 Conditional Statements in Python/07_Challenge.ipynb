{
 "cells": [
  {
   "cell_type": "code",
   "execution_count": 1,
   "metadata": {},
   "outputs": [
    {
     "name": "stdout",
     "output_type": "stream",
     "text": [
      "Keep going! You still need 1500 more steps to reach your goal.\n"
     ]
    }
   ],
   "source": [
    "steps_taken = 8500\n",
    "step_goal = 10000\n",
    "\n",
    "if steps_taken >= step_goal * 0.9:\n",
    "    print(\"Great job! You've reached more than 90% of your goal!\")\n",
    "else:\n",
    "    steps_left = step_goal - steps_taken\n",
    "    print(f\"Keep going! You still need {steps_left} more steps to reach your goal.\")\n"
   ]
  }
 ],
 "metadata": {
  "kernelspec": {
   "display_name": "venv",
   "language": "python",
   "name": "python3"
  },
  "language_info": {
   "codemirror_mode": {
    "name": "ipython",
    "version": 3
   },
   "file_extension": ".py",
   "mimetype": "text/x-python",
   "name": "python",
   "nbconvert_exporter": "python",
   "pygments_lexer": "ipython3",
   "version": "3.13.2"
  }
 },
 "nbformat": 4,
 "nbformat_minor": 2
}
