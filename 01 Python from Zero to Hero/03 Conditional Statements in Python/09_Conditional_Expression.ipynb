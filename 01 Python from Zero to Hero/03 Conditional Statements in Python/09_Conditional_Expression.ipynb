{
 "cells": [
  {
   "cell_type": "code",
   "execution_count": 1,
   "metadata": {},
   "outputs": [
    {
     "name": "stdout",
     "output_type": "stream",
     "text": [
      "Keep Going\n"
     ]
    }
   ],
   "source": [
    "steps_taken = 8500\n",
    "status = \"\"\n",
    "\n",
    "if steps_taken >= 10000:\n",
    "    status = \"Goal Reached\"\n",
    "else:\n",
    "    status = \"Keep Going\"\n",
    "\n",
    "print(status)\n"
   ]
  },
  {
   "cell_type": "code",
   "execution_count": 2,
   "metadata": {},
   "outputs": [
    {
     "name": "stdout",
     "output_type": "stream",
     "text": [
      "Keep Going\n"
     ]
    }
   ],
   "source": [
    "steps_taken = 8500\n",
    "status = \"Goal Reached\" if steps_taken >= 10000 else \"Keep Going\"\n",
    "\n",
    "print(status)"
   ]
  },
  {
   "cell_type": "code",
   "execution_count": 3,
   "metadata": {},
   "outputs": [
    {
     "name": "stdout",
     "output_type": "stream",
     "text": [
      "Drink more water to reach your goal.\n"
     ]
    }
   ],
   "source": [
    "water_intake = 1.5  # Example value\n",
    "true_message = \"You've met your hydration goal!\"\n",
    "false_message = \"Drink more water to reach your goal.\"\n",
    "\n",
    "# Using ternary operator to check hydration goal\n",
    "message = true_message if water_intake >= 2 else false_message\n",
    "\n",
    "print(message)\n"
   ]
  }
 ],
 "metadata": {
  "kernelspec": {
   "display_name": "venv",
   "language": "python",
   "name": "python3"
  },
  "language_info": {
   "codemirror_mode": {
    "name": "ipython",
    "version": 3
   },
   "file_extension": ".py",
   "mimetype": "text/x-python",
   "name": "python",
   "nbconvert_exporter": "python",
   "pygments_lexer": "ipython3",
   "version": "3.13.2"
  }
 },
 "nbformat": 4,
 "nbformat_minor": 2
}
