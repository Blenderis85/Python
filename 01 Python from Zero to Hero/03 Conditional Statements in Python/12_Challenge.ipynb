{
 "cells": [
  {
   "cell_type": "code",
   "execution_count": 1,
   "metadata": {},
   "outputs": [
    {
     "name": "stdout",
     "output_type": "stream",
     "text": [
      "Great job! Keep it up!\n"
     ]
    }
   ],
   "source": [
    "workout_duration = 45\n",
    "\n",
    "# check if the workout duration is more than 60 minutes\n",
    "if workout_duration > 60:\n",
    "    print(\"Excellent job! You've worked out for over an hour!\")\n",
    "# check if the workout duration is at least 30 minutes (30 or more) and up to 60 minutes\n",
    "elif workout_duration >= 30:\n",
    "    print(\"Great job! Keep it up!\")\n",
    "# if the workout duration is less than 30 minutes\n",
    "else:\n",
    "    print(\"Try to aim for at least 30 minutes of exercise.\")\n"
   ]
  }
 ],
 "metadata": {
  "kernelspec": {
   "display_name": "venv",
   "language": "python",
   "name": "python3"
  },
  "language_info": {
   "codemirror_mode": {
    "name": "ipython",
    "version": 3
   },
   "file_extension": ".py",
   "mimetype": "text/x-python",
   "name": "python",
   "nbconvert_exporter": "python",
   "pygments_lexer": "ipython3",
   "version": "3.13.2"
  }
 },
 "nbformat": 4,
 "nbformat_minor": 2
}
