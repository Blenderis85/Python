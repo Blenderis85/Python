{
 "cells": [
  {
   "cell_type": "code",
   "execution_count": 1,
   "metadata": {},
   "outputs": [
    {
     "name": "stdout",
     "output_type": "stream",
     "text": [
      "You're almost there! Keep going, you'll reach your goal soon!\n"
     ]
    }
   ],
   "source": [
    "hours_slept = 6\n",
    "sleep_goal = 8\n",
    "\n",
    "if hours_slept < 0:\n",
    "    print(\"Sleep hours cannot be negative.\")\n",
    "if hours_slept >= sleep_goal:\n",
    "    print(\"Great job! You've met your sleep goal!\")\n",
    "if hours_slept >= sleep_goal - 2:\n",
    "    print(\"You're almost there! Keep going, you'll reach your goal soon!\")\n",
    "if hours_slept < sleep_goal - 2:\n",
    "    print(\"You need more rest. Try to sleep a bit longer tonight.\")\n"
   ]
  },
  {
   "cell_type": "code",
   "execution_count": 2,
   "metadata": {},
   "outputs": [
    {
     "name": "stdout",
     "output_type": "stream",
     "text": [
      "You're almost there! Keep going, you'll reach your goal soon!\n"
     ]
    }
   ],
   "source": [
    "hours_slept = 6\n",
    "sleep_goal = 8\n",
    "\n",
    "if hours_slept < 0:\n",
    "    print(\"Sleep hours cannot be negative.\")\n",
    "elif hours_slept >= sleep_goal:\n",
    "    print(\"Great job! You've met your sleep goal!\")\n",
    "elif hours_slept >= sleep_goal - 2:\n",
    "    print(\"You're almost there! Keep going, you'll reach your goal soon!\")\n",
    "else:\n",
    "    print(\"You need more rest. Try to sleep a bit longer tonight.\")\n"
   ]
  }
 ],
 "metadata": {
  "kernelspec": {
   "display_name": "venv",
   "language": "python",
   "name": "python3"
  },
  "language_info": {
   "codemirror_mode": {
    "name": "ipython",
    "version": 3
   },
   "file_extension": ".py",
   "mimetype": "text/x-python",
   "name": "python",
   "nbconvert_exporter": "python",
   "pygments_lexer": "ipython3",
   "version": "3.13.2"
  }
 },
 "nbformat": 4,
 "nbformat_minor": 2
}
