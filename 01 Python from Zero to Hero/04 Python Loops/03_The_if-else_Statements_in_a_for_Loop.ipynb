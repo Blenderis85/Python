{
 "cells": [
  {
   "cell_type": "code",
   "execution_count": 1,
   "metadata": {},
   "outputs": [
    {
     "name": "stdout",
     "output_type": "stream",
     "text": [
      "Monako has a short name.\n",
      "Luxemburg has a long name.\n",
      "Liverpool has a long name.\n",
      "Barcelona has a long name.\n",
      "Munchen has a short name.\n"
     ]
    }
   ],
   "source": [
    "# List of travel destinations\n",
    "travel_list = [\"Monako\", \"Luxemburg\", \"Liverpool\", \"Barcelona\", \"Munchen\"]\n",
    "\n",
    "# Categorizing cities by name length\n",
    "for city in travel_list:\n",
    "    if len(city) > 7:\n",
    "        print(f\"{city} has a long name.\")\n",
    "    else:\n",
    "        print(f\"{city} has a short name.\")\n"
   ]
  },
  {
   "cell_type": "code",
   "execution_count": 2,
   "metadata": {},
   "outputs": [
    {
     "name": "stdout",
     "output_type": "stream",
     "text": [
      "$120 is an even cost.\n",
      "$345 is an odd cost.\n",
      "$200 is an even cost.\n",
      "$450 is an even cost.\n",
      "$315 is an odd cost.\n",
      "$100 is an even cost.\n"
     ]
    }
   ],
   "source": [
    "# List of travel costs\n",
    "travel_costs = [120, 345, 200, 450, 315, 100]\n",
    "\n",
    "# Categorizing travel costs as even or odd\n",
    "for cost in travel_costs:\n",
    "    if cost % 2 == 0:  # Check if the cost is divisible by 2\n",
    "        print(f\"${cost} is an even cost.\")\n",
    "    else:\n",
    "        print(f\"${cost} is an odd cost.\")\n"
   ]
  }
 ],
 "metadata": {
  "kernelspec": {
   "display_name": "venv",
   "language": "python",
   "name": "python3"
  },
  "language_info": {
   "codemirror_mode": {
    "name": "ipython",
    "version": 3
   },
   "file_extension": ".py",
   "mimetype": "text/x-python",
   "name": "python",
   "nbconvert_exporter": "python",
   "pygments_lexer": "ipython3",
   "version": "3.13.2"
  }
 },
 "nbformat": 4,
 "nbformat_minor": 2
}
