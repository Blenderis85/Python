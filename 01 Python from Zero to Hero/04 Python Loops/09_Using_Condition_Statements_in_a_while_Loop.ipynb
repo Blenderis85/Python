{
 "cells": [
  {
   "cell_type": "code",
   "execution_count": 1,
   "metadata": {},
   "outputs": [
    {
     "name": "stdout",
     "output_type": "stream",
     "text": [
      "Monako has a short name.\n",
      "Luxemburg has a long name.\n",
      "Liverpool has a long name.\n",
      "Barcelona has a long name.\n",
      "Munchen has a short name.\n"
     ]
    }
   ],
   "source": [
    "travel_list = [\"Monako\", \"Luxemburg\", \"Liverpool\", \"Barcelona\", \"Munchen\"]\n",
    "\n",
    "# Initialize index\n",
    "i = 0\n",
    "\n",
    "# Categorize cities by name length\n",
    "while i < len(travel_list):\n",
    "    if len(travel_list[i]) < 8:\n",
    "        print(travel_list[i], \"has a short name.\")\n",
    "    else:\n",
    "        print(travel_list[i], \"has a long name.\")\n",
    "    i += 1\n"
   ]
  },
  {
   "cell_type": "code",
   "execution_count": 2,
   "metadata": {},
   "outputs": [
    {
     "name": "stdout",
     "output_type": "stream",
     "text": [
      "Total cities with short names: 2\n"
     ]
    }
   ],
   "source": [
    "travel_list = [\"Monako\", \"Luxemburg\", \"Liverpool\", \"Barcelona\", \"Munchen\"]\n",
    "\n",
    "# Initialize variables\n",
    "i = 0\n",
    "short_name_count = 0\n",
    "\n",
    "# Count short-named cities\n",
    "while i < len(travel_list):\n",
    "    if len(travel_list[i]) < 8:\n",
    "        short_name_count += 1\n",
    "    i += 1\n",
    "\n",
    "# Print the total count\n",
    "print(\"Total cities with short names:\", short_name_count)\n"
   ]
  }
 ],
 "metadata": {
  "kernelspec": {
   "display_name": "venv",
   "language": "python",
   "name": "python3"
  },
  "language_info": {
   "codemirror_mode": {
    "name": "ipython",
    "version": 3
   },
   "file_extension": ".py",
   "mimetype": "text/x-python",
   "name": "python",
   "nbconvert_exporter": "python",
   "pygments_lexer": "ipython3",
   "version": "3.13.2"
  }
 },
 "nbformat": 4,
 "nbformat_minor": 2
}
