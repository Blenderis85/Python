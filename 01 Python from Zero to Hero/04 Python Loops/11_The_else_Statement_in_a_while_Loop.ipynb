{
 "cells": [
  {
   "cell_type": "code",
   "execution_count": 1,
   "metadata": {},
   "outputs": [
    {
     "name": "stdout",
     "output_type": "stream",
     "text": [
      "Monako\n",
      "Luxemburg\n",
      "Liverpool\n",
      "Barcelona\n",
      "Munchen\n",
      "All destinations have been listed!\n"
     ]
    }
   ],
   "source": [
    "travel_list = [\"Monako\", \"Luxemburg\", \"Liverpool\", \"Barcelona\", \"Munchen\"]\n",
    "\n",
    "# Initialize index\n",
    "i = 0\n",
    "\n",
    "# Iterate through the destinations\n",
    "while i < len(travel_list):\n",
    "    print(travel_list[i])\n",
    "    i += 1\n",
    "else:\n",
    "    print(\"All destinations have been listed!\")\n"
   ]
  },
  {
   "cell_type": "code",
   "execution_count": 2,
   "metadata": {},
   "outputs": [
    {
     "name": "stdout",
     "output_type": "stream",
     "text": [
      "Monako\n",
      "Luxemburg\n",
      "Liverpool\n"
     ]
    }
   ],
   "source": [
    "# List of travel destinations\n",
    "travel_list = [\"Monako\", \"Luxemburg\", \"Liverpool\", \"Barcelona\", \"Munchen\"]\n",
    "\n",
    "# Initialize index\n",
    "i = 0\n",
    "\n",
    "# Search for a specific destination\n",
    "while i < len(travel_list):\n",
    "    if travel_list[i] == \"Barcelona\":\n",
    "        break\n",
    "    print(travel_list[i])\n",
    "    i += 1\n",
    "else:\n",
    "    print(\"All destinations have been listed!\")  # This won't execute if break is triggered.\n"
   ]
  },
  {
   "cell_type": "code",
   "execution_count": 3,
   "metadata": {},
   "outputs": [
    {
     "name": "stdout",
     "output_type": "stream",
     "text": [
      "Trip 1 cost: $3000\n",
      "Trip 2 cost: $1500\n",
      "Trip 3 cost: $2000\n",
      "All trips that fit within the budget have been planned!\n"
     ]
    }
   ],
   "source": [
    "# List of travel costs for each destination\n",
    "travel_costs = [3000, 1500, 2000, 4000, 1000]\n",
    "\n",
    "budget = 10000 # Define your initial budget\n",
    "\n",
    "total_cost = 0  # Variable to keep track of the total cost spent so far\n",
    "\n",
    "i = 0  # Index to track the current trip in the `travel_costs` list\n",
    "\n",
    "# Check travel expenses\n",
    "while total_cost + travel_costs[i] <= budget:\n",
    "    print(f\"Trip {i + 1} cost: ${travel_costs[i]}\")\n",
    "    total_cost += travel_costs[i]  # Add the current trip cost to the total cost\n",
    "    i += 1  # Move to the next trip\n",
    "\n",
    "else:\n",
    "    print(\"All trips that fit within the budget have been planned!\")\n"
   ]
  }
 ],
 "metadata": {
  "kernelspec": {
   "display_name": "venv",
   "language": "python",
   "name": "python3"
  },
  "language_info": {
   "codemirror_mode": {
    "name": "ipython",
    "version": 3
   },
   "file_extension": ".py",
   "mimetype": "text/x-python",
   "name": "python",
   "nbconvert_exporter": "python",
   "pygments_lexer": "ipython3",
   "version": "3.13.2"
  }
 },
 "nbformat": 4,
 "nbformat_minor": 2
}
