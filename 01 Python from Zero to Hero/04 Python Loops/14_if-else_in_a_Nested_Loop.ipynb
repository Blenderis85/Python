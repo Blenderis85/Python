{
 "cells": [
  {
   "cell_type": "code",
   "execution_count": 1,
   "metadata": {},
   "outputs": [
    {
     "name": "stdout",
     "output_type": "stream",
     "text": [
      "Trip 1 expenses: Expensive 150 100 50 \n",
      "Trip 2 expenses: 200 Expensive 120 80 \n",
      "Trip 3 expenses: 180 Expensive 130 170 \n"
     ]
    }
   ],
   "source": [
    "# Travel expenses for multiple trips\n",
    "travel_costs = [\n",
    "    [500, 150, 100, 50],   # Trip 1\n",
    "    [200, 300, 120, 80],   # Trip 2\n",
    "    [180, 220, 130, 170]   # Trip 3\n",
    "]\n",
    "\n",
    "# Setting outer while loop to work with rows (trips)\n",
    "i = 0\n",
    "while i < len(travel_costs):\n",
    "    j = 0\n",
    "    print(f\"Trip {i + 1} expenses: \", end='')  # Label for the current trip\n",
    "\n",
    "    # Setting inner while loop to work with expenses in the current trip\n",
    "    while j < len(travel_costs[i]):\n",
    "        if travel_costs[i][j] > 200:  # Check if expense is greater than 200\n",
    "            print(\"Expensive\", end=' ')\n",
    "        else:\n",
    "            print(travel_costs[i][j], end=' ')\n",
    "        j += 1  # Move to the next expense\n",
    "    \n",
    "    print('')  # Move to the next line after each trip\n",
    "    i += 1  # Move to the next trip\n"
   ]
  },
  {
   "cell_type": "code",
   "execution_count": 2,
   "metadata": {},
   "outputs": [
    {
     "name": "stdout",
     "output_type": "stream",
     "text": [
      "Trip 1 expenses: 500 150 Cheap Cheap \n",
      "Trip 2 expenses: 200 300 120 Cheap \n",
      "Trip 3 expenses: 180 220 130 170 \n"
     ]
    }
   ],
   "source": [
    "# Define the list of travel costs\n",
    "travel_costs = [\n",
    "    [500, 150, 100, 80],\n",
    "    [200, 300, 120, 90],\n",
    "    [180, 220, 130, 170]\n",
    "]\n",
    "\n",
    "# Initialize the index for the outer loop\n",
    "i = 0\n",
    "\n",
    "# Process each trip\n",
    "while i < len(travel_costs):  \n",
    "    j = 0  # Initialize the index\n",
    "    print(f\"Trip {i + 1} expenses: \", end=\"\")  # Print the current trip label\n",
    "    \n",
    "    # Process each expense in the current trip\n",
    "    while j < len(travel_costs[i]):  \n",
    "        if travel_costs[i][j] <= 100:  # Check if the expense is \"Cheap\"\n",
    "            print(\"Cheap\", end=\" \")  \n",
    "        else:\n",
    "            print(travel_costs[i][j], end=\" \")  # Print actual expense otherwise\n",
    "        j += 1  # Move to the next expense\n",
    "    \n",
    "    print(\"\")  # Move to the next line after finishing a trip\n",
    "    i += 1  # Move to the next trip\n"
   ]
  }
 ],
 "metadata": {
  "kernelspec": {
   "display_name": "venv",
   "language": "python",
   "name": "python3"
  },
  "language_info": {
   "codemirror_mode": {
    "name": "ipython",
    "version": 3
   },
   "file_extension": ".py",
   "mimetype": "text/x-python",
   "name": "python",
   "nbconvert_exporter": "python",
   "pygments_lexer": "ipython3",
   "version": "3.13.2"
  }
 },
 "nbformat": 4,
 "nbformat_minor": 2
}
