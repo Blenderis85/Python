{
 "cells": [
  {
   "cell_type": "code",
   "execution_count": 1,
   "metadata": {},
   "outputs": [
    {
     "name": "stdout",
     "output_type": "stream",
     "text": [
      "['Tokyo', 'Kyoto']\n"
     ]
    }
   ],
   "source": [
    "travel_wishlist = [\n",
    "    [\"Paris\", \"France\", 2000],\n",
    "    [\"Tokyo\", \"Japan\", 3000],\n",
    "    [\"New York\", \"USA\", 2500],\n",
    "    [\"Kyoto\", \"Japan\", 1500],\n",
    "    [\"Sydney\", \"Australia\", 4000]\n",
    "]\n",
    "\n",
    "japanese_cities = []\n",
    "for city in travel_wishlist:\n",
    "    if city[1] == \"Japan\":\n",
    "        japanese_cities.append(city[0])\n",
    "\n",
    "print(japanese_cities)  # Output: ['Tokyo', 'Kyoto']\n"
   ]
  },
  {
   "cell_type": "code",
   "execution_count": 2,
   "metadata": {},
   "outputs": [
    {
     "name": "stdout",
     "output_type": "stream",
     "text": [
      "['Tokyo', 'Kyoto']\n"
     ]
    }
   ],
   "source": [
    "travel_wishlist = [\n",
    "    [\"Paris\", \"France\", 2000],\n",
    "    [\"Tokyo\", \"Japan\", 3000],\n",
    "    [\"New York\", \"USA\", 2500],\n",
    "    [\"Kyoto\", \"Japan\", 1500],\n",
    "    [\"Sydney\", \"Australia\", 4000]\n",
    "]\n",
    "\n",
    "japanese_cities = [city[0] for city in travel_wishlist if city[1] == \"Japan\"]\n",
    "print(japanese_cities)  # Output: ['Tokyo', 'Kyoto']\n"
   ]
  },
  {
   "cell_type": "code",
   "execution_count": 3,
   "metadata": {},
   "outputs": [
    {
     "name": "stdout",
     "output_type": "stream",
     "text": [
      "['Paris', 'Kyoto']\n"
     ]
    }
   ],
   "source": [
    "travel_wishlist = [\n",
    "    [\"Paris\", \"France\", 2000],\n",
    "    [\"Tokyo\", \"Japan\", 3000],\n",
    "    [\"New York\", \"USA\", 2500],\n",
    "    [\"Kyoto\", \"Japan\", 1500],\n",
    "    [\"Sydney\", \"Australia\", 4000]\n",
    "]\n",
    "\n",
    "# Create a new list of affordable cities\n",
    "affordable_cities = [city[0] for city in travel_wishlist if city[2] < 2500]\n",
    "\n",
    "print(affordable_cities)\n"
   ]
  }
 ],
 "metadata": {
  "kernelspec": {
   "display_name": "venv",
   "language": "python",
   "name": "python3"
  },
  "language_info": {
   "codemirror_mode": {
    "name": "ipython",
    "version": 3
   },
   "file_extension": ".py",
   "mimetype": "text/x-python",
   "name": "python",
   "nbconvert_exporter": "python",
   "pygments_lexer": "ipython3",
   "version": "3.13.2"
  }
 },
 "nbformat": 4,
 "nbformat_minor": 2
}
