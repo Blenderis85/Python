{
 "cells": [
  {
   "cell_type": "code",
   "execution_count": 1,
   "metadata": {},
   "outputs": [
    {
     "name": "stdout",
     "output_type": "stream",
     "text": [
      "['Paris', 'Tokyo', 'New York', 'Kyoto', 'Sydney']\n"
     ]
    }
   ],
   "source": [
    "travel_wishlist = [\n",
    "    [\"Paris\", \"France\", 2000],\n",
    "    [\"Tokyo\", \"Japan\", 3000],\n",
    "    [\"New York\", \"USA\", 2500],\n",
    "    [\"Kyoto\", \"Japan\", 1500],\n",
    "    [\"Sydney\", \"Australia\", 4000]\n",
    "]\n",
    "\n",
    "city_names = []  # a new empty list\n",
    "for city in travel_wishlist:\n",
    "    city_names.append(city[0])\n",
    "\n",
    "print(city_names)  # Output: ['Paris', 'Tokyo', 'New York', 'Kyoto', 'Sydney']\n"
   ]
  },
  {
   "cell_type": "code",
   "execution_count": 2,
   "metadata": {},
   "outputs": [
    {
     "name": "stdout",
     "output_type": "stream",
     "text": [
      "['Paris', 'Tokyo', 'New York', 'Kyoto', 'Sydney']\n"
     ]
    }
   ],
   "source": [
    "travel_wishlist = [\n",
    "    [\"Paris\", \"France\", 2000],\n",
    "    [\"Tokyo\", \"Japan\", 3000],\n",
    "    [\"New York\", \"USA\", 2500],\n",
    "    [\"Kyoto\", \"Japan\", 1500],\n",
    "    [\"Sydney\", \"Australia\", 4000]\n",
    "]\n",
    "\n",
    "city_names = [city[0] for city in travel_wishlist]\n",
    "\n",
    "print(city_names)  # Output: ['Paris', 'Tokyo', 'New York', 'Kyoto', 'Sydney']\n"
   ]
  },
  {
   "cell_type": "code",
   "execution_count": 3,
   "metadata": {},
   "outputs": [
    {
     "name": "stdout",
     "output_type": "stream",
     "text": [
      "The sum of  [2000, 3000, 2500, 1500]  is  9000\n"
     ]
    }
   ],
   "source": [
    "# Given travel wishlist\n",
    "travel_wishlist = [\n",
    "    [\"Paris\", \"France\", 2000],\n",
    "    [\"Tokyo\", \"Japan\", 3000],\n",
    "    [\"New York\", \"USA\", 2500],\n",
    "    [\"Kyoto\", \"Japan\", 1500],\n",
    "]\n",
    "# Extract trip costs using list comprehension\n",
    "trip_costs = [city[2] for city in travel_wishlist]\n",
    "\n",
    "# Print the result\n",
    "print(\"The sum of \", trip_costs, \" is \", sum(trip_costs))\n"
   ]
  }
 ],
 "metadata": {
  "kernelspec": {
   "display_name": "venv",
   "language": "python",
   "name": "python3"
  },
  "language_info": {
   "codemirror_mode": {
    "name": "ipython",
    "version": 3
   },
   "file_extension": ".py",
   "mimetype": "text/x-python",
   "name": "python",
   "nbconvert_exporter": "python",
   "pygments_lexer": "ipython3",
   "version": "3.13.2"
  }
 },
 "nbformat": 4,
 "nbformat_minor": 2
}
