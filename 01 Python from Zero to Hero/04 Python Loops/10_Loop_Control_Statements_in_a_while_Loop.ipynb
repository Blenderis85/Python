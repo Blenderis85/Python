{
 "cells": [
  {
   "cell_type": "code",
   "execution_count": 1,
   "metadata": {},
   "outputs": [
    {
     "name": "stdout",
     "output_type": "stream",
     "text": [
      "Monako\n",
      "Luxemburg\n",
      "Liverpool\n",
      "Found Barcelona!\n"
     ]
    }
   ],
   "source": [
    "travel_list = [\"Monako\", \"Luxemburg\", \"Liverpool\", \"Barcelona\", \"Munchen\"]\n",
    "\n",
    "# Initialize the index\n",
    "i = 0\n",
    "\n",
    "# Search for \"Barcelona\"\n",
    "while i < len(travel_list):\n",
    "    if travel_list[i] == \"Barcelona\":\n",
    "        print(\"Found Barcelona!\")\n",
    "        break\n",
    "    print(travel_list[i])\n",
    "    i += 1\n"
   ]
  },
  {
   "cell_type": "code",
   "execution_count": 2,
   "metadata": {},
   "outputs": [
    {
     "name": "stdout",
     "output_type": "stream",
     "text": [
      "Total occurrences of 'Barcelona': 3\n"
     ]
    }
   ],
   "source": [
    "travel_list = [\"Monako\", \"Barcelona\", \"Liverpool\", \"Barcelona\", \"Munchen\", \"Barcelona\"]\n",
    "\n",
    "# Initialize variables\n",
    "i = 0\n",
    "counter = 0\n",
    "\n",
    "# Count occurrences of \"Barcelona\"\n",
    "while i < len(travel_list):\n",
    "    if travel_list[i] != \"Barcelona\":\n",
    "        i += 1\n",
    "        continue\n",
    "    else:\n",
    "        counter += 1\n",
    "    i += 1\n",
    "\n",
    "print(\"Total occurrences of 'Barcelona':\", counter)\n"
   ]
  },
  {
   "cell_type": "code",
   "execution_count": 3,
   "metadata": {},
   "outputs": [
    {
     "name": "stdout",
     "output_type": "stream",
     "text": [
      "Monako is a short name.\n",
      "Munchen is a short name.\n"
     ]
    }
   ],
   "source": [
    "travel_list = [\"Monako\", \"Luxemburg\", \"Liverpool\", \"Barcelona\", \"Munchen\"]\n",
    "\n",
    "# Initialize variables\n",
    "i = 0\n",
    "\n",
    "# Loop to print short-named cities\n",
    "# Loop to print short-named cities\n",
    "while i < len(travel_list):\n",
    "    if len(travel_list[i]) > 7:  # Skip cities with names longer than 7 characters\n",
    "        i += 1  # Increment index before continuing\n",
    "        continue\n",
    "    print(travel_list[i], \"is a short name.\")\n",
    "    i += 1  # Increment index to move to the next city\n"
   ]
  }
 ],
 "metadata": {
  "kernelspec": {
   "display_name": "venv",
   "language": "python",
   "name": "python3"
  },
  "language_info": {
   "codemirror_mode": {
    "name": "ipython",
    "version": 3
   },
   "file_extension": ".py",
   "mimetype": "text/x-python",
   "name": "python",
   "nbconvert_exporter": "python",
   "pygments_lexer": "ipython3",
   "version": "3.13.2"
  }
 },
 "nbformat": 4,
 "nbformat_minor": 2
}
