{
 "cells": [
  {
   "cell_type": "code",
   "execution_count": 1,
   "metadata": {},
   "outputs": [
    {
     "name": "stdout",
     "output_type": "stream",
     "text": [
      "0 - Monako\n",
      "1 - Luxemburg\n",
      "2 - Liverpool\n",
      "3 - Barcelona\n",
      "4 - Munchen\n"
     ]
    }
   ],
   "source": [
    "travel_list = [\"Monako\", \"Luxemburg\", \"Liverpool\", \"Barcelona\", \"Munchen\"]\n",
    "\n",
    "# Printing all cities with their indexes\n",
    "for index, city in enumerate(travel_list):\n",
    "    print(f\"{index} - {city}\")\n"
   ]
  },
  {
   "cell_type": "code",
   "execution_count": 2,
   "metadata": {},
   "outputs": [
    {
     "name": "stdout",
     "output_type": "stream",
     "text": [
      "Cities at even indexes: ['Monako', 'Liverpool', 'Munchen']\n"
     ]
    }
   ],
   "source": [
    "travel_list = [\"Monako\", \"Luxemburg\", \"Liverpool\", \"Barcelona\", \"Munchen\"]\n",
    "\n",
    "# Create an empty list for even-indexed cities\n",
    "even_indexed_cities = []\n",
    "\n",
    "# Use enumerate to find cities at even indexes\n",
    "for index, city in enumerate(travel_list):\n",
    "    if index % 2 == 0:  # Check if the index is even\n",
    "        even_indexed_cities.append(city)\n",
    "\n",
    "# Print the list of even-indexed cities\n",
    "print(\"Cities at even indexes:\", even_indexed_cities)\n"
   ]
  }
 ],
 "metadata": {
  "kernelspec": {
   "display_name": "venv",
   "language": "python",
   "name": "python3"
  },
  "language_info": {
   "codemirror_mode": {
    "name": "ipython",
    "version": 3
   },
   "file_extension": ".py",
   "mimetype": "text/x-python",
   "name": "python",
   "nbconvert_exporter": "python",
   "pygments_lexer": "ipython3",
   "version": "3.13.2"
  }
 },
 "nbformat": 4,
 "nbformat_minor": 2
}
