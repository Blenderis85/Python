{
 "cells": [
  {
   "cell_type": "code",
   "execution_count": 1,
   "metadata": {},
   "outputs": [
    {
     "name": "stdout",
     "output_type": "stream",
     "text": [
      "Monako\n",
      "Luxemburg\n",
      "Liverpool\n",
      "Barcelona\n",
      "Munchen\n"
     ]
    }
   ],
   "source": [
    "travel_list = [\"Monako\", \"Luxemburg\", \"Liverpool\", \"Barcelona\", \"Munchen\"]\n",
    "\n",
    "# Initialize the index\n",
    "i = 0\n",
    "\n",
    "# Print each destination using a while loop\n",
    "while i < len(travel_list):\n",
    "    print(travel_list[i])\n",
    "    i += 1\n"
   ]
  },
  {
   "cell_type": "code",
   "execution_count": 2,
   "metadata": {},
   "outputs": [
    {
     "name": "stdout",
     "output_type": "stream",
     "text": [
      "Monako\n",
      "Luxemburg\n",
      "Liverpool\n"
     ]
    }
   ],
   "source": [
    "travel_list = [\"Monako\", \"Luxemburg\", \"Liverpool\", \"Barcelona\", \"Munchen\"]\n",
    "\n",
    "# Initialize the index\n",
    "i = 0\n",
    "\n",
    "# Print cities until \"Barcelona\" is found\n",
    "while travel_list[i] != \"Barcelona\":\n",
    "    print(travel_list[i])\n",
    "    i += 1\n"
   ]
  }
 ],
 "metadata": {
  "kernelspec": {
   "display_name": "venv",
   "language": "python",
   "name": "python3"
  },
  "language_info": {
   "codemirror_mode": {
    "name": "ipython",
    "version": 3
   },
   "file_extension": ".py",
   "mimetype": "text/x-python",
   "name": "python",
   "nbconvert_exporter": "python",
   "pygments_lexer": "ipython3",
   "version": "3.13.2"
  }
 },
 "nbformat": 4,
 "nbformat_minor": 2
}
