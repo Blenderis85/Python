{
 "cells": [
  {
   "cell_type": "code",
   "execution_count": 1,
   "metadata": {},
   "outputs": [
    {
     "name": "stdout",
     "output_type": "stream",
     "text": [
      "4.0\n",
      "<class 'float'>\n"
     ]
    }
   ],
   "source": [
    "variable = 6/1.5\n",
    "print(variable)\n",
    "print(type(variable))\n"
   ]
  },
  {
   "cell_type": "code",
   "execution_count": 2,
   "metadata": {},
   "outputs": [
    {
     "name": "stdout",
     "output_type": "stream",
     "text": [
      "The value of number1 is 55.0\n",
      "The type of number1 is <class 'float'>\n",
      "The value of number2 is 24\n",
      "The type of number2 is <class 'int'>\n"
     ]
    }
   ],
   "source": [
    "number1 = 88/16e-1\n",
    "number2 = 12*2\n",
    "\n",
    "# Print the number and it's type\n",
    "print(\"The value of number1 is\", number1)\n",
    "print(\"The type of number1 is\", type(number1))\n",
    "print(\"The value of number2 is\", number2)\n",
    "print(\"The type of number2 is\", type(number2))\n"
   ]
  }
 ],
 "metadata": {
  "kernelspec": {
   "display_name": "venv",
   "language": "python",
   "name": "python3"
  },
  "language_info": {
   "codemirror_mode": {
    "name": "ipython",
    "version": 3
   },
   "file_extension": ".py",
   "mimetype": "text/x-python",
   "name": "python",
   "nbconvert_exporter": "python",
   "pygments_lexer": "ipython3",
   "version": "3.13.2"
  }
 },
 "nbformat": 4,
 "nbformat_minor": 2
}
