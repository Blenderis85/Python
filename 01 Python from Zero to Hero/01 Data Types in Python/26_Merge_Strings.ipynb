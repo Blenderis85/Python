{
 "cells": [
  {
   "cell_type": "code",
   "execution_count": 1,
   "metadata": {},
   "outputs": [
    {
     "name": "stdout",
     "output_type": "stream",
     "text": [
      "Tell me why you cried, and why you lied to me\n"
     ]
    }
   ],
   "source": [
    "string1 = \"Tell me why you cried,\"\n",
    "string2 = \" and why you lied to me\"\n",
    "string = string1 + string2\n",
    "\n",
    "print(string)\n"
   ]
  },
  {
   "cell_type": "code",
   "execution_count": 2,
   "metadata": {},
   "outputs": [
    {
     "name": "stdout",
     "output_type": "stream",
     "text": [
      "Variable output1 equals: \"country: Italy\"\n",
      "Variable output2 equals: \"country: Ukraine\"\n",
      "Variable output3 equals: \"country: Egypt\"\n"
     ]
    }
   ],
   "source": [
    "string1 = \"country: \"\n",
    "string2 = \"Italy\"\n",
    "string3 = \"Ukraine\"\n",
    "string4 = \"Egypt\"\n",
    "\n",
    "# Merge variables to form phrases\n",
    "output1 = string1 + string2\n",
    "output2 = string1 + string3\n",
    "output3 = string1 + string4\n",
    "\n",
    "print(\"Variable output1 equals:\", f'\"{output1}\"')\n",
    "print(\"Variable output2 equals:\", f'\"{output2}\"')\n",
    "print(\"Variable output3 equals:\", f'\"{output3}\"')\n"
   ]
  }
 ],
 "metadata": {
  "kernelspec": {
   "display_name": "venv",
   "language": "python",
   "name": "python3"
  },
  "language_info": {
   "codemirror_mode": {
    "name": "ipython",
    "version": 3
   },
   "file_extension": ".py",
   "mimetype": "text/x-python",
   "name": "python",
   "nbconvert_exporter": "python",
   "pygments_lexer": "ipython3",
   "version": "3.13.2"
  }
 },
 "nbformat": 4,
 "nbformat_minor": 2
}
