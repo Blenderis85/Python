{
 "cells": [
  {
   "cell_type": "code",
   "execution_count": 1,
   "metadata": {},
   "outputs": [
    {
     "name": "stdout",
     "output_type": "stream",
     "text": [
      "133\n"
     ]
    }
   ],
   "source": [
    "value = \"123\"\n",
    "new_value = int(value) + 10\n",
    "\n",
    "print(new_value)\n"
   ]
  },
  {
   "cell_type": "code",
   "execution_count": 2,
   "metadata": {},
   "outputs": [
    {
     "name": "stdout",
     "output_type": "stream",
     "text": [
      "Variable new_price1 equals: 471\n",
      "Variable new_price2 equals: 830\n",
      "Variable new_price3 equals: 740\n"
     ]
    }
   ],
   "source": [
    "price1 = \"456\"\n",
    "price2 = \"50\"\n",
    "price3 = \"830\"\n",
    "\n",
    "# Increase `price1` variable by 15\n",
    "new_price1 = int(price1) + 15\n",
    "# Increase `price2` variable by 780\n",
    "new_price2 = int(price2) + 780\n",
    "# Decrease `price3` variable by 90\n",
    "new_price3 = int(price3) - 90\n",
    "\n",
    "print(\"Variable new_price1 equals:\", new_price1)\n",
    "print(\"Variable new_price2 equals:\", new_price2)\n",
    "print(\"Variable new_price3 equals:\", new_price3)\n"
   ]
  }
 ],
 "metadata": {
  "kernelspec": {
   "display_name": "venv",
   "language": "python",
   "name": "python3"
  },
  "language_info": {
   "codemirror_mode": {
    "name": "ipython",
    "version": 3
   },
   "file_extension": ".py",
   "mimetype": "text/x-python",
   "name": "python",
   "nbconvert_exporter": "python",
   "pygments_lexer": "ipython3",
   "version": "3.13.2"
  }
 },
 "nbformat": 4,
 "nbformat_minor": 2
}
