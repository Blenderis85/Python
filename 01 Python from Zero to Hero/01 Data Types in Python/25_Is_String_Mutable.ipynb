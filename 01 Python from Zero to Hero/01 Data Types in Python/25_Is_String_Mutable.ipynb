{
 "cells": [
  {
   "cell_type": "code",
   "execution_count": 1,
   "metadata": {},
   "outputs": [
    {
     "name": "stdout",
     "output_type": "stream",
     "text": [
      "I would like to order seafood\n",
      "I would like to order fish\n"
     ]
    }
   ],
   "source": [
    "string = \"I would like to order seafood\"\n",
    "# I changed my mind and want to order fish now\n",
    "new_string = string.replace('seafood','fish')\n",
    "\n",
    "# The previous order\n",
    "print(string)\n",
    "# The current order\n",
    "print(new_string)\n"
   ]
  },
  {
   "cell_type": "code",
   "execution_count": 2,
   "metadata": {},
   "outputs": [
    {
     "name": "stdout",
     "output_type": "stream",
     "text": [
      "Paris is the capital of France\n",
      "Brasilia is located in South America\n",
      "Monkeys eat bananas\n"
     ]
    }
   ],
   "source": [
    "string1 = \"Rome is the capital of France\"\n",
    "string2 = \"Brasilia is located in Europe\"\n",
    "string3 = \"Monkeys eat earphones\"\n",
    "\n",
    "# Replace substrings to correct the mistakes\n",
    "new_string1 = string1.replace(\"Rome\", \"Paris\")\n",
    "new_string2 = string2.replace(\"Europe\", \"South America\")\n",
    "new_string3 = string3.replace(\"earphones\", \"bananas\")\n",
    "\n",
    "print(new_string1)\n",
    "print(new_string2)\n",
    "print(new_string3)\n"
   ]
  }
 ],
 "metadata": {
  "kernelspec": {
   "display_name": "venv",
   "language": "python",
   "name": "python3"
  },
  "language_info": {
   "codemirror_mode": {
    "name": "ipython",
    "version": 3
   },
   "file_extension": ".py",
   "mimetype": "text/x-python",
   "name": "python",
   "nbconvert_exporter": "python",
   "pygments_lexer": "ipython3",
   "version": "3.13.2"
  }
 },
 "nbformat": 4,
 "nbformat_minor": 2
}
