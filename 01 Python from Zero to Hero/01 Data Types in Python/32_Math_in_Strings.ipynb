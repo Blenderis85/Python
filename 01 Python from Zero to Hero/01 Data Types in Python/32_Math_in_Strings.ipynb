{
 "cells": [
  {
   "cell_type": "code",
   "execution_count": 1,
   "metadata": {},
   "outputs": [
    {
     "name": "stdout",
     "output_type": "stream",
     "text": [
      "48\n"
     ]
    }
   ],
   "source": [
    "print(12 * 4)\n"
   ]
  },
  {
   "cell_type": "code",
   "execution_count": 2,
   "metadata": {},
   "outputs": [
    {
     "name": "stdout",
     "output_type": "stream",
     "text": [
      "12121212\n"
     ]
    }
   ],
   "source": [
    "print('12' * 4)\n"
   ]
  },
  {
   "cell_type": "code",
   "execution_count": 3,
   "metadata": {},
   "outputs": [
    {
     "name": "stdout",
     "output_type": "stream",
     "text": [
      "statement1 equals: OverOver\n",
      "statement2 equals: 8 million8 million8 million\n"
     ]
    }
   ],
   "source": [
    "string1 = \"Over\"\n",
    "string2 = \"8 million\"\n",
    "\n",
    "# first string twice\n",
    "statement1 = string1 * 2\n",
    "# second string three times\n",
    "statement2 = string2 * 3\n",
    "\n",
    "print(\"statement1 equals:\", statement1)\n",
    "print(\"statement2 equals:\", statement2)\n"
   ]
  }
 ],
 "metadata": {
  "kernelspec": {
   "display_name": "venv",
   "language": "python",
   "name": "python3"
  },
  "language_info": {
   "codemirror_mode": {
    "name": "ipython",
    "version": 3
   },
   "file_extension": ".py",
   "mimetype": "text/x-python",
   "name": "python",
   "nbconvert_exporter": "python",
   "pygments_lexer": "ipython3",
   "version": "3.13.2"
  }
 },
 "nbformat": 4,
 "nbformat_minor": 2
}
