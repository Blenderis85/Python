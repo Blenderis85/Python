{
 "cells": [
  {
   "cell_type": "code",
   "execution_count": 1,
   "metadata": {},
   "outputs": [
    {
     "name": "stdout",
     "output_type": "stream",
     "text": [
      "The index of the word manage is 6\n",
      "The index of the word everything is 13\n"
     ]
    }
   ],
   "source": [
    "string = \"I can manage everything\"\n",
    "\n",
    "manage = string.index('manage')\n",
    "everything = string.index('everything')\n",
    "\n",
    "print(\"The index of the word manage is\", manage)\n",
    "print(\"The index of the word everything is\", everything)\n"
   ]
  },
  {
   "cell_type": "code",
   "execution_count": 2,
   "metadata": {},
   "outputs": [
    {
     "name": "stdout",
     "output_type": "stream",
     "text": [
      "The index of the word burning is: 21\n",
      "The index of the word desire is: 29\n",
      "The index of the word studying is: 40\n"
     ]
    }
   ],
   "source": [
    "string = \"It is cool to have a burning desire for studying\"\n",
    "\n",
    "# Find the index of \"burning\" word\n",
    "burning = string.index(\"burning\")\n",
    "\n",
    "# Find the index of \"desire\" word\n",
    "desire = string.index(\"desire\")\n",
    "\n",
    "# Find the index of \"studying\" word\n",
    "studying = string.index(\"studying\")\n",
    "\n",
    "print(\"The index of the word burning is:\", burning)\n",
    "print(\"The index of the word desire is:\", desire)\n",
    "print(\"The index of the word studying is:\", studying)\n"
   ]
  }
 ],
 "metadata": {
  "kernelspec": {
   "display_name": "venv",
   "language": "python",
   "name": "python3"
  },
  "language_info": {
   "codemirror_mode": {
    "name": "ipython",
    "version": 3
   },
   "file_extension": ".py",
   "mimetype": "text/x-python",
   "name": "python",
   "nbconvert_exporter": "python",
   "pygments_lexer": "ipython3",
   "version": "3.13.2"
  }
 },
 "nbformat": 4,
 "nbformat_minor": 2
}
