{
 "cells": [
  {
   "cell_type": "code",
   "execution_count": 1,
   "metadata": {},
   "outputs": [
    {
     "name": "stdout",
     "output_type": "stream",
     "text": [
      "The variable learn equals: learn\n",
      "The variable painful equals: painful\n",
      "The variable mistakes equals: mistakes\n"
     ]
    }
   ],
   "source": [
    "string = \"It can be painful to learn from mistakes\"\n",
    "\n",
    "# Extract necessary words\n",
    "learn = string[string.index('learn'):string.index(\"learn\") + 5]\n",
    "painful = string[string.index(\"painful\"):string.index(\"painful\") + 7]\n",
    "mistakes = string[string.index(\"mistakes\"):string.index(\"mistakes\") + 8]\n",
    "\n",
    "\n",
    "print(\"The variable learn equals:\", learn)\n",
    "print(\"The variable painful equals:\", painful)\n",
    "print(\"The variable mistakes equals:\", mistakes)\n"
   ]
  }
 ],
 "metadata": {
  "kernelspec": {
   "display_name": "venv",
   "language": "python",
   "name": "python3"
  },
  "language_info": {
   "codemirror_mode": {
    "name": "ipython",
    "version": 3
   },
   "file_extension": ".py",
   "mimetype": "text/x-python",
   "name": "python",
   "nbconvert_exporter": "python",
   "pygments_lexer": "ipython3",
   "version": "3.13.2"
  }
 },
 "nbformat": 4,
 "nbformat_minor": 2
}
