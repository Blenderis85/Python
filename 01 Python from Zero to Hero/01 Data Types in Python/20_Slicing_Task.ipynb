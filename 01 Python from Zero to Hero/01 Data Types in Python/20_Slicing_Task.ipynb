{
 "cells": [
  {
   "cell_type": "code",
   "execution_count": 1,
   "metadata": {},
   "outputs": [
    {
     "name": "stdout",
     "output_type": "stream",
     "text": [
      "iii\n"
     ]
    }
   ],
   "source": [
    "string = \"Life is like riding a bicycle. To keep your balance, you must keep moving\"\n",
    "sliced_string = string[1:11:4]\n",
    "print(sliced_string)\n"
   ]
  },
  {
   "cell_type": "code",
   "execution_count": 2,
   "metadata": {},
   "outputs": [
    {
     "name": "stdout",
     "output_type": "stream",
     "text": [
      "Variable sliced_string equals: h i \n"
     ]
    }
   ],
   "source": [
    "string = \"That which does not kill us makes us stronger.\"\n",
    "# Extracted indexes from 1 to 13 with the step of 3\n",
    "sliced_string = string[1:13:3]\n",
    "\n",
    "print(\"Variable sliced_string equals:\", sliced_string)\n"
   ]
  }
 ],
 "metadata": {
  "kernelspec": {
   "display_name": "venv",
   "language": "python",
   "name": "python3"
  },
  "language_info": {
   "codemirror_mode": {
    "name": "ipython",
    "version": 3
   },
   "file_extension": ".py",
   "mimetype": "text/x-python",
   "name": "python",
   "nbconvert_exporter": "python",
   "pygments_lexer": "ipython3",
   "version": "3.13.2"
  }
 },
 "nbformat": 4,
 "nbformat_minor": 2
}
