{
 "cells": [
  {
   "cell_type": "code",
   "execution_count": 1,
   "metadata": {},
   "outputs": [
    {
     "name": "stdout",
     "output_type": "stream",
     "text": [
      "Here is the string: Practice is the key to success\n",
      "And its length is 30\n"
     ]
    }
   ],
   "source": [
    "string = \"Practice is the key to success\"\n",
    "length = len(string)\n",
    "\n",
    "print(\"Here is the string:\", string)\n",
    "print(\"And its length is\", length)\n"
   ]
  },
  {
   "cell_type": "code",
   "execution_count": 2,
   "metadata": {},
   "outputs": [
    {
     "name": "stdout",
     "output_type": "stream",
     "text": [
      "Variable symbol1 equals: d\n",
      "Variable symbol2 equals: d\n"
     ]
    }
   ],
   "source": [
    "string = \"My goal is to achieve way beyond what I expected\"\n",
    "# Extract the very last symbol using negative indexation\n",
    "symbol1 = string[-1]\n",
    "# Extract the very last symbol using `len()` function\n",
    "symbol2 = string[len(string) - 1]\n",
    "\n",
    "# Print symbols\n",
    "print(\"Variable symbol1 equals:\", symbol1)\n",
    "print(\"Variable symbol2 equals:\", symbol2)\n"
   ]
  }
 ],
 "metadata": {
  "kernelspec": {
   "display_name": "venv",
   "language": "python",
   "name": "python3"
  },
  "language_info": {
   "codemirror_mode": {
    "name": "ipython",
    "version": 3
   },
   "file_extension": ".py",
   "mimetype": "text/x-python",
   "name": "python",
   "nbconvert_exporter": "python",
   "pygments_lexer": "ipython3",
   "version": "3.13.2"
  }
 },
 "nbformat": 4,
 "nbformat_minor": 2
}
