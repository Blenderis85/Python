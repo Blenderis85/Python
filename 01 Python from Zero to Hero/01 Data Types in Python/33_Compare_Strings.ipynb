{
 "cells": [
  {
   "cell_type": "code",
   "execution_count": 1,
   "metadata": {},
   "outputs": [
    {
     "name": "stdout",
     "output_type": "stream",
     "text": [
      "False\n",
      "True\n"
     ]
    }
   ],
   "source": [
    "print(\"Kate\" == \"Katty\")\n",
    "print(\"Katty\" == \"Katty\")\n"
   ]
  },
  {
   "cell_type": "code",
   "execution_count": 2,
   "metadata": {},
   "outputs": [
    {
     "name": "stdout",
     "output_type": "stream",
     "text": [
      "True\n"
     ]
    }
   ],
   "source": [
    "print('A' < 'B')\n"
   ]
  },
  {
   "cell_type": "code",
   "execution_count": 3,
   "metadata": {},
   "outputs": [
    {
     "name": "stdout",
     "output_type": "stream",
     "text": [
      "False\n"
     ]
    }
   ],
   "source": [
    "print(\"alphabet\" > \"although\")\n"
   ]
  },
  {
   "cell_type": "code",
   "execution_count": 4,
   "metadata": {},
   "outputs": [
    {
     "name": "stdout",
     "output_type": "stream",
     "text": [
      "Variable statement1 equals: False\n",
      "Variable statement2 equals: False\n",
      "Variable statement3 equals: True\n"
     ]
    }
   ],
   "source": [
    "statement1 = 'C' > 'D'\n",
    "statement2 = \"Codefinity\" < \"Art\"\n",
    "statement3 = \"Programming\" > \"Data\"\n",
    "\n",
    "print(\"Variable statement1 equals:\", statement1)\n",
    "print(\"Variable statement2 equals:\", statement2)\n",
    "print(\"Variable statement3 equals:\", statement3)\n"
   ]
  }
 ],
 "metadata": {
  "kernelspec": {
   "display_name": "venv",
   "language": "python",
   "name": "python3"
  },
  "language_info": {
   "codemirror_mode": {
    "name": "ipython",
    "version": 3
   },
   "file_extension": ".py",
   "mimetype": "text/x-python",
   "name": "python",
   "nbconvert_exporter": "python",
   "pygments_lexer": "ipython3",
   "version": "3.13.2"
  }
 },
 "nbformat": 4,
 "nbformat_minor": 2
}
