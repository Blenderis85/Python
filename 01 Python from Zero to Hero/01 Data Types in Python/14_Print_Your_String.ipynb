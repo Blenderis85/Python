{
 "cells": [
  {
   "cell_type": "code",
   "execution_count": 1,
   "metadata": {},
   "outputs": [
    {
     "name": "stdout",
     "output_type": "stream",
     "text": [
      "The first output is cat\n",
      "The second output is cat\n"
     ]
    }
   ],
   "source": [
    "string1 = \"cat\"\n",
    "string2 = 'cat'\n",
    "print(\"The first output is\", string1)\n",
    "print(\"The second output is\", string2)\n"
   ]
  },
  {
   "cell_type": "code",
   "execution_count": 2,
   "metadata": {},
   "outputs": [
    {
     "name": "stdout",
     "output_type": "stream",
     "text": [
      "\n",
      "Hello, I am learning Python to receive the job of my dream.\n",
      "By the way, even one task a day helps me inch my way towards success!\n",
      "I am in control of my life, and I improve it every day!\n",
      "\n"
     ]
    }
   ],
   "source": [
    "string = \"\"\"\n",
    "Hello, I am learning Python to receive the job of my dream.\n",
    "By the way, even one task a day helps me inch my way towards success!\n",
    "I am in control of my life, and I improve it every day!\n",
    "\"\"\"\n",
    "\n",
    "print(string)\n"
   ]
  },
  {
   "cell_type": "code",
   "execution_count": 3,
   "metadata": {},
   "outputs": [
    {
     "name": "stdout",
     "output_type": "stream",
     "text": [
      "The weather outside is bad\n",
      "My mood today is could be better\n",
      "Does my mood depend on weather? - yes\n"
     ]
    }
   ],
   "source": [
    "# Assign `bad` or `good` to the variable\n",
    "string1 = \"bad\"\n",
    "# Assign `could be better` or `could not be better` to the variable\n",
    "string2 = \"could be better\"\n",
    "# Assign `yes` or `no` to the variable\n",
    "string3 = \"yes\"\n",
    "\n",
    "print(\"The weather outside is\", string1)\n",
    "print(\"My mood today is\", string2)\n",
    "print(\"Does my mood depend on weather? -\", string3)\n"
   ]
  }
 ],
 "metadata": {
  "kernelspec": {
   "display_name": "venv",
   "language": "python",
   "name": "python3"
  },
  "language_info": {
   "codemirror_mode": {
    "name": "ipython",
    "version": 3
   },
   "file_extension": ".py",
   "mimetype": "text/x-python",
   "name": "python",
   "nbconvert_exporter": "python",
   "pygments_lexer": "ipython3",
   "version": "3.13.2"
  }
 },
 "nbformat": 4,
 "nbformat_minor": 2
}
