{
 "cells": [
  {
   "cell_type": "code",
   "execution_count": 1,
   "metadata": {},
   "outputs": [
    {
     "name": "stdout",
     "output_type": "stream",
     "text": [
      "The initial var1 was 91,400,000 and the corrected is: 91400000\n",
      "The initial var2 was 238 855 and the corrected is: 238855\n"
     ]
    }
   ],
   "source": [
    "# Define integer variables\n",
    "var1 = 91_400_000\n",
    "var2 = 238_855\n",
    "\n",
    "# Print the variables\n",
    "print(\"The initial var1 was 91,400,000 and the corrected is:\", var1)\n",
    "print(\"The initial var2 was 238 855 and the corrected is:\", var2)\n"
   ]
  }
 ],
 "metadata": {
  "kernelspec": {
   "display_name": "venv",
   "language": "python",
   "name": "python3"
  },
  "language_info": {
   "codemirror_mode": {
    "name": "ipython",
    "version": 3
   },
   "file_extension": ".py",
   "mimetype": "text/x-python",
   "name": "python",
   "nbconvert_exporter": "python",
   "pygments_lexer": "ipython3",
   "version": "3.13.2"
  }
 },
 "nbformat": 4,
 "nbformat_minor": 2
}
