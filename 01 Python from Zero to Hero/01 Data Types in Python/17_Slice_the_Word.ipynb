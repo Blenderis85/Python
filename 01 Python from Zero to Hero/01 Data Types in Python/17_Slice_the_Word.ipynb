{
 "cells": [
  {
   "cell_type": "code",
   "execution_count": 1,
   "metadata": {},
   "outputs": [
    {
     "name": "stdout",
     "output_type": "stream",
     "text": [
      "kitten\n"
     ]
    }
   ],
   "source": [
    "string = \"Extract the word kitten\"\n",
    "kitten = string[17:23]\n",
    "print(kitten)\n"
   ]
  },
  {
   "cell_type": "code",
   "execution_count": 2,
   "metadata": {},
   "outputs": [
    {
     "name": "stdout",
     "output_type": "stream",
     "text": [
      "Variable puppy equals: puppy\n",
      "Variable nestling equals: nestling\n"
     ]
    }
   ],
   "source": [
    "string = \"puppy and nestling are babies\"\n",
    "\n",
    "# Assign a sliced word 'puppy' to the variable `puppy`\n",
    "puppy = string[0:5]\n",
    "# Assign a sliced word 'nestling' to the variables `nestling`\n",
    "nestling = string[10:18]\n",
    "\n",
    "print(\"Variable puppy equals:\", puppy)\n",
    "print(\"Variable nestling equals:\", nestling)\n"
   ]
  }
 ],
 "metadata": {
  "kernelspec": {
   "display_name": "venv",
   "language": "python",
   "name": "python3"
  },
  "language_info": {
   "codemirror_mode": {
    "name": "ipython",
    "version": 3
   },
   "file_extension": ".py",
   "mimetype": "text/x-python",
   "name": "python",
   "nbconvert_exporter": "python",
   "pygments_lexer": "ipython3",
   "version": "3.13.2"
  }
 },
 "nbformat": 4,
 "nbformat_minor": 2
}
