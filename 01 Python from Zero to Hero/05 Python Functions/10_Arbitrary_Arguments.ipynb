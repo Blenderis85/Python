{
 "cells": [
  {
   "cell_type": "code",
   "execution_count": 1,
   "metadata": {},
   "outputs": [
    {
     "name": "stdout",
     "output_type": "stream",
     "text": [
      "6\n",
      "10\n",
      "15\n"
     ]
    }
   ],
   "source": [
    "# Define function with arbitrary arguments named values\n",
    "def calculate_sum(*values):\n",
    "\treturn sum(values)\n",
    "\n",
    "# Test the function using different number of arguments\n",
    "print(calculate_sum(1, 2, 3))\n",
    "print(calculate_sum(1, 2, 3, 4))\n",
    "print(calculate_sum(1, 2, 3, 4, 5))\n"
   ]
  },
  {
   "cell_type": "code",
   "execution_count": 2,
   "metadata": {},
   "outputs": [
    {
     "name": "stdout",
     "output_type": "stream",
     "text": [
      "Call without arguments:\n",
      "Type of args: <class 'tuple'>\n",
      "Args tuple: ()\n",
      "\n",
      "Call with one argument:\n",
      "Type of args: <class 'tuple'>\n",
      "Args tuple: (1,)\n",
      "1\n",
      "\n",
      "Call with multiple arguments:\n",
      "Type of args: <class 'tuple'>\n",
      "Args tuple: (1, 2, 3, 'hello', [4, 5, 6])\n",
      "1\n",
      "2\n",
      "3\n",
      "hello\n",
      "[4, 5, 6]\n"
     ]
    }
   ],
   "source": [
    "def example_function(*args):\n",
    "    # Print the type of args\n",
    "    print(f'Type of args: {type(args)}')\n",
    "    # Print the whole tuple\n",
    "    print(f'Args tuple: {args}')\n",
    "    # Iterate over the tuple\n",
    "    for arg in args:\n",
    "        print(arg)\n",
    "\n",
    "# Call the function without any arguments\n",
    "print(\"Call without arguments:\")\n",
    "example_function()\n",
    "# Call the function with one argument\n",
    "print(\"\\nCall with one argument:\")\n",
    "example_function(1)\n",
    "# Call the function with multiple arguments\n",
    "print(\"\\nCall with multiple arguments:\")\n",
    "example_function(1, 2, 3, 'hello', [4, 5, 6])\n"
   ]
  },
  {
   "cell_type": "code",
   "execution_count": 3,
   "metadata": {},
   "outputs": [
    {
     "name": "stdout",
     "output_type": "stream",
     "text": [
      "30.0\n",
      "5.0\n",
      "0\n"
     ]
    }
   ],
   "source": [
    "# Function to calculate the average of numbers\n",
    "def calculate_average(*args):\n",
    "    # Determine the number of arguments\n",
    "    len_args = len(args)\n",
    "    # Check if the number of arguments is zero\n",
    "    if len_args == 0:\n",
    "        # If there are no arguments, return 0\n",
    "        return 0\n",
    "    # Calculate the sum of all arguments\n",
    "    total = sum(args)\n",
    "    # Calculate the average value\n",
    "    average = total / len_args\n",
    "    # Return the average value\n",
    "    return average\n",
    "\n",
    "# Test the function using different number of arguments\n",
    "print(calculate_average(10, 20, 30, 40, 50))\n",
    "print(calculate_average(5)) \n",
    "print(calculate_average())\n"
   ]
  }
 ],
 "metadata": {
  "kernelspec": {
   "display_name": "venv",
   "language": "python",
   "name": "python3"
  },
  "language_info": {
   "codemirror_mode": {
    "name": "ipython",
    "version": 3
   },
   "file_extension": ".py",
   "mimetype": "text/x-python",
   "name": "python",
   "nbconvert_exporter": "python",
   "pygments_lexer": "ipython3",
   "version": "3.13.2"
  }
 },
 "nbformat": 4,
 "nbformat_minor": 2
}
