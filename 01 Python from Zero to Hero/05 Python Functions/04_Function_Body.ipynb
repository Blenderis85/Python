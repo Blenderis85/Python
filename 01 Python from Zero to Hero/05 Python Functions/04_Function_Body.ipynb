{
 "cells": [
  {
   "cell_type": "code",
   "execution_count": 1,
   "metadata": {},
   "outputs": [
    {
     "name": "stdout",
     "output_type": "stream",
     "text": [
      "Cat Felix: The cat's health level based on calorie intake is Low.\n",
      "Cat Tom: The cat's health level based on calorie intake is Average.\n",
      "Cat Oggy: The cat's health level based on calorie intake is High.\n"
     ]
    }
   ],
   "source": [
    "def health_level_for_cat(calories_per_day):\n",
    "\t# Use one indentation to create function body\n",
    "    if calories_per_day < 200:\n",
    "        health_level = 'Low'\n",
    "    elif 200 <= calories_per_day <= 400:\n",
    "        health_level = 'Average'\n",
    "    else:\n",
    "        health_level = 'High'\n",
    "\n",
    "    message = f\"The cat's health level based on calorie intake is {health_level}.\"\n",
    "    return message\n",
    "\n",
    "# Example usage of the function\n",
    "print(\"Cat Felix:\", health_level_for_cat(187))\n",
    "print(\"Cat Tom:\", health_level_for_cat(301))\n",
    "print(\"Cat Oggy:\", health_level_for_cat(404))\n"
   ]
  }
 ],
 "metadata": {
  "kernelspec": {
   "display_name": "venv",
   "language": "python",
   "name": "python3"
  },
  "language_info": {
   "codemirror_mode": {
    "name": "ipython",
    "version": 3
   },
   "file_extension": ".py",
   "mimetype": "text/x-python",
   "name": "python",
   "nbconvert_exporter": "python",
   "pygments_lexer": "ipython3",
   "version": "3.13.2"
  }
 },
 "nbformat": 4,
 "nbformat_minor": 2
}
