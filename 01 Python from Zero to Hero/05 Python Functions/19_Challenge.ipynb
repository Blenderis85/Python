{
 "cells": [
  {
   "cell_type": "code",
   "execution_count": 1,
   "metadata": {},
   "outputs": [
    {
     "name": "stdout",
     "output_type": "stream",
     "text": [
      "File found: {'name': 'notes.txt', 'id': 4, 'path': '/notes/notes.txt'}\n"
     ]
    }
   ],
   "source": [
    "def find_file(files_dict, target_name):\n",
    "    # Base case: if the dictionary is empty, return `None`\n",
    "    if not files_dict:\n",
    "        return None\n",
    "\n",
    "    # Check if the current file's name matches the target\n",
    "    for file_id, file_info in files_dict.items():\n",
    "        if file_info['name'] == target_name:\n",
    "            return file_info  # Return the file details if found\n",
    "\n",
    "    # Recursive call: search in the remaining files\n",
    "    # We create a new dictionary without the current item\n",
    "    remaining_files = {k: v for k, v in files_dict.items() if k != file_id}\n",
    "    return find_file(remaining_files, target_name)\n",
    "\n",
    "# Example usage:\n",
    "files = {\n",
    "    1: {\"name\": \"file1.txt\", \"id\": 1, \"path\": \"/documents/file1.txt\"},\n",
    "    2: {\"name\": \"document.pdf\", \"id\": 2, \"path\": \"/documents/document.pdf\"},\n",
    "    3: {\"name\": \"image.png\", \"id\": 3, \"path\": \"/images/image.png\"},\n",
    "    4: {\"name\": \"notes.txt\", \"id\": 4, \"path\": \"/notes/notes.txt\"}\n",
    "}\n",
    "\n",
    "target_name = \"notes.txt\"\n",
    "result = find_file(files, target_name)\n",
    "\n",
    "if result:\n",
    "    print(f\"File found: {result}\")\n",
    "else:\n",
    "    print(\"File not found\")\n"
   ]
  }
 ],
 "metadata": {
  "kernelspec": {
   "display_name": "venv",
   "language": "python",
   "name": "python3"
  },
  "language_info": {
   "codemirror_mode": {
    "name": "ipython",
    "version": 3
   },
   "file_extension": ".py",
   "mimetype": "text/x-python",
   "name": "python",
   "nbconvert_exporter": "python",
   "pygments_lexer": "ipython3",
   "version": "3.13.2"
  }
 },
 "nbformat": 4,
 "nbformat_minor": 2
}
