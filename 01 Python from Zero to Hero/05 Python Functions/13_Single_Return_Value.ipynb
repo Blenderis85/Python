{
 "cells": [
  {
   "cell_type": "code",
   "execution_count": 1,
   "metadata": {},
   "outputs": [
    {
     "name": "stdout",
     "output_type": "stream",
     "text": [
      "8\n"
     ]
    }
   ],
   "source": [
    "def add_numbers(a, b):\n",
    "    return a + b\n",
    "\n",
    "result = add_numbers(3, 5)\n",
    "print(result)  # outputs: 8\n"
   ]
  },
  {
   "cell_type": "code",
   "execution_count": 2,
   "metadata": {},
   "outputs": [
    {
     "name": "stdout",
     "output_type": "stream",
     "text": [
      "Hello, world! I am Python! Nice to meet you! \n"
     ]
    }
   ],
   "source": [
    "# Define a function with arbitrary arguments\n",
    "def merge_string_lists(*args):\n",
    "    merged_string = ''\n",
    "\n",
    "# Iterate all strings in args\n",
    "    for string_list in args:\n",
    "        merged_string += ' '.join(string_list) + ' '\n",
    "\n",
    "# Return resulting string\n",
    "    return merged_string\n",
    "\n",
    "# Example usage\n",
    "list1 = ['Hello,', 'world!']\n",
    "list2 = ['I', 'am', 'Python!']\n",
    "list3 = ['Nice', 'to', 'meet', 'you!']\n",
    "result = merge_string_lists(list1, list2, list3)\n",
    "print(result)\n"
   ]
  }
 ],
 "metadata": {
  "kernelspec": {
   "display_name": "venv",
   "language": "python",
   "name": "python3"
  },
  "language_info": {
   "codemirror_mode": {
    "name": "ipython",
    "version": 3
   },
   "file_extension": ".py",
   "mimetype": "text/x-python",
   "name": "python",
   "nbconvert_exporter": "python",
   "pygments_lexer": "ipython3",
   "version": "3.13.2"
  }
 },
 "nbformat": 4,
 "nbformat_minor": 2
}
