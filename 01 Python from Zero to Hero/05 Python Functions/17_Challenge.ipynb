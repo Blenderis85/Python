{
 "cells": [
  {
   "cell_type": "code",
   "execution_count": 1,
   "metadata": {},
   "outputs": [
    {
     "name": "stdout",
     "output_type": "stream",
     "text": [
      "Red\n",
      "Yellow\n",
      "Green\n",
      "Red\n",
      "Yellow\n",
      "Green\n",
      "Red\n",
      "Yellow\n",
      "Green\n"
     ]
    }
   ],
   "source": [
    "def traffic_light_generator():\n",
    "    while True:\n",
    "        yield \"Red\"\n",
    "        yield \"Yellow\"\n",
    "        yield \"Green\"\n",
    "\n",
    "# Using the generator to simulate the operation of a traffic light\n",
    "traffic_light = traffic_light_generator()\n",
    "\n",
    "# Printing the state of the traffic light for nine cycles\n",
    "for i in range(9):\n",
    "    print(next(traffic_light))\n"
   ]
  }
 ],
 "metadata": {
  "kernelspec": {
   "display_name": "venv",
   "language": "python",
   "name": "python3"
  },
  "language_info": {
   "codemirror_mode": {
    "name": "ipython",
    "version": 3
   },
   "file_extension": ".py",
   "mimetype": "text/x-python",
   "name": "python",
   "nbconvert_exporter": "python",
   "pygments_lexer": "ipython3",
   "version": "3.13.2"
  }
 },
 "nbformat": 4,
 "nbformat_minor": 2
}
