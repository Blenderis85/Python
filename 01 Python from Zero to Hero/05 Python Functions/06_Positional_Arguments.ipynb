{
 "cells": [
  {
   "cell_type": "code",
   "execution_count": 1,
   "metadata": {},
   "outputs": [
    {
     "name": "stdout",
     "output_type": "stream",
     "text": [
      "Hello, Alex! You are 25 years old.\n",
      "Hello, Alex! You are 25 years old.\n"
     ]
    }
   ],
   "source": [
    "# Function with two positional arguments\n",
    "def greet(name, age):\n",
    "    print(f'Hello, {name}! You are {age} years old.')\n",
    "\n",
    "# Calling the `greet()` function using dictionary\n",
    "greet(age=25, name='Alex')\n",
    "\n",
    "# Calling the `greet()` function using ordered values\n",
    "greet('Alex', 25)\n"
   ]
  }
 ],
 "metadata": {
  "kernelspec": {
   "display_name": "venv",
   "language": "python",
   "name": "python3"
  },
  "language_info": {
   "codemirror_mode": {
    "name": "ipython",
    "version": 3
   },
   "file_extension": ".py",
   "mimetype": "text/x-python",
   "name": "python",
   "nbconvert_exporter": "python",
   "pygments_lexer": "ipython3",
   "version": "3.13.2"
  }
 },
 "nbformat": 4,
 "nbformat_minor": 2
}
