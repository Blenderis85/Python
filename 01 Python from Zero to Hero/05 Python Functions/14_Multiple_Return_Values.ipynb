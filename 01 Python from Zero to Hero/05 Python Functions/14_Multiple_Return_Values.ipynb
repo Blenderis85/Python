{
 "cells": [
  {
   "cell_type": "code",
   "execution_count": 1,
   "metadata": {},
   "outputs": [
    {
     "name": "stdout",
     "output_type": "stream",
     "text": [
      "Hello\n",
      "42\n",
      "[1, 2, 3]\n"
     ]
    }
   ],
   "source": [
    "# Define a function\n",
    "def return_multiple_objects():\n",
    "    obj1 = 'Hello'\n",
    "    obj2 = 42\n",
    "    obj3 = [1, 2, 3]\n",
    "\t# Return all objects packed into list\n",
    "    return [obj1, obj2, obj3]\n",
    "  \n",
    "# Get the list with corresponding objects\n",
    "result_list = return_multiple_objects()\n",
    "for obj in result_list:\n",
    "\tprint(obj)\n"
   ]
  },
  {
   "cell_type": "code",
   "execution_count": 2,
   "metadata": {},
   "outputs": [
    {
     "name": "stdout",
     "output_type": "stream",
     "text": [
      "Hello 42 [1, 2, 3]\n"
     ]
    }
   ],
   "source": [
    "def return_multiple_objects():\n",
    "    obj1 = \"Hello\"\n",
    "    obj2 = 42\n",
    "    obj3 = [1, 2, 3]\n",
    "\t# Return objects separated by comma\n",
    "    return obj1, obj2, obj3\n",
    "\n",
    "# Get the result of the function into three different values\n",
    "result1, result2, result3 = return_multiple_objects()\n",
    "print(result1, result2, result3)\n"
   ]
  },
  {
   "cell_type": "code",
   "execution_count": 3,
   "metadata": {},
   "outputs": [
    {
     "name": "stdout",
     "output_type": "stream",
     "text": [
      "Total Sum: 96\n",
      "Average: 13.714285714285714\n",
      "Minimum Value: 7\n",
      "Maximum Value: 22\n"
     ]
    }
   ],
   "source": [
    "def calculate_statistics(numbers):\n",
    "    if len(numbers) == 0:\n",
    "        return 0, 0, 0, 0\n",
    "    total = sum(numbers)\n",
    "    average = total / len(numbers)\n",
    "    minimum = min(numbers)\n",
    "    maximum = max(numbers)\n",
    "    return total, average, minimum, maximum\n",
    "\n",
    "# Example usage\n",
    "data = [12, 7, 15, 9, 22, 13, 18]\n",
    "total, average, minimum, maximum = calculate_statistics(data)\n",
    "\n",
    "print(f'Total Sum: {total}')\n",
    "print(f'Average: {average}')\n",
    "print(f'Minimum Value: {minimum}')\n",
    "print(f'Maximum Value: {maximum}')\n"
   ]
  }
 ],
 "metadata": {
  "kernelspec": {
   "display_name": "venv",
   "language": "python",
   "name": "python3"
  },
  "language_info": {
   "codemirror_mode": {
    "name": "ipython",
    "version": 3
   },
   "file_extension": ".py",
   "mimetype": "text/x-python",
   "name": "python",
   "nbconvert_exporter": "python",
   "pygments_lexer": "ipython3",
   "version": "3.13.2"
  }
 },
 "nbformat": 4,
 "nbformat_minor": 2
}
