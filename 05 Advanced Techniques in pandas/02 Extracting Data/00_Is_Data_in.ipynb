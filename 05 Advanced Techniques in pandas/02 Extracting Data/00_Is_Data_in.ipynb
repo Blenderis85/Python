{
 "cells": [
  {
   "cell_type": "code",
   "execution_count": 1,
   "metadata": {},
   "outputs": [
    {
     "name": "stdout",
     "output_type": "stream",
     "text": [
      "   Price Manufacturer    Model  Year   Category Leather_interior Fuel_type  \\\n",
      "0  13328        LEXUS   RX 450  2010       Jeep              Yes    Hybrid   \n",
      "1  16621    CHEVROLET  Equinox  2011       Jeep               No    Petrol   \n",
      "2   8467        HONDA      FIT  2006  Hatchback               No    Petrol   \n",
      "3   3607         FORD   Escape  2011       Jeep              Yes    Hybrid   \n",
      "4  11726        HONDA      FIT  2014  Hatchback              Yes    Petrol   \n",
      "\n",
      "   Engine_volume    Mileage Gear_box_type   Color  \n",
      "0            3.5  186005 km     Automatic  Silver  \n",
      "1            3.0  192000 km     Tiptronic   Black  \n",
      "2            1.3  200000 km      Variator   Black  \n",
      "3            2.5  168966 km     Automatic   White  \n",
      "4            1.3   91901 km     Automatic  Silver  \n"
     ]
    }
   ],
   "source": [
    "import pandas as pd\n",
    "data = pd.read_csv('https://codefinity-content-media.s3.eu-west-1.amazonaws.com/4bf24830-59ba-4418-969b-aaf8117d522e/cars.csv', index_col = 0)\n",
    "print(data.head())\n"
   ]
  },
  {
   "cell_type": "code",
   "execution_count": 2,
   "metadata": {},
   "outputs": [
    {
     "name": "stdout",
     "output_type": "stream",
     "text": [
      "   Price Manufacturer     Model  Year   Category Leather_interior Fuel_type  \\\n",
      "2   8467        HONDA       FIT  2006  Hatchback               No    Petrol   \n",
      "3   3607         FORD    Escape  2011       Jeep              Yes    Hybrid   \n",
      "4  11726        HONDA       FIT  2014  Hatchback              Yes    Petrol   \n",
      "5  39493      HYUNDAI  Santa FE  2016       Jeep              Yes    Diesel   \n",
      "7    549      HYUNDAI    Sonata  2013      Sedan              Yes    Petrol   \n",
      "\n",
      "   Engine_volume    Mileage Gear_box_type   Color  \n",
      "2            1.3  200000 km      Variator   Black  \n",
      "3            2.5  168966 km     Automatic   White  \n",
      "4            1.3   91901 km     Automatic  Silver  \n",
      "5            2.0  160931 km     Automatic   White  \n",
      "7            2.4  216118 km     Automatic    Grey  \n"
     ]
    }
   ],
   "source": [
    "import pandas as pd\n",
    "data = pd.read_csv('https://codefinity-content-media.s3.eu-west-1.amazonaws.com/4bf24830-59ba-4418-969b-aaf8117d522e/cars.csv', index_col = 0)\n",
    "models = ['HONDA', 'FORD', 'MERCEDES-BENZ', 'HYUNDAI']\n",
    "data_extracted = data.loc[data['Manufacturer'].isin(models)]\n",
    "print(data_extracted.head())\n"
   ]
  },
  {
   "cell_type": "code",
   "execution_count": 3,
   "metadata": {},
   "outputs": [
    {
     "name": "stdout",
     "output_type": "stream",
     "text": [
      "       Price   Manufacturer    Model  Year Category Leather_interior  \\\n",
      "19228    706  MERCEDES-BENZ    E 350  2008    Sedan              Yes   \n",
      "19231   5802  MERCEDES-BENZ    E 350  2013    Sedan              Yes   \n",
      "19234  26108        HYUNDAI   Tucson  2010     Jeep              Yes   \n",
      "19235   5331      CHEVROLET  Captiva  2007     Jeep              Yes   \n",
      "19236    470        HYUNDAI   Sonata  2012    Sedan              Yes   \n",
      "\n",
      "      Fuel_type  Engine_volume    Mileage Gear_box_type  Color  \n",
      "19228    Diesel            3.5  122874 km     Automatic  Black  \n",
      "19231    Diesel            3.5  107800 km     Automatic   Grey  \n",
      "19234    Diesel            2.0  116365 km     Automatic   Grey  \n",
      "19235    Diesel            2.0   51258 km     Automatic  Black  \n",
      "19236    Hybrid            2.4  186923 km     Automatic  White  \n"
     ]
    }
   ],
   "source": [
    "import pandas as pd\n",
    "\n",
    "data = pd.read_csv('https://codefinity-content-media.s3.eu-west-1.amazonaws.com/4bf24830-59ba-4418-969b-aaf8117d522e/cars.csv', index_col = 0)\n",
    "\n",
    "# Create a list\n",
    "colors = ['Grey', 'White', 'Black']\n",
    "# Extract needed values\n",
    "data_extracted = data.loc[data['Color'].isin(colors)]\n",
    "\n",
    "# Output data\n",
    "print(data_extracted.tail(5))\n"
   ]
  }
 ],
 "metadata": {
  "kernelspec": {
   "display_name": "venv",
   "language": "python",
   "name": "python3"
  },
  "language_info": {
   "codemirror_mode": {
    "name": "ipython",
    "version": 3
   },
   "file_extension": ".py",
   "mimetype": "text/x-python",
   "name": "python",
   "nbconvert_exporter": "python",
   "pygments_lexer": "ipython3",
   "version": "3.13.2"
  }
 },
 "nbformat": 4,
 "nbformat_minor": 2
}
