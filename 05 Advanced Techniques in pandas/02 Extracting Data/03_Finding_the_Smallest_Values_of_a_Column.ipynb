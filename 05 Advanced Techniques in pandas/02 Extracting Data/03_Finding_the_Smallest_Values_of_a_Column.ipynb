{
 "cells": [
  {
   "cell_type": "code",
   "execution_count": 1,
   "metadata": {},
   "outputs": [
    {
     "name": "stdout",
     "output_type": "stream",
     "text": [
      "        Price   Manufacturer     Model  Year   Category Leather_interior  \\\n",
      "10265     157    ROLLS-ROYCE   Phantom  1939  Cabriolet              Yes   \n",
      "11219     157  MERCEDES-BENZ     S 500  1939  Limousine              Yes   \n",
      "15613     200    ROLLS-ROYCE   Phantom  1939  Limousine              Yes   \n",
      "6607   119172  MERCEDES-BENZ  230 W153  1943      Sedan              Yes   \n",
      "12849     150            BMW       340  1947  Limousine               No   \n",
      "3111    51746            GAZ        20  1953      Sedan               No   \n",
      "9026      314       MOSKVICH       401  1953  Hatchback               No   \n",
      "17071   15681       MOSKVICH       400  1953  Hatchback               No   \n",
      "19041    3200            GAZ        20  1953       Jeep               No   \n",
      "9493     7527            UAZ     31514  1957       Jeep               No   \n",
      "5488     5331            UAZ   Patriot  1964       Jeep               No   \n",
      "11927    7840            GAZ        21  1964      Sedan               No   \n",
      "7667    65858           FORD   Mustang  1965      Coupe              Yes   \n",
      "13973   64290           FORD   Mustang  1965      Coupe              Yes   \n",
      "12734    2200            UAZ     31514  1968       Jeep              Yes   \n",
      "\n",
      "      Fuel_type  Engine_volume        Mileage Gear_box_type     Color  \n",
      "10265    Petrol            5.0      129000 km     Automatic    Silver  \n",
      "11219    Petrol            2.4      126000 km     Automatic     White  \n",
      "15613    Petrol            2.2      169000 km        Manual     White  \n",
      "6607     Petrol            2.2       69000 km     Automatic     White  \n",
      "12849    Petrol            2.0      165000 km        Manual     White  \n",
      "3111     Petrol            2.0           0 km        Manual     Beige  \n",
      "9026     Petrol            0.6      150000 km        Manual  Sky blue  \n",
      "17071    Petrol            1.0      250000 km        Manual     Beige  \n",
      "19041    Petrol            3.2      100000 km        Manual     Green  \n",
      "9493     Petrol            2.0           0 km        Manual    Yellow  \n",
      "5488     Petrol            2.4       50000 km        Manual     Green  \n",
      "11927    Petrol            2.4           0 km        Manual  Sky blue  \n",
      "7667     Petrol            4.7       68800 km     Automatic       Red  \n",
      "13973    Petrol            0.0        1142 km     Automatic       Red  \n",
      "12734       CNG            2.4  2147483647 km        Manual     Black  \n"
     ]
    }
   ],
   "source": [
    "import pandas as pd\n",
    "data = pd.read_csv('https://codefinity-content-media.s3.eu-west-1.amazonaws.com/4bf24830-59ba-4418-969b-aaf8117d522e/cars.csv', index_col = 0)\n",
    "data_smallest = data.nsmallest(15, 'Year')\n",
    "print(data_smallest.head(15))\n"
   ]
  },
  {
   "cell_type": "code",
   "execution_count": 2,
   "metadata": {},
   "outputs": [
    {
     "name": "stdout",
     "output_type": "stream",
     "text": [
      "        Price   Manufacturer     Model  Year   Category Leather_interior  \\\n",
      "15613     200    ROLLS-ROYCE   Phantom  1939  Limousine              Yes   \n",
      "11219     157  MERCEDES-BENZ     S 500  1939  Limousine              Yes   \n",
      "10265     157    ROLLS-ROYCE   Phantom  1939  Cabriolet              Yes   \n",
      "6607   119172  MERCEDES-BENZ  230 W153  1943      Sedan              Yes   \n",
      "12849     150            BMW       340  1947  Limousine               No   \n",
      "\n",
      "      Fuel_type  Engine_volume    Mileage Gear_box_type   Color  \n",
      "15613    Petrol            2.2  169000 km        Manual   White  \n",
      "11219    Petrol            2.4  126000 km     Automatic   White  \n",
      "10265    Petrol            5.0  129000 km     Automatic  Silver  \n",
      "6607     Petrol            2.2   69000 km     Automatic   White  \n",
      "12849    Petrol            2.0  165000 km        Manual   White  \n"
     ]
    }
   ],
   "source": [
    "import pandas as pd\n",
    "data = pd.read_csv('https://codefinity-content-media.s3.eu-west-1.amazonaws.com/4bf24830-59ba-4418-969b-aaf8117d522e/cars.csv', index_col = 0)\n",
    "data_smallest = data.nsmallest(5, ['Year', 'Engine_volume'])\n",
    "print(data_smallest.head())\n"
   ]
  },
  {
   "cell_type": "code",
   "execution_count": 3,
   "metadata": {},
   "outputs": [
    {
     "name": "stdout",
     "output_type": "stream",
     "text": [
      "        Price   Manufacturer     Model  Year   Category Leather_interior  \\\n",
      "10265     157    ROLLS-ROYCE   Phantom  1939  Cabriolet              Yes   \n",
      "11219     157  MERCEDES-BENZ     S 500  1939  Limousine              Yes   \n",
      "15613     200    ROLLS-ROYCE   Phantom  1939  Limousine              Yes   \n",
      "6607   119172  MERCEDES-BENZ  230 W153  1943      Sedan              Yes   \n",
      "12849     150            BMW       340  1947  Limousine               No   \n",
      "3111    51746            GAZ        20  1953      Sedan               No   \n",
      "\n",
      "      Fuel_type  Engine_volume    Mileage Gear_box_type   Color  \n",
      "10265    Petrol            5.0  129000 km     Automatic  Silver  \n",
      "11219    Petrol            2.4  126000 km     Automatic   White  \n",
      "15613    Petrol            2.2  169000 km        Manual   White  \n",
      "6607     Petrol            2.2   69000 km     Automatic   White  \n",
      "12849    Petrol            2.0  165000 km        Manual   White  \n",
      "3111     Petrol            2.0       0 km        Manual   Beige  \n",
      "        Price   Manufacturer     Model  Year   Category Leather_interior  \\\n",
      "10265     157    ROLLS-ROYCE   Phantom  1939  Cabriolet              Yes   \n",
      "11219     157  MERCEDES-BENZ     S 500  1939  Limousine              Yes   \n",
      "15613     200    ROLLS-ROYCE   Phantom  1939  Limousine              Yes   \n",
      "6607   119172  MERCEDES-BENZ  230 W153  1943      Sedan              Yes   \n",
      "12849     150            BMW       340  1947  Limousine               No   \n",
      "3111    51746            GAZ        20  1953      Sedan               No   \n",
      "9026      314       MOSKVICH       401  1953  Hatchback               No   \n",
      "17071   15681       MOSKVICH       400  1953  Hatchback               No   \n",
      "19041    3200            GAZ        20  1953       Jeep               No   \n",
      "\n",
      "      Fuel_type  Engine_volume    Mileage Gear_box_type     Color  \n",
      "10265    Petrol            5.0  129000 km     Automatic    Silver  \n",
      "11219    Petrol            2.4  126000 km     Automatic     White  \n",
      "15613    Petrol            2.2  169000 km        Manual     White  \n",
      "6607     Petrol            2.2   69000 km     Automatic     White  \n",
      "12849    Petrol            2.0  165000 km        Manual     White  \n",
      "3111     Petrol            2.0       0 km        Manual     Beige  \n",
      "9026     Petrol            0.6  150000 km        Manual  Sky blue  \n",
      "17071    Petrol            1.0  250000 km        Manual     Beige  \n",
      "19041    Petrol            3.2  100000 km        Manual     Green  \n"
     ]
    }
   ],
   "source": [
    "import pandas as pd\n",
    "data = pd.read_csv('https://codefinity-content-media.s3.eu-west-1.amazonaws.com/4bf24830-59ba-4418-969b-aaf8117d522e/cars.csv', index_col = 0)\n",
    "# Case without using `keep = 'all'` argument\n",
    "data_smallest = data.nsmallest(6, 'Year')\n",
    "print(data_smallest)\n",
    "\n",
    "data = pd.read_csv('https://codefinity-content-media.s3.eu-west-1.amazonaws.com/4bf24830-59ba-4418-969b-aaf8117d522e/cars.csv', index_col = 0)\n",
    "# Case with using `keep = 'all'` argument\n",
    "data_smallest = data.nsmallest(6, 'Year',\n",
    "                             keep = 'all')\n",
    "print(data_smallest)\n"
   ]
  },
  {
   "cell_type": "code",
   "execution_count": 4,
   "metadata": {},
   "outputs": [
    {
     "name": "stdout",
     "output_type": "stream",
     "text": [
      "       Price   Manufacturer     Model  Year   Category Leather_interior  \\\n",
      "221        3        HYUNDAI   Elantra  2011      Sedan              Yes   \n",
      "4776       3     VOLKSWAGEN     Jetta  2016      Sedan              Yes   \n",
      "4958       3     VOLKSWAGEN     Jetta  2014      Sedan              Yes   \n",
      "7276       3  MERCEDES-BENZ  G 55 AMG  2020       Jeep              Yes   \n",
      "8993       3         TOYOTA   Prius C  2015  Hatchback              Yes   \n",
      "9730       3            KIA  Sportage  2015       Jeep               No   \n",
      "10885      3      CHEVROLET     Cruze  2018      Sedan               No   \n",
      "13419      3         TOYOTA   Prius C  2012  Hatchback              Yes   \n",
      "14492      3     VOLKSWAGEN     Jetta  2015      Sedan              Yes   \n",
      "14642      3        PORSCHE  Panamera  2011      Sedan              Yes   \n",
      "17596      3        HYUNDAI    Sonata  2011      Sedan              Yes   \n",
      "1164       6         TOYOTA   Prius C  2015  Hatchback              Yes   \n",
      "5344       6         TOYOTA   Prius C  2015  Hatchback              Yes   \n",
      "12917      6  MERCEDES-BENZ     E 350  2016      Sedan              Yes   \n",
      "11089     20         TOYOTA     Prius  2012      Sedan              Yes   \n",
      "\n",
      "      Fuel_type  Engine_volume    Mileage Gear_box_type   Color  \n",
      "221      Petrol            1.8   80000 km     Tiptronic    Grey  \n",
      "4776     Petrol            0.0   41000 km     Automatic   White  \n",
      "4958     Petrol            0.0  134400 km     Tiptronic   Black  \n",
      "7276        LPG            0.0    1212 km        Manual  Purple  \n",
      "8993     Petrol            1.5   75200 km     Automatic     Red  \n",
      "9730     Petrol            2.4   50345 km     Tiptronic    Blue  \n",
      "10885    Petrol            1.4   61000 km     Tiptronic    Grey  \n",
      "13419    Petrol            1.5  172800 km     Automatic    Grey  \n",
      "14492    Petrol            0.0   65000 km     Automatic    Grey  \n",
      "14642    Petrol            0.0  196800 km     Automatic   Black  \n",
      "17596    Petrol            2.4  106422 km     Tiptronic   White  \n",
      "1164     Petrol            1.5  104000 km     Automatic    Grey  \n",
      "5344     Petrol            1.5  105600 km     Automatic   Black  \n",
      "12917    Petrol            0.0   33600 km     Automatic   White  \n",
      "11089    Hybrid            1.6  120000 km      Variator   White  \n"
     ]
    }
   ],
   "source": [
    "import pandas as pd\n",
    "\n",
    "data = pd.read_csv('https://codefinity-content-media.s3.eu-west-1.amazonaws.com/4bf24830-59ba-4418-969b-aaf8117d522e/cars.csv', index_col = 0)\n",
    "\n",
    "# To retrieve specific values of the column 'Year'\n",
    "data_extracted = data.loc[data['Year'] > 2010]\n",
    "# Extract the `15` cheapest cars\n",
    "data_cheapest = data_extracted.nsmallest(15, 'Price',\n",
    "                                      keep = 'all')\n",
    "\n",
    "# Print data\n",
    "print(data_cheapest)\n"
   ]
  }
 ],
 "metadata": {
  "kernelspec": {
   "display_name": "venv",
   "language": "python",
   "name": "python3"
  },
  "language_info": {
   "codemirror_mode": {
    "name": "ipython",
    "version": 3
   },
   "file_extension": ".py",
   "mimetype": "text/x-python",
   "name": "python",
   "nbconvert_exporter": "python",
   "pygments_lexer": "ipython3",
   "version": "3.13.2"
  }
 },
 "nbformat": 4,
 "nbformat_minor": 2
}
