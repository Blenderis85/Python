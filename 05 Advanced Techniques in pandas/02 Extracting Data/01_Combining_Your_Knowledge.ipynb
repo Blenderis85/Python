{
 "cells": [
  {
   "cell_type": "code",
   "execution_count": 1,
   "metadata": {},
   "outputs": [
    {
     "name": "stdout",
     "output_type": "stream",
     "text": [
      "   Price Manufacturer     Model  Year   Category Leather_interior Fuel_type  \\\n",
      "2   8467        HONDA       FIT  2006  Hatchback               No    Petrol   \n",
      "3   3607         FORD    Escape  2011       Jeep              Yes    Hybrid   \n",
      "4  11726        HONDA       FIT  2014  Hatchback              Yes    Petrol   \n",
      "5  39493      HYUNDAI  Santa FE  2016       Jeep              Yes    Diesel   \n",
      "7    549      HYUNDAI    Sonata  2013      Sedan              Yes    Petrol   \n",
      "\n",
      "   Engine_volume    Mileage Gear_box_type   Color  \n",
      "2            1.3  200000 km      Variator   Black  \n",
      "3            2.5  168966 km     Automatic   White  \n",
      "4            1.3   91901 km     Automatic  Silver  \n",
      "5            2.0  160931 km     Automatic   White  \n",
      "7            2.4  216118 km     Automatic    Grey  \n",
      "   Price Manufacturer     Model  Year   Category Leather_interior Fuel_type  \\\n",
      "2   8467        HONDA       FIT  2006  Hatchback               No    Petrol   \n",
      "3   3607         FORD    Escape  2011       Jeep              Yes    Hybrid   \n",
      "4  11726        HONDA       FIT  2014  Hatchback              Yes    Petrol   \n",
      "5  39493      HYUNDAI  Santa FE  2016       Jeep              Yes    Diesel   \n",
      "7    549      HYUNDAI    Sonata  2013      Sedan              Yes    Petrol   \n",
      "\n",
      "   Engine_volume    Mileage Gear_box_type   Color  \n",
      "2            1.3  200000 km      Variator   Black  \n",
      "3            2.5  168966 km     Automatic   White  \n",
      "4            1.3   91901 km     Automatic  Silver  \n",
      "5            2.0  160931 km     Automatic   White  \n",
      "7            2.4  216118 km     Automatic    Grey  \n"
     ]
    }
   ],
   "source": [
    "# The initial example\n",
    "import pandas as pd\n",
    "data = pd.read_csv('https://codefinity-content-media.s3.eu-west-1.amazonaws.com/4bf24830-59ba-4418-969b-aaf8117d522e/cars.csv', index_col = 0)\n",
    "models = ['HONDA', 'FORD', 'MERCEDES-BENZ', 'HYUNDAI']\n",
    "data_extracted = data.loc[data['Manufacturer'].isin(models)]\n",
    "print(data_extracted.head())\n",
    "\n",
    "# The modified example\n",
    "import pandas as pd\n",
    "data = pd.read_csv('https://codefinity-content-media.s3.eu-west-1.amazonaws.com/4bf24830-59ba-4418-969b-aaf8117d522e/cars.csv', index_col = 0)\n",
    "models = ['HONDA', 'FORD', 'MERCEDES-BENZ', 'HYUNDAI']\n",
    "condition = data['Manufacturer'].isin(models)\n",
    "data_extracted = data.loc[condition]\n",
    "print(data_extracted.head())\n"
   ]
  }
 ],
 "metadata": {
  "kernelspec": {
   "display_name": "venv",
   "language": "python",
   "name": "python3"
  },
  "language_info": {
   "codemirror_mode": {
    "name": "ipython",
    "version": 3
   },
   "file_extension": ".py",
   "mimetype": "text/x-python",
   "name": "python",
   "nbconvert_exporter": "python",
   "pygments_lexer": "ipython3",
   "version": "3.13.2"
  }
 },
 "nbformat": 4,
 "nbformat_minor": 2
}
