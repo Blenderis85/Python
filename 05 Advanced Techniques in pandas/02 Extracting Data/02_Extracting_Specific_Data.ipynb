{
 "cells": [
  {
   "cell_type": "code",
   "execution_count": 1,
   "metadata": {},
   "outputs": [
    {
     "name": "stdout",
     "output_type": "stream",
     "text": [
      "      Price Manufacturer  Model  Year   Category Leather_interior  \\\n",
      "145   18817       TOYOTA  Camry  2018      Sedan              Yes   \n",
      "498   18817       TOYOTA  Camry  2018      Sedan              Yes   \n",
      "619   18817       TOYOTA  Prius  2016      Sedan              Yes   \n",
      "661   16465         FORD  C-MAX  2016  Hatchback               No   \n",
      "2367  18817    CHEVROLET   Volt  2018      Sedan              Yes   \n",
      "\n",
      "           Fuel_type  Engine_volume   Mileage Gear_box_type  Color  \n",
      "145           Hybrid            2.5  35058 km     Automatic  White  \n",
      "498           Hybrid            2.5  35058 km     Automatic  White  \n",
      "619           Hybrid            1.8  80000 km     Tiptronic   Grey  \n",
      "661   Plug-in Hybrid            2.0      0 km     Automatic  White  \n",
      "2367          Hybrid            1.5  70720 km     Automatic  Black  \n"
     ]
    }
   ],
   "source": [
    "import pandas as pd\n",
    "\n",
    "data = pd.read_csv('https://codefinity-content-media.s3.eu-west-1.amazonaws.com/4bf24830-59ba-4418-969b-aaf8117d522e/cars.csv', index_col = 0)\n",
    "\n",
    "fuel_types = ['Plug-in Hybrid', 'Hybrid']\n",
    "# Put the condition on the column 'Price'\n",
    "condition_1 = data['Price'].between(15000, 20000, inclusive = 'left')\n",
    "# Put the condition on the column 'Year'\n",
    "condition_2 = data['Year'].between(2015, 2020, inclusive = 'neither')\n",
    "# Put the condition on the column 'Fuel_type'\n",
    "condition_3 = data['Fuel_type'].isin(fuel_types)\n",
    "\n",
    "# Unite three conditions\n",
    "data_extracted = data.loc[condition_1 & condition_2 & condition_3]\n",
    "\n",
    "print(data_extracted.head())\n"
   ]
  }
 ],
 "metadata": {
  "kernelspec": {
   "display_name": "venv",
   "language": "python",
   "name": "python3"
  },
  "language_info": {
   "codemirror_mode": {
    "name": "ipython",
    "version": 3
   },
   "file_extension": ".py",
   "mimetype": "text/x-python",
   "name": "python",
   "nbconvert_exporter": "python",
   "pygments_lexer": "ipython3",
   "version": "3.13.2"
  }
 },
 "nbformat": 4,
 "nbformat_minor": 2
}
