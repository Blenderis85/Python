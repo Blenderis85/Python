{
 "cells": [
  {
   "cell_type": "code",
   "execution_count": 1,
   "metadata": {},
   "outputs": [
    {
     "name": "stdout",
     "output_type": "stream",
     "text": [
      "Flight  Airline\n",
      "1       AA         6.416667\n",
      "        AS         6.000000\n",
      "        B6         3.116667\n",
      "        CO         8.416667\n",
      "        DL         5.166667\n",
      "        HA         5.833333\n",
      "        UA         9.150000\n",
      "        WN         1.000000\n",
      "2       AA         5.583333\n",
      "        AS         4.733333\n",
      "dtype: float64\n"
     ]
    },
    {
     "name": "stderr",
     "output_type": "stream",
     "text": [
      "C:\\Users\\agedv\\AppData\\Local\\Temp\\ipykernel_12072\\1180443529.py:3: DeprecationWarning: DataFrameGroupBy.apply operated on the grouping columns. This behavior is deprecated, and in a future version of pandas the grouping columns will be excluded from the operation. Either pass `include_groups=False` to exclude the groupings or explicitly select the grouping columns after groupby to silence this warning.\n",
      "  data_flights = data[['Flight', 'Airline', 'Length']].groupby(['Flight', 'Airline']).apply(lambda x: x['Length'].max()/60)\n"
     ]
    }
   ],
   "source": [
    "import pandas as pd\n",
    "data = pd.read_csv('https://codefinity-content-media.s3.eu-west-1.amazonaws.com/4bf24830-59ba-4418-969b-aaf8117d522e/plane', index_col = 0)\n",
    "data_flights = data[['Flight', 'Airline', 'Length']].groupby(['Flight', 'Airline']).apply(lambda x: x['Length'].max()/60)\n",
    "print(data_flights.head(10))\n"
   ]
  },
  {
   "cell_type": "code",
   "execution_count": 2,
   "metadata": {},
   "outputs": [
    {
     "name": "stdout",
     "output_type": "stream",
     "text": [
      "AirportFrom  Airline\n",
      "ABE          9E          475\n",
      "             EV          540\n",
      "             FL         1018\n",
      "             MQ          505\n",
      "             US          631\n",
      "             XE          496\n",
      "ABI          MQ          400\n",
      "ABQ          AA          465\n",
      "             DL          689\n",
      "             MQ          635\n",
      "dtype: int64\n"
     ]
    },
    {
     "name": "stderr",
     "output_type": "stream",
     "text": [
      "C:\\Users\\agedv\\AppData\\Local\\Temp\\ipykernel_12072\\1715970057.py:10: DeprecationWarning: DataFrameGroupBy.apply operated on the grouping columns. This behavior is deprecated, and in a future version of pandas the grouping columns will be excluded from the operation. Either pass `include_groups=False` to exclude the groupings or explicitly select the grouping columns after groupby to silence this warning.\n",
      "  data_flights = data[columns].groupby(['AirportFrom', 'Airline']).apply(lambda x: (x['Length'] + x['Time']).min())\n"
     ]
    }
   ],
   "source": [
    "import pandas as pd\n",
    "\n",
    "url = 'https://codefinity-content-media.s3.eu-west-1.amazonaws.com/4bf24830-59ba-4418-969b-aaf8117d522e/plane'\n",
    "data = pd.read_csv(url, index_col=0)\n",
    "\n",
    "# Store the required columns\n",
    "columns = ['AirportFrom', 'Airline', 'Time', 'Length']\n",
    "\n",
    "# Group data\n",
    "data_flights = data[columns].groupby(['AirportFrom', 'Airline']).apply(lambda x: (x['Length'] + x['Time']).min())\n",
    "\n",
    "print(data_flights.head(10))\n"
   ]
  }
 ],
 "metadata": {
  "kernelspec": {
   "display_name": "venv",
   "language": "python",
   "name": "python3"
  },
  "language_info": {
   "codemirror_mode": {
    "name": "ipython",
    "version": 3
   },
   "file_extension": ".py",
   "mimetype": "text/x-python",
   "name": "python",
   "nbconvert_exporter": "python",
   "pygments_lexer": "ipython3",
   "version": "3.13.2"
  }
 },
 "nbformat": 4,
 "nbformat_minor": 2
}
