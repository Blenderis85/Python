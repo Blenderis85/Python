{
 "cells": [
  {
   "cell_type": "code",
   "execution_count": 1,
   "metadata": {},
   "outputs": [
    {
     "name": "stdout",
     "output_type": "stream",
     "text": [
      "                    Delay Length     \n",
      "                    count    max  min\n",
      "Airline AirportFrom                  \n",
      "9E      ABE             9    115  112\n",
      "        ALB            16    183   90\n",
      "        AMA             6    120  120\n",
      "        ATL           106    160   55\n",
      "        ATW             3     76   76\n",
      "        AUS             4    110  106\n",
      "        AVP             9    105  100\n",
      "        AZO            11    106   56\n",
      "        BDL             6    123   75\n",
      "        BGM             9    103   96\n"
     ]
    }
   ],
   "source": [
    "import pandas as pd\n",
    "\n",
    "data = pd.read_csv('https://codefinity-content-media.s3.eu-west-1.amazonaws.com/4bf24830-59ba-4418-969b-aaf8117d522e/plane', index_col=0)\n",
    "\n",
    "# Create pivot table\n",
    "data = pd.pivot_table(data, \n",
    "                      index=['Airline', 'AirportFrom'],  # Set index columns\n",
    "                      values=['Delay', 'Length'],  # Set values columns\n",
    "                      aggfunc={'Length': ['min', 'max'], 'Delay': 'count'})  # Aggregate functions\n",
    "\n",
    "print(data.head(10))\n"
   ]
  }
 ],
 "metadata": {
  "kernelspec": {
   "display_name": "venv",
   "language": "python",
   "name": "python3"
  },
  "language_info": {
   "codemirror_mode": {
    "name": "ipython",
    "version": 3
   },
   "file_extension": ".py",
   "mimetype": "text/x-python",
   "name": "python",
   "nbconvert_exporter": "python",
   "pygments_lexer": "ipython3",
   "version": "3.13.2"
  }
 },
 "nbformat": 4,
 "nbformat_minor": 2
}
