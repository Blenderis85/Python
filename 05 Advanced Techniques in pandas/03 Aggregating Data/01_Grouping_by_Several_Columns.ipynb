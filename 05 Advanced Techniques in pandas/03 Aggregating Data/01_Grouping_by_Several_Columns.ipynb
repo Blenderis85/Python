{
 "cells": [
  {
   "cell_type": "code",
   "execution_count": 1,
   "metadata": {},
   "outputs": [
    {
     "name": "stdout",
     "output_type": "stream",
     "text": [
      "                Delay\n",
      "Flight Airline       \n",
      "1      AA           3\n",
      "       AS           3\n",
      "       B6           3\n",
      "       CO           3\n",
      "       DL           3\n",
      "       HA           3\n",
      "       UA           3\n",
      "       WN           6\n",
      "2      AA           3\n",
      "       AS           3\n"
     ]
    }
   ],
   "source": [
    "import pandas as pd\n",
    "data = pd.read_csv('https://codefinity-content-media.s3.eu-west-1.amazonaws.com/4bf24830-59ba-4418-969b-aaf8117d522e/plane', index_col = 0)\n",
    "data_flights = data[['Flight', 'Delay', 'Airline']].groupby(['Flight', 'Airline']).count()\n",
    "print(data_flights.head(10))\n"
   ]
  },
  {
   "cell_type": "code",
   "execution_count": 2,
   "metadata": {},
   "outputs": [
    {
     "name": "stdout",
     "output_type": "stream",
     "text": [
      "                             Time\n",
      "AirportFrom DayOfWeek            \n",
      "ABE         3          675.600000\n",
      "            4          690.545455\n",
      "            5          561.000000\n",
      "ABI         3          623.571429\n",
      "            4          623.571429\n",
      "            5          623.571429\n",
      "ABQ         3          783.717391\n",
      "            4          779.322581\n",
      "            5          694.894737\n",
      "ABY         3          680.000000\n"
     ]
    }
   ],
   "source": [
    "import pandas as pd\n",
    "\n",
    "data = pd.read_csv('https://codefinity-content-media.s3.eu-west-1.amazonaws.com/4bf24830-59ba-4418-969b-aaf8117d522e/plane', index_col=0)\n",
    "\n",
    "# Group data\n",
    "data_flights = data[['AirportFrom', 'DayOfWeek', 'Time']].groupby(['AirportFrom', 'DayOfWeek']).mean()\n",
    "\n",
    "# Output the first 10 rows of the data set\n",
    "print(data_flights.head(10))\n"
   ]
  }
 ],
 "metadata": {
  "kernelspec": {
   "display_name": "venv",
   "language": "python",
   "name": "python3"
  },
  "language_info": {
   "codemirror_mode": {
    "name": "ipython",
    "version": 3
   },
   "file_extension": ".py",
   "mimetype": "text/x-python",
   "name": "python",
   "nbconvert_exporter": "python",
   "pygments_lexer": "ipython3",
   "version": "3.13.2"
  }
 },
 "nbformat": 4,
 "nbformat_minor": 2
}
