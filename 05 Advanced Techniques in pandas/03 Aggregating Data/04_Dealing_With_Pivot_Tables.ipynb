{
 "cells": [
  {
   "cell_type": "code",
   "execution_count": 1,
   "metadata": {},
   "outputs": [
    {
     "name": "stdout",
     "output_type": "stream",
     "text": [
      "            Length\n",
      "Flight            \n",
      "1       306.222222\n",
      "2       278.900000\n",
      "3       235.409091\n",
      "4       150.500000\n",
      "5       185.219512\n"
     ]
    }
   ],
   "source": [
    "import pandas as pd\n",
    "\n",
    "data = pd.read_csv('https://codefinity-content-media.s3.eu-west-1.amazonaws.com/4bf24830-59ba-4418-969b-aaf8117d522e/plane', index_col = 0)\n",
    "\n",
    "# The code using .groupby()\n",
    "data_flights_1 = data[['Length', 'Flight']].groupby('Flight').mean()\n",
    "# The same code using .groupby()\n",
    "data_flights_2 = data[['Length', 'Flight']].groupby('Flight').agg('mean')\n",
    "\n",
    "# The same code using .pivot_table()\n",
    "data_flights_3 = pd.pivot_table(data, values = 'Length',\n",
    "                      index = 'Flight',\n",
    "                      aggfunc = 'mean')\n",
    "\n",
    "print(data_flights_1.head())\n"
   ]
  }
 ],
 "metadata": {
  "kernelspec": {
   "display_name": "venv",
   "language": "python",
   "name": "python3"
  },
  "language_info": {
   "codemirror_mode": {
    "name": "ipython",
    "version": 3
   },
   "file_extension": ".py",
   "mimetype": "text/x-python",
   "name": "python",
   "nbconvert_exporter": "python",
   "pygments_lexer": "ipython3",
   "version": "3.13.2"
  }
 },
 "nbformat": 4,
 "nbformat_minor": 2
}
