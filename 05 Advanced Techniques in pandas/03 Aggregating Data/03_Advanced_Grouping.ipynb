{
 "cells": [
  {
   "cell_type": "code",
   "execution_count": 1,
   "metadata": {},
   "outputs": [
    {
     "name": "stdout",
     "output_type": "stream",
     "text": [
      "        Delay Length     \n",
      "        count    min  max\n",
      "Airline                  \n",
      "9E       1944     39  190\n",
      "AA       4186     50  560\n",
      "AS       1044     24  413\n",
      "B6       1505     63  406\n",
      "CO       1876     49  655\n",
      "DL       5799     50  620\n",
      "EV       2671     40  209\n",
      "F9        581     82  272\n",
      "FL       1818     64  342\n",
      "HA        499     30  405\n"
     ]
    }
   ],
   "source": [
    "import pandas as pd\n",
    "data = pd.read_csv('https://codefinity-content-media.s3.eu-west-1.amazonaws.com/4bf24830-59ba-4418-969b-aaf8117d522e/plane', index_col = 0)\n",
    "data_flights = data.groupby('Airline').agg({'Delay': 'count', 'Length': ['min', 'max']})\n",
    "print(data_flights.head(10))\n"
   ]
  },
  {
   "cell_type": "code",
   "execution_count": 2,
   "metadata": {},
   "outputs": [
    {
     "name": "stdout",
     "output_type": "stream",
     "text": [
      "                              Time       Length\n",
      "                              mean   max median\n",
      "AirportFrom AirportTo                          \n",
      "ABE         ATL         395.000000   395  145.0\n",
      "            CLT         525.000000   525  106.0\n",
      "            DTW         696.000000   981  113.0\n",
      "            FLL         840.000000   840  178.0\n",
      "            MCO        1123.000000  1123  156.0\n",
      "            ORD         611.818182  1145  140.0\n",
      "ABI         DFW         623.571429  1065   50.0\n",
      "ABQ         ATL         650.000000   790  179.0\n",
      "            BWI         510.000000   510  220.0\n",
      "            DAL         816.136364  1215   95.0\n"
     ]
    }
   ],
   "source": [
    "import pandas as pd\n",
    "\n",
    "# Load data\n",
    "data = pd.read_csv('https://codefinity-content-media.s3.eu-west-1.amazonaws.com/4bf24830-59ba-4418-969b-aaf8117d522e/plane', index_col=0)\n",
    "\n",
    "# Group data and aggregate\n",
    "data_flights = data.groupby(['AirportFrom', 'AirportTo']).agg({'Time': ['mean', 'max'], 'Length': 'median'})\n",
    "\n",
    "print(data_flights.head(10))\n"
   ]
  }
 ],
 "metadata": {
  "kernelspec": {
   "display_name": "venv",
   "language": "python",
   "name": "python3"
  },
  "language_info": {
   "codemirror_mode": {
    "name": "ipython",
    "version": 3
   },
   "file_extension": ".py",
   "mimetype": "text/x-python",
   "name": "python",
   "nbconvert_exporter": "python",
   "pygments_lexer": "ipython3",
   "version": "3.13.2"
  }
 },
 "nbformat": 4,
 "nbformat_minor": 2
}
