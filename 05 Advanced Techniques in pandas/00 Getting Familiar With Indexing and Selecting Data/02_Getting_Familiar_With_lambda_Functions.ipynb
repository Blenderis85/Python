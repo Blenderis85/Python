{
 "cells": [
  {
   "cell_type": "markdown",
   "metadata": {},
   "source": [
    "```python\n",
    "data.iloc[lambda x: x.index < 5]\n",
    "```"
   ]
  },
  {
   "cell_type": "code",
   "execution_count": 1,
   "metadata": {},
   "outputs": [
    {
     "name": "stdout",
     "output_type": "stream",
     "text": [
      "                    Title            Director  \\\n",
      "0       Top Gun: Maverick      JosephKosinski   \n",
      "2              The Batman          MattReeves   \n",
      "4           The Godfather  FrancisFordCoppola   \n",
      "6  RRR (Rise Roar Revolt)       S.S.Rajamouli   \n",
      "8          Dune: Part One     DenisVilleneuve   \n",
      "\n",
      "                                               Stars  IMDb-Rating  \\\n",
      "0  TomCruise, JenniferConnelly, MilesTeller, ValK...          8.6   \n",
      "2  RobertPattinson, ZoëKravitz, JeffreyWright, Co...          7.9   \n",
      "4     MarlonBrando, AlPacino, JamesCaan, DianeKeaton          9.2   \n",
      "6    N.T.RamaRaoJr., RamCharan, AjayDevgn, AliaBhatt          8.1   \n",
      "8  TimothéeChalamet, RebeccaFerguson, Zendaya, Os...          8.0   \n",
      "\n",
      "                 Category Duration Censor-board-rating  ReleaseYear  \n",
      "0            Action,Drama   130min                  UA         2022  \n",
      "2      Action,Crime,Drama   176min                  UA         2022  \n",
      "4             Crime,Drama   175min                   A         1972  \n",
      "6            Action,Drama   187min                  UA         2022  \n",
      "8  Action,Adventure,Drama   155min                  UA         2021                           Title             Director  \\\n",
      "991  Her Sey Çok Güzel Olacak            ÖmerVargi   \n",
      "993          Paan Singh Tomar      TigmanshuDhulia   \n",
      "995                 Vizontele       YilmazErdogan,   \n",
      "997                     Udaan  VikramadityaMotwane   \n",
      "999                     Anand  HrishikeshMukherjee   \n",
      "\n",
      "                                                 Stars  IMDb-Rating  \\\n",
      "991  CemYilmaz, MazharAlanson, CeydaDüvenci, SelimN...          8.1   \n",
      "993  IrrfanKhan, MahieGill, RajeshAbhay, HemendraDa...          8.2   \n",
      "995  , YilmazErdogan, DemetAkbag, AltanErkekli, Cem...          8.0   \n",
      "997    RajatBarmecha, RonitRoy, ManjotSingh, RamKapoor          8.1   \n",
      "999  RajeshKhanna, AmitabhBachchan, SumitaSanyal, R...          8.1   \n",
      "\n",
      "                   Category Duration Censor-board-rating  ReleaseYear  \n",
      "991   Comedy,Drama,Thriller   107min                 NaN         1998  \n",
      "993  Action,Biography,Crime   135min                  UA         2012  \n",
      "995            Comedy,Drama   110min                 NaN         2001  \n",
      "997                   Drama   134min                  UA         2010  \n",
      "999           Drama,Musical   122min                   U         1971  \n"
     ]
    }
   ],
   "source": [
    "# Import the `pandas` library\n",
    "import pandas as pd\n",
    "\n",
    "# Read the csv file\n",
    "data = pd.read_csv('https://codefinity-content-media.s3.eu-west-1.amazonaws.com/4bf24830-59ba-4418-969b-aaf8117d522e/IMDb_Data_final.csv')\n",
    "\n",
    "# Extract data with even indices\n",
    "even = data.iloc[lambda x: x.index % 2 == 0]\n",
    "# Extract data with odd indices\n",
    "odd = data.iloc[lambda x: x.index % 2 != 0]\n",
    "\n",
    "# Output data\n",
    "print(even.head(), odd.tail())\n"
   ]
  }
 ],
 "metadata": {
  "kernelspec": {
   "display_name": "venv",
   "language": "python",
   "name": "python3"
  },
  "language_info": {
   "codemirror_mode": {
    "name": "ipython",
    "version": 3
   },
   "file_extension": ".py",
   "mimetype": "text/x-python",
   "name": "python",
   "nbconvert_exporter": "python",
   "pygments_lexer": "ipython3",
   "version": "3.13.2"
  }
 },
 "nbformat": 4,
 "nbformat_minor": 2
}
