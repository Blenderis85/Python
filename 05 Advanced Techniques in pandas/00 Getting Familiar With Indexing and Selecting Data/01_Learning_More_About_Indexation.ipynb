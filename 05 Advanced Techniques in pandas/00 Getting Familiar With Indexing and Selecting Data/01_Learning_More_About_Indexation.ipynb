{
 "cells": [
  {
   "cell_type": "code",
   "execution_count": 1,
   "metadata": {},
   "outputs": [
    {
     "name": "stdout",
     "output_type": "stream",
     "text": [
      "Name     Emily\n",
      "Age         30\n",
      "City    London\n",
      "Name: 1, dtype: object\n",
      "Name          Ava\n",
      "Age            29\n",
      "City    Melbourne\n",
      "Name: 9, dtype: object\n"
     ]
    }
   ],
   "source": [
    "import pandas as pd\n",
    "data = pd.read_csv('https://codefinity-content-media.s3.eu-west-1.amazonaws.com/4bf24830-59ba-4418-969b-aaf8117d522e/people.csv')\n",
    "\n",
    "print(data.iloc[1]) # CHANGE CODE HERE (to answer the question below)\n",
    "print(data.iloc[-1]) # CHANGE CODE HERE (to answer the question below)\n"
   ]
  }
 ],
 "metadata": {
  "kernelspec": {
   "display_name": "venv",
   "language": "python",
   "name": "python3"
  },
  "language_info": {
   "codemirror_mode": {
    "name": "ipython",
    "version": 3
   },
   "file_extension": ".py",
   "mimetype": "text/x-python",
   "name": "python",
   "nbconvert_exporter": "python",
   "pygments_lexer": "ipython3",
   "version": "3.13.2"
  }
 },
 "nbformat": 4,
 "nbformat_minor": 2
}
