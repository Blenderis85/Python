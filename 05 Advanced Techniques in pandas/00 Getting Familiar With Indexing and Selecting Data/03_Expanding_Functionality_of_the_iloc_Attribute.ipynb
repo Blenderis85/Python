{
 "cells": [
  {
   "cell_type": "code",
   "execution_count": 1,
   "metadata": {},
   "outputs": [
    {
     "name": "stdout",
     "output_type": "stream",
     "text": [
      "                                                                               Stars  \\\n",
      "Title                                                                                  \n",
      "Top Gun: Maverick                  TomCruise, JenniferConnelly, MilesTeller, ValK...   \n",
      "Everything Everywhere All at Once  , MichelleYeoh, StephanieHsu, KeHuyQuan, James...   \n",
      "The Batman                         RobertPattinson, ZoëKravitz, JeffreyWright, Co...   \n",
      "Jurassic Park                      SamNeill, LauraDern, JeffGoldblum, RichardAtte...   \n",
      "The Godfather                         MarlonBrando, AlPacino, JamesCaan, DianeKeaton   \n",
      "\n",
      "                                  Duration  \n",
      "Title                                       \n",
      "Top Gun: Maverick                   130min  \n",
      "Everything Everywhere All at Once   139min  \n",
      "The Batman                          176min  \n",
      "Jurassic Park                       127min  \n",
      "The Godfather                       175min  \n"
     ]
    }
   ],
   "source": [
    "import pandas as pd\n",
    "\n",
    "data = pd.read_csv('https://codefinity-content-media.s3.eu-west-1.amazonaws.com/4bf24830-59ba-4418-969b-aaf8117d522e/IMDb_Data_final.csv', index_col = 0)\n",
    "\n",
    "# Extract needed rows and columns\n",
    "data_extracted = data.iloc[:50, [1,4]]\n",
    "\n",
    "print(data_extracted.head())\n"
   ]
  }
 ],
 "metadata": {
  "kernelspec": {
   "display_name": "venv",
   "language": "python",
   "name": "python3"
  },
  "language_info": {
   "codemirror_mode": {
    "name": "ipython",
    "version": 3
   },
   "file_extension": ".py",
   "mimetype": "text/x-python",
   "name": "python",
   "nbconvert_exporter": "python",
   "pygments_lexer": "ipython3",
   "version": "3.13.2"
  }
 },
 "nbformat": 4,
 "nbformat_minor": 2
}
