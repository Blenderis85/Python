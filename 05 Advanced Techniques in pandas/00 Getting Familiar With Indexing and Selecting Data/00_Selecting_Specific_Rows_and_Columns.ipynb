{
 "cells": [
  {
   "cell_type": "code",
   "execution_count": 1,
   "metadata": {},
   "outputs": [
    {
     "name": "stdout",
     "output_type": "stream",
     "text": [
      "                                           Title  \\\n",
      "15                                   The Goonies   \n",
      "16                               American Psycho   \n",
      "17                             Avengers: Endgame   \n",
      "18  Star Wars: Episode III - Revenge of the Sith   \n",
      "19                                 The Gentlemen   \n",
      "..                                           ...   \n",
      "81                                           Her   \n",
      "82                         The Dark Knight Rises   \n",
      "83                            Mad Max: Fury Road   \n",
      "84                   Once Upon a Time in America   \n",
      "85                                     Prisoners   \n",
      "\n",
      "                                                Stars  \\\n",
      "15     SeanAstin, JoshBrolin, JeffCohen, CoreyFeldman   \n",
      "16  ChristianBale, JustinTheroux, JoshLucas, BillSage   \n",
      "17  , RobertDowneyJr., ChrisEvans, MarkRuffalo, Ch...   \n",
      "18  HaydenChristensen, NataliePortman, EwanMcGrego...   \n",
      "19  MatthewMcConaughey, CharlieHunnam, MichelleDoc...   \n",
      "..                                                ...   \n",
      "81  JoaquinPhoenix, AmyAdams, ScarlettJohansson, R...   \n",
      "82  ChristianBale, TomHardy, AnneHathaway, GaryOldman   \n",
      "83  TomHardy, CharlizeTheron, NicholasHoult, ZoëKr...   \n",
      "84  RobertDeNiro, JamesWoods, ElizabethMcGovern, T...   \n",
      "85  HughJackman, JakeGyllenhaal, ViolaDavis, Melis...   \n",
      "\n",
      "                    Category  \n",
      "15   Adventure,Comedy,Family  \n",
      "16        Crime,Drama,Horror  \n",
      "17    Action,Adventure,Drama  \n",
      "18  Action,Adventure,Fantasy  \n",
      "19       Action,Comedy,Crime  \n",
      "..                       ...  \n",
      "81      Drama,Romance,Sci-Fi  \n",
      "82              Action,Drama  \n",
      "83   Action,Adventure,Sci-Fi  \n",
      "84               Crime,Drama  \n",
      "85       Crime,Drama,Mystery  \n",
      "\n",
      "[71 rows x 3 columns]\n"
     ]
    }
   ],
   "source": [
    "# Import the `pandas` library\n",
    "import pandas as pd\n",
    "\n",
    "# Read the csv file\n",
    "data = pd.read_csv('https://codefinity-content-media.s3.eu-west-1.amazonaws.com/4bf24830-59ba-4418-969b-aaf8117d522e/IMDb_Data_final.csv')\n",
    "\n",
    "# Slice the data\n",
    "data_extracted = data.loc[15:85, ['Title', 'Stars', 'Category']]\n",
    "\n",
    "# Output the resulting dataset\n",
    "print(data_extracted)\n"
   ]
  }
 ],
 "metadata": {
  "kernelspec": {
   "display_name": "venv",
   "language": "python",
   "name": "python3"
  },
  "language_info": {
   "codemirror_mode": {
    "name": "ipython",
    "version": 3
   },
   "file_extension": ".py",
   "mimetype": "text/x-python",
   "name": "python",
   "nbconvert_exporter": "python",
   "pygments_lexer": "ipython3",
   "version": "3.13.2"
  }
 },
 "nbformat": 4,
 "nbformat_minor": 2
}
