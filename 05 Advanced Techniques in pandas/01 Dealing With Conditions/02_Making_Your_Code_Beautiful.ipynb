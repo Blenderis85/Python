{
 "cells": [
  {
   "cell_type": "code",
   "execution_count": 1,
   "metadata": {},
   "outputs": [],
   "source": [
    "# The first way\n",
    "import pandas as pd\n",
    "data = pd.read_csv('https://codefinity-content-media.s3.eu-west-1.amazonaws.com/4bf24830-59ba-4418-969b-aaf8117d522e/planet', index_col = 0)\n",
    "data_extracted = data.loc[(data['est_diameter_min'] > 3.5) & (data['hazardous'] == True)]\n",
    "\n",
    "# The second way\n",
    "import pandas as pd\n",
    "data = pd.read_csv('https://codefinity-content-media.s3.eu-west-1.amazonaws.com/4bf24830-59ba-4418-969b-aaf8117d522e/planet', index_col = 0)\n",
    "condition_1 = data['est_diameter_min'] > 3.5\n",
    "condition_2 = data['hazardous'] == True\n",
    "data_extracted = data.loc[condition_1 & condition_2]\n"
   ]
  },
  {
   "cell_type": "code",
   "execution_count": 2,
   "metadata": {},
   "outputs": [
    {
     "name": "stdout",
     "output_type": "stream",
     "text": [
      "         id                 name  est_diameter_min  est_diameter_max  \\\n",
      "0   2162635  162635 (2000 SS164)          1.198271          2.679415   \n",
      "2   2512244   512244 (2015 YE18)          0.722030          1.614507   \n",
      "3   3596030          (2012 BV13)          0.096506          0.215794   \n",
      "5  54138696          (2021 GY23)          0.036354          0.081291   \n",
      "6  54189957          (2021 PY40)          0.171615          0.383743   \n",
      "\n",
      "   absolute_magnitude  hazardous  \n",
      "0               16.73      False  \n",
      "2               17.83      False  \n",
      "3               22.20      False  \n",
      "5               24.32      False  \n",
      "6               20.95      False  \n"
     ]
    }
   ],
   "source": [
    "import pandas as pd\n",
    "\n",
    "data = pd.read_csv('https://codefinity-content-media.s3.eu-west-1.amazonaws.com/4bf24830-59ba-4418-969b-aaf8117d522e/planet', index_col = 0)\n",
    "\n",
    "# Write the first condition\n",
    "condition_1 = data['est_diameter_min'] < 0.01\n",
    "# Write the second condition\n",
    "condition_2 = data['absolute_magnitude'] > 20\n",
    "# Write the third condition\n",
    "condition_3 = data['hazardous'] == False\n",
    "# Write the general condition\n",
    "data_extracted = data.loc[(condition_1 & condition_2) | condition_3]\n",
    "\n",
    "print(data_extracted.head())\n"
   ]
  }
 ],
 "metadata": {
  "kernelspec": {
   "display_name": "venv",
   "language": "python",
   "name": "python3"
  },
  "language_info": {
   "codemirror_mode": {
    "name": "ipython",
    "version": 3
   },
   "file_extension": ".py",
   "mimetype": "text/x-python",
   "name": "python",
   "nbconvert_exporter": "python",
   "pygments_lexer": "ipython3",
   "version": "3.13.2"
  }
 },
 "nbformat": 4,
 "nbformat_minor": 2
}
