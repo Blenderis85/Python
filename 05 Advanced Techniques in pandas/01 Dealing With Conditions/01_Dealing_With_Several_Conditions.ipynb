{
 "cells": [
  {
   "cell_type": "code",
   "execution_count": 1,
   "metadata": {},
   "outputs": [
    {
     "name": "stdout",
     "output_type": "stream",
     "text": [
      "            id                      name  est_diameter_min  est_diameter_max  \\\n",
      "22026  2003200   3200 Phaethon (1983 TB)          3.503926          7.835018   \n",
      "31809  2003122  3122 Florence (1981 ET3)          4.135757          9.247833   \n",
      "38947  2004183       4183 Cuno (1959 LM)          3.967848          8.872377   \n",
      "44162  2003200   3200 Phaethon (1983 TB)          3.503926          7.835018   \n",
      "48890  2003122  3122 Florence (1981 ET3)          4.135757          9.247833   \n",
      "50832  2003200   3200 Phaethon (1983 TB)          3.503926          7.835018   \n",
      "65707  2004183       4183 Cuno (1959 LM)          3.967848          8.872377   \n",
      "\n",
      "       absolute_magnitude  hazardous  \n",
      "22026               14.40       True  \n",
      "31809               14.04       True  \n",
      "38947               14.13       True  \n",
      "44162               14.40       True  \n",
      "48890               14.04       True  \n",
      "50832               14.40       True  \n",
      "65707               14.13       True  \n"
     ]
    }
   ],
   "source": [
    "import pandas as pd\n",
    "data = pd.read_csv('https://codefinity-content-media.s3.eu-west-1.amazonaws.com/4bf24830-59ba-4418-969b-aaf8117d522e/planet', index_col = 0)\n",
    "data_extracted = data.loc[(data['est_diameter_min'] > 3.5) & (data['hazardous'] == True)]\n",
    "print(data_extracted)\n"
   ]
  },
  {
   "cell_type": "code",
   "execution_count": 2,
   "metadata": {},
   "outputs": [
    {
     "name": "stdout",
     "output_type": "stream",
     "text": [
      "            id                    name  est_diameter_min  est_diameter_max  \\\n",
      "12709  2000433      433 Eros (A898 PA)         23.043847         51.527608   \n",
      "36418  2001036  1036 Ganymed (A924 UB)         37.892650         84.730541   \n",
      "37651  2000433      433 Eros (A898 PA)         23.043847         51.527608   \n",
      "56533  2000433      433 Eros (A898 PA)         23.043847         51.527608   \n",
      "\n",
      "       absolute_magnitude  hazardous  \n",
      "12709               10.31      False  \n",
      "36418                9.23      False  \n",
      "37651               10.31      False  \n",
      "56533               10.31      False  \n"
     ]
    }
   ],
   "source": [
    "import pandas as pd\n",
    "data = pd.read_csv('https://codefinity-content-media.s3.eu-west-1.amazonaws.com/4bf24830-59ba-4418-969b-aaf8117d522e/planet', index_col = 0)\n",
    "data_extracted = data.loc[(data['est_diameter_min'] < 0.0005) | (data['est_diameter_max'] > 20)]\n",
    "print(data_extracted)\n"
   ]
  },
  {
   "cell_type": "code",
   "execution_count": 3,
   "metadata": {},
   "outputs": [
    {
     "name": "stdout",
     "output_type": "stream",
     "text": [
      "             id          name  est_diameter_min  est_diameter_max  \\\n",
      "79978   3651161  (2013 TG135)          0.024241          0.054205   \n",
      "2286    3092390     (2001 UP)          0.019256          0.043057   \n",
      "82001  54102018    (2020 YM3)          0.016016          0.035813   \n",
      "13081  54217962    (2021 VW5)          0.012605          0.028186   \n",
      "55773   3836277     (2018 WN)          0.012149          0.027167   \n",
      "\n",
      "       absolute_magnitude  hazardous  \n",
      "79978               25.20      False  \n",
      "2286                25.70      False  \n",
      "82001               26.10      False  \n",
      "13081               26.62      False  \n",
      "55773               26.70      False  \n"
     ]
    }
   ],
   "source": [
    "import pandas as pd\n",
    "\n",
    "data = pd.read_csv('https://codefinity-content-media.s3.eu-west-1.amazonaws.com/4bf24830-59ba-4418-969b-aaf8117d522e/planet', index_col = 0)\n",
    "\n",
    "# Extract data\n",
    "data_extracted = data.loc[(data['absolute_magnitude'] >= 25) & (data['hazardous'] == False)]\n",
    "\n",
    "# Output data\n",
    "print(data_extracted.sample(5))\n"
   ]
  }
 ],
 "metadata": {
  "kernelspec": {
   "display_name": "venv",
   "language": "python",
   "name": "python3"
  },
  "language_info": {
   "codemirror_mode": {
    "name": "ipython",
    "version": 3
   },
   "file_extension": ".py",
   "mimetype": "text/x-python",
   "name": "python",
   "nbconvert_exporter": "python",
   "pygments_lexer": "ipython3",
   "version": "3.13.2"
  }
 },
 "nbformat": 4,
 "nbformat_minor": 2
}
