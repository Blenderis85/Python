{
 "cells": [
  {
   "cell_type": "code",
   "execution_count": 1,
   "metadata": {},
   "outputs": [
    {
     "name": "stdout",
     "output_type": "stream",
     "text": [
      "                  name  hazardous\n",
      "1    277475 (2005 WK4)       True\n",
      "4          (2014 GE35)       True\n",
      "10          (2020 OT6)       True\n",
      "23  506491 (2003 UW29)       True\n",
      "27           (2017 RV)       True\n"
     ]
    }
   ],
   "source": [
    "import pandas as pd\n",
    "\n",
    "# Load data\n",
    "data = pd.read_csv('https://codefinity-content-media.s3.eu-west-1.amazonaws.com/4bf24830-59ba-4418-969b-aaf8117d522e/planet')\n",
    "\n",
    "# Extract all rows from the columns 'name' and 'hazardous'\n",
    "data_extracted = data.loc[:, ['name', 'hazardous']]\n",
    "\n",
    "# Filter data to include only hazardous asteroids\n",
    "data_filtered = data_extracted.loc[data_extracted['hazardous'] == True]\n",
    "\n",
    "# Output the first five rows\n",
    "print(data_filtered.head())\n"
   ]
  }
 ],
 "metadata": {
  "kernelspec": {
   "display_name": "venv",
   "language": "python",
   "name": "python3"
  },
  "language_info": {
   "codemirror_mode": {
    "name": "ipython",
    "version": 3
   },
   "file_extension": ".py",
   "mimetype": "text/x-python",
   "name": "python",
   "nbconvert_exporter": "python",
   "pygments_lexer": "ipython3",
   "version": "3.13.2"
  }
 },
 "nbformat": 4,
 "nbformat_minor": 2
}
