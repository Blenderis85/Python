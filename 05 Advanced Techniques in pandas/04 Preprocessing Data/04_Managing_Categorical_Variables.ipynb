{
 "cells": [
  {
   "cell_type": "code",
   "execution_count": 1,
   "metadata": {},
   "outputs": [
    {
     "name": "stdout",
     "output_type": "stream",
     "text": [
      "                                       Name  Embarked_C  Embarked_Q  \\\n",
      "415            Saether, Mr. Simon Sivertsen       False       False   \n",
      "128                    Bowenur, Mr. Solomon       False       False   \n",
      "117         Sandstrom, Miss. Beatrice Irene       False       False   \n",
      "371               Wilson, Miss. Helen Alice        True       False   \n",
      "286  Franklin, Mr. Charles (Charles Fardon)       False       False   \n",
      "\n",
      "     Embarked_S  \n",
      "415        True  \n",
      "128        True  \n",
      "117        True  \n",
      "371       False  \n",
      "286        True  \n"
     ]
    }
   ],
   "source": [
    "import pandas as pd\n",
    "data = pd.read_csv('https://codefinity-content-media.s3.eu-west-1.amazonaws.com/4bf24830-59ba-4418-969b-aaf8117d522e/titanic3.csv', index_col = 0)\n",
    "data = pd.get_dummies(data, columns = ['Embarked'])\n",
    "print(data[['Name', 'Embarked_C', 'Embarked_Q', 'Embarked_S']].sample(5))\n"
   ]
  },
  {
   "cell_type": "markdown",
   "metadata": {},
   "source": [
    "```python\n",
    "pd.get_dummies(data, columns = ['Embarked'])\n",
    "```"
   ]
  },
  {
   "cell_type": "code",
   "execution_count": 2,
   "metadata": {},
   "outputs": [
    {
     "name": "stdout",
     "output_type": "stream",
     "text": [
      "265 152\n"
     ]
    }
   ],
   "source": [
    "import pandas as pd\n",
    "\n",
    "# Load the dataset\n",
    "data = pd.read_csv('https://codefinity-content-media.s3.eu-west-1.amazonaws.com/4bf24830-59ba-4418-969b-aaf8117d522e/titanic3.csv', index_col=0)\n",
    "\n",
    "# Modify the column by converting 'Sex' into dummy variables\n",
    "data = pd.get_dummies(data, columns=['Sex'])\n",
    "\n",
    "# Calculate the sum of values for each category\n",
    "sex_male = data['Sex_male'].sum()\n",
    "sex_female = data['Sex_female'].sum()\n",
    "\n",
    "# Output the sum\n",
    "print(sex_male, sex_female)\n"
   ]
  }
 ],
 "metadata": {
  "kernelspec": {
   "display_name": "venv",
   "language": "python",
   "name": "python3"
  },
  "language_info": {
   "codemirror_mode": {
    "name": "ipython",
    "version": 3
   },
   "file_extension": ".py",
   "mimetype": "text/x-python",
   "name": "python",
   "nbconvert_exporter": "python",
   "pygments_lexer": "ipython3",
   "version": "3.13.2"
  }
 },
 "nbformat": 4,
 "nbformat_minor": 2
}
