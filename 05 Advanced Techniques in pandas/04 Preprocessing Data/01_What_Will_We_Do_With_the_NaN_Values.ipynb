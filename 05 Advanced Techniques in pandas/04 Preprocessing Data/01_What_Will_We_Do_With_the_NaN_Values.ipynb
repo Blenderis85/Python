{
 "cells": [
  {
   "cell_type": "markdown",
   "metadata": {},
   "source": [
    "```python\n",
    "# If you want to delete one column\n",
    "data.drop(columns = 'column_name', inplace = True)\n",
    "\n",
    "# If you want to delete several columns\n",
    "data.drop(columns = ['column_1', 'column_2'], inplace = True)\n",
    "```"
   ]
  },
  {
   "cell_type": "code",
   "execution_count": 1,
   "metadata": {},
   "outputs": [
    {
     "name": "stdout",
     "output_type": "stream",
     "text": [
      "     Unnamed: 0  PassengerId  Survived  Pclass  \\\n",
      "252         252         1144         0       1   \n",
      "158         158         1050         0       1   \n",
      "12           12          904         1       1   \n",
      "255         255         1147         0       3   \n",
      "37           37          929         1       3   \n",
      "\n",
      "                                              Name     Sex   Age  SibSp  \\\n",
      "252                       Clark, Mr. Walter Miller    male  27.0      1   \n",
      "158                       Borebank, Mr. John James    male  42.0      0   \n",
      "12   Snyder, Mrs. John Pillsbury (Nelle Stevenson)  female  23.0      1   \n",
      "255                     MacKay, Mr. George William    male   NaN      0   \n",
      "37                              Cacic, Miss. Manda  female  21.0      0   \n",
      "\n",
      "     Parch      Ticket      Fare Embarked  \n",
      "252      0       13508  136-7792        C  \n",
      "158      0      110489     26-55        S  \n",
      "12       0       21228   82-2667        S  \n",
      "255      0  C.A. 42795      7-55        S  \n",
      "37       0      315087    8-6625        S  \n"
     ]
    }
   ],
   "source": [
    "import pandas as pd\n",
    "\n",
    "data = pd.read_csv('https://codefinity-content-media.s3.eu-west-1.amazonaws.com/4bf24830-59ba-4418-969b-aaf8117d522e/titanic_0.csv')\n",
    "\n",
    "# Delete the column with the greatest number of NaN values\n",
    "data.drop(columns = 'Cabin', inplace = True)\n",
    "\n",
    "# Output the result\n",
    "print(data.sample(5))\n"
   ]
  }
 ],
 "metadata": {
  "kernelspec": {
   "display_name": "venv",
   "language": "python",
   "name": "python3"
  },
  "language_info": {
   "codemirror_mode": {
    "name": "ipython",
    "version": 3
   },
   "file_extension": ".py",
   "mimetype": "text/x-python",
   "name": "python",
   "nbconvert_exporter": "python",
   "pygments_lexer": "ipython3",
   "version": "3.13.2"
  }
 },
 "nbformat": 4,
 "nbformat_minor": 2
}
