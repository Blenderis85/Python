{
 "cells": [
  {
   "cell_type": "code",
   "execution_count": 1,
   "metadata": {},
   "outputs": [
    {
     "name": "stdout",
     "output_type": "stream",
     "text": [
      "Attempted to divide by zero.\n"
     ]
    }
   ],
   "source": [
    "try:\n",
    "    # Attempt to divide by zero\n",
    "    result = 10 / 0\n",
    "    print(\"The result is\", result)\n",
    "except ZeroDivisionError:\n",
    "    # This code runs if the ZeroDivisionError is raised\n",
    "    print(\"Attempted to divide by zero.\")\n"
   ]
  },
  {
   "cell_type": "code",
   "execution_count": 2,
   "metadata": {},
   "outputs": [
    {
     "name": "stdout",
     "output_type": "stream",
     "text": [
      "Handled ValueError: could not convert string to int.\n",
      "Handled IndexError: list index out of range.\n",
      "Handled ZeroDivisionError: division by zero is not allowed.\n",
      "Handled KeyError: key does not exist in dictionary.\n",
      "Handled AttributeError: object has no such attribute.\n"
     ]
    }
   ],
   "source": [
    "def test_type_conversion():\n",
    "    try:\n",
    "        # Try to convert a string to an integer\n",
    "        number = int(\"abc\")  # This will raise a ValueError\n",
    "        print(\"Conversion result:\", number)\n",
    "    except ValueError:\n",
    "        print(\"Handled ValueError: could not convert string to int.\")\n",
    "\n",
    "\n",
    "def test_list_access():\n",
    "    try:\n",
    "        # Try to access an invalid index in a list\n",
    "        numbers = [1, 2, 3]\n",
    "        print(\"Fourth element:\", numbers[3])  # This will raise an IndexError\n",
    "    except IndexError:\n",
    "        print(\"Handled IndexError: list index out of range.\")\n",
    "\n",
    "\n",
    "def test_division():\n",
    "    try:\n",
    "        # Try dividing by zero\n",
    "        result = 10 / 0  # This will raise a ZeroDivisionError\n",
    "        print(\"Division result:\", result)\n",
    "    except ZeroDivisionError:\n",
    "        print(\"Handled ZeroDivisionError: division by zero is not allowed.\")\n",
    "\n",
    "\n",
    "def test_key_error():\n",
    "    try:\n",
    "        # Try accessing a non-existent key in a dictionary\n",
    "        data = {\"name\": \"Alice\", \"age\": 25}\n",
    "        print(\"City:\", data[\"city\"])  # This will raise a KeyError\n",
    "    except KeyError:\n",
    "        print(\"Handled KeyError: key does not exist in dictionary.\")\n",
    "\n",
    "\n",
    "def test_attribute_error():\n",
    "    try:\n",
    "        # Try accessing a non-existent attribute of an object\n",
    "        number = 42\n",
    "        print(number.upper())  # This will raise an AttributeError\n",
    "    except AttributeError:\n",
    "        print(\"Handled AttributeError: object has no such attribute.\")\n",
    "\n",
    "\n",
    "# Call functions to test error handling\n",
    "test_type_conversion()\n",
    "test_list_access()\n",
    "test_division()\n",
    "test_key_error()\n",
    "test_attribute_error()\n"
   ]
  }
 ],
 "metadata": {
  "kernelspec": {
   "display_name": "venv",
   "language": "python",
   "name": "python3"
  },
  "language_info": {
   "codemirror_mode": {
    "name": "ipython",
    "version": 3
   },
   "file_extension": ".py",
   "mimetype": "text/x-python",
   "name": "python",
   "nbconvert_exporter": "python",
   "pygments_lexer": "ipython3",
   "version": "3.13.2"
  }
 },
 "nbformat": 4,
 "nbformat_minor": 2
}
