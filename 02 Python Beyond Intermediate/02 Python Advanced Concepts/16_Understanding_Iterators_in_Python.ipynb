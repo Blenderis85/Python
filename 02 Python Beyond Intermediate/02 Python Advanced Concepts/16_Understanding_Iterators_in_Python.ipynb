{
 "cells": [
  {
   "cell_type": "code",
   "execution_count": 1,
   "metadata": {},
   "outputs": [
    {
     "name": "stdout",
     "output_type": "stream",
     "text": [
      "Rolling the die 5 times:\n",
      "Rolled: 1\n",
      "Rolled: 4\n",
      "Rolled: 6\n",
      "Rolled: 2\n",
      "Rolled: 3\n"
     ]
    }
   ],
   "source": [
    "import random\n",
    "\n",
    "class FiniteDie:\n",
    "    def __init__(self, num_rolls):\n",
    "        \"\"\"Initialize the iterator with a fixed number of rolls.\"\"\"\n",
    "        self.num_rolls = num_rolls\n",
    "        self.current_roll = 0\n",
    "\n",
    "    def __iter__(self):\n",
    "        \"\"\"Return the iterator object itself.\"\"\"\n",
    "        return self\n",
    "\n",
    "    def __next__(self):\n",
    "        \"\"\"Generate the next dice roll or stop iteration.\"\"\"\n",
    "        if self.current_roll < self.num_rolls:\n",
    "            self.current_roll += 1\n",
    "            return random.randint(1, 6)\n",
    "        raise StopIteration\n",
    "\n",
    "# Using the FiniteDie iterator\n",
    "num_rolls = 5\n",
    "die_iterator = FiniteDie(num_rolls)\n",
    "\n",
    "print(f\"Rolling the die {num_rolls} times:\")\n",
    "for roll in die_iterator:\n",
    "    print(f\"Rolled: {roll}\")\n"
   ]
  },
  {
   "cell_type": "code",
   "execution_count": 2,
   "metadata": {},
   "outputs": [
    {
     "name": "stdout",
     "output_type": "stream",
     "text": [
      "1\n",
      "2\n",
      "3\n",
      "4\n"
     ]
    }
   ],
   "source": [
    "numbers = [1, 2, 3, 4]\n",
    "iterator = iter(numbers)\n",
    "\n",
    "# First iteration\n",
    "for num in iterator:\n",
    "    print(num)  # Output: 1, 2, 3, 4\n",
    "\n",
    "# Second iteration\n",
    "for num in iterator:\n",
    "    print(num)  # Output: Nothing, the iterator is exhausted.\n"
   ]
  },
  {
   "cell_type": "code",
   "execution_count": 3,
   "metadata": {},
   "outputs": [
    {
     "name": "stdout",
     "output_type": "stream",
     "text": [
      "Rolled: 2\n",
      "Rolled: 3\n",
      "Rolled: 4\n",
      "Rolled: 4\n",
      "Rolled: 3\n",
      "Rolled: 2\n",
      "Rolled: 5\n",
      "Rolled: 4\n",
      "Rolled: 6\n",
      "Rolled: 2\n"
     ]
    }
   ],
   "source": [
    "import random\n",
    "\n",
    "class InfiniteDie:\n",
    "    def __iter__(self):\n",
    "        return self\n",
    "\n",
    "    def __next__(self):\n",
    "        return random.randint(1, 6)\n",
    "\n",
    "# Step 1: Create an infinite die iterator\n",
    "infinite_die = InfiniteDie()\n",
    "\n",
    "# Step 2: Roll the die lazily\n",
    "for i, roll in enumerate(infinite_die):\n",
    "    if i >= 10:  # Stop after 10 rolls\n",
    "        break\n",
    "    print(f\"Rolled: {roll}\")\n"
   ]
  }
 ],
 "metadata": {
  "kernelspec": {
   "display_name": "venv",
   "language": "python",
   "name": "python3"
  },
  "language_info": {
   "codemirror_mode": {
    "name": "ipython",
    "version": 3
   },
   "file_extension": ".py",
   "mimetype": "text/x-python",
   "name": "python",
   "nbconvert_exporter": "python",
   "pygments_lexer": "ipython3",
   "version": "3.13.2"
  }
 },
 "nbformat": 4,
 "nbformat_minor": 2
}
