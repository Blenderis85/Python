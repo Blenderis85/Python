{
 "cells": [
  {
   "cell_type": "code",
   "execution_count": 2,
   "metadata": {},
   "outputs": [
    {
     "name": "stdout",
     "output_type": "stream",
     "text": [
      "Hello, world! \n",
      "Salut! \n",
      "Hola!\n"
     ]
    }
   ],
   "source": [
    "file = open(\"greetings.txt\", \"r\")\n",
    "print(file.read()) # Output:\n",
    "# Hello, world!\n",
    "# Salut!\n",
    "# Hola!\n",
    "file.close()\n"
   ]
  },
  {
   "cell_type": "code",
   "execution_count": 4,
   "metadata": {},
   "outputs": [
    {
     "name": "stdout",
     "output_type": "stream",
     "text": [
      "Hello, wor\n"
     ]
    }
   ],
   "source": [
    "file = open(\"greetings.txt\", \"r\")\n",
    "print(file.read(10))  # Output: Hello, wor\n",
    "file.close()\n"
   ]
  },
  {
   "cell_type": "code",
   "execution_count": 5,
   "metadata": {},
   "outputs": [
    {
     "name": "stdout",
     "output_type": "stream",
     "text": [
      "Hello, world! \n",
      "\n",
      "Salut! \n",
      "\n"
     ]
    }
   ],
   "source": [
    "file = open(\"greetings.txt\", \"r\") # ['Hello, world!\\n', 'Salut!\\n']\n",
    "print(file.readline())  # Output: Hello, world!\n",
    "print(file.readline())  # Output: Salut!\n",
    "file.close()\n"
   ]
  },
  {
   "cell_type": "code",
   "execution_count": 6,
   "metadata": {},
   "outputs": [
    {
     "name": "stdout",
     "output_type": "stream",
     "text": [
      "Hello, world! \n",
      "Salut! \n",
      "Hola!"
     ]
    }
   ],
   "source": [
    "file = open(\"greetings.txt\", \"r\")\n",
    "for line in file.readlines():\n",
    "    print(line, end=\"\")  # The `end=\"\"` argument prevents adding extra line breaks\n",
    "# Output:\n",
    "# Hello, world!\n",
    "# Salut!\n",
    "# Hola!\n",
    "file.close()\n"
   ]
  },
  {
   "cell_type": "markdown",
   "metadata": {},
   "source": [
    "```python\n",
    "file = open(\"greetings.txt\", \"w\")\n",
    "file.write(\"Bonjour!\")\n",
    "file.close()\n",
    "```\n",
    "\n",
    "## Note\n",
    "\n",
    "The writing mode `overwrites` the existing file content.\n",
    "\n",
    "In this case, any existing data in \"greetings.txt\" will be replaced with \"Bonjour!\"\n"
   ]
  }
 ],
 "metadata": {
  "kernelspec": {
   "display_name": "venv",
   "language": "python",
   "name": "python3"
  },
  "language_info": {
   "codemirror_mode": {
    "name": "ipython",
    "version": 3
   },
   "file_extension": ".py",
   "mimetype": "text/x-python",
   "name": "python",
   "nbconvert_exporter": "python",
   "pygments_lexer": "ipython3",
   "version": "3.13.2"
  }
 },
 "nbformat": 4,
 "nbformat_minor": 2
}
