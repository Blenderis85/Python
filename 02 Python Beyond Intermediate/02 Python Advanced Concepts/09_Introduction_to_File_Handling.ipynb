{
 "cells": [
  {
   "cell_type": "markdown",
   "metadata": {},
   "source": [
    "```python\n",
    "file = open(\"path_to_file/file_name.txt\")\n",
    "```"
   ]
  },
  {
   "cell_type": "markdown",
   "metadata": {},
   "source": [
    "# File Modes\n",
    "\n",
    "## Understanding file modes is crucial for handling files appropriately:\n",
    "\n",
    "- `'r'` : open only for **reading **(default). The file pointer is placed at the beginning of the file;\n",
    "\n",
    "- `'r+'` : open for reading and writing ;\n",
    "\n",
    "- `'w'` : open only for writing . Overwrites the file if it exists or creates a new file;\n",
    "\n",
    "- `'w+'` : open for writing and reading . Creates a new file if it doesn't exist;\n",
    "\n",
    "- `'a'` : open for appending . The file pointer is at the end if the file exists. Creates a new file for writing if it does not exist;\n",
    "\n",
    "- `'a+'` : open for reading and appending ;\n",
    "\n",
    "- `'rb'` , 'wb' , 'ab' , 'rb+' , 'wb+' , 'ab+' : similar modes but for binary files;\n",
    "\n",
    "- `'x'` : open for exclusive creation , failing if the file already exists.\n"
   ]
  },
  {
   "cell_type": "markdown",
   "metadata": {},
   "source": [
    "```python\n",
    "ile = open(\"greetings.txt\", \"w\")  # Opens the file in wtriting mode\n",
    "file.close()\n",
    "```"
   ]
  }
 ],
 "metadata": {
  "kernelspec": {
   "display_name": "venv",
   "language": "python",
   "name": "python3"
  },
  "language_info": {
   "name": "python",
   "version": "3.13.2"
  }
 },
 "nbformat": 4,
 "nbformat_minor": 2
}
