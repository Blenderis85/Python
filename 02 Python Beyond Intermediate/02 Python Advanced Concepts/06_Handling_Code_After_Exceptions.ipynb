{
 "cells": [
  {
   "cell_type": "code",
   "execution_count": 1,
   "metadata": {},
   "outputs": [
    {
     "name": "stdout",
     "output_type": "stream",
     "text": [
      "Trying to divide\n",
      "Division successful: 5.0\n"
     ]
    }
   ],
   "source": [
    "try:\n",
    "    print(\"Trying to divide\")\n",
    "    result = 10 / 2\n",
    "except ZeroDivisionError:\n",
    "    print(\"Divided by zero!\")\n",
    "else:\n",
    "    print(\"Division successful:\", result)\n"
   ]
  },
  {
   "cell_type": "code",
   "execution_count": 2,
   "metadata": {},
   "outputs": [
    {
     "name": "stdout",
     "output_type": "stream",
     "text": [
      "Trying to divide\n",
      "Divided by zero!\n",
      "Operation attempted.\n"
     ]
    }
   ],
   "source": [
    "try:\n",
    "    print(\"Trying to divide\")\n",
    "    result = 10 / 0\n",
    "except ZeroDivisionError:\n",
    "    print(\"Divided by zero!\")\n",
    "else:\n",
    "    print(\"Division successful:\", result)\n",
    "finally:\n",
    "    print(\"Operation attempted.\")\n"
   ]
  },
  {
   "cell_type": "code",
   "execution_count": 3,
   "metadata": {},
   "outputs": [
    {
     "name": "stdout",
     "output_type": "stream",
     "text": [
      "The result is 3.0\n",
      "Operation attempted.\n",
      "\n",
      "Cannot divide by zero.\n",
      "Operation attempted.\n",
      "\n",
      "Please enter only numbers.\n",
      "Operation attempted.\n",
      "\n"
     ]
    }
   ],
   "source": [
    "def divide_numbers(x, y):\n",
    "    try:\n",
    "        result = x / y\n",
    "    except TypeError:\n",
    "        print(\"Please enter only numbers.\")\n",
    "    except ZeroDivisionError:\n",
    "        print(\"Cannot divide by zero.\")\n",
    "    else:\n",
    "        print(f\"The result is {result}\")\n",
    "    finally:\n",
    "        print(\"Operation attempted.\\n\")\n",
    "\n",
    "# Call the function to test the error handling\n",
    "divide_numbers(6, 2)  # Valid division\n",
    "divide_numbers(6, 0)  # ZeroDivisionError case\n",
    "divide_numbers(6, 'o')  # TypeError case\n"
   ]
  }
 ],
 "metadata": {
  "kernelspec": {
   "display_name": "venv",
   "language": "python",
   "name": "python3"
  },
  "language_info": {
   "codemirror_mode": {
    "name": "ipython",
    "version": 3
   },
   "file_extension": ".py",
   "mimetype": "text/x-python",
   "name": "python",
   "nbconvert_exporter": "python",
   "pygments_lexer": "ipython3",
   "version": "3.13.2"
  }
 },
 "nbformat": 4,
 "nbformat_minor": 2
}
