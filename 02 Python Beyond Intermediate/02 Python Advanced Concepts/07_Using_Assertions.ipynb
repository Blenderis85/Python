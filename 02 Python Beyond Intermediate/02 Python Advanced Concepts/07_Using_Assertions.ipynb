{
 "cells": [
  {
   "cell_type": "code",
   "execution_count": 1,
   "metadata": {},
   "outputs": [
    {
     "name": "stdout",
     "output_type": "stream",
     "text": [
      "Added user 1\n",
      "Added user 2\n"
     ]
    }
   ],
   "source": [
    "# Existing function to add user details\n",
    "def add_user(users, user_id, user_info):\n",
    "    assert user_id not in users, \"User ID already exists\"\n",
    "    assert isinstance(user_id, int), \"User ID must be an integer\"\n",
    "    assert isinstance(user_info, dict), \"User info must be a dictionary\"\n",
    "\n",
    "    users[user_id] = user_info\n",
    "    print(f\"Added user {user_id}\")\n",
    "\n",
    "# Test the function\n",
    "users = {}\n",
    "add_user(users, 1, {\"name\": \"John\", \"age\": 28})\n",
    "add_user(users, 2, {\"name\": \"Jane\", \"age\": 32})\n"
   ]
  }
 ],
 "metadata": {
  "kernelspec": {
   "display_name": "venv",
   "language": "python",
   "name": "python3"
  },
  "language_info": {
   "codemirror_mode": {
    "name": "ipython",
    "version": 3
   },
   "file_extension": ".py",
   "mimetype": "text/x-python",
   "name": "python",
   "nbconvert_exporter": "python",
   "pygments_lexer": "ipython3",
   "version": "3.13.2"
  }
 },
 "nbformat": 4,
 "nbformat_minor": 2
}
