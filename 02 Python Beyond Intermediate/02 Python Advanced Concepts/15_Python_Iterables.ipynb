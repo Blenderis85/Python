{
 "cells": [
  {
   "cell_type": "code",
   "execution_count": 1,
   "metadata": {},
   "outputs": [
    {
     "name": "stdout",
     "output_type": "stream",
     "text": [
      "1\n",
      "2\n",
      "3\n",
      "4\n",
      "c\n",
      "o\n",
      "d\n",
      "e\n",
      "f\n",
      "i\n",
      "n\n",
      "i\n",
      "t\n",
      "y\n"
     ]
    }
   ],
   "source": [
    "numbers = [1, 2, 3, 4]\n",
    "for num in numbers:\n",
    "  print(num)\n",
    "\n",
    "title = \"codefinity\"\n",
    "for char in title:\n",
    "  print(char)\n"
   ]
  },
  {
   "cell_type": "code",
   "execution_count": 3,
   "metadata": {},
   "outputs": [
    {
     "name": "stdout",
     "output_type": "stream",
     "text": [
      "Rolled: 1\n",
      "Rolled: 4\n",
      "Rolled: 3\n",
      "Rolled: 5\n",
      "Rolled: 2\n",
      "Rolled: 6\n",
      "All rolls complete.\n"
     ]
    }
   ],
   "source": [
    "import random\n",
    "\n",
    "die_faces = [1, 2, 3, 4, 5, 6]\n",
    "random.shuffle(die_faces)\n",
    "\n",
    "# Step 1: Create an iterator from the shuffled list\n",
    "die_iterator = iter(die_faces)\n",
    "\n",
    "# Step 2: Roll the die using `next()`\n",
    "try:\n",
    "    while True:\n",
    "        face = next(die_iterator)\n",
    "        print(f\"Rolled: {face}\")\n",
    "except StopIteration:\n",
    "    print(\"All rolls complete.\")\n"
   ]
  }
 ],
 "metadata": {
  "kernelspec": {
   "display_name": "venv",
   "language": "python",
   "name": "python3"
  },
  "language_info": {
   "codemirror_mode": {
    "name": "ipython",
    "version": 3
   },
   "file_extension": ".py",
   "mimetype": "text/x-python",
   "name": "python",
   "nbconvert_exporter": "python",
   "pygments_lexer": "ipython3",
   "version": "3.13.2"
  }
 },
 "nbformat": 4,
 "nbformat_minor": 2
}
