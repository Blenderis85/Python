{
 "cells": [
  {
   "cell_type": "code",
   "execution_count": 1,
   "metadata": {},
   "outputs": [],
   "source": [
    "file = open(\"greetings1.txt\", \"a\")\n",
    "file.write(\"\\nBonjour!\")\n",
    "file.close()\n"
   ]
  },
  {
   "cell_type": "code",
   "execution_count": 2,
   "metadata": {},
   "outputs": [
    {
     "name": "stdout",
     "output_type": "stream",
     "text": [
      "ld! \n",
      "Salut! \n",
      "Hola!\n",
      "Bonjour!\n"
     ]
    }
   ],
   "source": [
    "file = open(\"greetings1.txt\", \"r\")\n",
    "file.seek(10)\n",
    "print(file.read())  # Output: ld!\n",
    "                    #          Salut!\n",
    "                    #          Hola!\n",
    "                    #          Bonjour!\n",
    "file.close()\n"
   ]
  },
  {
   "cell_type": "code",
   "execution_count": 5,
   "metadata": {},
   "outputs": [
    {
     "name": "stdout",
     "output_type": "stream",
     "text": [
      "0\n",
      "10\n"
     ]
    }
   ],
   "source": [
    "file = open(\"greetings1.txt\", \"r\")\n",
    "print(file.tell())  # Output: 0\n",
    "file.seek(10)\n",
    "print(file.tell())  # Output: 10\n",
    "file.close()\n"
   ]
  }
 ],
 "metadata": {
  "kernelspec": {
   "display_name": "venv",
   "language": "python",
   "name": "python3"
  },
  "language_info": {
   "codemirror_mode": {
    "name": "ipython",
    "version": 3
   },
   "file_extension": ".py",
   "mimetype": "text/x-python",
   "name": "python",
   "nbconvert_exporter": "python",
   "pygments_lexer": "ipython3",
   "version": "3.13.2"
  }
 },
 "nbformat": 4,
 "nbformat_minor": 2
}
