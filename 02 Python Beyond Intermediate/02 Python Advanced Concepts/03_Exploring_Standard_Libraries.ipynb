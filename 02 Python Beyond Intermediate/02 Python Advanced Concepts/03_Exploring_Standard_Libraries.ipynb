{
 "cells": [
  {
   "cell_type": "code",
   "execution_count": 1,
   "metadata": {},
   "outputs": [
    {
     "name": "stdout",
     "output_type": "stream",
     "text": [
      "8.0\n",
      "4.0\n"
     ]
    }
   ],
   "source": [
    "import math\n",
    "\n",
    "# Calculating powers\n",
    "print(math.pow(2, 3))  # Output: 8.0\n",
    "\n",
    "# Finding square roots\n",
    "print(math.sqrt(16))  # Output: 4.0\n"
   ]
  },
  {
   "cell_type": "code",
   "execution_count": 2,
   "metadata": {},
   "outputs": [
    {
     "name": "stdout",
     "output_type": "stream",
     "text": [
      "2025-02-28\n",
      "2025-03-10\n"
     ]
    }
   ],
   "source": [
    "import datetime\n",
    "\n",
    "# Getting today's date\n",
    "today = datetime.date.today()\n",
    "print(today)  # Output: YYYY-MM-DD\n",
    "\n",
    "# Calculating a future date\n",
    "future = today + datetime.timedelta(days=10)\n",
    "print(future)  # Output: YYYY-MM-DD + 10 days\n"
   ]
  },
  {
   "cell_type": "code",
   "execution_count": 3,
   "metadata": {},
   "outputs": [
    {
     "name": "stdout",
     "output_type": "stream",
     "text": [
      "c:\\Users\\agedv\\Desktop\\My_Coding\\Python\\02 Python Beyond Intermediate\\02 Python Advanced Concepts\n"
     ]
    }
   ],
   "source": [
    "import os\n",
    "\n",
    "print(os.getcwd())  # Outputs the current working directory.\n"
   ]
  },
  {
   "cell_type": "code",
   "execution_count": 4,
   "metadata": {},
   "outputs": [
    {
     "name": "stdout",
     "output_type": "stream",
     "text": [
      "The natural logarithm of 10 is: 2.302585092994046\n",
      "The factorial of 5 is: 120\n",
      "The sine of 30 degrees is: 0.49999999999999994\n",
      "The cosine of 30 degrees is: 0.8660254037844387\n",
      "The tangent of 30 degrees is: 0.5773502691896257\n",
      "The ceiling value of 9.2 is: 10\n",
      "The floor value of 9.2 is: 9\n"
     ]
    }
   ],
   "source": [
    "import math\n",
    "\n",
    "# Calculating the natural logarithm of 10\n",
    "log_value = math.log(10)\n",
    "print(\"The natural logarithm of 10 is:\", log_value)\n",
    "\n",
    "# Calculating the factorial of 5\n",
    "factorial_value = math.factorial(5)\n",
    "print(\"The factorial of 5 is:\", factorial_value)\n",
    "\n",
    "# Finding the sine, cosine, and tangent of 30 degrees\n",
    "# First convert 30 degrees to radians\n",
    "radians = math.radians(30)\n",
    "sin_value = math.sin(radians)\n",
    "cos_value = math.cos(radians)\n",
    "tan_value = math.tan(radians)\n",
    "\n",
    "print(\"The sine of 30 degrees is:\", sin_value)\n",
    "print(\"The cosine of 30 degrees is:\", cos_value)\n",
    "print(\"The tangent of 30 degrees is:\", tan_value)\n",
    "\n",
    "# Using ceil and floor on 9.2\n",
    "ceil_value = math.ceil(9.2)\n",
    "floor_value = math.floor(9.2)\n",
    "\n",
    "print(\"The ceiling value of 9.2 is:\", ceil_value)\n",
    "print(\"The floor value of 9.2 is:\", floor_value)\n"
   ]
  }
 ],
 "metadata": {
  "kernelspec": {
   "display_name": "venv",
   "language": "python",
   "name": "python3"
  },
  "language_info": {
   "codemirror_mode": {
    "name": "ipython",
    "version": 3
   },
   "file_extension": ".py",
   "mimetype": "text/x-python",
   "name": "python",
   "nbconvert_exporter": "python",
   "pygments_lexer": "ipython3",
   "version": "3.13.2"
  }
 },
 "nbformat": 4,
 "nbformat_minor": 2
}
