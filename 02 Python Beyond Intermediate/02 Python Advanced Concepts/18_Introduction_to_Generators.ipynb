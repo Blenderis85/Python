{
 "cells": [
  {
   "cell_type": "code",
   "execution_count": 1,
   "metadata": {},
   "outputs": [
    {
     "name": "stdout",
     "output_type": "stream",
     "text": [
      "First value\n",
      "Second value\n",
      "Third value\n"
     ]
    }
   ],
   "source": [
    "def example_generator():\n",
    "    yield \"First value\"\n",
    "    yield \"Second value\"\n",
    "    yield \"Third value\"\n",
    "\n",
    "gen = example_generator()\n",
    "print(next(gen))  # Output: First value\n",
    "print(next(gen))  # Output: Second value\n",
    "print(next(gen))  # Output: Third value\n"
   ]
  },
  {
   "cell_type": "code",
   "execution_count": 2,
   "metadata": {},
   "outputs": [
    {
     "name": "stdout",
     "output_type": "stream",
     "text": [
      "Rolling the dice:\n",
      "Rolled: 5\n",
      "Rolled: 1\n",
      "Rolled: 3\n",
      "Rolled: 1\n",
      "Rolled: 3\n"
     ]
    }
   ],
   "source": [
    "import random\n",
    "\n",
    "def limited_dice_roller(num_rolls):\n",
    "    for _ in range(num_rolls):\n",
    "        yield random.randint(1, 6)\n",
    "\n",
    "# Using the limited dice roller\n",
    "print(\"Rolling the dice:\")\n",
    "for roll in limited_dice_roller(5):\n",
    "    print(f\"Rolled: {roll}\")\n"
   ]
  }
 ],
 "metadata": {
  "kernelspec": {
   "display_name": "venv",
   "language": "python",
   "name": "python3"
  },
  "language_info": {
   "codemirror_mode": {
    "name": "ipython",
    "version": 3
   },
   "file_extension": ".py",
   "mimetype": "text/x-python",
   "name": "python",
   "nbconvert_exporter": "python",
   "pygments_lexer": "ipython3",
   "version": "3.13.2"
  }
 },
 "nbformat": 4,
 "nbformat_minor": 2
}
