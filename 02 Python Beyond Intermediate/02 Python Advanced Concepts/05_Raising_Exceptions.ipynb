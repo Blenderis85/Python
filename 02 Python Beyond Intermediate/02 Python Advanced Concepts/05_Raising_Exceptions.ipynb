{
 "cells": [
  {
   "cell_type": "code",
   "execution_count": 2,
   "metadata": {},
   "outputs": [
    {
     "name": "stdout",
     "output_type": "stream",
     "text": [
      "Registration failed: Username must be at least 6 characters long\n"
     ]
    }
   ],
   "source": [
    "# Custom exceptions\n",
    "class RegistrationError(Exception):\n",
    "    pass\n",
    "\n",
    "class UsernameTooShort(RegistrationError):\n",
    "    pass\n",
    "\n",
    "class PasswordTooWeak(RegistrationError):\n",
    "    pass\n",
    "\n",
    "# Functions to validate registration\n",
    "def validate_username(username):\n",
    "    if len(username) < 6:\n",
    "        raise UsernameTooShort(\"Username must be at least 6 characters long\")\n",
    "\n",
    "def validate_password(password):\n",
    "    if len(password) < 8:\n",
    "        raise PasswordTooWeak(\"Password must be at least 8 characters long\")\n",
    "\n",
    "def register_user(username, password):\n",
    "    try:\n",
    "        validate_username(username)\n",
    "        validate_password(password)\n",
    "    except RegistrationError as error:\n",
    "        print(f\"Registration failed: {error}\")\n",
    "    else:\n",
    "        print(\"User registered successfully!\")\n",
    "\n",
    "# Test the registration function\n",
    "register_user(\"john\", \"123\")  # This should fail\n"
   ]
  }
 ],
 "metadata": {
  "kernelspec": {
   "display_name": "venv",
   "language": "python",
   "name": "python3"
  },
  "language_info": {
   "codemirror_mode": {
    "name": "ipython",
    "version": 3
   },
   "file_extension": ".py",
   "mimetype": "text/x-python",
   "name": "python",
   "nbconvert_exporter": "python",
   "pygments_lexer": "ipython3",
   "version": "3.13.2"
  }
 },
 "nbformat": 4,
 "nbformat_minor": 2
}
