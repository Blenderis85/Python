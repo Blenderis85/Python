{
 "cells": [
  {
   "cell_type": "code",
   "execution_count": 1,
   "metadata": {},
   "outputs": [
    {
     "name": "stdout",
     "output_type": "stream",
     "text": [
      "Roll 1: 4\n",
      "Roll 2: 1\n",
      "Roll 3: 5\n",
      "Roll 4: 4\n",
      "Roll 5: 4\n",
      "Roll 6: 6\n",
      "Roll 7: 2\n",
      "Roll 8: 3\n",
      "Roll 9: 1\n",
      "Roll 10: 5\n"
     ]
    }
   ],
   "source": [
    "import random\n",
    "\n",
    "# Infinite dice roller\n",
    "class InfiniteDiceRoller:\n",
    "    def __iter__(self):\n",
    "        return self\n",
    "\n",
    "    def __next__(self):\n",
    "        return random.randint(1, 6)\n",
    "\n",
    "# Using the infinite dice roller\n",
    "dice_roller = InfiniteDiceRoller()\n",
    "for i, roll in enumerate(dice_roller):\n",
    "    if i >= 10:  # Stop after 10 rolls\n",
    "        break\n",
    "    print(f\"Roll {i + 1}: {roll}\")\n"
   ]
  }
 ],
 "metadata": {
  "kernelspec": {
   "display_name": "venv",
   "language": "python",
   "name": "python3"
  },
  "language_info": {
   "codemirror_mode": {
    "name": "ipython",
    "version": 3
   },
   "file_extension": ".py",
   "mimetype": "text/x-python",
   "name": "python",
   "nbconvert_exporter": "python",
   "pygments_lexer": "ipython3",
   "version": "3.13.2"
  }
 },
 "nbformat": 4,
 "nbformat_minor": 2
}
