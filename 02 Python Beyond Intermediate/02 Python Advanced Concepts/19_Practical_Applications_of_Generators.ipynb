{
 "cells": [
  {
   "cell_type": "code",
   "execution_count": 1,
   "metadata": {},
   "outputs": [
    {
     "name": "stdout",
     "output_type": "stream",
     "text": [
      "Opening database connection\n",
      "Using Database Connection\n",
      "Closing database connection\n"
     ]
    }
   ],
   "source": [
    "from contextlib import contextmanager\n",
    "\n",
    "@contextmanager\n",
    "def database_connection():\n",
    "    print(\"Opening database connection\")\n",
    "    connection = \"Database Connection\"  # Simulated connection\n",
    "    try:\n",
    "        yield connection\n",
    "    finally:\n",
    "        print(\"Closing database connection\")\n",
    "\n",
    "# Using the generator as a context manager\n",
    "with database_connection() as conn:\n",
    "    print(f\"Using {conn}\")\n"
   ]
  },
  {
   "cell_type": "code",
   "execution_count": 2,
   "metadata": {},
   "outputs": [
    {
     "name": "stdout",
     "output_type": "stream",
     "text": [
      "Processed words:\n",
      "generators\n",
      "are\n",
      "powerful\n",
      "tools\n",
      "they\n",
      "allow\n",
      "efficient\n",
      "data\n",
      "processing\n",
      "this\n",
      "pipeline\n",
      "demonstrates\n",
      "their\n",
      "usage\n"
     ]
    }
   ],
   "source": [
    "import re\n",
    "\n",
    "# Stage 1: Read lines lazily\n",
    "def read_lines(text):\n",
    "    for line in text.split(\"\\n\"):\n",
    "        yield line\n",
    "\n",
    "# Stage 2: Filter non-empty lines\n",
    "def filter_lines(lines):\n",
    "    for line in lines:\n",
    "        if line.strip():\n",
    "            yield line\n",
    "\n",
    "# Stage 3: Extract words lazily\n",
    "def extract_words(lines):\n",
    "    for line in lines:\n",
    "        for word in re.findall(r'\\w+', line):\n",
    "            yield word\n",
    "\n",
    "# Stage 4: Transform words to lowercase\n",
    "def lowercase_words(words):\n",
    "    for word in words:\n",
    "        yield word.lower()\n",
    "\n",
    "# Input text\n",
    "text = \"\"\"Generators are powerful tools\n",
    "They allow efficient data processing\n",
    "This pipeline demonstrates their usage\"\"\"\n",
    "\n",
    "# Build the pipeline\n",
    "lines = read_lines(text)\n",
    "filtered = filter_lines(lines)\n",
    "words = extract_words(filtered)\n",
    "lowercased = lowercase_words(words)\n",
    "\n",
    "# Process the data\n",
    "print(\"Processed words:\")\n",
    "for word in lowercased:\n",
    "    print(word)\n"
   ]
  }
 ],
 "metadata": {
  "kernelspec": {
   "display_name": "venv",
   "language": "python",
   "name": "python3"
  },
  "language_info": {
   "codemirror_mode": {
    "name": "ipython",
    "version": 3
   },
   "file_extension": ".py",
   "mimetype": "text/x-python",
   "name": "python",
   "nbconvert_exporter": "python",
   "pygments_lexer": "ipython3",
   "version": "3.13.2"
  }
 },
 "nbformat": 4,
 "nbformat_minor": 2
}
