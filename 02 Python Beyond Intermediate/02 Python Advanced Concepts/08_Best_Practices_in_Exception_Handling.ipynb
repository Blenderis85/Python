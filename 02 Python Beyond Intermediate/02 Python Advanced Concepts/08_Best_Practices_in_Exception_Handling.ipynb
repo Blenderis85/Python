{
 "cells": [
  {
   "cell_type": "code",
   "execution_count": 1,
   "metadata": {},
   "outputs": [
    {
     "name": "stdout",
     "output_type": "stream",
     "text": [
      "Caught an exception: division by zero\n"
     ]
    }
   ],
   "source": [
    "try:\n",
    "    x = 10 / 0\n",
    "except ZeroDivisionError as e:\n",
    "    print(f\"Caught an exception: {e}\")\n"
   ]
  },
  {
   "cell_type": "code",
   "execution_count": 2,
   "metadata": {},
   "outputs": [
    {
     "name": "stdout",
     "output_type": "stream",
     "text": [
      "Cannot divide by zero in the data.\n",
      "Data processing attempted.\n"
     ]
    }
   ],
   "source": [
    "def process_data(data):\n",
    "    if not data:\n",
    "        raise ValueError(\"Data list cannot be empty.\")\n",
    "    \n",
    "    try:\n",
    "        result = data[0] / data[-1]\n",
    "    except ZeroDivisionError:\n",
    "        print(\"Cannot divide by zero in the data.\")\n",
    "        return None\n",
    "    except TypeError:\n",
    "        print(\"Data should contain only numbers.\")\n",
    "        return None\n",
    "    except IndexError:\n",
    "        print(\"Data list is too short.\")\n",
    "        return None\n",
    "    else:\n",
    "        print(f\"Result: {result}\")\n",
    "        return result\n",
    "    finally:\n",
    "        print(\"Data processing attempted.\")\n",
    "\n",
    "# Example usage\n",
    "result = process_data([1, 2, 0])\n"
   ]
  }
 ],
 "metadata": {
  "kernelspec": {
   "display_name": "venv",
   "language": "python",
   "name": "python3"
  },
  "language_info": {
   "codemirror_mode": {
    "name": "ipython",
    "version": 3
   },
   "file_extension": ".py",
   "mimetype": "text/x-python",
   "name": "python",
   "nbconvert_exporter": "python",
   "pygments_lexer": "ipython3",
   "version": "3.13.2"
  }
 },
 "nbformat": 4,
 "nbformat_minor": 2
}
