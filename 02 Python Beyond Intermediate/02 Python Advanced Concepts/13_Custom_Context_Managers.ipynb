{
 "cells": [
  {
   "cell_type": "code",
   "execution_count": 1,
   "metadata": {},
   "outputs": [
    {
     "name": "stdout",
     "output_type": "stream",
     "text": [
      "init method called\n",
      "enter method called\n",
      "within the with statement block\n",
      "exit method called\n"
     ]
    }
   ],
   "source": [
    "class ContextManager:\n",
    "    def __init__(self):\n",
    "        print(\"init method called\")\n",
    "        \n",
    "    def __enter__(self):\n",
    "        print(\"enter method called\")\n",
    "        return self\n",
    "    \n",
    "    def __exit__(self, exc_type, exc_value, exc_traceback):\n",
    "        print(\"exit method called\")\n",
    "\n",
    "with ContextManager() as manager:\n",
    "    print(\"within the with statement block\")\n"
   ]
  }
 ],
 "metadata": {
  "kernelspec": {
   "display_name": "venv",
   "language": "python",
   "name": "python3"
  },
  "language_info": {
   "codemirror_mode": {
    "name": "ipython",
    "version": 3
   },
   "file_extension": ".py",
   "mimetype": "text/x-python",
   "name": "python",
   "nbconvert_exporter": "python",
   "pygments_lexer": "ipython3",
   "version": "3.13.2"
  }
 },
 "nbformat": 4,
 "nbformat_minor": 2
}
