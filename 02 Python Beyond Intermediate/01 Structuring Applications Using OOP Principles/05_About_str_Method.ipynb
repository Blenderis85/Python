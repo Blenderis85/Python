{
 "cells": [
  {
   "cell_type": "code",
   "execution_count": null,
   "metadata": {},
   "outputs": [],
   "source": [
    "class ClassName:\n",
    "    def __str__(self):\n",
    "        return \"string representation of the object\"\n"
   ]
  },
  {
   "cell_type": "code",
   "execution_count": 1,
   "metadata": {},
   "outputs": [
    {
     "name": "stdout",
     "output_type": "stream",
     "text": [
      "Comment by Alice: This is a comment.\n"
     ]
    }
   ],
   "source": [
    "class Comment:\n",
    "    def __init__(self, user, text):\n",
    "        self.user = user\n",
    "        self.text = text\n",
    "\n",
    "    def __str__(self):\n",
    "        return f\"Comment by {self.user}: {self.text}\"\n",
    "\n",
    "my_comment = Comment(\"Alice\", \"This is a comment.\")\n",
    "print(my_comment)  # Output: Comment by Alice: This is a comment.\n"
   ]
  },
  {
   "cell_type": "code",
   "execution_count": 2,
   "metadata": {},
   "outputs": [
    {
     "name": "stdout",
     "output_type": "stream",
     "text": [
      "Video Title: Python Basics, Duration: 45 minutes, Resolution: 1080p\n"
     ]
    }
   ],
   "source": [
    "class Video:\n",
    "    def __init__(self, title, duration, resolution):\n",
    "        self.title = title\n",
    "        self.duration = duration\n",
    "        self.resolution = resolution\n",
    "\n",
    "    def __str__(self):\n",
    "        return f\"Video Title: {self.title}, Duration: {self.duration} minutes, Resolution: {self.resolution}\"\n",
    "\n",
    "# Creating an instance of the `Video`` class\n",
    "video_instance = Video(\"Python Basics\", 45, \"1080p\")\n",
    "\n",
    "# Printing the string representation of the `Video` instance\n",
    "print(video_instance)\n"
   ]
  }
 ],
 "metadata": {
  "kernelspec": {
   "display_name": "venv",
   "language": "python",
   "name": "python3"
  },
  "language_info": {
   "codemirror_mode": {
    "name": "ipython",
    "version": 3
   },
   "file_extension": ".py",
   "mimetype": "text/x-python",
   "name": "python",
   "nbconvert_exporter": "python",
   "pygments_lexer": "ipython3",
   "version": "3.13.2"
  }
 },
 "nbformat": 4,
 "nbformat_minor": 2
}
