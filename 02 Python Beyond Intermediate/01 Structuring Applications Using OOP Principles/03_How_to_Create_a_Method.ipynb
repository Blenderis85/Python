{
 "cells": [
  {
   "cell_type": "code",
   "execution_count": 2,
   "metadata": {},
   "outputs": [
    {
     "name": "stdout",
     "output_type": "stream",
     "text": [
      "User: Alice\n",
      "Comment: This is a comment.\n",
      "Comment updated to: This is an updated comment.\n",
      "Another update to the comment.\n"
     ]
    }
   ],
   "source": [
    "class Comment:\n",
    "    def __init__(self, user, text):\n",
    "        self.user = user\n",
    "        self.text = text\n",
    "\n",
    "    def display(self):\n",
    "        return f\"User: {self.user}\\nComment: {self.text}\"\n",
    "\n",
    "    def update_text(self, new_text):\n",
    "        self.text = new_text\n",
    "        return f\"Comment updated to: {self.text}\"\n",
    "\n",
    "my_comment = Comment(\"Alice\", \"This is a comment.\")\n",
    "\n",
    "# Calling the display method\n",
    "print(my_comment.display())  # Output: User: Alice\\nComment: This is a comment.\n",
    "\n",
    "# Calling the update_text method\n",
    "print(my_comment.update_text(\"This is an updated comment.\"))  # Output: Comment updated to: This is an updated comment.\n",
    "\n",
    "my_comment.update_text(\"Another update to the comment.\")\n",
    "\n",
    "print(my_comment.text)  # Output: Another update to the comment.\n"
   ]
  },
  {
   "cell_type": "code",
   "execution_count": 3,
   "metadata": {},
   "outputs": [
    {
     "name": "stdout",
     "output_type": "stream",
     "text": [
      "Comment updated to: Initial comment. with additional details.\n"
     ]
    }
   ],
   "source": [
    "class Comment:\n",
    "    def __init__(self, user, text):\n",
    "        self.user = user\n",
    "        self.text = text\n",
    "\n",
    "    def append_text(self, additional_text):\n",
    "        self.text = f\"{self.text} {additional_text}\"\n",
    "        return f\"Comment updated to: {self.text}\"\n",
    "    \n",
    "my_comment = Comment(\"Bob\", \"Initial comment.\")\n",
    "\n",
    "print(my_comment.append_text(\"with additional details.\"))  # Output: Comment updated to: Initial comment. with additional details.\n"
   ]
  },
  {
   "cell_type": "code",
   "execution_count": 4,
   "metadata": {},
   "outputs": [
    {
     "name": "stdout",
     "output_type": "stream",
     "text": [
      "This is a Boeing 737 operated by Delta Airlines.\n"
     ]
    }
   ],
   "source": [
    "class Airplane:\n",
    "    def __init__(self, model, airline):\n",
    "        self.model = model\n",
    "        self.airline = airline\n",
    "\n",
    "    def describe(self):\n",
    "        return f\"This is a {self.model} operated by {self.airline}.\"\n",
    "\n",
    "# Creating an instance and using the `describe` method\n",
    "boeing = Airplane(model=\"Boeing 737\", airline=\"Delta Airlines\")\n",
    "description = boeing.describe()\n",
    "print(description)\n"
   ]
  }
 ],
 "metadata": {
  "kernelspec": {
   "display_name": "venv",
   "language": "python",
   "name": "python3"
  },
  "language_info": {
   "codemirror_mode": {
    "name": "ipython",
    "version": 3
   },
   "file_extension": ".py",
   "mimetype": "text/x-python",
   "name": "python",
   "nbconvert_exporter": "python",
   "pygments_lexer": "ipython3",
   "version": "3.13.2"
  }
 },
 "nbformat": 4,
 "nbformat_minor": 2
}
