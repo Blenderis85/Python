{
 "cells": [
  {
   "cell_type": "code",
   "execution_count": 1,
   "metadata": {},
   "outputs": [
    {
     "name": "stdout",
     "output_type": "stream",
     "text": [
      "My name is Bob\n"
     ]
    }
   ],
   "source": [
    "class User:\n",
    "    def __init__(self, name):\n",
    "        self.name = name\n",
    "    \n",
    "    def print_name(self):\n",
    "        print(f\"My name is {self.name}\")\n",
    "\n",
    "# The `Staff` class inherits from the `User` class        \n",
    "class Staff(User):\n",
    "    pass\n",
    "\n",
    "\n",
    "bob = Staff(\"Bob\")\n",
    "bob.print_name()  # Output: My name is Bob\n"
   ]
  },
  {
   "cell_type": "code",
   "execution_count": 2,
   "metadata": {},
   "outputs": [
    {
     "name": "stdout",
     "output_type": "stream",
     "text": [
      "Title: The Future of AI\n"
     ]
    }
   ],
   "source": [
    "# The existing `Publication` class\n",
    "class Publication:\n",
    "    def __init__(self, title):\n",
    "        self.title = title\n",
    "    \n",
    "    def print_title(self):\n",
    "        print(f\"Title: {self.title}\")\n",
    "\n",
    "# Subclass inheriting from Publication\n",
    "class Article(Publication):\n",
    "    pass  # Inherits everything from Publication without modification\n",
    "\n",
    "# Create an instance of Article\n",
    "article = Article(\"The Future of AI\")\n",
    "\n",
    "# Call the method to print the title\n",
    "article.print_title()\n"
   ]
  }
 ],
 "metadata": {
  "kernelspec": {
   "display_name": "venv",
   "language": "python",
   "name": "python3"
  },
  "language_info": {
   "codemirror_mode": {
    "name": "ipython",
    "version": 3
   },
   "file_extension": ".py",
   "mimetype": "text/x-python",
   "name": "python",
   "nbconvert_exporter": "python",
   "pygments_lexer": "ipython3",
   "version": "3.13.2"
  }
 },
 "nbformat": 4,
 "nbformat_minor": 2
}
