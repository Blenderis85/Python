{
 "cells": [
  {
   "cell_type": "code",
   "execution_count": null,
   "metadata": {},
   "outputs": [],
   "source": [
    "class Car:\n",
    "    def __init__(self, color, current_speed):\n",
    "        self.color = color\n",
    "        self.current_spee = current_speed\n",
    "        \n",
    "car_1 = Car(\"red\", 60)\n",
    "car_2 = Car(\"blue\", 55)\n"
   ]
  },
  {
   "cell_type": "code",
   "execution_count": null,
   "metadata": {},
   "outputs": [],
   "source": [
    "class Cat:\n",
    "    def __init__(self, name, color, weight):\n",
    "        self.name = name\n",
    "        self.color = color\n",
    "        self.weight = weight\n",
    "        \n",
    "# Positional arguments\n",
    "tom = Cat(\"Tom\", \"gray\", 5.2)\n",
    "\n",
    "# Keyword arguments\n",
    "felix = Cat(name=\"Felix\", color=\"black\", weight=4.1)\n"
   ]
  },
  {
   "cell_type": "code",
   "execution_count": null,
   "metadata": {},
   "outputs": [],
   "source": [
    "class Cat:\n",
    "    def __init__(self, name, color, weight):\n",
    "        self.name = name\n",
    "        self.color = color\n",
    "        self.weight = weight\n",
    "\n",
    "garfield = Cat(\"Garfield\", \"gray\", 5.2)\n"
   ]
  }
 ],
 "metadata": {
  "kernelspec": {
   "display_name": "venv",
   "language": "python",
   "name": "python3"
  },
  "language_info": {
   "name": "python",
   "version": "3.13.2"
  }
 },
 "nbformat": 4,
 "nbformat_minor": 2
}
