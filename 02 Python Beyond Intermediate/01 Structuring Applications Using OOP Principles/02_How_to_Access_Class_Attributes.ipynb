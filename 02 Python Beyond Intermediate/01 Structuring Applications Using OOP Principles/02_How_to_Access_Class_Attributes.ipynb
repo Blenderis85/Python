{
 "cells": [
  {
   "cell_type": "code",
   "execution_count": 2,
   "metadata": {},
   "outputs": [
    {
     "name": "stdout",
     "output_type": "stream",
     "text": [
      "red\n",
      "60\n",
      "blue\n",
      "80\n"
     ]
    }
   ],
   "source": [
    "class Car:\n",
    "    def __init__(self, color, speed):\n",
    "        self.color = color\n",
    "        self.speed = speed\n",
    "\n",
    "# Creating an instance of the `Car` class\n",
    "my_car = Car(\"red\", 60)\n",
    "\n",
    "# Accessing the attributes of `my_car`\n",
    "print(my_car.color)  # Output: red\n",
    "print(my_car.speed)  # Output: 60\n",
    "\n",
    "# Modifying the attributes of `my_car`\n",
    "my_car.color = \"blue\"\n",
    "my_car.speed = 80\n",
    "\n",
    "# Accessing the modified attributes\n",
    "print(my_car.color)  # Output: blue\n",
    "print(my_car.speed)  # Output: 80\n"
   ]
  },
  {
   "cell_type": "code",
   "execution_count": 4,
   "metadata": {},
   "outputs": [
    {
     "name": "stdout",
     "output_type": "stream",
     "text": [
      "Hi Garfield!\n"
     ]
    }
   ],
   "source": [
    "class Cat:\n",
    "    def __init__(self, name, color, weight):\n",
    "        self.name = name\n",
    "        self.color = color\n",
    "        self.weight = weight\n",
    "\n",
    "garfield = Cat(\"Garfield\", \"gray\", 5.2)\n",
    "\n",
    "greeting = f\"Hi {garfield.name}!\"\n",
    "print(greeting)\n"
   ]
  }
 ],
 "metadata": {
  "kernelspec": {
   "display_name": "venv",
   "language": "python",
   "name": "python3"
  },
  "language_info": {
   "codemirror_mode": {
    "name": "ipython",
    "version": 3
   },
   "file_extension": ".py",
   "mimetype": "text/x-python",
   "name": "python",
   "nbconvert_exporter": "python",
   "pygments_lexer": "ipython3",
   "version": "3.13.2"
  }
 },
 "nbformat": 4,
 "nbformat_minor": 2
}
