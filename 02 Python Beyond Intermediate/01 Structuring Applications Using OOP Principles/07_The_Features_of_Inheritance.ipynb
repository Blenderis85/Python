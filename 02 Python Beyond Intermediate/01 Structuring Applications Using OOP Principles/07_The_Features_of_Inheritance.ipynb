{
 "cells": [
  {
   "cell_type": "code",
   "execution_count": null,
   "metadata": {},
   "outputs": [],
   "source": [
    "class Animal:\n",
    "    def speak(self):\n",
    "        print(\"This animal makes a sound.\")\n",
    "        \n",
    "class Dog(Animal):\n",
    "    def speak(self):\n",
    "        print(\"The dog barks.\")\n",
    "\n",
    "class Cat(Animal):\n",
    "    def speak(self):\n",
    "        print(\"The cat meows.\")\n"
   ]
  },
  {
   "cell_type": "code",
   "execution_count": 1,
   "metadata": {},
   "outputs": [
    {
     "name": "stdout",
     "output_type": "stream",
     "text": [
      "Laptop: This is an electronic product.\n",
      "T-Shirt: This is a clothing product.\n"
     ]
    }
   ],
   "source": [
    "# Base class Product\n",
    "class Product:\n",
    "    def __init__(self, name):\n",
    "        self.name = name\n",
    "    \n",
    "    def describe(self):\n",
    "        pass  # To be overridden by subclasses\n",
    "\n",
    "# Define `Electronics` subclass\n",
    "class Electronics(Product):\n",
    "    def describe(self):\n",
    "        print(f\"{self.name}: This is an electronic product.\")\n",
    "\n",
    "# Define `Clothing` subclass\n",
    "class Clothing(Product):\n",
    "    def describe(self):\n",
    "        print(f\"{self.name}: This is a clothing product.\")\n",
    "\n",
    "# Create instances of both subclasses\n",
    "electronic_item = Electronics(\"Laptop\")\n",
    "clothing_item = Clothing(\"T-Shirt\")\n",
    "\n",
    "# Call describe method on instances\n",
    "electronic_item.describe()\n",
    "clothing_item.describe()\n"
   ]
  }
 ],
 "metadata": {
  "kernelspec": {
   "display_name": "venv",
   "language": "python",
   "name": "python3"
  },
  "language_info": {
   "codemirror_mode": {
    "name": "ipython",
    "version": 3
   },
   "file_extension": ".py",
   "mimetype": "text/x-python",
   "name": "python",
   "nbconvert_exporter": "python",
   "pygments_lexer": "ipython3",
   "version": "3.13.2"
  }
 },
 "nbformat": 4,
 "nbformat_minor": 2
}
