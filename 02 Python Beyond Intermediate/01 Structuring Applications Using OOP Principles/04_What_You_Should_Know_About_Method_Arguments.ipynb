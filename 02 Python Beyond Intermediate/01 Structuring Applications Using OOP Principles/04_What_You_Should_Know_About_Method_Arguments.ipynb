{
 "cells": [
  {
   "cell_type": "code",
   "execution_count": 1,
   "metadata": {},
   "outputs": [
    {
     "name": "stdout",
     "output_type": "stream",
     "text": [
      "Comment updated to: Initial comment. with additional details.\n"
     ]
    }
   ],
   "source": [
    "class Comment:\n",
    "    def __init__(self, user, text):\n",
    "        self.user = user\n",
    "        self.text = text\n",
    "\n",
    "    def append_text(self, additional_text):\n",
    "        self.text += ' ' + additional_text\n",
    "        return f\"Comment updated to: {self.text}\"\n",
    "    \n",
    "my_comment = Comment(\"Bob\", \"Initial comment.\")\n",
    "print(my_comment.append_text(\"with additional details.\"))  # Output: Comment updated to: Initial comment. with additional details.\n"
   ]
  },
  {
   "cell_type": "code",
   "execution_count": 2,
   "metadata": {},
   "outputs": [
    {
     "name": "stdout",
     "output_type": "stream",
     "text": [
      "Username: john_doe Email: john.new@example.com Age: 30\n"
     ]
    }
   ],
   "source": [
    "class UserProfile:\n",
    "    def __init__(self, username, email, age):\n",
    "        self.username = username\n",
    "        self.email = email\n",
    "        self.age = age\n",
    "\n",
    "    def update_email(self, new_email):\n",
    "        self.email = new_email\n",
    "\n",
    "# Creating an instance and updating the email\n",
    "user = UserProfile(username=\"john_doe\", email=\"john@example.com\", age=30)\n",
    "user.update_email(new_email=\"john.new@example.com\")\n",
    "\n",
    "# Printing the updated attributes\n",
    "print(f\"Username: {user.username} Email: {user.email} Age: {user.age}\")\n"
   ]
  }
 ],
 "metadata": {
  "kernelspec": {
   "display_name": "venv",
   "language": "python",
   "name": "python3"
  },
  "language_info": {
   "codemirror_mode": {
    "name": "ipython",
    "version": 3
   },
   "file_extension": ".py",
   "mimetype": "text/x-python",
   "name": "python",
   "nbconvert_exporter": "python",
   "pygments_lexer": "ipython3",
   "version": "3.13.2"
  }
 },
 "nbformat": 4,
 "nbformat_minor": 2
}
