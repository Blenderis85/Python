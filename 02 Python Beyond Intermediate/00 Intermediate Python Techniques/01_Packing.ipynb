{
 "cells": [
  {
   "cell_type": "markdown",
   "metadata": {},
   "source": [
    "```python\n",
    "a, b, *c = 1, 2, 3, 4, 5 # a = 1, b= 2, c = [3, 4, 5]\n",
    "a, *b, c = 1, 2, 3, 4, 5 # a = 1, b = [2, 3, 4], c = 5\n",
    "a, b, *c = 1, 2 # a = 1, b = 2, c = []\n",
    "*a, b = 1, 2, 3 # a = [1, 2], b = 3\n",
    "\n",
    "*a, = 1, 2, 3 # a = [1, 2, 3]\n",
    "(*a,) = 1, 2, 3 # a = [1, 2, 3]\n",
    "[*a] = 1, 2, 3 # a = [1, 2, 3]\n",
    "*a = 1, 2, 3 # SyntaxError: starred assignment target must be in a list or tuple\n",
    "```"
   ]
  }
 ],
 "metadata": {
  "kernelspec": {
   "display_name": "venv",
   "language": "python",
   "name": "python3"
  },
  "language_info": {
   "name": "python",
   "version": "3.13.2"
  }
 },
 "nbformat": 4,
 "nbformat_minor": 2
}
