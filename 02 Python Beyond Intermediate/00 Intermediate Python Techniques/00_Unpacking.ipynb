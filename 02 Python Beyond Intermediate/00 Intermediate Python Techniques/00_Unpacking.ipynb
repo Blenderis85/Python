{
 "cells": [
  {
   "cell_type": "code",
   "execution_count": 1,
   "metadata": {},
   "outputs": [
    {
     "name": "stdout",
     "output_type": "stream",
     "text": [
      "a = 1, b = 2, c = 3\n",
      "a = 1, b = 2, c = [3, 4, 5]\n"
     ]
    }
   ],
   "source": [
    "# unpacking\n",
    "a, b, c = (1, 2, 3)  # a = 1, b = 2, c = 3\n",
    "print(f\"a = {a}, b = {b}, c = {c}\")\n",
    "\n",
    "# packing\n",
    "a, b, *c = 1, 2, 3, 4, 5 # a = 1, b = 2, c = [3, 4, 5]\n",
    "print(f\"a = {a}, b = {b}, c = {c}\")\n"
   ]
  },
  {
   "cell_type": "markdown",
   "metadata": {},
   "source": [
    "```python\n",
    "# string\n",
    "a, b, c = \"123\" #  a = \"1\", b = \"2\", c =\"3\"\n",
    "# list\n",
    "a, b, c = [1, 2, 3]   #  a = 1, b = 2, c = 3\n",
    "# range\n",
    "a, b, c = range(3) #  a = 0, b = 1, c = 2\n",
    "# set\n",
    "a, b, c = {1, 2, 3} #  a = 1, b = 2, c = 3\n",
    "a, b, c = {3, 2, 1} #  a = 1, b = 2, c = 3\n",
    "\n",
    "# dict\n",
    "dict_num = {\"one\": 1, \"two\": 2, \"three\": 3}\n",
    "a, b, c = dict_num # a = \"one\", b = \"two\", c = \"three\"\n",
    "a, b, c = dict_num.values() #  a = 1, b = 2, c = 3\n",
    "a, b, c = dict_num.items() # a = (\"one\", 1), b = (\"two\", 2), c = (\"three\", 3)\n",
    "\n",
    "# assignment to the list\n",
    "[a, b, c] = 1, 2, 3  #  a = 1, b = 2, c = 3\n",
    "[a, b, c] = \"123\" #  a = \"1\", b = \"2\", c =\"3\"\n",
    "```"
   ]
  },
  {
   "cell_type": "code",
   "execution_count": 2,
   "metadata": {},
   "outputs": [
    {
     "name": "stdout",
     "output_type": "stream",
     "text": [
      "Anna 27 Python Developer\n"
     ]
    }
   ],
   "source": [
    "my_tuple = (\"Anna\", 27, \"Python Developer\")\n",
    "\n",
    "name, age, career = my_tuple\n",
    "\n",
    "print(name, age, career)\n"
   ]
  }
 ],
 "metadata": {
  "kernelspec": {
   "display_name": "venv",
   "language": "python",
   "name": "python3"
  },
  "language_info": {
   "codemirror_mode": {
    "name": "ipython",
    "version": 3
   },
   "file_extension": ".py",
   "mimetype": "text/x-python",
   "name": "python",
   "nbconvert_exporter": "python",
   "pygments_lexer": "ipython3",
   "version": "3.13.2"
  }
 },
 "nbformat": 4,
 "nbformat_minor": 2
}
