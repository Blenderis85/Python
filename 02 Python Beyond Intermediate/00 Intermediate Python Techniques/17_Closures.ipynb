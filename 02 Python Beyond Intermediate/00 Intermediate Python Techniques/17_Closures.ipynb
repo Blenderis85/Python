{
 "cells": [
  {
   "cell_type": "code",
   "execution_count": 1,
   "metadata": {},
   "outputs": [
    {
     "name": "stdout",
     "output_type": "stream",
     "text": [
      "45.0\n",
      "60.0\n",
      "105.0\n",
      "140.0\n"
     ]
    }
   ],
   "source": [
    "def calculate_income(percent):\n",
    "    def annual_income(amount):\n",
    "        return amount * percent / 100\n",
    "    return annual_income # function returned by outer function\n",
    "\n",
    "interest_rate_3 = calculate_income(3) # function assigned to the variable\n",
    "interest_rate_7 = calculate_income(7)\n",
    "\n",
    "print(interest_rate_3(1500))\n",
    "print(interest_rate_3(2000))\n",
    "\n",
    "print(interest_rate_7(1500))\n",
    "print(interest_rate_7(2000))\n"
   ]
  }
 ],
 "metadata": {
  "kernelspec": {
   "display_name": "venv",
   "language": "python",
   "name": "python3"
  },
  "language_info": {
   "codemirror_mode": {
    "name": "ipython",
    "version": 3
   },
   "file_extension": ".py",
   "mimetype": "text/x-python",
   "name": "python",
   "nbconvert_exporter": "python",
   "pygments_lexer": "ipython3",
   "version": "3.13.2"
  }
 },
 "nbformat": 4,
 "nbformat_minor": 2
}
