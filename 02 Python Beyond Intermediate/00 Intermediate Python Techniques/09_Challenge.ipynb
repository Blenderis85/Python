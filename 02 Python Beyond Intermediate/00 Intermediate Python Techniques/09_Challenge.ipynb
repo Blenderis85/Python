{
 "cells": [
  {
   "cell_type": "code",
   "execution_count": 1,
   "metadata": {},
   "outputs": [
    {
     "name": "stdout",
     "output_type": "stream",
     "text": [
      "Name: Alice\n",
      "Age: 30\n",
      "Occupation: Engineer\n"
     ]
    }
   ],
   "source": [
    "def create_user_profile(**kwargs):\n",
    "    if not kwargs:\n",
    "        return \"No profile data provided.\"\n",
    "\n",
    "    profile_parts = []\n",
    "    for key, value in kwargs.items():\n",
    "        profile_parts.append(f\"{key.capitalize()}: {value}\")\n",
    "    \n",
    "    return \"\\n\".join(profile_parts)\n",
    "\n",
    "# Example usage\n",
    "profile = create_user_profile(name=\"Alice\", age=30, occupation=\"Engineer\")\n",
    "print(profile)\n"
   ]
  }
 ],
 "metadata": {
  "kernelspec": {
   "display_name": "venv",
   "language": "python",
   "name": "python3"
  },
  "language_info": {
   "codemirror_mode": {
    "name": "ipython",
    "version": 3
   },
   "file_extension": ".py",
   "mimetype": "text/x-python",
   "name": "python",
   "nbconvert_exporter": "python",
   "pygments_lexer": "ipython3",
   "version": "3.13.2"
  }
 },
 "nbformat": 4,
 "nbformat_minor": 2
}
