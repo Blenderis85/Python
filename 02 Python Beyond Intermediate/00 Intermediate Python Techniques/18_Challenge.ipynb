{
 "cells": [
  {
   "cell_type": "code",
   "execution_count": 1,
   "metadata": {},
   "outputs": [
    {
     "name": "stdout",
     "output_type": "stream",
     "text": [
      "True\n",
      "False\n"
     ]
    }
   ],
   "source": [
    "def threshold_checker(threshold):\n",
    "    def check(value):\n",
    "        return threshold < value\n",
    "\n",
    "    return check\n",
    "\n",
    "# Usage\n",
    "greater_than_10 = threshold_checker(10)\n",
    "print(greater_than_10(12))\n",
    "print(greater_than_10(8))\n"
   ]
  }
 ],
 "metadata": {
  "kernelspec": {
   "display_name": "venv",
   "language": "python",
   "name": "python3"
  },
  "language_info": {
   "codemirror_mode": {
    "name": "ipython",
    "version": 3
   },
   "file_extension": ".py",
   "mimetype": "text/x-python",
   "name": "python",
   "nbconvert_exporter": "python",
   "pygments_lexer": "ipython3",
   "version": "3.13.2"
  }
 },
 "nbformat": 4,
 "nbformat_minor": 2
}
