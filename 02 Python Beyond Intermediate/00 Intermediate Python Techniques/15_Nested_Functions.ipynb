{
 "cells": [
  {
   "cell_type": "code",
   "execution_count": 1,
   "metadata": {},
   "outputs": [
    {
     "name": "stdout",
     "output_type": "stream",
     "text": [
      "(210.0, 90.0, 300.0)\n"
     ]
    }
   ],
   "source": [
    "def count_percent(num1, num2, num3):\n",
    "\tdef inner(num):\n",
    "\t\treturn num * 30 / 100\n",
    "\treturn (inner(num1), inner(num2), inner(num3))\n",
    "\n",
    "print(count_percent(700, 300, 1000))\n"
   ]
  }
 ],
 "metadata": {
  "kernelspec": {
   "display_name": "venv",
   "language": "python",
   "name": "python3"
  },
  "language_info": {
   "codemirror_mode": {
    "name": "ipython",
    "version": 3
   },
   "file_extension": ".py",
   "mimetype": "text/x-python",
   "name": "python",
   "nbconvert_exporter": "python",
   "pygments_lexer": "ipython3",
   "version": "3.13.2"
  }
 },
 "nbformat": 4,
 "nbformat_minor": 2
}
