{
 "cells": [
  {
   "cell_type": "code",
   "execution_count": 1,
   "metadata": {},
   "outputs": [
    {
     "name": "stdout",
     "output_type": "stream",
     "text": [
      "25\n"
     ]
    }
   ],
   "source": [
    "# Define a function that takes a function and a value as arguments\n",
    "def apply_function(func, value):\n",
    "    return func(value)\n",
    "\n",
    "# Call the function with a lambda function as the first argument\n",
    "result = apply_function(lambda x: x * x, 5)\n",
    "\n",
    "print(result)\n"
   ]
  },
  {
   "cell_type": "code",
   "execution_count": 2,
   "metadata": {},
   "outputs": [
    {
     "name": "stdout",
     "output_type": "stream",
     "text": [
      "Adding 10: [11, 12, 13, 14, 15]\n",
      "Multiplying by 2: [2, 4, 6, 8, 10]\n"
     ]
    }
   ],
   "source": [
    "def apply_to_list(numbers, func):\n",
    "    \"\"\"Applies the given function to each element in the numbers list.\"\"\"\n",
    "    return [func(x) for x in numbers]\n",
    "\n",
    "# List of numbers\n",
    "numbers = [1, 2, 3, 4, 5]\n",
    "\n",
    "# Using a lambda function to add 10 to each number\n",
    "result_add = apply_to_list(numbers, lambda x: x + 10)\n",
    "print(\"Adding 10:\", result_add)\n",
    "\n",
    "# Using a lambda function to multiply each number by 2\n",
    "result_multiply = apply_to_list(numbers, lambda x: x * 2)\n",
    "print(\"Multiplying by 2:\", result_multiply)\n"
   ]
  }
 ],
 "metadata": {
  "kernelspec": {
   "display_name": "venv",
   "language": "python",
   "name": "python3"
  },
  "language_info": {
   "codemirror_mode": {
    "name": "ipython",
    "version": 3
   },
   "file_extension": ".py",
   "mimetype": "text/x-python",
   "name": "python",
   "nbconvert_exporter": "python",
   "pygments_lexer": "ipython3",
   "version": "3.13.2"
  }
 },
 "nbformat": 4,
 "nbformat_minor": 2
}
