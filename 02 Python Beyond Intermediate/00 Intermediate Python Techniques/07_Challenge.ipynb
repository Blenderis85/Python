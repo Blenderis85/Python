{
 "cells": [
  {
   "cell_type": "code",
   "execution_count": 1,
   "metadata": {},
   "outputs": [
    {
     "name": "stdout",
     "output_type": "stream",
     "text": [
      "Tom got 3.5\n",
      "Dick got 3.1\n"
     ]
    }
   ],
   "source": [
    "def average_mark(name, *args):\n",
    "    mark = round(sum(args)/len(args), 1) # average value rounded to the 1 num after the dot\n",
    "    print(f\"{name} got {mark}\")\n",
    "\n",
    "\n",
    "average_mark(\"Tom\", 4.0, 3.5, 3.0, 3.3, 3.8)\n",
    "average_mark(\"Dick\", 2.5, 3.8)\n"
   ]
  }
 ],
 "metadata": {
  "kernelspec": {
   "display_name": "venv",
   "language": "python",
   "name": "python3"
  },
  "language_info": {
   "codemirror_mode": {
    "name": "ipython",
    "version": 3
   },
   "file_extension": ".py",
   "mimetype": "text/x-python",
   "name": "python",
   "nbconvert_exporter": "python",
   "pygments_lexer": "ipython3",
   "version": "3.13.2"
  }
 },
 "nbformat": 4,
 "nbformat_minor": 2
}
