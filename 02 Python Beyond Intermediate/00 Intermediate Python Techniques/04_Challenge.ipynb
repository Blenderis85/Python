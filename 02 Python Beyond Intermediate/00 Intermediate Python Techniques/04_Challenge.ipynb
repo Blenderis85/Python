{
 "cells": [
  {
   "cell_type": "code",
   "execution_count": 1,
   "metadata": {},
   "outputs": [
    {
     "name": "stdout",
     "output_type": "stream",
     "text": [
      "The teams that move to the next round are Bayern and Inter.\n",
      "The team that will play in the Europa League group stage is Barcelona.\n",
      "Viktoria Plzen is out of the Champions League.\n"
     ]
    }
   ],
   "source": [
    "def announcements(team_a, team_b, team_c, team_d):\n",
    "    print(f\"The teams that move to the next round are {team_a} and {team_b}.\\n\"\n",
    "        f\"The team that will play in the Europa League group stage is {team_c}.\\n\"\n",
    "        f\"{team_d} is out of the Champions League.\")\n",
    "\n",
    "\n",
    "group_c = [\"Bayern\", \"Inter\", \"Barcelona\", \"Viktoria Plzen\"]\n",
    "announcements(*group_c)\n"
   ]
  }
 ],
 "metadata": {
  "kernelspec": {
   "display_name": "venv",
   "language": "python",
   "name": "python3"
  },
  "language_info": {
   "codemirror_mode": {
    "name": "ipython",
    "version": 3
   },
   "file_extension": ".py",
   "mimetype": "text/x-python",
   "name": "python",
   "nbconvert_exporter": "python",
   "pygments_lexer": "ipython3",
   "version": "3.13.2"
  }
 },
 "nbformat": 4,
 "nbformat_minor": 2
}
