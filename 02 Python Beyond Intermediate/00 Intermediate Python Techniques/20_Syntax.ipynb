{
 "cells": [
  {
   "cell_type": "markdown",
   "metadata": {},
   "source": [
    "```python\n",
    "def decorator(func):\n",
    "    ...\n",
    "\n",
    "# First method\n",
    "@decorator\n",
    "add(a,b):\n",
    "    print(f\"Function add: {a} + {b}\")\n",
    "\n",
    "add(2, 3)\n",
    "\n",
    "# Second method\n",
    "add(a,b):\n",
    "    print(f\"Function add: {a} + {b}\")\n",
    "\n",
    "inner = decorator(add)\n",
    "\n",
    "inner(2, 3)\n",
    "```"
   ]
  },
  {
   "cell_type": "code",
   "execution_count": 1,
   "metadata": {},
   "outputs": [
    {
     "name": "stdout",
     "output_type": "stream",
     "text": [
      "===============\n",
      "Taken arguments: 14 21 {}\n",
      "===============\n",
      "Returned: 17.5 \n",
      "\n",
      "===============\n",
      "Taken arguments: 225 12 11 {}\n",
      "===============\n",
      "Returned: 82.7 \n",
      "\n",
      "===============\n",
      "Taken arguments: {'first': 51, 'second': 11, 'third': 47, 'fourth': 93}\n",
      "===============\n",
      "Returned: 50.5\n"
     ]
    }
   ],
   "source": [
    "def indicate(func):\n",
    "    def wrapper(*args, **kwargs):\n",
    "        print(\"=\" * 15)\n",
    "        print(\"Taken arguments:\", *args, kwargs)\n",
    "        result = func(*args, **kwargs)\n",
    "        print(\"=\" * 15)\n",
    "        return result\n",
    "    return wrapper\n",
    "\n",
    "\n",
    "@indicate\n",
    "def avg_two(a, b):\n",
    "    \"\"\"Calculate the average of two numbers\"\"\"\n",
    "    return round((a + b) / 2, 1)\n",
    "\n",
    "@indicate\n",
    "def avg_three(a, b, c):\n",
    "    \"\"\"Calculate the average of three numbers\"\"\"\n",
    "    return round((a + b + c) / 3, 1)\n",
    "\n",
    "@indicate\n",
    "def avg_many_kwargs(**kwargs):\n",
    "    \"\"\"Calculate the average of multiple numbers in a dictionary\"\"\"\n",
    "    keys = 0\n",
    "    total = 0\n",
    "\n",
    "    for value in kwargs.values():\n",
    "        keys += 1\n",
    "        total += value\n",
    "\n",
    "    return round(total / keys, 1)\n",
    "\n",
    "print(\"Returned:\", avg_two(14, 21), \"\\n\")\n",
    "print(\"Returned:\", avg_three(225, 12, 11), \"\\n\")\n",
    "print(\"Returned:\", avg_many_kwargs(first=51, second=11, third=47, fourth=93))\n"
   ]
  }
 ],
 "metadata": {
  "kernelspec": {
   "display_name": "venv",
   "language": "python",
   "name": "python3"
  },
  "language_info": {
   "codemirror_mode": {
    "name": "ipython",
    "version": 3
   },
   "file_extension": ".py",
   "mimetype": "text/x-python",
   "name": "python",
   "nbconvert_exporter": "python",
   "pygments_lexer": "ipython3",
   "version": "3.13.2"
  }
 },
 "nbformat": 4,
 "nbformat_minor": 2
}
