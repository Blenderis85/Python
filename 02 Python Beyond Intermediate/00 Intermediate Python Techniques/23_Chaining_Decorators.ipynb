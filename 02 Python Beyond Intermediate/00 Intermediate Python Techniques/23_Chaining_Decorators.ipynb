{
 "cells": [
  {
   "cell_type": "code",
   "execution_count": 1,
   "metadata": {},
   "outputs": [
    {
     "name": "stdout",
     "output_type": "stream",
     "text": [
      "Decorator one start\n",
      "Decorator two start\n",
      "Hello!\n",
      "Decorator two end\n",
      "Decorator one end\n"
     ]
    }
   ],
   "source": [
    "def decorator_one(func):\n",
    "    def wrapper():\n",
    "        print(\"Decorator one start\")\n",
    "        func()\n",
    "        print(\"Decorator one end\")\n",
    "    return wrapper\n",
    "\n",
    "def decorator_two(func):\n",
    "    def wrapper():\n",
    "        print(\"Decorator two start\")\n",
    "        func()\n",
    "        print(\"Decorator two end\")\n",
    "    return wrapper\n",
    "\n",
    "@decorator_one\n",
    "@decorator_two\n",
    "def greet():\n",
    "    print(\"Hello!\")\n",
    "\n",
    "greet()\n"
   ]
  }
 ],
 "metadata": {
  "kernelspec": {
   "display_name": "venv",
   "language": "python",
   "name": "python3"
  },
  "language_info": {
   "codemirror_mode": {
    "name": "ipython",
    "version": 3
   },
   "file_extension": ".py",
   "mimetype": "text/x-python",
   "name": "python",
   "nbconvert_exporter": "python",
   "pygments_lexer": "ipython3",
   "version": "3.13.2"
  }
 },
 "nbformat": 4,
 "nbformat_minor": 2
}
