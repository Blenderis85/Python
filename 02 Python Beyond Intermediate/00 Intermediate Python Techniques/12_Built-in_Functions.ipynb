{
 "cells": [
  {
   "cell_type": "code",
   "execution_count": 1,
   "metadata": {},
   "outputs": [
    {
     "name": "stdout",
     "output_type": "stream",
     "text": [
      "[2, 4, 6, 8, 10]\n"
     ]
    }
   ],
   "source": [
    "numbers = [1, 2, 3, 4, 5, 6, 7, 8, 9, 10]\n",
    "\n",
    "# Using a lambda function to filter out odd numbers\n",
    "even_numbers = filter(lambda x: x % 2 == 0, numbers)\n",
    "\n",
    "# Convert the filter object to a list\n",
    "even_numbers_list = list(even_numbers)\n",
    "print(even_numbers_list)\n"
   ]
  },
  {
   "cell_type": "code",
   "execution_count": 2,
   "metadata": {},
   "outputs": [
    {
     "name": "stdout",
     "output_type": "stream",
     "text": [
      "[(2, 'apple'), (1, 'banana'), (3, 'orange')]\n"
     ]
    }
   ],
   "source": [
    "tuples = [(1, 'banana'), (2, 'apple'), (3, 'orange')]\n",
    "\n",
    "# Using a lambda function to sort by the second element of each tuple\n",
    "sorted_tuples = sorted(tuples, key=lambda x: x[1])\n",
    "\n",
    "print(sorted_tuples)\n"
   ]
  },
  {
   "cell_type": "code",
   "execution_count": 3,
   "metadata": {},
   "outputs": [
    {
     "name": "stdout",
     "output_type": "stream",
     "text": [
      "[{'title': 'Harry Potter and the Deathly Hallows', 'pages': 640}, {'title': 'The Hobbit', 'pages': 400}]\n"
     ]
    }
   ],
   "source": [
    "# Step 1: Define the list of books\n",
    "books = [\n",
    "    {\"title\": \"Harry Potter and the Deathly Hallows\", \"pages\": 640},\n",
    "    {\"title\": \"Rich Dad Poor Dad\", \"pages\": 336},\n",
    "    {\"title\": \"The Great Gatsby\", \"pages\": 160},\n",
    "    {\"title\": \"The Hobbit\", \"pages\": 400}\n",
    "]\n",
    "\n",
    "# Step 2: Create a custom function\n",
    "def has_many_pages(book, min_pages=350):\n",
    "    \"\"\"Check if the book has more than min_pages.\"\"\"\n",
    "    return book[\"pages\"] > min_pages\n",
    "\n",
    "# Step 3: Use filter() with the custom function\n",
    "filtered_books = filter(lambda book: has_many_pages(book), books)\n",
    "\n",
    "# Convert the filter object to a list and print\n",
    "filtered_books_list = list(filtered_books)\n",
    "print(filtered_books_list)\n"
   ]
  }
 ],
 "metadata": {
  "kernelspec": {
   "display_name": "venv",
   "language": "python",
   "name": "python3"
  },
  "language_info": {
   "codemirror_mode": {
    "name": "ipython",
    "version": 3
   },
   "file_extension": ".py",
   "mimetype": "text/x-python",
   "name": "python",
   "nbconvert_exporter": "python",
   "pygments_lexer": "ipython3",
   "version": "3.13.2"
  }
 },
 "nbformat": 4,
 "nbformat_minor": 2
}
