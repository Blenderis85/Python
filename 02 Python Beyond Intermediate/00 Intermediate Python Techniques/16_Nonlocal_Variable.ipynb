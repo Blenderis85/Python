{
 "cells": [
  {
   "cell_type": "code",
   "execution_count": 1,
   "metadata": {},
   "outputs": [
    {
     "name": "stdout",
     "output_type": "stream",
     "text": [
      "Nonlocal variable in inner function: 15\n",
      "Nonlocal variable in outer function: 15\n"
     ]
    }
   ],
   "source": [
    "def outer_function():\n",
    "    outer_var = 10 \n",
    "\n",
    "    def inner_function():\n",
    "        nonlocal outer_var\n",
    "        outer_var += 5\n",
    "        print(\"Nonlocal variable in inner function:\", outer_var)\n",
    "\n",
    "    inner_function()\n",
    "    print(\"Nonlocal variable in outer function:\", outer_var)\n",
    "\n",
    "outer_function()\n"
   ]
  }
 ],
 "metadata": {
  "kernelspec": {
   "display_name": "venv",
   "language": "python",
   "name": "python3"
  },
  "language_info": {
   "codemirror_mode": {
    "name": "ipython",
    "version": 3
   },
   "file_extension": ".py",
   "mimetype": "text/x-python",
   "name": "python",
   "nbconvert_exporter": "python",
   "pygments_lexer": "ipython3",
   "version": "3.13.2"
  }
 },
 "nbformat": 4,
 "nbformat_minor": 2
}
