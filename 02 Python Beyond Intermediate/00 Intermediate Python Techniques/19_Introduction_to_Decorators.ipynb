{
 "cells": [
  {
   "cell_type": "code",
   "execution_count": 1,
   "metadata": {},
   "outputs": [
    {
     "name": "stdout",
     "output_type": "stream",
     "text": [
      "Function starts executing\n",
      "Function add: 14 + 12\n",
      "Function ends executing\n",
      "26\n",
      "Function starts executing\n",
      "Function add: 11 + 28\n",
      "Function ends executing\n",
      "39\n",
      "Function starts executing\n",
      "Function add: 33 + 16\n",
      "Function ends executing\n",
      "49\n"
     ]
    }
   ],
   "source": [
    "def decorator(func):\n",
    "    def wrapper(argument1, argument2):\n",
    "        print(\"Function starts executing\")\n",
    "        result = func(argument1, argument2)\n",
    "        print(\"Function ends executing\")\n",
    "\n",
    "        return result\n",
    "\n",
    "    return wrapper\n",
    "\n",
    "\n",
    "def add(a, b):\n",
    "    print(f\"Function add: {a} + {b}\")\n",
    "    return a + b\n",
    "\n",
    "\n",
    "add = decorator(add)\n",
    "\n",
    "print(add(14, 12))\n",
    "print(add(11, 28))\n",
    "print(add(33, 16))\n"
   ]
  }
 ],
 "metadata": {
  "kernelspec": {
   "display_name": "venv",
   "language": "python",
   "name": "python3"
  },
  "language_info": {
   "codemirror_mode": {
    "name": "ipython",
    "version": 3
   },
   "file_extension": ".py",
   "mimetype": "text/x-python",
   "name": "python",
   "nbconvert_exporter": "python",
   "pygments_lexer": "ipython3",
   "version": "3.13.2"
  }
 },
 "nbformat": 4,
 "nbformat_minor": 2
}
