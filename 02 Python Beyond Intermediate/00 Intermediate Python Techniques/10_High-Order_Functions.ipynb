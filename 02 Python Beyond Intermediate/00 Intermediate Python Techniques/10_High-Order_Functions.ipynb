{
 "cells": [
  {
   "cell_type": "code",
   "execution_count": 1,
   "metadata": {},
   "outputs": [
    {
     "name": "stdout",
     "output_type": "stream",
     "text": [
      "[1, 4, 9, 16, 25]\n"
     ]
    }
   ],
   "source": [
    "def square(x):\n",
    "    return x * x\n",
    "\n",
    "numbers = [1, 2, 3, 4, 5]\n",
    "squared_numbers = map(square, numbers)\n",
    "\n",
    "# Convert the map object to a list\n",
    "squared_numbers_list = list(squared_numbers)\n",
    "print(squared_numbers_list)\n"
   ]
  },
  {
   "cell_type": "code",
   "execution_count": 2,
   "metadata": {},
   "outputs": [
    {
     "name": "stdout",
     "output_type": "stream",
     "text": [
      "[32.0, 77.0, 86.0, 104.0, 212.0]\n"
     ]
    }
   ],
   "source": [
    "# Step 1: Define the list of temperatures in Celsius\n",
    "temp_celsius = [0, 25, 30, 40, 100]\n",
    "\n",
    "# Step 2: Create a custom function for conversion\n",
    "def celsius_to_fahrenheit(celsius):\n",
    "    \"\"\"Convert temperature from Celsius to Fahrenheit.\"\"\"\n",
    "    return (celsius * 9/5) + 32\n",
    "\n",
    "# Step 3: Use map() with the custom function\n",
    "temp_fahrenheit = map(celsius_to_fahrenheit, temp_celsius)\n",
    "\n",
    "# Step 4: Convert the map object to a list and print\n",
    "temp_fahrenheit_list = list(temp_fahrenheit)\n",
    "print(temp_fahrenheit_list)\n"
   ]
  }
 ],
 "metadata": {
  "kernelspec": {
   "display_name": "venv",
   "language": "python",
   "name": "python3"
  },
  "language_info": {
   "codemirror_mode": {
    "name": "ipython",
    "version": 3
   },
   "file_extension": ".py",
   "mimetype": "text/x-python",
   "name": "python",
   "nbconvert_exporter": "python",
   "pygments_lexer": "ipython3",
   "version": "3.13.2"
  }
 },
 "nbformat": 4,
 "nbformat_minor": 2
}
