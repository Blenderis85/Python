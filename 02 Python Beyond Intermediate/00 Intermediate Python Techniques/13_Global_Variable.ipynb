{
 "cells": [
  {
   "cell_type": "code",
   "execution_count": 1,
   "metadata": {},
   "outputs": [
    {
     "name": "stdout",
     "output_type": "stream",
     "text": [
      "Happy B-Day! You are 20! (local message)\n",
      "Global message 20\n"
     ]
    }
   ],
   "source": [
    "age = 20\n",
    "\n",
    "def birthday_greet():\n",
    "    print(f\"Happy B-Day! You are {age}! (local message)\")\n",
    "\n",
    "birthday_greet()\n",
    "print(\"Global message\", age)\n"
   ]
  },
  {
   "cell_type": "code",
   "execution_count": 2,
   "metadata": {},
   "outputs": [
    {
     "name": "stdout",
     "output_type": "stream",
     "text": [
      "Happy B-Day! You are 21! (local message)\n",
      "Global message 20\n"
     ]
    }
   ],
   "source": [
    "age = 20\n",
    "\n",
    "def birthday_greet(age):\n",
    "    age += 1\n",
    "    print(f\"Happy B-Day! You are {age}! (local message)\")\n",
    "\n",
    "birthday_greet(age)\n",
    "print(\"Global message\", age)\n"
   ]
  },
  {
   "cell_type": "code",
   "execution_count": 3,
   "metadata": {},
   "outputs": [
    {
     "name": "stdout",
     "output_type": "stream",
     "text": [
      "Happy B-Day! You are 21! (local message)\n",
      "Global message 21\n"
     ]
    }
   ],
   "source": [
    "age = 20\n",
    "\n",
    "def birthday_greet():\n",
    "    global age  # Added 'global' keyword\n",
    "    age += 1\n",
    "    print(f\"Happy B-Day! You are {age}! (local message)\")\n",
    "\n",
    "birthday_greet()\n",
    "print(\"Global message\", age)\n"
   ]
  }
 ],
 "metadata": {
  "kernelspec": {
   "display_name": "venv",
   "language": "python",
   "name": "python3"
  },
  "language_info": {
   "codemirror_mode": {
    "name": "ipython",
    "version": 3
   },
   "file_extension": ".py",
   "mimetype": "text/x-python",
   "name": "python",
   "nbconvert_exporter": "python",
   "pygments_lexer": "ipython3",
   "version": "3.13.2"
  }
 },
 "nbformat": 4,
 "nbformat_minor": 2
}
