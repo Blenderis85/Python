{
 "cells": [
  {
   "cell_type": "code",
   "execution_count": 1,
   "metadata": {},
   "outputs": [
    {
     "name": "stdout",
     "output_type": "stream",
     "text": [
      "Sleeping for 2 seconds before executing 'my_function'\n",
      "Function executed!\n"
     ]
    }
   ],
   "source": [
    "import time\n",
    "\n",
    "def sleep_decorator(seconds):\n",
    "    def decorator(func):\n",
    "        def wrapper(*args, **kwargs):\n",
    "            print(f\"Sleeping for {seconds} seconds before executing '{func.__name__}'\")\n",
    "            time.sleep(seconds)\n",
    "            return func(*args, **kwargs)\n",
    "        return wrapper\n",
    "    return decorator\n",
    "\n",
    "@sleep_decorator(2)\n",
    "def my_function():\n",
    "    print(\"Function executed!\")\n",
    "\n",
    "# Usage\n",
    "my_function()\n"
   ]
  },
  {
   "cell_type": "code",
   "execution_count": 2,
   "metadata": {},
   "outputs": [
    {
     "name": "stdout",
     "output_type": "stream",
     "text": [
      "120\n"
     ]
    }
   ],
   "source": [
    "def validate_decorator(func):\n",
    "    def wrapper(number):\n",
    "        if not isinstance(number, int) or number < 0:\n",
    "            raise ValueError(\"Input must be a non-negative integer\")\n",
    "        return func(number)\n",
    "    return wrapper\n",
    "\n",
    "@validate_decorator\n",
    "def factorial(n):\n",
    "    if n == 0:\n",
    "        return 1\n",
    "    else:\n",
    "        return n * factorial(n - 1)\n",
    "\n",
    "# Usage\n",
    "print(factorial(5))\n",
    "# factorial(-1) # This will raise an error\n"
   ]
  },
  {
   "cell_type": "code",
   "execution_count": 3,
   "metadata": {},
   "outputs": [
    {
     "name": "stdout",
     "output_type": "stream",
     "text": [
      "Function completed\n",
      "'some_function' executed in 1.0002987384796143 seconds\n"
     ]
    }
   ],
   "source": [
    "import time\n",
    "\n",
    "def timing_decorator(func):\n",
    "    def wrapper(*args, **kwargs):\n",
    "        start_time = time.time()\n",
    "        result = func(*args, **kwargs)\n",
    "        end_time = time.time()\n",
    "        print(f\"'{func.__name__}' executed in {end_time - start_time} seconds\")\n",
    "        return result\n",
    "    return wrapper\n",
    "\n",
    "@timing_decorator\n",
    "def some_function():\n",
    "    time.sleep(1)  # Simulating a task\n",
    "    print(\"Function completed\")\n",
    "\n",
    "# Usage\n",
    "some_function()\n"
   ]
  },
  {
   "cell_type": "code",
   "execution_count": 4,
   "metadata": {},
   "outputs": [
    {
     "name": "stdout",
     "output_type": "stream",
     "text": [
      "Arguments were: (3, 4), {}\n",
      "7\n"
     ]
    }
   ],
   "source": [
    "def verbose(func):\n",
    "    def wrapper(*args, **kwargs):\n",
    "        print(f\"Arguments were: {args}, {kwargs}\")\n",
    "        return func(*args, **kwargs)\n",
    "    return wrapper\n",
    "\n",
    "@verbose\n",
    "def add(a, b):\n",
    "    return a + b\n",
    "\n",
    "print(add(3, 4))\n"
   ]
  },
  {
   "cell_type": "code",
   "execution_count": 5,
   "metadata": {},
   "outputs": [
    {
     "name": "stdout",
     "output_type": "stream",
     "text": [
      "layer 1\n",
      "layer 2\n",
      "layer 3\n",
      "Hi there!\n",
      "layer 3\n",
      "layer 2\n",
      "layer 1\n"
     ]
    }
   ],
   "source": [
    "def layer1(func):\n",
    "\tdef wrapper(*args, **kwargs):\n",
    "\t\tprint(\"layer 1\")\n",
    "\t\tfunc(*args, **kwargs)\n",
    "\t\tprint(\"layer 1\")\n",
    "\treturn wrapper\n",
    "\n",
    "def layer2(func):\n",
    "\tdef wrapper(*args, **kwargs):\n",
    "\t\tprint(\"layer 2\")\n",
    "\t\tfunc(*args, **kwargs)\n",
    "\t\tprint(\"layer 2\")\n",
    "\treturn wrapper\n",
    "\n",
    "def layer3(func):\n",
    "\tdef wrapper(*args, **kwargs):\n",
    "\t\tprint(\"layer 3\")\n",
    "\t\tfunc(*args, **kwargs)\n",
    "\t\tprint(\"layer 3\")\n",
    "\treturn wrapper\n",
    "\n",
    "@layer1\n",
    "@layer2\n",
    "@layer3\n",
    "def print_hi(message):\n",
    "\tprint(message)\n",
    "\n",
    "print_hi(\"Hi there!\")\n"
   ]
  }
 ],
 "metadata": {
  "kernelspec": {
   "display_name": "venv",
   "language": "python",
   "name": "python3"
  },
  "language_info": {
   "codemirror_mode": {
    "name": "ipython",
    "version": 3
   },
   "file_extension": ".py",
   "mimetype": "text/x-python",
   "name": "python",
   "nbconvert_exporter": "python",
   "pygments_lexer": "ipython3",
   "version": "3.13.2"
  }
 },
 "nbformat": 4,
 "nbformat_minor": 2
}
