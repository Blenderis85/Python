{
 "cells": [
  {
   "cell_type": "code",
   "execution_count": 1,
   "metadata": {},
   "outputs": [
    {
     "name": "stdout",
     "output_type": "stream",
     "text": [
      "               ~~cracker~~\n",
      "-roasted-------marshmallow-\n",
      "               =chocolate=\n",
      "               ~~cracker~~\n"
     ]
    }
   ],
   "source": [
    "def chocolate(func):\n",
    "    def wrapper(*args, **kwargs):\n",
    "        func(*args, **kwargs)\n",
    "        print(\"               =chocolate=\")\n",
    "    return wrapper\n",
    "\n",
    "def crackers(func):\n",
    "    def wrapper(*args, **kwargs):\n",
    "        print(\"               ~~cracker~~\")\n",
    "        func(*args, **kwargs)\n",
    "        print(\"               ~~cracker~~\")\n",
    "    return wrapper\n",
    "\n",
    "@crackers\n",
    "@chocolate\n",
    "def basic_smores():\n",
    "    print(\"-roasted-------marshmallow-\")\n",
    "\n",
    "# Test the recipe\n",
    "basic_smores()\n"
   ]
  }
 ],
 "metadata": {
  "kernelspec": {
   "display_name": "venv",
   "language": "python",
   "name": "python3"
  },
  "language_info": {
   "codemirror_mode": {
    "name": "ipython",
    "version": 3
   },
   "file_extension": ".py",
   "mimetype": "text/x-python",
   "name": "python",
   "nbconvert_exporter": "python",
   "pygments_lexer": "ipython3",
   "version": "3.13.2"
  }
 },
 "nbformat": 4,
 "nbformat_minor": 2
}
