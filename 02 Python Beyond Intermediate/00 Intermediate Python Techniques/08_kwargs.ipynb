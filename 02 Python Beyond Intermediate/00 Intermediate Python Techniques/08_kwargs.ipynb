{
 "cells": [
  {
   "cell_type": "code",
   "execution_count": 1,
   "metadata": {},
   "outputs": [
    {
     "name": "stdout",
     "output_type": "stream",
     "text": [
      "Name: Sarah\n",
      "Surname: Conor\n",
      "Son: John\n",
      "Name: Natalie\n",
      "Cats: 3\n",
      "Breed: Maine Coon\n"
     ]
    }
   ],
   "source": [
    "def personal_info(name, **kwargs):\n",
    "    print(f\"Name: {name}\")\n",
    "    for key, value in kwargs.items():\n",
    "        print(f\"{key.capitalize()}: {value}\")\n",
    "\n",
    "personal_info(\"Sarah\", surname=\"Conor\", son=\"John\")\n",
    "personal_info(\"Natalie\", cats=\"3\", breed=\"Maine Coon\")\n"
   ]
  },
  {
   "cell_type": "code",
   "execution_count": 2,
   "metadata": {},
   "outputs": [
    {
     "name": "stdout",
     "output_type": "stream",
     "text": [
      "a = 1, b = 2, args = ('Love', 'Hope'), kwargs = {'name': 'Anna', 'age': 20}\n"
     ]
    }
   ],
   "source": [
    "def new_func(a, b=0, *args, **kwargs):\n",
    "\tprint(f\"a = {a}, b = {b}, args = {args}, kwargs = {kwargs}\")\n",
    "\n",
    "new_func(1, 2, \"Love\", \"Hope\", name=\"Anna\", age=20)\n"
   ]
  }
 ],
 "metadata": {
  "kernelspec": {
   "display_name": "venv",
   "language": "python",
   "name": "python3"
  },
  "language_info": {
   "codemirror_mode": {
    "name": "ipython",
    "version": 3
   },
   "file_extension": ".py",
   "mimetype": "text/x-python",
   "name": "python",
   "nbconvert_exporter": "python",
   "pygments_lexer": "ipython3",
   "version": "3.13.2"
  }
 },
 "nbformat": 4,
 "nbformat_minor": 2
}
