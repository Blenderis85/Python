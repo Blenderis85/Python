{
 "cells": [
  {
   "cell_type": "markdown",
   "metadata": {},
   "source": [
    "```python\n",
    "a = 2\n",
    "b = 3\n",
    "\n",
    "temp = a  # temp = 2, a = 2, b = 3\n",
    "a = b  # temp = 2, a = 3, b = 3\n",
    "b = temp  # temp = 2, a = 3, b = 2\n",
    "```"
   ]
  },
  {
   "cell_type": "markdown",
   "metadata": {},
   "source": [
    "```python\n",
    "a, b = 2, 3\n",
    "\n",
    "a, b = b, a # a = 3, b = 2\n",
    "```"
   ]
  },
  {
   "cell_type": "markdown",
   "metadata": {},
   "source": [
    "```python\n",
    "my_list = ['Monica', 25, 'Doctor', 'Brazil']\n",
    "\n",
    "name, age, *_ = my_list\n",
    "```"
   ]
  }
 ],
 "metadata": {
  "kernelspec": {
   "display_name": "venv",
   "language": "python",
   "name": "python3"
  },
  "language_info": {
   "name": "python",
   "version": "3.13.2"
  }
 },
 "nbformat": 4,
 "nbformat_minor": 2
}
