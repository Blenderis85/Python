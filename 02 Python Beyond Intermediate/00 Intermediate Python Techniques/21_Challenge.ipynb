{
 "cells": [
  {
   "cell_type": "code",
   "execution_count": 1,
   "metadata": {},
   "outputs": [
    {
     "name": "stdout",
     "output_type": "stream",
     "text": [
      "factorial took 4.76837158203125e-07 seconds\n",
      "factorial took 0.0005087852478027344 seconds\n",
      "factorial took 0.0005338191986083984 seconds\n",
      "factorial took 0.0005524158477783203 seconds\n",
      "factorial took 0.0005655288696289062 seconds\n",
      "factorial took 0.0005774497985839844 seconds\n",
      "factorial took 0.0005881786346435547 seconds\n",
      "factorial took 0.0005977153778076172 seconds\n",
      "factorial took 0.0006225109100341797 seconds\n",
      "factorial took 0.0006508827209472656 seconds\n",
      "factorial took 0.0006620883941650391 seconds\n",
      "3628800\n"
     ]
    }
   ],
   "source": [
    "import time\n",
    "\n",
    "# Step 2: Define the decorator\n",
    "def time_it(func):\n",
    "    def wrapper(*args, **kwargs):  # Accept any arguments\n",
    "        start_time = time.time()  # Start time\n",
    "        result = func(*args, **kwargs)  # Call the function\n",
    "        end_time = time.time()  # End time\n",
    "        print(f\"{func.__name__} took {end_time - start_time} seconds\")\n",
    "        return result  # Return the result\n",
    "    return wrapper  # Return the wrapper function\n",
    "\n",
    "# Step 4: Apply the decorator\n",
    "@time_it\n",
    "def factorial(n):\n",
    "    \"\"\"Function to compute factorial of a number\"\"\"\n",
    "    return 1 if n == 0 else n * factorial(n - 1)\n",
    "\n",
    "# Step 5: Test the decorator\n",
    "print(factorial(10))  # Replace with any number to test\n"
   ]
  }
 ],
 "metadata": {
  "kernelspec": {
   "display_name": "venv",
   "language": "python",
   "name": "python3"
  },
  "language_info": {
   "codemirror_mode": {
    "name": "ipython",
    "version": 3
   },
   "file_extension": ".py",
   "mimetype": "text/x-python",
   "name": "python",
   "nbconvert_exporter": "python",
   "pygments_lexer": "ipython3",
   "version": "3.13.2"
  }
 },
 "nbformat": 4,
 "nbformat_minor": 2
}
