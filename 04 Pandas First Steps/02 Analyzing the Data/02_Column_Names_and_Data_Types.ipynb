{
 "cells": [
  {
   "cell_type": "markdown",
   "metadata": {},
   "source": [
    "```python\n",
    "column_names = df.columns\n",
    "```"
   ]
  },
  {
   "cell_type": "markdown",
   "metadata": {},
   "source": [
    "```python\n",
    "data_types = df.dtypes\n",
    "```"
   ]
  },
  {
   "cell_type": "code",
   "execution_count": 1,
   "metadata": {},
   "outputs": [
    {
     "name": "stdout",
     "output_type": "stream",
     "text": [
      "Index(['Unnamed: 0', 'fixed acidity', 'volatile acidity', 'citric acid',\n",
      "       'residual sugar'],\n",
      "      dtype='object')\n",
      "Unnamed: 0            int64\n",
      "fixed acidity       float64\n",
      "volatile acidity    float64\n",
      "citric acid         float64\n",
      "residual sugar      float64\n",
      "dtype: object\n"
     ]
    }
   ],
   "source": [
    "import pandas as pd\n",
    "\n",
    "wine_data = pd.read_csv('https://codefinity-content-media.s3.eu-west-1.amazonaws.com/a43d24b6-df61-4e11-9c90-5b36552b3437/wine.csv')\n",
    "# Write your code below\n",
    "# Column names that your DataFrame contains\n",
    "column_names = wine_data.columns\n",
    "print(column_names)\n",
    "# Data types that your DataFrame contains\n",
    "data_types = wine_data.dtypes\n",
    "print(data_types)\n"
   ]
  }
 ],
 "metadata": {
  "kernelspec": {
   "display_name": "venv",
   "language": "python",
   "name": "python3"
  },
  "language_info": {
   "codemirror_mode": {
    "name": "ipython",
    "version": 3
   },
   "file_extension": ".py",
   "mimetype": "text/x-python",
   "name": "python",
   "nbconvert_exporter": "python",
   "pygments_lexer": "ipython3",
   "version": "3.13.2"
  }
 },
 "nbformat": 4,
 "nbformat_minor": 2
}
