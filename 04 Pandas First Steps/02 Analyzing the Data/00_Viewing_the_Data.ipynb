{
 "cells": [
  {
   "cell_type": "markdown",
   "metadata": {},
   "source": [
    "```python\n",
    "df = pd.read_csv('file.csv')\n",
    "# Extracting the first 10 rows\n",
    "first_lines = df.head(10)\n",
    "```"
   ]
  },
  {
   "cell_type": "markdown",
   "metadata": {},
   "source": [
    "```python\n",
    "df = pd.read_csv('file.csv')\n",
    "# Extracting the last 10 rows\n",
    "last_lines = df.tail(10)\n",
    "```"
   ]
  },
  {
   "cell_type": "markdown",
   "metadata": {},
   "source": [
    "```python\n",
    "df = pd.read_csv('file.csv')\n",
    "# Extracting 10 random rows\n",
    "random_lines = df.sample(10)\n",
    "```"
   ]
  },
  {
   "cell_type": "code",
   "execution_count": 1,
   "metadata": {},
   "outputs": [
    {
     "name": "stdout",
     "output_type": "stream",
     "text": [
      "   Unnamed: 0  fixed acidity  volatile acidity  citric acid  residual sugar\n",
      "0           0            7.4              0.70         0.00             1.9\n",
      "1           1            7.8              0.88         0.00             2.6\n",
      "2           2            7.8              0.76         0.04             2.3\n",
      "3           3           11.2              0.28         0.56             1.9\n",
      "4           4            7.4              0.70         0.00             1.9\n",
      "5           5            7.4              0.66         0.00             1.8\n",
      "6           6            7.9              0.60         0.06             1.6\n",
      "7           7            7.3              0.65         0.00             1.2\n",
      "8           8            7.8              0.58         0.02             2.0\n",
      "9           9            6.7              0.58         0.08             1.8\n",
      "     Unnamed: 0  fixed acidity  volatile acidity  citric acid  residual sugar\n",
      "441         441            6.8             0.690         0.00             5.6\n",
      "442         442            8.8             0.600         0.29             2.2\n",
      "443         443            8.8             0.600         0.29             2.2\n",
      "444         444            8.7             0.540         0.26             2.5\n",
      "445         445            7.6             0.685         0.23             2.3\n",
      "446         446            8.7             0.540         0.26             2.5\n",
      "447         447           10.4             0.280         0.54             2.7\n",
      "448         448            7.6             0.410         0.14             3.0\n",
      "449         449           10.1             0.935         0.22             3.4\n",
      "450         450            7.9             0.350         0.21             1.9\n",
      "451         451            8.7             0.840         0.00             1.4\n",
      "452         452            9.6             0.880         0.28             2.4\n",
      "453         453            9.5             0.885         0.27             2.3\n",
      "454         454            8.9             0.290         0.35             1.9\n",
      "455         455            9.9             0.540         0.45             2.3\n",
      "     Unnamed: 0  fixed acidity  volatile acidity  citric acid  residual sugar\n",
      "123         123            6.9             0.500         0.04             1.5\n",
      "68           68            7.6             0.900         0.06             2.5\n",
      "264         264            9.1             0.280         0.48             1.8\n",
      "323         323            9.2             0.630         0.21             2.7\n",
      "137         137            6.4             0.370         0.25             1.9\n",
      "195         195            6.9             0.540         0.04             3.0\n",
      "340         340            9.4             0.300         0.56             2.8\n",
      "448         448            7.6             0.410         0.14             3.0\n",
      "10           10            5.6             0.615         0.00             1.6\n",
      "436         436           11.5             0.310         0.51             2.2\n",
      "59           59            8.6             0.490         0.28             1.9\n",
      "159         159            8.6             0.645         0.25             2.0\n"
     ]
    }
   ],
   "source": [
    "import pandas as pd\n",
    "\n",
    "wine_data = pd.read_csv('https://codefinity-content-media.s3.eu-west-1.amazonaws.com/a43d24b6-df61-4e11-9c90-5b36552b3437/wine.csv')\n",
    "# Write your code below\n",
    "# The first rows\n",
    "first_lines = wine_data.head(10)\n",
    "print(first_lines)\n",
    "# The last rows\n",
    "last_lines = wine_data.tail(15)\n",
    "print(last_lines)\n",
    "# Random rows\n",
    "random_rows = wine_data.sample(12)\n",
    "print(random_rows)\n"
   ]
  }
 ],
 "metadata": {
  "kernelspec": {
   "display_name": "venv",
   "language": "python",
   "name": "python3"
  },
  "language_info": {
   "codemirror_mode": {
    "name": "ipython",
    "version": 3
   },
   "file_extension": ".py",
   "mimetype": "text/x-python",
   "name": "python",
   "nbconvert_exporter": "python",
   "pygments_lexer": "ipython3",
   "version": "3.13.2"
  }
 },
 "nbformat": 4,
 "nbformat_minor": 2
}
