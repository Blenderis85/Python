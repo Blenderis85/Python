{
 "cells": [
  {
   "cell_type": "markdown",
   "metadata": {},
   "source": [
    "```python\n",
    "df = pd.read_csv(file.csv)\n",
    "number_of_cells = df.count()\n",
    "```"
   ]
  },
  {
   "cell_type": "markdown",
   "metadata": {},
   "source": [
    "```python\n",
    "df = pd.read_csv(file.csv)\n",
    "number_of_cells = df['name of the column'].count()\n",
    "```"
   ]
  },
  {
   "cell_type": "markdown",
   "metadata": {},
   "source": [
    "```python\n",
    "f = pd.read_csv(file.csv)\n",
    "total = df.sum()\n",
    "```"
   ]
  },
  {
   "cell_type": "markdown",
   "metadata": {},
   "source": [
    "```python\n",
    "missing_values_count = df.isna().sum()\n",
    "```"
   ]
  },
  {
   "cell_type": "markdown",
   "metadata": {},
   "source": [
    "```python\n",
    "df = pd.read_csv(file.csv)\n",
    "total = df['name of the column'].sum()\n",
    "```"
   ]
  },
  {
   "cell_type": "code",
   "execution_count": 1,
   "metadata": {},
   "outputs": [
    {
     "name": "stdout",
     "output_type": "stream",
     "text": [
      "Missing values:\n",
      "model       2\n",
      "year        1\n",
      "fueltype    1\n",
      "price       0\n",
      "dtype: int64\n",
      "Number of non-null cells:\n",
      "model       3\n",
      "year        4\n",
      "fueltype    4\n",
      "price       5\n",
      "dtype: int64\n",
      "Total price: 79600\n"
     ]
    }
   ],
   "source": [
    "import pandas as pd \n",
    "\n",
    "cars_data = {'model': [None, 'audi A6', 'audi A4', None,'audi A1'],\n",
    "'year': [2017, 2016, 2017, None, 2016],\n",
    "'fueltype': [None, 'diesel', 'diesel', 'petrol', 'petrol'],\n",
    "'price': [12500, 16500, 16800, 17300, 16500]}\n",
    "audi_cars = pd.DataFrame(cars_data)\n",
    "# Write your code below\n",
    "number_of_cells = audi_cars.count()\n",
    "total_price = audi_cars['price'].sum()\n",
    "null_count = audi_cars.isna().sum()\n",
    "# Printing the results\n",
    "print('Missing values:')\n",
    "print(null_count)\n",
    "print('Number of non-null cells:')\n",
    "print(number_of_cells)\n",
    "print(f'Total price: {total_price}')\n"
   ]
  }
 ],
 "metadata": {
  "kernelspec": {
   "display_name": "venv",
   "language": "python",
   "name": "python3"
  },
  "language_info": {
   "codemirror_mode": {
    "name": "ipython",
    "version": 3
   },
   "file_extension": ".py",
   "mimetype": "text/x-python",
   "name": "python",
   "nbconvert_exporter": "python",
   "pygments_lexer": "ipython3",
   "version": "3.13.2"
  }
 },
 "nbformat": 4,
 "nbformat_minor": 2
}
