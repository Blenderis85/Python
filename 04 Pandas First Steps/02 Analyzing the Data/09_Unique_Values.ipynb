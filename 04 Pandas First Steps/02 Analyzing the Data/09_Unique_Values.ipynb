{
 "cells": [
  {
   "cell_type": "code",
   "execution_count": 1,
   "metadata": {},
   "outputs": [
    {
     "name": "stdout",
     "output_type": "stream",
     "text": [
      "       country      continent    capital\n",
      "0     Thailand           Asia    Bangkok\n",
      "1  Philippines           Asia     Manila\n",
      "2       Monaco         Europe     Monaco\n",
      "3        Malta         Europe   Valletta\n",
      "4       Sweden         Europe  Stockholm\n",
      "5     Paraguay  South America   Asuncion\n",
      "6       Latvia         Europe       Riga\n"
     ]
    }
   ],
   "source": [
    "import pandas as pd \n",
    "\n",
    "country_data = {'country' : ['Thailand', 'Philippines', 'Monaco', 'Malta', 'Sweden', 'Paraguay', 'Latvia'],\n",
    "          'continent' : ['Asia', 'Asia', 'Europe', 'Europe', 'Europe', 'South America', 'Europe'],\n",
    "          'capital':['Bangkok', 'Manila', 'Monaco', 'Valletta', 'Stockholm', 'Asuncion', 'Riga']}\n",
    "countries = pd.DataFrame(country_data)\n",
    "print(countries)\n"
   ]
  },
  {
   "cell_type": "code",
   "execution_count": 2,
   "metadata": {},
   "outputs": [
    {
     "name": "stdout",
     "output_type": "stream",
     "text": [
      "['Thailand' 'Philippines' 'Monaco' 'Malta' 'Sweden' 'Paraguay' 'Latvia']\n",
      "['Asia' 'Europe' 'South America']\n"
     ]
    }
   ],
   "source": [
    "import pandas as pd\n",
    "\n",
    "country_data = {'country' : ['Thailand', 'Philippines', 'Monaco', 'Malta', 'Sweden', 'Paraguay', 'Latvia'],\n",
    "          'continent' : ['Asia', 'Asia', 'Europe', 'Europe', 'Europe', 'South America', 'Europe'],\n",
    "          'capital':['Bangkok', 'Manila', 'Monaco', 'Valletta', 'Stockholm', 'Asuncion', 'Riga']}\n",
    "countries = pd.DataFrame(country_data)\n",
    "unique_countries = countries['country'].unique()\n",
    "unique_continents = countries['continent'].unique()\n",
    "print(unique_countries)\n",
    "print(unique_continents)\n"
   ]
  },
  {
   "cell_type": "code",
   "execution_count": 3,
   "metadata": {},
   "outputs": [
    {
     "name": "stdout",
     "output_type": "stream",
     "text": [
      "3\n"
     ]
    }
   ],
   "source": [
    "import pandas as pd\n",
    "\n",
    "country_data = {'country' : ['Thailand', 'Philippines', 'Monaco', 'Malta', 'Sweden', 'Paraguay', 'Latvia'],\n",
    "          'continent' : ['Asia', 'Asia', 'Europe', 'Europe', 'Europe', 'South America', 'Europe'],\n",
    "          'capital':['Bangkok', 'Manila', 'Monaco', 'Valletta', 'Stockholm', 'Asuncion', 'Riga']}\n",
    "countries = pd.DataFrame(country_data)\n",
    "print(countries['continent'].nunique())\n"
   ]
  },
  {
   "cell_type": "code",
   "execution_count": 4,
   "metadata": {},
   "outputs": [
    {
     "name": "stdout",
     "output_type": "stream",
     "text": [
      "[2017 2016 2019]\n",
      "['petrol' 'diesel']\n",
      "2\n"
     ]
    }
   ],
   "source": [
    "import pandas as pd \n",
    "\n",
    "cars_data = {\n",
    "    'model': ['audi A1', 'audi A6', 'audi A4', 'audi A3','audi A1'],\n",
    "    'year': [2017, 2016, 2017, 2019, 2016],\n",
    "    'fueltype': ['petrol', 'diesel', 'diesel', 'petrol', 'petrol'],\n",
    "    'capital': ['Manila', 'Monaco', 'Bangkok', 'Stockhol', 'Valletta']\n",
    "}\n",
    "\n",
    "audi_cars = pd.DataFrame(cars_data)\n",
    "\n",
    "# Find unique values\n",
    "unique_years = audi_cars['year'].unique()\n",
    "unique_fueltype = audi_cars['fueltype'].unique()\n",
    "count_unique_fueltypes = audi_cars['fueltype'].nunique()\n",
    "\n",
    "print(unique_years)\n",
    "print(unique_fueltype)\n",
    "print(count_unique_fueltypes)\n"
   ]
  }
 ],
 "metadata": {
  "kernelspec": {
   "display_name": "venv",
   "language": "python",
   "name": "python3"
  },
  "language_info": {
   "codemirror_mode": {
    "name": "ipython",
    "version": 3
   },
   "file_extension": ".py",
   "mimetype": "text/x-python",
   "name": "python",
   "nbconvert_exporter": "python",
   "pygments_lexer": "ipython3",
   "version": "3.13.2"
  }
 },
 "nbformat": 4,
 "nbformat_minor": 2
}
