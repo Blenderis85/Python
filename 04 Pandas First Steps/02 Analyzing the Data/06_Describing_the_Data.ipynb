{
 "cells": [
  {
   "cell_type": "markdown",
   "metadata": {},
   "source": [
    "```python\n",
    "df = pd.read_csv(file.csv)\n",
    "mean_values = df.mean()\n",
    "```"
   ]
  },
  {
   "cell_type": "markdown",
   "metadata": {},
   "source": [
    "```python\n",
    "df = pd.read_csv(file.csv)\n",
    "mean_values = df['column_name'].mean()\n",
    "```"
   ]
  },
  {
   "cell_type": "markdown",
   "metadata": {},
   "source": [
    "```python\n",
    "df = pd.read_csv(file.csv)\n",
    "mode_values = df.mode()\n",
    "```"
   ]
  },
  {
   "cell_type": "markdown",
   "metadata": {},
   "source": [
    "```python\n",
    "df = pd.read_csv(file.csv)\n",
    "mode_values = df['column_name'].mode()[0]\n",
    "```"
   ]
  },
  {
   "cell_type": "markdown",
   "metadata": {},
   "source": [
    "```python\n",
    "df = pd.read_csv(file.csv)\n",
    "important_metrics = df.describe()\n",
    "```"
   ]
  },
  {
   "cell_type": "code",
   "execution_count": 1,
   "metadata": {},
   "outputs": [
    {
     "name": "stdout",
     "output_type": "stream",
     "text": [
      "Residual sugar mean: 2.6637061403508775\n",
      "Fixed acidity mode: 7.8\n",
      "       Unnamed: 0  fixed acidity  volatile acidity  citric acid  \\\n",
      "count   456.00000     456.000000        456.000000   456.000000   \n",
      "mean    227.50000       8.955044          0.528980     0.318289   \n",
      "std     131.78012       2.012449          0.177857     0.213356   \n",
      "min       0.00000       4.600000          0.180000     0.000000   \n",
      "25%     113.75000       7.500000          0.397500     0.140000   \n",
      "50%     227.50000       8.600000          0.520000     0.290000   \n",
      "75%     341.25000      10.300000          0.630000     0.490000   \n",
      "max     455.00000      15.600000          1.330000     1.000000   \n",
      "\n",
      "       residual sugar  \n",
      "count      456.000000  \n",
      "mean         2.663706  \n",
      "std          1.408153  \n",
      "min          1.200000  \n",
      "25%          1.900000  \n",
      "50%          2.300000  \n",
      "75%          2.700000  \n",
      "max         15.500000  \n"
     ]
    }
   ],
   "source": [
    "import pandas as pd\n",
    "\n",
    "wine_data = pd.read_csv('https://codefinity-content-media.s3.eu-west-1.amazonaws.com/a43d24b6-df61-4e11-9c90-5b36552b3437/wine.csv') \n",
    "# Write your code here\n",
    "print(f\"Residual sugar mean: {wine_data['residual sugar'].mean()}\")\n",
    "print(f\"Fixed acidity mode: {wine_data['fixed acidity'].mode()[0]}\")\n",
    "described_data = wine_data.describe()\n",
    "print(described_data)\n"
   ]
  }
 ],
 "metadata": {
  "kernelspec": {
   "display_name": "venv",
   "language": "python",
   "name": "python3"
  },
  "language_info": {
   "codemirror_mode": {
    "name": "ipython",
    "version": 3
   },
   "file_extension": ".py",
   "mimetype": "text/x-python",
   "name": "python",
   "nbconvert_exporter": "python",
   "pygments_lexer": "ipython3",
   "version": "3.13.2"
  }
 },
 "nbformat": 4,
 "nbformat_minor": 2
}
