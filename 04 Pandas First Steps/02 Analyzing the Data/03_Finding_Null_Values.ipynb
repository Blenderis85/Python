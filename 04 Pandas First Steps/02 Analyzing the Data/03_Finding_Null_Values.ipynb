{
 "cells": [
  {
   "cell_type": "code",
   "execution_count": 4,
   "metadata": {},
   "outputs": [
    {
     "name": "stdout",
     "output_type": "stream",
     "text": [
      "   animal   name\n",
      "0    True  False\n",
      "1   False   True\n",
      "2    True  False\n",
      "3   False  False\n",
      "4   False   True\n",
      "5    True  False\n"
     ]
    }
   ],
   "source": [
    "import pandas as pd\n",
    "import numpy as np\n",
    "\n",
    "animals_data = {'animal': [np.nan, 'Dog', np.nan, 'Cat','Parrot', None],\n",
    "'name': ['Dolly', None, 'Erin', 'Kelly', None, 'Odie']}\n",
    "animals = pd.DataFrame(animals_data)\n",
    "# Find missing values\n",
    "missing_values = animals.isna()\n",
    "print(missing_values)\n"
   ]
  },
  {
   "cell_type": "code",
   "execution_count": 5,
   "metadata": {},
   "outputs": [
    {
     "name": "stdout",
     "output_type": "stream",
     "text": [
      "     Unnamed: 0  fixed acidity  volatile acidity  citric acid  residual sugar  \\\n",
      "0         False          False             False        False           False   \n",
      "1         False          False              True        False           False   \n",
      "2         False          False             False        False           False   \n",
      "3         False          False             False        False           False   \n",
      "4         False          False             False        False           False   \n",
      "..          ...            ...               ...          ...             ...   \n",
      "451       False          False             False        False           False   \n",
      "452       False          False             False        False           False   \n",
      "453       False          False             False        False           False   \n",
      "454       False          False             False        False           False   \n",
      "455       False          False             False        False           False   \n",
      "\n",
      "     free sulfur dioxide  total sulfur dioxide  density     pH  sulphates  \\\n",
      "0                  False                 False    False  False      False   \n",
      "1                  False                 False    False  False      False   \n",
      "2                  False                 False    False  False      False   \n",
      "3                  False                 False    False  False      False   \n",
      "4                  False                 False    False  False      False   \n",
      "..                   ...                   ...      ...    ...        ...   \n",
      "451                False                 False    False  False      False   \n",
      "452                False                 False    False  False      False   \n",
      "453                False                 False    False  False      False   \n",
      "454                False                 False    False  False      False   \n",
      "455                False                 False    False  False      False   \n",
      "\n",
      "     alcohol  quality     Id  \n",
      "0      False     True  False  \n",
      "1      False    False  False  \n",
      "2      False    False  False  \n",
      "3      False    False  False  \n",
      "4      False    False  False  \n",
      "..       ...      ...    ...  \n",
      "451    False    False  False  \n",
      "452    False    False  False  \n",
      "453    False    False  False  \n",
      "454    False    False  False  \n",
      "455    False    False  False  \n",
      "\n",
      "[456 rows x 13 columns]\n"
     ]
    }
   ],
   "source": [
    "import pandas as pd\n",
    "\n",
    "wine_data = pd.read_csv('https://codefinity-content-media.s3.eu-west-1.amazonaws.com/a43d24b6-df61-4e11-9c90-5b36552b3437/wine_with_nan.csv') \n",
    "# Write your code here\n",
    "missing_values = wine_data.isna()\n",
    "print(missing_values)\n"
   ]
  }
 ],
 "metadata": {
  "kernelspec": {
   "display_name": "venv",
   "language": "python",
   "name": "python3"
  },
  "language_info": {
   "codemirror_mode": {
    "name": "ipython",
    "version": 3
   },
   "file_extension": ".py",
   "mimetype": "text/x-python",
   "name": "python",
   "nbconvert_exporter": "python",
   "pygments_lexer": "ipython3",
   "version": "3.13.2"
  }
 },
 "nbformat": 4,
 "nbformat_minor": 2
}
