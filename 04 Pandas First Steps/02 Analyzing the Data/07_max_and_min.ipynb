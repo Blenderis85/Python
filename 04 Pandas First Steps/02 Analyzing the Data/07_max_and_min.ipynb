{
 "cells": [
  {
   "cell_type": "markdown",
   "metadata": {},
   "source": [
    "```python\n",
    "df = pd.read_csv(file.csv)\n",
    "max_value = df.max()\n",
    "```"
   ]
  },
  {
   "cell_type": "markdown",
   "metadata": {},
   "source": [
    "```python\n",
    "df = pd.read_csv(file.csv)\n",
    "max_values = df['column_name'].max()\n",
    "```"
   ]
  },
  {
   "cell_type": "markdown",
   "metadata": {},
   "source": [
    "```python\n",
    "df = pd.read_csv(file.csv)\n",
    "min_value = df.min()\n",
    "```"
   ]
  },
  {
   "cell_type": "markdown",
   "metadata": {},
   "source": [
    "```python\n",
    "df = pd.read_csv(file.csv)\n",
    "min_values = df['column_name'].min()\n",
    "```"
   ]
  },
  {
   "cell_type": "code",
   "execution_count": 1,
   "metadata": {},
   "outputs": [
    {
     "name": "stdout",
     "output_type": "stream",
     "text": [
      "Difference between max and mean: 1380.0\n",
      "Difference between mean and min: 3420.0\n"
     ]
    }
   ],
   "source": [
    "import pandas as pd \n",
    "\n",
    "# Creating the DataFrame\n",
    "cars_data = {'model': ['audi A1', 'audi A6', 'audi A4', 'audi A3','audi A1'],\n",
    "          'year': [2017, 2016, 2017, 2019, 2016],\n",
    "          'fueltype': ['petrol', 'diesel', 'diesel', 'petrol', 'petrol'],\n",
    "          'price': [12500, 16500, 16800, 17300, 16500]}\n",
    "\n",
    "audi_cars = pd.DataFrame(cars_data)\n",
    "\n",
    "# Finding max, min, and mean\n",
    "max_value = audi_cars['price'].max()\n",
    "min_value = audi_cars['price'].min()\n",
    "mean_value = audi_cars['price'].mean()\n",
    "\n",
    "# Printing the results\n",
    "print(f'Difference between max and mean: {max_value - mean_value}')\n",
    "print(f'Difference between mean and min: {mean_value - min_value}')\n"
   ]
  }
 ],
 "metadata": {
  "kernelspec": {
   "display_name": "venv",
   "language": "python",
   "name": "python3"
  },
  "language_info": {
   "codemirror_mode": {
    "name": "ipython",
    "version": 3
   },
   "file_extension": ".py",
   "mimetype": "text/x-python",
   "name": "python",
   "nbconvert_exporter": "python",
   "pygments_lexer": "ipython3",
   "version": "3.13.2"
  }
 },
 "nbformat": 4,
 "nbformat_minor": 2
}
