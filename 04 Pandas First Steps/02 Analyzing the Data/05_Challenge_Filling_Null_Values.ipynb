{
 "cells": [
  {
   "cell_type": "markdown",
   "metadata": {},
   "source": [
    "```python\n",
    "import pandas as pd\n",
    "df = pd.read_csv(file.csv)\n",
    "new_df = df.fillna(0)\n",
    "```"
   ]
  },
  {
   "cell_type": "code",
   "execution_count": 1,
   "metadata": {},
   "outputs": [
    {
     "name": "stdout",
     "output_type": "stream",
     "text": [
      "<class 'pandas.core.frame.DataFrame'>\n",
      "RangeIndex: 456 entries, 0 to 455\n",
      "Data columns (total 13 columns):\n",
      " #   Column                Non-Null Count  Dtype  \n",
      "---  ------                --------------  -----  \n",
      " 0   Unnamed: 0            456 non-null    int64  \n",
      " 1   fixed acidity         456 non-null    float64\n",
      " 2   volatile acidity      456 non-null    object \n",
      " 3   citric acid           456 non-null    object \n",
      " 4   residual sugar        456 non-null    float64\n",
      " 5   free sulfur dioxide   456 non-null    float64\n",
      " 6   total sulfur dioxide  456 non-null    float64\n",
      " 7   density               456 non-null    float64\n",
      " 8   pH                    456 non-null    float64\n",
      " 9   sulphates             456 non-null    float64\n",
      " 10  alcohol               456 non-null    object \n",
      " 11  quality               456 non-null    object \n",
      " 12  Id                    456 non-null    int64  \n",
      "dtypes: float64(7), int64(2), object(4)\n",
      "memory usage: 46.4+ KB\n",
      "None\n"
     ]
    }
   ],
   "source": [
    "import pandas as pd\n",
    "\n",
    "wine_data = pd.read_csv('https://codefinity-content-media.s3.eu-west-1.amazonaws.com/a43d24b6-df61-4e11-9c90-5b36552b3437/wine_with_nan.csv') \n",
    "# Replace null values with 'no'\n",
    "wine_data = wine_data.fillna('no')\n",
    "# Print general information\n",
    "print(wine_data.info())\n"
   ]
  }
 ],
 "metadata": {
  "kernelspec": {
   "display_name": "venv",
   "language": "python",
   "name": "python3"
  },
  "language_info": {
   "codemirror_mode": {
    "name": "ipython",
    "version": 3
   },
   "file_extension": ".py",
   "mimetype": "text/x-python",
   "name": "python",
   "nbconvert_exporter": "python",
   "pygments_lexer": "ipython3",
   "version": "3.13.2"
  }
 },
 "nbformat": 4,
 "nbformat_minor": 2
}
