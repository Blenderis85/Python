{
 "cells": [
  {
   "cell_type": "markdown",
   "metadata": {},
   "source": [
    "```python\n",
    "pandas.read_csv(filepath_or_buffer, sep=',', header=0, names=None, usecols=None, ...)\n",
    "```"
   ]
  },
  {
   "cell_type": "code",
   "execution_count": 1,
   "metadata": {},
   "outputs": [
    {
     "name": "stdout",
     "output_type": "stream",
     "text": [
      "                                          Company Name Job Title  \\\n",
      "0    Mu Sigma,Data Scientist,105,Bangalore,\"₹6,48,5...       NaN   \n",
      "1      IBM,Data Scientist,95,Bangalore,\"₹11,91,950/yr\"       NaN   \n",
      "2    Tata Consultancy Services,Data Scientist,66,Ba...       NaN   \n",
      "3    Impact Analytics,Data Scientist,40,Bangalore,\"...       NaN   \n",
      "4    Accenture,Data Scientist,32,Bangalore,\"₹9,44,1...       NaN   \n",
      "..                                                 ...       ...   \n",
      "327     SOTI,Data Scientist,1,Bangalore,\"₹7,03,427/yr\"       NaN   \n",
      "328  CoRover,Data Scientist,1,Bangalore,\"₹19,99,227...       NaN   \n",
      "329  iOPEX Technologies,Data Scientist,1,Bangalore,...       NaN   \n",
      "330  Alfonso & Associates Consulting,Data Scientist...       NaN   \n",
      "331    iQuanti,Data Scientist,1,Bangalore,\"₹30,147/mo\"       NaN   \n",
      "\n",
      "     Salaries Reported Location Salary  \n",
      "0                  NaN      NaN    NaN  \n",
      "1                  NaN      NaN    NaN  \n",
      "2                  NaN      NaN    NaN  \n",
      "3                  NaN      NaN    NaN  \n",
      "4                  NaN      NaN    NaN  \n",
      "..                 ...      ...    ...  \n",
      "327                NaN      NaN    NaN  \n",
      "328                NaN      NaN    NaN  \n",
      "329                NaN      NaN    NaN  \n",
      "330                NaN      NaN    NaN  \n",
      "331                NaN      NaN    NaN  \n",
      "\n",
      "[332 rows x 5 columns]\n"
     ]
    }
   ],
   "source": [
    "# Loading the CSV into a `DataFrame`\n",
    "import pandas as pd\n",
    "\n",
    "salary_data = pd.read_csv('https://codefinity-content-media.s3.eu-west-1.amazonaws.com/a43d24b6-df61-4e11-9c90-5b36552b3437/Salary+Dataset.csv')\n",
    "print(salary_data)\n"
   ]
  },
  {
   "cell_type": "markdown",
   "metadata": {},
   "source": [
    "```python\n",
    "pandas.DataFrame.to_csv(path_or_buf=None, sep=',', ..., columns=None, header=True, index=True, ...)\n",
    "```"
   ]
  },
  {
   "cell_type": "code",
   "execution_count": 2,
   "metadata": {},
   "outputs": [
    {
     "name": "stdout",
     "output_type": "stream",
     "text": [
      "Done\n"
     ]
    }
   ],
   "source": [
    "import pandas as pd\n",
    "\n",
    "countries_data = {'country' : ['Thailand', 'Philippines', 'Monaco', 'Malta', 'Sweden', 'Paraguay', 'Latvia'], 'continent' : ['Asia', 'Asia', 'Europe', 'Europe', 'Europe', 'South America', 'Europe'], 'capital':['Bangkok', 'Manila', 'Monaco', 'Valletta', 'Stockholm', 'Asuncion', 'Riga']}\n",
    "countries = pd.DataFrame(countries_data)\n",
    "\n",
    "countries.to_csv('countries.csv')\n",
    "print('Done')\n"
   ]
  },
  {
   "cell_type": "code",
   "execution_count": 3,
   "metadata": {},
   "outputs": [
    {
     "name": "stdout",
     "output_type": "stream",
     "text": [
      "     Unnamed: 0  fixed acidity  volatile acidity  citric acid  residual sugar\n",
      "0             0            7.4             0.700         0.00             1.9\n",
      "1             1            7.8             0.880         0.00             2.6\n",
      "2             2            7.8             0.760         0.04             2.3\n",
      "3             3           11.2             0.280         0.56             1.9\n",
      "4             4            7.4             0.700         0.00             1.9\n",
      "..          ...            ...               ...          ...             ...\n",
      "451         451            8.7             0.840         0.00             1.4\n",
      "452         452            9.6             0.880         0.28             2.4\n",
      "453         453            9.5             0.885         0.27             2.3\n",
      "454         454            8.9             0.290         0.35             1.9\n",
      "455         455            9.9             0.540         0.45             2.3\n",
      "\n",
      "[456 rows x 5 columns]\n"
     ]
    }
   ],
   "source": [
    "import pandas as pd\n",
    "file_url = 'https://codefinity-content-media.s3.eu-west-1.amazonaws.com/a43d24b6-df61-4e11-9c90-5b36552b3437/wine.csv'\n",
    "# Load the CSV into a `DataFrame`\n",
    "wine_data = pd.read_csv(file_url)\n",
    "# Display the result\n",
    "print(wine_data)\n"
   ]
  }
 ],
 "metadata": {
  "kernelspec": {
   "display_name": "venv",
   "language": "python",
   "name": "python3"
  },
  "language_info": {
   "codemirror_mode": {
    "name": "ipython",
    "version": 3
   },
   "file_extension": ".py",
   "mimetype": "text/x-python",
   "name": "python",
   "nbconvert_exporter": "python",
   "pygments_lexer": "ipython3",
   "version": "3.13.2"
  }
 },
 "nbformat": 4,
 "nbformat_minor": 2
}
