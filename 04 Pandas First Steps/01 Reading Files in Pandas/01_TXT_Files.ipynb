{
 "cells": [
  {
   "cell_type": "markdown",
   "metadata": {},
   "source": [
    "```python\n",
    "# Importing pandas library\n",
    "import pandas as pd\n",
    "\n",
    "# Reading a text file into a DataFrame\n",
    "text_data = pd.read_csv('file.txt', sep='\\r', header=None)\n",
    "```"
   ]
  },
  {
   "cell_type": "code",
   "execution_count": 1,
   "metadata": {},
   "outputs": [
    {
     "name": "stdout",
     "output_type": "stream",
     "text": [
      "                                                   0\n",
      "0  pandas is a software library written for the P...\n",
      "1                               taken from the site:\n",
      "2    https://en.wikipedia.org/wiki/Pandas_(software)\n"
     ]
    }
   ],
   "source": [
    "import pandas as pd\n",
    "file_url = 'https://codefinity-content-media.s3.eu-west-1.amazonaws.com/a43d24b6-df61-4e11-9c90-5b36552b3437/pandas.txt'\n",
    "# Load the txt file\n",
    "text_data = pd.read_csv(file_url, sep='\\r', header=None)\n",
    "# Display the result\n",
    "print(text_data)\n"
   ]
  }
 ],
 "metadata": {
  "kernelspec": {
   "display_name": "venv",
   "language": "python",
   "name": "python3"
  },
  "language_info": {
   "codemirror_mode": {
    "name": "ipython",
    "version": 3
   },
   "file_extension": ".py",
   "mimetype": "text/x-python",
   "name": "python",
   "nbconvert_exporter": "python",
   "pygments_lexer": "ipython3",
   "version": "3.13.2"
  }
 },
 "nbformat": 4,
 "nbformat_minor": 2
}
