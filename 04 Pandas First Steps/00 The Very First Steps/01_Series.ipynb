{
 "cells": [
  {
   "cell_type": "code",
   "execution_count": 1,
   "metadata": {},
   "outputs": [
    {
     "name": "stdout",
     "output_type": "stream",
     "text": [
      "0    17\n",
      "1    43\n",
      "2    74\n",
      "3    20\n",
      "dtype: int64\n"
     ]
    }
   ],
   "source": [
    "import pandas as pd\n",
    "numbers = [17, 43, 74, 20]\n",
    "series = pd.Series(numbers)\n",
    "\n",
    "print(series)\n"
   ]
  },
  {
   "cell_type": "code",
   "execution_count": 2,
   "metadata": {},
   "outputs": [
    {
     "name": "stdout",
     "output_type": "stream",
     "text": [
      "0     2\n",
      "1     4\n",
      "2     8\n",
      "3    16\n",
      "dtype: int64 0      New York\n",
      "1    California\n",
      "2       Chicago\n",
      "3        Alaska\n",
      "dtype: object\n"
     ]
    }
   ],
   "source": [
    "# Pandas is usually imported with the `pd` alias\n",
    "import pandas as pd\n",
    "\n",
    "even_numbers = [2, 4, 8, 16]\n",
    "states  = ['New York', 'California', 'Chicago', 'Alaska']\n",
    "# Write code here\n",
    "numbers_series = pd.Series(even_numbers)\n",
    "states_series = pd.Series(states)\n",
    "print(numbers_series , states_series)\n"
   ]
  }
 ],
 "metadata": {
  "kernelspec": {
   "display_name": "venv",
   "language": "python",
   "name": "python3"
  },
  "language_info": {
   "codemirror_mode": {
    "name": "ipython",
    "version": 3
   },
   "file_extension": ".py",
   "mimetype": "text/x-python",
   "name": "python",
   "nbconvert_exporter": "python",
   "pygments_lexer": "ipython3",
   "version": "3.13.2"
  }
 },
 "nbformat": 4,
 "nbformat_minor": 2
}
