{
 "cells": [
  {
   "cell_type": "code",
   "execution_count": 1,
   "metadata": {},
   "outputs": [
    {
     "name": "stdout",
     "output_type": "stream",
     "text": [
      "       country      continent    capital\n",
      "0     Thailand           Asia    Bangkok\n",
      "1  Philippines           Asia     Manila\n",
      "2       Monaco         Europe     Monaco\n",
      "3        Malta         Europe   Valletta\n",
      "4       Sweden         Europe  Stockholm\n",
      "5     Paraguay  South America   Asuncion\n",
      "6       Latvia         Europe       Riga\n"
     ]
    }
   ],
   "source": [
    "import pandas as pd \n",
    "countries_data = {'country' : ['Thailand', 'Philippines', 'Monaco', 'Malta', 'Sweden', 'Paraguay', 'Latvia'],\n",
    "          'continent' : ['Asia', 'Asia', 'Europe', 'Europe', 'Europe', 'South America', 'Europe'],\n",
    "          'capital':['Bangkok', 'Manila', 'Monaco', 'Valletta', 'Stockholm', 'Asuncion', 'Riga']}\n",
    "\n",
    "countries = pd.DataFrame(countries_data)\n",
    "print(countries)\n"
   ]
  },
  {
   "cell_type": "markdown",
   "metadata": {},
   "source": [
    "```python\n",
    "dataframe['name_of_new_column'] = [value_1, value_2, value_3]\n",
    "```"
   ]
  },
  {
   "cell_type": "code",
   "execution_count": 2,
   "metadata": {},
   "outputs": [
    {
     "name": "stdout",
     "output_type": "stream",
     "text": [
      "       country      continent    capital  population\n",
      "0     Thailand           Asia    Bangkok    61399000\n",
      "1  Philippines           Asia     Manila    75967000\n",
      "2       Monaco         Europe     Monaco       39244\n",
      "3        Malta         Europe   Valletta      380200\n",
      "4       Sweden         Europe  Stockholm    10380491\n",
      "5     Paraguay  South America   Asuncion     5496000\n",
      "6       Latvia         Europe       Riga     2424200\n"
     ]
    }
   ],
   "source": [
    "import pandas as pd\n",
    "countries_data = {'country' : ['Thailand', 'Philippines', 'Monaco', 'Malta', 'Sweden', 'Paraguay', 'Latvia'],\n",
    "          'continent' : ['Asia', 'Asia', 'Europe', 'Europe', 'Europe', 'South America', 'Europe'],\n",
    "          'capital':['Bangkok', 'Manila', 'Monaco', 'Valletta', 'Stockholm', 'Asuncion', 'Riga']}\n",
    "countries = pd.DataFrame(countries_data)\n",
    "\n",
    "countries['population'] = [61399000, 75967000, 39244, 380200, 10380491, 5496000, 2424200]\n",
    "print(countries)\n"
   ]
  }
 ],
 "metadata": {
  "kernelspec": {
   "display_name": "venv",
   "language": "python",
   "name": "python3"
  },
  "language_info": {
   "codemirror_mode": {
    "name": "ipython",
    "version": 3
   },
   "file_extension": ".py",
   "mimetype": "text/x-python",
   "name": "python",
   "nbconvert_exporter": "python",
   "pygments_lexer": "ipython3",
   "version": "3.13.2"
  }
 },
 "nbformat": 4,
 "nbformat_minor": 2
}
