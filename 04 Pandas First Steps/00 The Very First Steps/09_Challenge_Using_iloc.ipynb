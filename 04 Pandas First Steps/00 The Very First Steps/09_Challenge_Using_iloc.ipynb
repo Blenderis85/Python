{
 "cells": [
  {
   "cell_type": "code",
   "execution_count": 1,
   "metadata": {},
   "outputs": [
    {
     "name": "stdout",
     "output_type": "stream",
     "text": [
      "country      Latvia\n",
      "continent    Europe\n",
      "capital        Riga\n",
      "Name: 6, dtype: object\n"
     ]
    }
   ],
   "source": [
    "import pandas\n",
    "\n",
    "countries_data = {'country' : ['Thailand', 'Philippines', 'Monaco', 'Malta', 'Sweden', 'Paraguay', 'Latvia'], 'continent' : ['Asia', 'Asia', 'Europe', 'Europe', 'Europe', 'South America', 'Europe'], 'capital':['Bangkok', 'Manila', 'Monaco', 'Valletta', 'Stockholm', 'Asuncion', 'Riga']}\n",
    "countries = pandas.DataFrame(countries_data)\n",
    "# Accessing to the seventh row using negative indexing\n",
    "print(countries.iloc[-1])\n"
   ]
  },
  {
   "cell_type": "code",
   "execution_count": 2,
   "metadata": {},
   "outputs": [
    {
     "name": "stdout",
     "output_type": "stream",
     "text": [
      "model       Audi A1\n",
      "year           2017\n",
      "fueltype     petrol\n",
      "price         12500\n",
      "Name: 0, dtype: object\n",
      "model       Audi A1\n",
      "year           2016\n",
      "fueltype     petrol\n",
      "price         13900\n",
      "Name: 4, dtype: object\n",
      "model       Audi A3\n",
      "year           2019\n",
      "fueltype     petrol\n",
      "price         17300\n",
      "Name: 3, dtype: object\n"
     ]
    }
   ],
   "source": [
    "import pandas as pd\n",
    "\n",
    "cars_data = {'model': ['Audi A1', 'Audi A6', 'Audi A4', 'Audi A3','Audi A1'],\n",
    "          'year': [2017, 2016, 2017, 2019, 2016],\n",
    "          'fueltype': ['petrol', 'diesel', 'diesel', 'petrol', 'petrol'],\n",
    "          'price': [12500, 16500, 16800, 17300, 13900]}\n",
    "audi_cars = pd.DataFrame(cars_data)\n",
    "# Printing information about audi A1 from 2017 year\n",
    "audi_A1_2017 = audi_cars.iloc[0]\n",
    "print(audi_A1_2017)\n",
    "# Printing information about audi A1 from 2016 year\n",
    "audi_A1_2016 = audi_cars.iloc[-1]\n",
    "print(audi_A1_2016)\n",
    "# Printing information about audi A3\n",
    "audi_A3 = audi_cars.iloc[3]\n",
    "print(audi_A3)\n"
   ]
  }
 ],
 "metadata": {
  "kernelspec": {
   "display_name": "venv",
   "language": "python",
   "name": "python3"
  },
  "language_info": {
   "codemirror_mode": {
    "name": "ipython",
    "version": 3
   },
   "file_extension": ".py",
   "mimetype": "text/x-python",
   "name": "python",
   "nbconvert_exporter": "python",
   "pygments_lexer": "ipython3",
   "version": "3.13.2"
  }
 },
 "nbformat": 4,
 "nbformat_minor": 2
}
