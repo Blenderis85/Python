{
 "cells": [
  {
   "cell_type": "markdown",
   "metadata": {},
   "source": [
    "```python\n",
    "df.insert(column_index, 'column_name', [value_1, value_2, value_3])\n",
    "```"
   ]
  },
  {
   "cell_type": "code",
   "execution_count": 1,
   "metadata": {},
   "outputs": [
    {
     "name": "stdout",
     "output_type": "stream",
     "text": [
      "       country  population      continent    capital\n",
      "0     Thailand    61399000           Asia    Bangkok\n",
      "1  Philippines    75967000           Asia     Manila\n",
      "2       Monaco       39244         Europe     Monaco\n",
      "3        Malta      380200         Europe   Valletta\n",
      "4       Sweden    10380491         Europe  Stockholm\n",
      "5     Paraguay     5496000  South America   Asuncion\n",
      "6       Latvia     2424200         Europe       Riga\n"
     ]
    }
   ],
   "source": [
    "import pandas as pd\n",
    "countries_data = {'country' : ['Thailand', 'Philippines', 'Monaco', 'Malta', 'Sweden', 'Paraguay', 'Latvia'],\n",
    "          'continent' : ['Asia', 'Asia', 'Europe', 'Europe', 'Europe', 'South America', 'Europe'],\n",
    "          'capital':['Bangkok', 'Manila', 'Monaco', 'Valletta', 'Stockholm', 'Asuncion', 'Riga']}\n",
    "countries = pd.DataFrame(countries_data)\n",
    "\n",
    "countries.insert(1, 'population', [61399000, 75967000, 39244, 380200, 10380491, 5496000, 2424200])\n",
    "print(countries)\n"
   ]
  },
  {
   "cell_type": "code",
   "execution_count": 2,
   "metadata": {},
   "outputs": [
    {
     "name": "stdout",
     "output_type": "stream",
     "text": [
      "     model  year  price fueltype\n",
      "0  Audi A1  2017  12500   petrol\n",
      "1  Audi A6  2016  16500   diesel\n",
      "2  Audi A4  2017  16800   diesel\n",
      "3  Audi A3  2019  17300   petrol\n",
      "4  Audi A1  2016  13900   petrol\n"
     ]
    }
   ],
   "source": [
    "import pandas as pd \n",
    "cars_data = {'model': ['Audi A1', 'Audi A6', 'Audi A4', 'Audi A3','Audi A1'],\n",
    "          'year': [2017, 2016, 2017, 2019, 2016],\n",
    "          'fueltype': ['petrol', 'diesel', 'diesel', 'petrol', 'petrol']}\n",
    "# Write your code here\n",
    "audi_cars = pd.DataFrame(cars_data)\n",
    "# Adding a new column\n",
    "audi_cars.insert(2, 'price', [12500, 16500, 16800, 17300, 13900])\n",
    "print(audi_cars)\n"
   ]
  }
 ],
 "metadata": {
  "kernelspec": {
   "display_name": "venv",
   "language": "python",
   "name": "python3"
  },
  "language_info": {
   "codemirror_mode": {
    "name": "ipython",
    "version": 3
   },
   "file_extension": ".py",
   "mimetype": "text/x-python",
   "name": "python",
   "nbconvert_exporter": "python",
   "pygments_lexer": "ipython3",
   "version": "3.13.2"
  }
 },
 "nbformat": 4,
 "nbformat_minor": 2
}
