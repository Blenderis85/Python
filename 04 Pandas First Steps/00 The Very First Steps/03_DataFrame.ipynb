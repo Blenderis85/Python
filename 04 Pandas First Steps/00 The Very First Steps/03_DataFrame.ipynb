{
 "cells": [
  {
   "cell_type": "code",
   "execution_count": 1,
   "metadata": {},
   "outputs": [
    {
     "name": "stdout",
     "output_type": "stream",
     "text": [
      "    name  age\n",
      "0    Ann   35\n",
      "1   Alex   12\n",
      "2  Kevin   24\n",
      "3   Kate   45\n"
     ]
    }
   ],
   "source": [
    "import pandas as pd\n",
    "people_data = {'name' : ['Ann', 'Alex', 'Kevin', 'Kate'], \n",
    "          'age' : [35, 12, 24, 45]}\n",
    "\n",
    "people_df = pd.DataFrame(people_data)\n",
    "print(people_df)\n"
   ]
  },
  {
   "cell_type": "code",
   "execution_count": 2,
   "metadata": {},
   "outputs": [
    {
     "name": "stdout",
     "output_type": "stream",
     "text": [
      "   animal   name\n",
      "0     Cat  Dolly\n",
      "1     Dog  Abbey\n",
      "2  Parrot   Erin\n",
      "3     Cat  Kelly\n",
      "4  Parrot  Taffy\n",
      "5     Cat   Odie\n"
     ]
    }
   ],
   "source": [
    "import pandas as pd \n",
    "# Creating a dictionary\n",
    "animals_data = {'animal': ['Cat', 'Dog', 'Parrot', 'Cat', 'Parrot', 'Cat'],\n",
    "           'name': ['Dolly', 'Abbey', 'Erin', 'Kelly', 'Taffy', 'Odie']}\n",
    "\n",
    "# Write code here\n",
    "animals = pd.DataFrame(animals_data)\n",
    "print(animals)\n"
   ]
  }
 ],
 "metadata": {
  "kernelspec": {
   "display_name": "venv",
   "language": "python",
   "name": "python3"
  },
  "language_info": {
   "codemirror_mode": {
    "name": "ipython",
    "version": 3
   },
   "file_extension": ".py",
   "mimetype": "text/x-python",
   "name": "python",
   "nbconvert_exporter": "python",
   "pygments_lexer": "ipython3",
   "version": "3.13.2"
  }
 },
 "nbformat": 4,
 "nbformat_minor": 2
}
