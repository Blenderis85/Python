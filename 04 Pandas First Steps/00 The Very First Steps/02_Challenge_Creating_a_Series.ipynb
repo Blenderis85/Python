{
 "cells": [
  {
   "cell_type": "code",
   "execution_count": 1,
   "metadata": {},
   "outputs": [
    {
     "name": "stdout",
     "output_type": "stream",
     "text": [
      "0       Red\n",
      "1     Black\n",
      "2      Gray\n",
      "3    Yellow\n",
      "4     White\n",
      "5     Green\n",
      "dtype: object\n"
     ]
    }
   ],
   "source": [
    "import pandas as pd\n",
    "\n",
    "color_names = ['Red', 'Black', 'Gray', 'Yellow', 'White', 'Green']\n",
    "# Create a `Series`\n",
    "colors = pd.Series(color_names)\n",
    "# Display the results\n",
    "print(colors)\n"
   ]
  }
 ],
 "metadata": {
  "kernelspec": {
   "display_name": "venv",
   "language": "python",
   "name": "python3"
  },
  "language_info": {
   "codemirror_mode": {
    "name": "ipython",
    "version": 3
   },
   "file_extension": ".py",
   "mimetype": "text/x-python",
   "name": "python",
   "nbconvert_exporter": "python",
   "pygments_lexer": "ipython3",
   "version": "3.13.2"
  }
 },
 "nbformat": 4,
 "nbformat_minor": 2
}
