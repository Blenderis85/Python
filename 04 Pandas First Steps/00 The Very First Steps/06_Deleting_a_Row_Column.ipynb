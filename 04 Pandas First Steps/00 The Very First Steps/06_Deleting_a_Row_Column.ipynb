{
 "cells": [
  {
   "cell_type": "markdown",
   "metadata": {},
   "source": [
    "```python\n",
    "drop(index, columns, axis)\n",
    "```"
   ]
  },
  {
   "cell_type": "code",
   "execution_count": 1,
   "metadata": {},
   "outputs": [
    {
     "name": "stdout",
     "output_type": "stream",
     "text": [
      "       country continent    capital\n",
      "0     Thailand      None    Bangkok\n",
      "1  Philippines      None     Manila\n",
      "2       Monaco    Europe     Monaco\n",
      "3        Malta      None   Valletta\n",
      "4       Sweden    Europe  Stockholm\n",
      "5     Paraguay      None   Asuncion\n",
      "6       Latvia    Europe       Riga\n"
     ]
    }
   ],
   "source": [
    "import pandas as pd \n",
    "\n",
    "countries_data = {'country' : ['Thailand', 'Philippines', 'Monaco', 'Malta', 'Sweden', 'Paraguay', 'Latvia'],\n",
    "          'continent' : [None, None, 'Europe', None, 'Europe', None, 'Europe'],\n",
    "          'capital':['Bangkok', 'Manila', 'Monaco', 'Valletta', 'Stockholm', 'Asuncion', 'Riga']}\n",
    "countries = pd.DataFrame(countries_data)\n",
    "print(countries)\n"
   ]
  },
  {
   "cell_type": "code",
   "execution_count": 2,
   "metadata": {},
   "outputs": [
    {
     "name": "stdout",
     "output_type": "stream",
     "text": [
      "       country    capital\n",
      "0     Thailand    Bangkok\n",
      "1  Philippines     Manila\n",
      "2       Monaco     Monaco\n",
      "3        Malta   Valletta\n",
      "4       Sweden  Stockholm\n",
      "5     Paraguay   Asuncion\n",
      "6       Latvia       Riga\n"
     ]
    }
   ],
   "source": [
    "import pandas\n",
    "\n",
    "countries_data = {'country' : ['Thailand', 'Philippines', 'Monaco', 'Malta', 'Sweden', 'Paraguay', 'Latvia'],\n",
    "          'continent' : [None, None, 'Europe', None, 'Europe', None, 'Europe'],\n",
    "          'capital':['Bangkok', 'Manila', 'Monaco', 'Valletta', 'Stockholm', 'Asuncion', 'Riga']}\n",
    "countries = pandas.DataFrame(countries_data)\n",
    "countries = countries.drop(columns = ['continent'],axis=1)\n",
    "print(countries)\n"
   ]
  },
  {
   "cell_type": "code",
   "execution_count": 3,
   "metadata": {},
   "outputs": [
    {
     "name": "stdout",
     "output_type": "stream",
     "text": [
      "     model  year fueltype\n",
      "0  Audi A1  2017   petrol\n",
      "1  Audi A6  2016   diesel\n",
      "2  Audi A4  2017   diesel\n",
      "3  Audi A3  2019   petrol\n",
      "4  Audi A1  2016   petrol\n"
     ]
    }
   ],
   "source": [
    "import pandas as pd \n",
    "cars_data = {'model': ['Audi A1', 'Audi A6', 'Audi A4', 'Audi A3','Audi A1'],\n",
    "          'year': [2017, 2016, 2017, 2019, 2016],\n",
    "          'fueltype': ['petrol', 'diesel', 'diesel', 'petrol', 'petrol'],\n",
    "          'capital': ['Manila', 'Monaco', 'Bangkok', 'Stockhol', 'Valletta']}\n",
    "# Creating a dataframe\n",
    "audi_cars = pd.DataFrame(cars_data)\n",
    "# Deleting a column\n",
    "audi_cars = audi_cars.drop(columns = ['capital'], axis = 1)\n",
    "print(audi_cars)\n"
   ]
  }
 ],
 "metadata": {
  "kernelspec": {
   "display_name": "venv",
   "language": "python",
   "name": "python3"
  },
  "language_info": {
   "codemirror_mode": {
    "name": "ipython",
    "version": 3
   },
   "file_extension": ".py",
   "mimetype": "text/x-python",
   "name": "python",
   "nbconvert_exporter": "python",
   "pygments_lexer": "ipython3",
   "version": "3.13.2"
  }
 },
 "nbformat": 4,
 "nbformat_minor": 2
}
