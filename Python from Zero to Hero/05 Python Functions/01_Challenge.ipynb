{
 "cells": [
  {
   "cell_type": "code",
   "execution_count": 1,
   "metadata": {},
   "outputs": [
    {
     "name": "stdout",
     "output_type": "stream",
     "text": [
      "My name is Heisenberg\n"
     ]
    }
   ],
   "source": [
    "# Define the function `say_my_name`\n",
    "def say_my_name():\n",
    "    # The function prints the string `My name is Heisenberg`\n",
    "    print('My name is Heisenberg')\n",
    "\n",
    "# Call the function `say_my_name`\n",
    "say_my_name()\n"
   ]
  },
  {
   "cell_type": "code",
   "execution_count": 2,
   "metadata": {},
   "outputs": [
    {
     "name": "stdout",
     "output_type": "stream",
     "text": [
      "My name is Blenderis\n"
     ]
    }
   ],
   "source": [
    "# Define the function\n",
    "def print_name():\n",
    "\t# The function prints the string\n",
    "    print('My name is Blenderis')\n",
    "\n",
    "# Call the function   \n",
    "print_name()\n"
   ]
  }
 ],
 "metadata": {
  "kernelspec": {
   "display_name": "venv",
   "language": "python",
   "name": "python3"
  },
  "language_info": {
   "codemirror_mode": {
    "name": "ipython",
    "version": 3
   },
   "file_extension": ".py",
   "mimetype": "text/x-python",
   "name": "python",
   "nbconvert_exporter": "python",
   "pygments_lexer": "ipython3",
   "version": "3.13.2"
  }
 },
 "nbformat": 4,
 "nbformat_minor": 2
}
