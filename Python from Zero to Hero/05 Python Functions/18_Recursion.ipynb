{
 "cells": [
  {
   "cell_type": "code",
   "execution_count": 1,
   "metadata": {},
   "outputs": [
    {
     "name": "stdout",
     "output_type": "stream",
     "text": [
      "Hello, Recursion!\n",
      "Hello, Recursion!\n",
      "Hello, Recursion!\n"
     ]
    }
   ],
   "source": [
    "def print_message(message, times):\n",
    "    if times > 0:\n",
    "        print(message)\n",
    "        print_message(message, times - 1)\n",
    "\n",
    "# Function call\n",
    "print_message(\"Hello, Recursion!\", 3)\n"
   ]
  },
  {
   "cell_type": "code",
   "execution_count": 2,
   "metadata": {},
   "outputs": [
    {
     "name": "stdout",
     "output_type": "stream",
     "text": [
      "erccJF7A\n",
      "0pHdubuf\n",
      "x7QR8BVa\n",
      "tebf4qdj\n",
      "0p5aOtZm\n",
      "jUOyaIQo\n",
      "3Fp2pwE6\n",
      "wTW9ln4H\n",
      "iKc50YMm\n",
      "k7BO9wdX\n"
     ]
    }
   ],
   "source": [
    "import random\n",
    "import string\n",
    "\n",
    "def generate_passwords(length, count, current_password=\"\"):\n",
    "    # If the number of passwords to generate is 0, stop\n",
    "    if count == 0:\n",
    "        return\n",
    "\n",
    "    # If the current password has reached the required length, print it\n",
    "    if len(current_password) == length:\n",
    "        print(current_password)\n",
    "        # Generate the next password, decreasing the remaining count\n",
    "        generate_passwords(length, count - 1)\n",
    "        return\n",
    "\n",
    "    # Add a random character from the set `(digits, letters)`\n",
    "    all_characters = string.ascii_letters + string.digits\n",
    "    random_char = random.choice(all_characters)\n",
    "    generate_passwords(length, count, current_password + random_char)\n",
    "\n",
    "# Call the function to generate 10 passwords of length 8\n",
    "generate_passwords(8, 10)\n"
   ]
  }
 ],
 "metadata": {
  "kernelspec": {
   "display_name": "venv",
   "language": "python",
   "name": "python3"
  },
  "language_info": {
   "codemirror_mode": {
    "name": "ipython",
    "version": 3
   },
   "file_extension": ".py",
   "mimetype": "text/x-python",
   "name": "python",
   "nbconvert_exporter": "python",
   "pygments_lexer": "ipython3",
   "version": "3.13.2"
  }
 },
 "nbformat": 4,
 "nbformat_minor": 2
}
