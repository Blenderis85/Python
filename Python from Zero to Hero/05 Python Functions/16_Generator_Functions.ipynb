{
 "cells": [
  {
   "cell_type": "code",
   "execution_count": 1,
   "metadata": {},
   "outputs": [
    {
     "name": "stdout",
     "output_type": "stream",
     "text": [
      "user1\n",
      "user2\n",
      "user3\n",
      "user4\n",
      "user5\n"
     ]
    }
   ],
   "source": [
    "def unique_logins_from_list(login_list):\n",
    "    # Iterate over each login in the list\n",
    "    for login in login_list: \n",
    "        yield login  # `yield` the current login\n",
    "\n",
    "# A predefined list of available logins\n",
    "login_list = [\"user1\", \"user2\", \"user3\", \"user4\", \"user5\"]\n",
    "\n",
    "# Creating a generator instance from the login list\n",
    "login_generator = unique_logins_from_list(login_list)\n",
    "\n",
    "# Generate and print 5 logins, one at a time\n",
    "for _ in range(5):\n",
    "    # Each call to `next()` gives the next login\n",
    "    print(next(login_generator)) \n"
   ]
  },
  {
   "cell_type": "code",
   "execution_count": 2,
   "metadata": {},
   "outputs": [
    {
     "name": "stdout",
     "output_type": "stream",
     "text": [
      "ID_1\n",
      "ID_2\n",
      "ID_3\n",
      "ID_4\n",
      "ID_5\n"
     ]
    }
   ],
   "source": [
    "def id_generator():\n",
    "    count = 1\n",
    "    while True:\n",
    "        yield f\"ID_{count}\"\n",
    "        count += 1\n",
    "\n",
    "# Using the generator to obtain unique identifiers\n",
    "id_gen = id_generator()\n",
    "\n",
    "# Getting the first five identifiers\n",
    "for _ in range(5):\n",
    "    unique_id = next(id_gen)\n",
    "    print(unique_id)\n"
   ]
  }
 ],
 "metadata": {
  "kernelspec": {
   "display_name": "venv",
   "language": "python",
   "name": "python3"
  },
  "language_info": {
   "codemirror_mode": {
    "name": "ipython",
    "version": 3
   },
   "file_extension": ".py",
   "mimetype": "text/x-python",
   "name": "python",
   "nbconvert_exporter": "python",
   "pygments_lexer": "ipython3",
   "version": "3.13.2"
  }
 },
 "nbformat": 4,
 "nbformat_minor": 2
}
