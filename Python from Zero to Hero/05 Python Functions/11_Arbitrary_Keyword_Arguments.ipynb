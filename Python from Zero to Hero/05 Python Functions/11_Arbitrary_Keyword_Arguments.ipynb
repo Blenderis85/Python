{
 "cells": [
  {
   "cell_type": "code",
   "execution_count": 1,
   "metadata": {},
   "outputs": [
    {
     "name": "stdout",
     "output_type": "stream",
     "text": [
      "name: John\n",
      "age: 25\n",
      "city: New York\n"
     ]
    }
   ],
   "source": [
    "def example_function(**kwargs):\n",
    "    for key, value in kwargs.items():\n",
    "        print(f'{key}: {value}')\n",
    "\n",
    "# Example function call\n",
    "example_function(name='John', age=25, city='New York')\n"
   ]
  },
  {
   "cell_type": "code",
   "execution_count": 2,
   "metadata": {},
   "outputs": [
    {
     "name": "stdout",
     "output_type": "stream",
     "text": [
      "The total cost of candies and sweets is: $11.0\n",
      "The total cost of candies and sweets is: $7.0\n"
     ]
    }
   ],
   "source": [
    "# Function to calculate the total cost of candies and sweets\n",
    "def calculate_total_cost(**kwargs):\n",
    "    total_cost = 0\n",
    "    # Iterate through the keyword arguments and calculate the total cost\n",
    "    for item, cost in kwargs.items():\n",
    "        total_cost += cost\n",
    "    \n",
    "    return total_cost\n",
    "\n",
    "# Test the function using different number of arguments\n",
    "total = calculate_total_cost(candy=2.5, chocolate=3.0, lollipop=1.5, gummy_bears=4.0)\n",
    "print(f\"The total cost of candies and sweets is: ${total}\")\n",
    "\n",
    "total = calculate_total_cost(candy=1.0, cookie=2.5, marshmallow=3.5)\n",
    "print(f\"The total cost of candies and sweets is: ${total}\")\n"
   ]
  }
 ],
 "metadata": {
  "kernelspec": {
   "display_name": "venv",
   "language": "python",
   "name": "python3"
  },
  "language_info": {
   "codemirror_mode": {
    "name": "ipython",
    "version": 3
   },
   "file_extension": ".py",
   "mimetype": "text/x-python",
   "name": "python",
   "nbconvert_exporter": "python",
   "pygments_lexer": "ipython3",
   "version": "3.13.2"
  }
 },
 "nbformat": 4,
 "nbformat_minor": 2
}
