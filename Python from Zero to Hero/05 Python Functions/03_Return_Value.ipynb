{
 "cells": [
  {
   "cell_type": "code",
   "execution_count": 1,
   "metadata": {},
   "outputs": [
    {
     "name": "stdout",
     "output_type": "stream",
     "text": [
      "Time to walk Bella!\n",
      "Wait until 6 PM to walk Charlie!\n"
     ]
    }
   ],
   "source": [
    "def walk_the_dog(dog_name, walk_time):\n",
    "    # Check if the walk time is between 6 and 18 hours\n",
    "    if 6 <= walk_time <= 18:\n",
    "        return f\"Time to walk {dog_name}!\"\n",
    "    else:\n",
    "        return f\"Wait until 6 PM to walk {dog_name}!\"\n",
    "\n",
    "# Function calls with different parameters\n",
    "message1 = walk_the_dog(\"Bella\", 14)\n",
    "message2 = walk_the_dog(\"Charlie\", 20)\n",
    "\n",
    "# Display the results\n",
    "print(message1)\n",
    "print(message2)\n"
   ]
  },
  {
   "cell_type": "code",
   "execution_count": 2,
   "metadata": {},
   "outputs": [
    {
     "name": "stdout",
     "output_type": "stream",
     "text": [
      "Hello, Buddy! You're a Labrador.\n"
     ]
    }
   ],
   "source": [
    "def greet_dog(dog_name, dog_breed):\n",
    "    return f\"Hello, {dog_name}! You're a {dog_breed}.\"\n",
    "\n",
    "# Function call\n",
    "greeting = greet_dog(\"Buddy\", \"Labrador\")\n",
    "\n",
    "# Display the result\n",
    "print(greeting)\n"
   ]
  }
 ],
 "metadata": {
  "kernelspec": {
   "display_name": "venv",
   "language": "python",
   "name": "python3"
  },
  "language_info": {
   "codemirror_mode": {
    "name": "ipython",
    "version": 3
   },
   "file_extension": ".py",
   "mimetype": "text/x-python",
   "name": "python",
   "nbconvert_exporter": "python",
   "pygments_lexer": "ipython3",
   "version": "3.13.2"
  }
 },
 "nbformat": 4,
 "nbformat_minor": 2
}
