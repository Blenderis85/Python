{
 "cells": [
  {
   "cell_type": "code",
   "execution_count": 1,
   "metadata": {},
   "outputs": [
    {
     "name": "stdout",
     "output_type": "stream",
     "text": [
      "Sum of two numbers is 12\n"
     ]
    }
   ],
   "source": [
    "# Specify two arguments of the function\n",
    "def sum_of_two_numbers(num_1, num_2):\n",
    "\t# Use arguments to calculate sum\n",
    "\tresult = num_1 + num_2\n",
    "    # Print the result\n",
    "\tprint(f'Sum of two numbers is {result}')\n",
    " \n",
    "# Call the function \n",
    "sum_of_two_numbers(2, 10)\n"
   ]
  },
  {
   "cell_type": "code",
   "execution_count": 2,
   "metadata": {},
   "outputs": [
    {
     "name": "stdout",
     "output_type": "stream",
     "text": [
      "15\n"
     ]
    }
   ],
   "source": [
    "# Define the function `calculate_list_sum`\n",
    "def calculate_list_sum(list):\n",
    "    # Initialize the total sum to 0\n",
    "    total = 0\n",
    "    # Iterate through each number in the list\n",
    "    for num in list:\n",
    "        # Add the current number to the total sum\n",
    "        total += num\n",
    "    # Print the total sum\n",
    "    print(total)\n",
    "\n",
    "# Create a list of numbers\n",
    "my_list = [1, 2, 3, 4, 5]\n",
    "# Call the function \n",
    "calculate_list_sum(my_list)\n"
   ]
  },
  {
   "cell_type": "code",
   "execution_count": 3,
   "metadata": {},
   "outputs": [
    {
     "name": "stdout",
     "output_type": "stream",
     "text": [
      "The perimeter is 10\n"
     ]
    }
   ],
   "source": [
    "def calculate_triangle_perimeter(a, b, c):\n",
    "    # Calculate perimeter by summing all sides\n",
    "    perimeter = a + b + c\n",
    "    # Print the calculated perimeter\n",
    "    print(f'The perimeter is {perimeter}')\n",
    "\n",
    "# Call the function with side lengths 2, 3, and 5\n",
    "calculate_triangle_perimeter(2, 3, 5)\n"
   ]
  }
 ],
 "metadata": {
  "kernelspec": {
   "display_name": "venv",
   "language": "python",
   "name": "python3"
  },
  "language_info": {
   "codemirror_mode": {
    "name": "ipython",
    "version": 3
   },
   "file_extension": ".py",
   "mimetype": "text/x-python",
   "name": "python",
   "nbconvert_exporter": "python",
   "pygments_lexer": "ipython3",
   "version": "3.13.2"
  }
 },
 "nbformat": 4,
 "nbformat_minor": 2
}
