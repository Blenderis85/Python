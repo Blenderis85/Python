{
 "cells": [
  {
   "cell_type": "code",
   "execution_count": 1,
   "metadata": {},
   "outputs": [
    {
     "name": "stdout",
     "output_type": "stream",
     "text": [
      "Model: iPhone 13\n",
      "Unit price: $1099\n",
      "Quantity: 2\n",
      "Total cost before discount: $2198\n",
      "No discount applied.\n",
      "Final cost: $2198.0\n",
      "\n",
      "Model: Samsung Galaxy S21\n",
      "Unit price: $999\n",
      "Quantity: 1\n",
      "Total cost before discount: $999\n",
      "Discount: 10%\n",
      "Discount amount: $99.9\n",
      "Discounted cost: $899.1\n",
      "\n",
      "Model: Google Pixel 6\n",
      "Unit price: $799\n",
      "Quantity: 3\n",
      "Total cost before discount: $2397\n",
      "Discount: 5%\n",
      "Discount amount: $119.85000000000001\n",
      "Discounted cost: $2277.15\n",
      "\n"
     ]
    }
   ],
   "source": [
    "def calculate_smartphone_cost(model, price, quantity=1, discount=0):\n",
    "    total_cost = price * quantity\n",
    "    discount_amount = total_cost * (discount / 100)\n",
    "    discounted_cost = total_cost - discount_amount\n",
    "    \n",
    "    print(f\"Model: {model}\")\n",
    "    print(f\"Unit price: ${price}\")\n",
    "    print(f\"Quantity: {quantity}\")\n",
    "    print(f\"Total cost before discount: ${total_cost}\")\n",
    "    \n",
    "    if discount > 0:\n",
    "        print(f\"Discount: {discount}%\")\n",
    "        print(f\"Discount amount: ${discount_amount}\")\n",
    "        print(f\"Discounted cost: ${discounted_cost}\")\n",
    "    else:\n",
    "        print(\"No discount applied.\")\n",
    "        print(f\"Final cost: ${discounted_cost}\")\n",
    "    \n",
    "    print()\n",
    "\n",
    "# Examples of using the function\n",
    "calculate_smartphone_cost(\"iPhone 13\", 1099, 2)\n",
    "calculate_smartphone_cost(\"Samsung Galaxy S21\", 999, 1, 10)\n",
    "calculate_smartphone_cost(\"Google Pixel 6\", 799, quantity=3, discount=5)\n"
   ]
  }
 ],
 "metadata": {
  "kernelspec": {
   "display_name": "venv",
   "language": "python",
   "name": "python3"
  },
  "language_info": {
   "codemirror_mode": {
    "name": "ipython",
    "version": 3
   },
   "file_extension": ".py",
   "mimetype": "text/x-python",
   "name": "python",
   "nbconvert_exporter": "python",
   "pygments_lexer": "ipython3",
   "version": "3.13.2"
  }
 },
 "nbformat": 4,
 "nbformat_minor": 2
}
