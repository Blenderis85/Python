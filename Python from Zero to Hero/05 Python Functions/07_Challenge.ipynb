{
 "cells": [
  {
   "cell_type": "code",
   "execution_count": 1,
   "metadata": {},
   "outputs": [
    {
     "name": "stdout",
     "output_type": "stream",
     "text": [
      "[{'name': 'Alice', 'email': 'alice@example.com'}, {'name': 'Bob', 'email': 'bob@example.com'}]\n"
     ]
    }
   ],
   "source": [
    "user_list = []\n",
    "\n",
    "def register_user(name, email):\n",
    "    # Dictionary with user data\n",
    "    user_data = {'name': name, 'email': email}\n",
    "    # Add the dictionary to the user list\n",
    "    user_list.append(user_data)\n",
    "\n",
    "# First function call\n",
    "register_user(\"Alice\", \"alice@example.com\")\n",
    "# Second function call\n",
    "register_user(email=\"bob@example.com\", name=\"Bob\")\n",
    "\n",
    "# Check the result\n",
    "print(user_list)\n"
   ]
  }
 ],
 "metadata": {
  "kernelspec": {
   "display_name": "venv",
   "language": "python",
   "name": "python3"
  },
  "language_info": {
   "codemirror_mode": {
    "name": "ipython",
    "version": 3
   },
   "file_extension": ".py",
   "mimetype": "text/x-python",
   "name": "python",
   "nbconvert_exporter": "python",
   "pygments_lexer": "ipython3",
   "version": "3.13.2"
  }
 },
 "nbformat": 4,
 "nbformat_minor": 2
}
