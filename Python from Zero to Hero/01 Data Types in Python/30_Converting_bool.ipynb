{
 "cells": [
  {
   "cell_type": "code",
   "execution_count": 1,
   "metadata": {},
   "outputs": [
    {
     "name": "stdout",
     "output_type": "stream",
     "text": [
      "Variable statement1 equals: True\n",
      "Variable statement2 equals: True\n",
      "Variable statement3 equals: False\n"
     ]
    }
   ],
   "source": [
    "# This statement converts -90 to boolean\n",
    "statement1 = bool(-90)\n",
    "# This statement converts \"La vie est belle\" to boolean\n",
    "statement2 = bool(\"La vie est belle\")\n",
    "# This statement converts None to boolean\n",
    "statement3 = bool(None)\n",
    "\n",
    "print('Variable statement1 equals:', statement1)\n",
    "print('Variable statement2 equals:', statement2)\n",
    "print('Variable statement3 equals:', statement3)\n"
   ]
  }
 ],
 "metadata": {
  "kernelspec": {
   "display_name": "venv",
   "language": "python",
   "name": "python3"
  },
  "language_info": {
   "codemirror_mode": {
    "name": "ipython",
    "version": 3
   },
   "file_extension": ".py",
   "mimetype": "text/x-python",
   "name": "python",
   "nbconvert_exporter": "python",
   "pygments_lexer": "ipython3",
   "version": "3.13.2"
  }
 },
 "nbformat": 4,
 "nbformat_minor": 2
}
