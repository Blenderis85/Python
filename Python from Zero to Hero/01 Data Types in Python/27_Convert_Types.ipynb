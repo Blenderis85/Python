{
 "cells": [
  {
   "cell_type": "code",
   "execution_count": 1,
   "metadata": {},
   "outputs": [
    {
     "name": "stdout",
     "output_type": "stream",
     "text": [
      "657\n",
      "90000\n",
      "678\n"
     ]
    }
   ],
   "source": [
    "value1 = int(657.89)\n",
    "value2 = int(90e3)\n",
    "value3 = int(\"678\")\n",
    "\n",
    "print(value1)\n",
    "print(value2)\n",
    "print(value3)\n"
   ]
  },
  {
   "cell_type": "code",
   "execution_count": 2,
   "metadata": {},
   "outputs": [
    {
     "name": "stdout",
     "output_type": "stream",
     "text": [
      "Variable integer1 equals: 6\n",
      "Variable integer2 equals: 28\n",
      "Variable integer3 equals: 496\n"
     ]
    }
   ],
   "source": [
    "variable1 = 0.6e1\n",
    "variable2 = 28.073983298\n",
    "variable3 = 4.96e2\n",
    "\n",
    "# Convert `variable1` to integer\n",
    "integer1 = int(variable1)\n",
    "# Convert `variable2` to integer\n",
    "integer2 = int(variable2)\n",
    "# Convert `variable3` to integer\n",
    "integer3 = int(variable3)\n",
    "\n",
    "print(\"Variable integer1 equals:\", integer1)\n",
    "print(\"Variable integer2 equals:\", integer2)\n",
    "print(\"Variable integer3 equals:\", integer3)\n"
   ]
  }
 ],
 "metadata": {
  "kernelspec": {
   "display_name": "venv",
   "language": "python",
   "name": "python3"
  },
  "language_info": {
   "codemirror_mode": {
    "name": "ipython",
    "version": 3
   },
   "file_extension": ".py",
   "mimetype": "text/x-python",
   "name": "python",
   "nbconvert_exporter": "python",
   "pygments_lexer": "ipython3",
   "version": "3.13.2"
  }
 },
 "nbformat": 4,
 "nbformat_minor": 2
}
