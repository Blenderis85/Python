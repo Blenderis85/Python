{
 "cells": [
  {
   "cell_type": "code",
   "execution_count": 1,
   "metadata": {},
   "outputs": [
    {
     "name": "stdout",
     "output_type": "stream",
     "text": [
      "beyond your limits\n"
     ]
    }
   ],
   "source": [
    "string = \"Push beyond your limits\"\n",
    "phrase = string[5:]\n",
    "\n",
    "print(phrase)\n"
   ]
  },
  {
   "cell_type": "code",
   "execution_count": 2,
   "metadata": {},
   "outputs": [
    {
     "name": "stdout",
     "output_type": "stream",
     "text": [
      "Push beyond\n"
     ]
    }
   ],
   "source": [
    "string = \"Push beyond your limits\"\n",
    "phrase = string[:11]\n",
    "print(phrase)\n"
   ]
  },
  {
   "cell_type": "code",
   "execution_count": 3,
   "metadata": {},
   "outputs": [
    {
     "name": "stdout",
     "output_type": "stream",
     "text": [
      "phrase1 variable equals: Get a foot\n",
      "phrase2 variable equals: away\n"
     ]
    }
   ],
   "source": [
    "string1 = \"Get a foot in the door in programming!\"\n",
    "string2 = \"Plug away\"\n",
    "# Slice out the phrase 'Get a foot'\n",
    "phrase1 = string1[:10]\n",
    "# Slice out the phrase 'away'\n",
    "phrase2 = string2[-4:]\n",
    "\n",
    "# Print the strings and relevant phrases\n",
    "print(\"phrase1 variable equals:\", phrase1)\n",
    "print(\"phrase2 variable equals:\", phrase2)\n"
   ]
  }
 ],
 "metadata": {
  "kernelspec": {
   "display_name": "venv",
   "language": "python",
   "name": "python3"
  },
  "language_info": {
   "codemirror_mode": {
    "name": "ipython",
    "version": 3
   },
   "file_extension": ".py",
   "mimetype": "text/x-python",
   "name": "python",
   "nbconvert_exporter": "python",
   "pygments_lexer": "ipython3",
   "version": "3.13.2"
  }
 },
 "nbformat": 4,
 "nbformat_minor": 2
}
