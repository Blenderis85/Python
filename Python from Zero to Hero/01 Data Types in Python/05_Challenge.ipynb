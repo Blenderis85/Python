{
 "cells": [
  {
   "cell_type": "code",
   "execution_count": 1,
   "metadata": {},
   "outputs": [
    {
     "name": "stdout",
     "output_type": "stream",
     "text": [
      "The number of remaining tasks is 2\n",
      "The number of minutes for completing the tasks is 70\n"
     ]
    }
   ],
   "source": [
    "completed = 60 // 7\n",
    "minutes = 60 % 7\n",
    "# Set the number of remaining tasks\n",
    "remaining_tasks = 10 - completed\n",
    "# Set the number of minutes you need to complete all tasks\n",
    "required_time = 10 * 7\n",
    "\n",
    "# Print the result\n",
    "print(\"The number of remaining tasks is\", remaining_tasks)\n",
    "print(\"The number of minutes for completing the tasks is\", required_time)\n"
   ]
  }
 ],
 "metadata": {
  "kernelspec": {
   "display_name": "venv",
   "language": "python",
   "name": "python3"
  },
  "language_info": {
   "codemirror_mode": {
    "name": "ipython",
    "version": 3
   },
   "file_extension": ".py",
   "mimetype": "text/x-python",
   "name": "python",
   "nbconvert_exporter": "python",
   "pygments_lexer": "ipython3",
   "version": "3.13.2"
  }
 },
 "nbformat": 4,
 "nbformat_minor": 2
}
