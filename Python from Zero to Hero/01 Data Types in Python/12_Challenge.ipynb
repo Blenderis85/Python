{
 "cells": [
  {
   "cell_type": "code",
   "execution_count": 1,
   "metadata": {},
   "outputs": [
    {
     "name": "stdout",
     "output_type": "stream",
     "text": [
      "Variable statement1 equals: True\n",
      "Variable statement2 equals: False\n"
     ]
    }
   ],
   "source": [
    "# This statement equals `True`\n",
    "statement1 = True and not False\n",
    "# This statement equals `False`\n",
    "statement2 = not True and True\n",
    "\n",
    "print(\"Variable statement1 equals:\", statement1)\n",
    "print(\"Variable statement2 equals:\", statement2)\n"
   ]
  }
 ],
 "metadata": {
  "kernelspec": {
   "display_name": "venv",
   "language": "python",
   "name": "python3"
  },
  "language_info": {
   "codemirror_mode": {
    "name": "ipython",
    "version": 3
   },
   "file_extension": ".py",
   "mimetype": "text/x-python",
   "name": "python",
   "nbconvert_exporter": "python",
   "pygments_lexer": "ipython3",
   "version": "3.13.2"
  }
 },
 "nbformat": 4,
 "nbformat_minor": 2
}
