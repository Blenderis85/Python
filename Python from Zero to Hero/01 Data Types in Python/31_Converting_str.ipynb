{
 "cells": [
  {
   "cell_type": "code",
   "execution_count": 1,
   "metadata": {},
   "outputs": [
    {
     "name": "stdout",
     "output_type": "stream",
     "text": [
      "My age is 20\n"
     ]
    }
   ],
   "source": [
    "print(\"My age is \" + str(20))\n"
   ]
  },
  {
   "cell_type": "code",
   "execution_count": 2,
   "metadata": {},
   "outputs": [
    {
     "name": "stdout",
     "output_type": "stream",
     "text": [
      "Number of vertices of a pyramid is 5\n",
      "Number of Major Arcana cards in divinatory Tarot is 22\n",
      "Largest number that is not the sum of distinct squares is 128\n"
     ]
    }
   ],
   "source": [
    "# Convert to string\n",
    "vertices = str(5)\n",
    "cards = str(22)\n",
    "largest_number = str(128)\n",
    "\n",
    "print(\"Number of vertices of a pyramid is \" + vertices)\n",
    "print(\"Number of Major Arcana cards in divinatory Tarot is \" + cards)\n",
    "print(\"Largest number that is not the sum of distinct squares is \" + largest_number)\n"
   ]
  }
 ],
 "metadata": {
  "kernelspec": {
   "display_name": "venv",
   "language": "python",
   "name": "python3"
  },
  "language_info": {
   "codemirror_mode": {
    "name": "ipython",
    "version": 3
   },
   "file_extension": ".py",
   "mimetype": "text/x-python",
   "name": "python",
   "nbconvert_exporter": "python",
   "pygments_lexer": "ipython3",
   "version": "3.13.2"
  }
 },
 "nbformat": 4,
 "nbformat_minor": 2
}
