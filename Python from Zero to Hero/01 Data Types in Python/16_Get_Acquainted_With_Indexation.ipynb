{
 "cells": [
  {
   "cell_type": "code",
   "execution_count": 1,
   "metadata": {},
   "outputs": [
    {
     "name": "stdout",
     "output_type": "stream",
     "text": [
      "Print the c symbol: c\n",
      "Print the o symbol: o\n",
      "Print the y symbol: y\n"
     ]
    }
   ],
   "source": [
    "string = \"codefinity\"\n",
    "print(\"Print the c symbol:\", string[0])\n",
    "print(\"Print the o symbol:\", string[1])\n",
    "print(\"Print the y symbol:\", string[9])\n"
   ]
  },
  {
   "cell_type": "code",
   "execution_count": 2,
   "metadata": {},
   "outputs": [
    {
     "name": "stdout",
     "output_type": "stream",
     "text": [
      "The last symbol of the first string is n\n",
      "The last symbol of the second string is  \n"
     ]
    }
   ],
   "source": [
    "string1 = \"Python\"\n",
    "string2 = \"Python \"\n",
    "print(\"The last symbol of the first string is\", string1[5])\n",
    "print(\"The last symbol of the second string is\", string2[6])\n"
   ]
  },
  {
   "cell_type": "code",
   "execution_count": 3,
   "metadata": {},
   "outputs": [
    {
     "name": "stdout",
     "output_type": "stream",
     "text": [
      "Expected: I love you\n",
      "Result  : I love you\n",
      "----\n",
      "I = I\n",
      "l = l\n",
      "o = o\n",
      "e = e\n",
      "y = y\n"
     ]
    }
   ],
   "source": [
    "# Find these letters in the code and get it using relevant index\n",
    "\n",
    "string1 = \"Ideal\"\n",
    "I = string1[0]\n",
    "l = string1[4]\n",
    "e = string1[2]\n",
    "\n",
    "string2 = \"Python\"\n",
    "y = string2[1]\n",
    "o = string2[4]\n",
    "\n",
    "print(\"Expected: I love you\")\n",
    "print(\"Result  :\", f\"{I} {l}{o}v{e} {y}{o}u\")\n",
    "\n",
    "print(\"----\")\n",
    "print(\"I =\", I)\n",
    "print(\"l =\", l)\n",
    "print(\"o =\", o)\n",
    "print(\"e =\", e)\n",
    "print(\"y =\", y)\n"
   ]
  }
 ],
 "metadata": {
  "kernelspec": {
   "display_name": "venv",
   "language": "python",
   "name": "python3"
  },
  "language_info": {
   "codemirror_mode": {
    "name": "ipython",
    "version": 3
   },
   "file_extension": ".py",
   "mimetype": "text/x-python",
   "name": "python",
   "nbconvert_exporter": "python",
   "pygments_lexer": "ipython3",
   "version": "3.13.2"
  }
 },
 "nbformat": 4,
 "nbformat_minor": 2
}
