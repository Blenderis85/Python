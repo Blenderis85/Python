{
 "cells": [
  {
   "cell_type": "code",
   "execution_count": 1,
   "metadata": {},
   "outputs": [
    {
     "name": "stdout",
     "output_type": "stream",
     "text": [
      "56.0\n",
      "98.7\n",
      "50000.0\n"
     ]
    }
   ],
   "source": [
    "variable1 = 56\n",
    "variable2 = \"98.7\"\n",
    "variable3 = \"5e4\"\n",
    "\n",
    "print(float(variable1))\n",
    "print(float(variable2))\n",
    "print(float(variable3))\n"
   ]
  },
  {
   "cell_type": "code",
   "execution_count": 2,
   "metadata": {},
   "outputs": [
    {
     "name": "stdout",
     "output_type": "stream",
     "text": [
      "inf\n",
      "inf\n",
      "nan\n",
      "nan\n"
     ]
    }
   ],
   "source": [
    "print(float(\"InF\"))\n",
    "print(float(\"InFiNiTy\"))\n",
    "\n",
    "print(float(\"nan\"))\n",
    "print(float(\"NaN\"))\n"
   ]
  }
 ],
 "metadata": {
  "kernelspec": {
   "display_name": "venv",
   "language": "python",
   "name": "python3"
  },
  "language_info": {
   "codemirror_mode": {
    "name": "ipython",
    "version": 3
   },
   "file_extension": ".py",
   "mimetype": "text/x-python",
   "name": "python",
   "nbconvert_exporter": "python",
   "pygments_lexer": "ipython3",
   "version": "3.13.2"
  }
 },
 "nbformat": 4,
 "nbformat_minor": 2
}
