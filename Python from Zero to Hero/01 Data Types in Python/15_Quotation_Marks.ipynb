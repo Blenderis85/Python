{
 "cells": [
  {
   "cell_type": "code",
   "execution_count": 1,
   "metadata": {},
   "outputs": [
    {
     "name": "stdout",
     "output_type": "stream",
     "text": [
      "Let's eat!\n",
      "Let\"s eat!\n"
     ]
    }
   ],
   "source": [
    "string1 = \"Let's eat!\"\n",
    "print(string1)\n",
    "#or\n",
    "string2 = 'Let\"s eat!'\n",
    "print(string2)\n"
   ]
  },
  {
   "cell_type": "code",
   "execution_count": 2,
   "metadata": {},
   "outputs": [
    {
     "name": "stdout",
     "output_type": "stream",
     "text": [
      "Let's eat! or Let\"s eat!\n"
     ]
    }
   ],
   "source": [
    "string = \"\"\"Let's eat! or Let\"s eat!\"\"\"\n",
    "print(string)\n"
   ]
  },
  {
   "cell_type": "code",
   "execution_count": 3,
   "metadata": {},
   "outputs": [
    {
     "name": "stdout",
     "output_type": "stream",
     "text": [
      "John said, 'I am learning data types in Python now'\n"
     ]
    }
   ],
   "source": [
    "# Put appropriate quotation marks here\n",
    "string = \"\"\"John said, 'I am learning data types in Python now'\"\"\"\n",
    "\n",
    "print(string)\n"
   ]
  }
 ],
 "metadata": {
  "kernelspec": {
   "display_name": "venv",
   "language": "python",
   "name": "python3"
  },
  "language_info": {
   "codemirror_mode": {
    "name": "ipython",
    "version": 3
   },
   "file_extension": ".py",
   "mimetype": "text/x-python",
   "name": "python",
   "nbconvert_exporter": "python",
   "pygments_lexer": "ipython3",
   "version": "3.13.2"
  }
 },
 "nbformat": 4,
 "nbformat_minor": 2
}
