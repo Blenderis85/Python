{
 "cells": [
  {
   "cell_type": "code",
   "execution_count": 1,
   "metadata": {},
   "outputs": [
    {
     "name": "stdout",
     "output_type": "stream",
     "text": [
      "The number of completed tasks is 8\n",
      "The number of remaining minutes is 4\n"
     ]
    }
   ],
   "source": [
    "# Set the number of tasks that will be completed\n",
    "completed = 60 // 7\n",
    "# Set the number of minutes that will be left\n",
    "minutes = 60 % 7\n",
    "\n",
    "# Print these values\n",
    "print(\"The number of completed tasks is\", completed)\n",
    "print(\"The number of remaining minutes is\", minutes)\n"
   ]
  }
 ],
 "metadata": {
  "kernelspec": {
   "display_name": "venv",
   "language": "python",
   "name": "python3"
  },
  "language_info": {
   "codemirror_mode": {
    "name": "ipython",
    "version": 3
   },
   "file_extension": ".py",
   "mimetype": "text/x-python",
   "name": "python",
   "nbconvert_exporter": "python",
   "pygments_lexer": "ipython3",
   "version": "3.13.2"
  }
 },
 "nbformat": 4,
 "nbformat_minor": 2
}
