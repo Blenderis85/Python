{
 "cells": [
  {
   "cell_type": "code",
   "execution_count": 1,
   "metadata": {},
   "outputs": [
    {
     "name": "stdout",
     "output_type": "stream",
     "text": [
      "3\n"
     ]
    }
   ],
   "source": [
    "string = \"Channel efforts to success!\"\n",
    "print(string.find('n'))\n"
   ]
  },
  {
   "cell_type": "code",
   "execution_count": 2,
   "metadata": {},
   "outputs": [
    {
     "name": "stdout",
     "output_type": "stream",
     "text": [
      "Variable p equals: 15\n",
      "Variable y equals: 5\n",
      "Variable r equals: 2\n"
     ]
    }
   ],
   "source": [
    "string = \"Work your way up!\"\n",
    "\n",
    "# Find the index of the letter `p`\n",
    "p = string.find(\"p\")\n",
    "\n",
    "# Find the index of the letter `y`\n",
    "y = string.find(\"y\")\n",
    "\n",
    "# Find the index of the letter `r`\n",
    "r = string.find(\"r\")\n",
    "\n",
    "print(\"Variable p equals:\", p)\n",
    "print(\"Variable y equals:\", y)\n",
    "print(\"Variable r equals:\", r)\n"
   ]
  }
 ],
 "metadata": {
  "kernelspec": {
   "display_name": "venv",
   "language": "python",
   "name": "python3"
  },
  "language_info": {
   "codemirror_mode": {
    "name": "ipython",
    "version": 3
   },
   "file_extension": ".py",
   "mimetype": "text/x-python",
   "name": "python",
   "nbconvert_exporter": "python",
   "pygments_lexer": "ipython3",
   "version": "3.13.2"
  }
 },
 "nbformat": 4,
 "nbformat_minor": 2
}
