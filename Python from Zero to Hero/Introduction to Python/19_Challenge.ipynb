{
 "cells": [
  {
   "cell_type": "code",
   "execution_count": 1,
   "metadata": {},
   "outputs": [
    {
     "name": "stdout",
     "output_type": "stream",
     "text": [
      "Initial Deli List: [['Ham', 3.99, 50, 'Sliced'], ['Cheddar', 5.49, 100, 'Sharp'], ['Mustard', 1.99, 75, 'Spicy']]\n",
      "Updated Deli List: [['Cheddar', 5.49, 100, 'Sharp'], ['Ham', 3.99, 100, 'Sliced'], ['Turkey', 4.5, 100, 'Sliced']]\n"
     ]
    }
   ],
   "source": [
    "# Task 1: Use the data provided to initialize each list\n",
    "meat = [\"Ham\", 3.99, 50, \"Sliced\"]  # Type, price, shelf quantity, specifics\n",
    "cheese = [\"Cheddar\", 5.49, 100, \"Sharp\"]  # Type, price, shelf quantity, specifics\n",
    "condiment = [\"Mustard\", 1.99, 75, \"Spicy\"]  # Type, price, shelf quantity, specifics\n",
    "\n",
    "# Create the main `deli_dept` list that contains these category lists\n",
    "deli_dept = [meat, cheese, condiment]\n",
    "print(\"Initial Deli List:\", deli_dept)\n",
    "\n",
    "# Task 2: Restock the \"Ham\" aisle.\n",
    "if \"Ham\" in meat and meat[2] < 100:  # Check if \"Ham\" is in the meat list and if its quantity is less than 100\n",
    "    meat[2] = 100  # Update the shelf quantity to 100\n",
    "\n",
    "# Task 3: Add another meat to the deli department\n",
    "seasonal_meat = [\"Turkey\", 4.50, 100, \"Sliced\"]\n",
    "deli_dept.append(seasonal_meat)\n",
    "\n",
    "# Task 4: Remove condiments from the deli_dept list\n",
    "deli_dept.remove(condiment)\n",
    "\n",
    "# Task 5: Sort the `deli_dept` list alphabetically by the type of item\n",
    "deli_dept.sort()\n",
    "\n",
    "# Print the updated deli list\n",
    "print(\"Updated Deli List:\", deli_dept)\n"
   ]
  }
 ],
 "metadata": {
  "kernelspec": {
   "display_name": "venv",
   "language": "python",
   "name": "python3"
  },
  "language_info": {
   "codemirror_mode": {
    "name": "ipython",
    "version": 3
   },
   "file_extension": ".py",
   "mimetype": "text/x-python",
   "name": "python",
   "nbconvert_exporter": "python",
   "pygments_lexer": "ipython3",
   "version": "3.13.2"
  }
 },
 "nbformat": 4,
 "nbformat_minor": 2
}
