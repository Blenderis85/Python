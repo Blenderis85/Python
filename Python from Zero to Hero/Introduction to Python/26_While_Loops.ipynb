{
 "cells": [
  {
   "cell_type": "code",
   "execution_count": 1,
   "metadata": {},
   "outputs": [
    {
     "name": "stdout",
     "output_type": "stream",
     "text": [
      "Current queue size: 5\n",
      "Serving the next customer...\n",
      "Current queue size: 4\n",
      "Serving the next customer...\n",
      "Current queue size: 3\n",
      "Serving the next customer...\n",
      "Current queue size: 2\n",
      "Serving the next customer...\n",
      "Current queue size: 1\n",
      "Serving the next customer...\n"
     ]
    }
   ],
   "source": [
    "# Handling a queue at a grocery store checkout\n",
    "queue_length = 5  # Initial number of people in the queue\n",
    "while queue_length > 0:  # Start the `while` loop as long as the queue isn't empty\n",
    "    print(f\"Current queue size: {queue_length}\")\n",
    "    \n",
    "    # Simulate serving a customer\n",
    "    print(\"Serving the next customer...\")\n",
    "    \n",
    "    # Decrease the queue length by 1 as a customer leaves\n",
    "    # The `-=` operator is a shortcut for `queue_length = queue_length - 1`\n",
    "    queue_length -= 1\n"
   ]
  },
  {
   "cell_type": "code",
   "execution_count": 2,
   "metadata": {},
   "outputs": [
    {
     "name": "stdout",
     "output_type": "stream",
     "text": [
      "Milk stock is low: 15 units remaining.\n",
      "Restocking milk...\n",
      "Milk stock is low: 35 units remaining.\n",
      "Restocking milk...\n",
      "Milk stock updated: 55 units, which is now sufficient.\n"
     ]
    }
   ],
   "source": [
    "# Initial amount of milk in stock\n",
    "milk_stock = 15\n",
    "# Minimum stock level before restocking is necessary\n",
    "min_stock = 50\n",
    "# Quantity a worker can restock at one time\n",
    "restock_quantity = 20\n",
    "\n",
    "# Start the loop to restock milk until the stock exceeds the minimum required level\n",
    "while milk_stock < min_stock:\n",
    "    # If the loop is running, the condition is `True`, indicating we need more milk\n",
    "    print(f\"Milk stock is low: {milk_stock} units remaining.\")\n",
    "    # Simulate the process of restocking milk\n",
    "    print(\"Restocking milk...\")\n",
    "    # Increase the stock by the quantity the worker can bring in one trip\n",
    "    milk_stock += restock_quantity\n",
    "    \n",
    "# Output the final stock level after restocking is complete\n",
    "print(f\"Milk stock updated: {milk_stock} units, which is now sufficient.\")\n"
   ]
  },
  {
   "cell_type": "code",
   "execution_count": 3,
   "metadata": {},
   "outputs": [
    {
     "name": "stdout",
     "output_type": "stream",
     "text": [
      "Bread stock is low: 42 units. Restocking...\n",
      "Bread stock is low: 52 units. Restocking...\n",
      "Apples stock is low: 9 units. Restocking...\n",
      "Apples stock is low: 29 units. Restocking...\n",
      "Apples stock is low: 49 units. Restocking...\n",
      "\n",
      "Final Inventory after restocking:\n",
      "Bread: 62 units (Minimum required: 60 units)\n",
      "Eggs: 225 units (Minimum required: 200 units)\n",
      "Apples: 69 units (Minimum required: 50 units)\n"
     ]
    }
   ],
   "source": [
    "# Each item contains current stock, minimum required stock, and restock quantity\n",
    "inventory = {\n",
    "    \"Bread\": [42, 60, 10],   # \"Item\": [current stock, minimum stock, restock quantity]\n",
    "    \"Eggs\": [225, 200, 40],  # Eggs are sufficiently stocked\n",
    "    \"Apples\": [9, 50, 20]    # Apples need restocking\n",
    "}\n",
    "\n",
    "# Task 1: Setting up a loop to restock Bread\n",
    "while inventory[\"Bread\"][0] < inventory[\"Bread\"][1]:\n",
    "    print(f\"Bread stock is low: {inventory['Bread'][0]} units. Restocking...\")\n",
    "    # Task 1: Add the restock quantity to the current Bread stock\n",
    "    inventory[\"Bread\"][0] += inventory[\"Bread\"][2]\n",
    "\n",
    "# Task 2: Setting up a loop to restock Eggs\n",
    "while inventory[\"Eggs\"][0] < inventory[\"Eggs\"][1]:\n",
    "    print(f\"Eggs stock is low: {inventory['Eggs'][0]} units. Restocking...\")\n",
    "    # Task 2: Add the restock quantity to the current Eggs stock\n",
    "    inventory[\"Eggs\"][0] += inventory[\"Eggs\"][2]\n",
    "\n",
    "# Task 3: Setting up a loop to restock Apples\n",
    "while inventory[\"Apples\"][0] < inventory[\"Apples\"][1]:\n",
    "    print(f\"Apples stock is low: {inventory['Apples'][0]} units. Restocking...\")\n",
    "    # Task 3: Add the restock quantity to the current Apples stock\n",
    "    inventory[\"Apples\"][0] += inventory[\"Apples\"][2]\n",
    "\n",
    "# Task 4: After all restocking is complete, print the final inventory status\n",
    "print(\"\\nFinal Inventory after restocking:\")\n",
    "for item, stock_data in inventory.items():\n",
    "    print(f\"{item}: {stock_data[0]} units (Minimum required: {stock_data[1]} units)\")\n"
   ]
  }
 ],
 "metadata": {
  "kernelspec": {
   "display_name": "venv",
   "language": "python",
   "name": "python3"
  },
  "language_info": {
   "codemirror_mode": {
    "name": "ipython",
    "version": 3
   },
   "file_extension": ".py",
   "mimetype": "text/x-python",
   "name": "python",
   "nbconvert_exporter": "python",
   "pygments_lexer": "ipython3",
   "version": "3.13.2"
  }
 },
 "nbformat": 4,
 "nbformat_minor": 2
}
