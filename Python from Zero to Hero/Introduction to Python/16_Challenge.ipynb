{
 "cells": [
  {
   "cell_type": "code",
   "execution_count": 1,
   "metadata": {},
   "outputs": [
    {
     "name": "stdout",
     "output_type": "stream",
     "text": [
      "20% discount applied!\n"
     ]
    }
   ],
   "source": [
    "# Input variables\n",
    "days_until_expiration = 5  # Example value\n",
    "stock_level = 60  # Example value\n",
    "product_type = \"Perishable\"  # Can be \"Perishable\" or \"Non-Perishable\"\n",
    "\n",
    "# Determine the discount based on product type, days until expiration, and stock level\n",
    "if product_type == \"Perishable\":\n",
    "    # Apply a 30% discount if there are 3 days or less until expiration and stock level is over 50\n",
    "    if days_until_expiration <= 3 and stock_level > 50:\n",
    "        print(\"30% discount applied!\")\n",
    "    # Apply a 20% discount if there are 4 to 6 days until expiration and stock level is over 50\n",
    "    elif days_until_expiration > 3 and days_until_expiration <= 6 and stock_level > 50:\n",
    "        print(\"20% discount applied!\")\n",
    "    # Apply a 10% discount if there are more than 6 days until expiration and stock level is less than or equal to 50 \n",
    "    elif days_until_expiration > 6 and stock_level <= 50:\n",
    "        print(\"10% discount applied!\")\n",
    "# If the product is non-perishable, no discount is available\n",
    "else:\n",
    "    print(\"No discount available for non-perishable items.\")\n"
   ]
  }
 ],
 "metadata": {
  "kernelspec": {
   "display_name": "venv",
   "language": "python",
   "name": "python3"
  },
  "language_info": {
   "codemirror_mode": {
    "name": "ipython",
    "version": 3
   },
   "file_extension": ".py",
   "mimetype": "text/x-python",
   "name": "python",
   "nbconvert_exporter": "python",
   "pygments_lexer": "ipython3",
   "version": "3.13.2"
  }
 },
 "nbformat": 4,
 "nbformat_minor": 2
}
