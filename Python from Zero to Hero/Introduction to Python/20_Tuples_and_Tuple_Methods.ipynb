{
 "cells": [
  {
   "cell_type": "code",
   "execution_count": 1,
   "metadata": {},
   "outputs": [
    {
     "name": "stdout",
     "output_type": "stream",
     "text": [
      "Grocery Aisles: ('Produce', 'Dairy', 'Bakery', 'Meat', 'Frozen Foods')\n"
     ]
    }
   ],
   "source": [
    "# Define a tuple with grocery store categories\n",
    "grocery_aisles = (\"Produce\", \"Dairy\", \"Bakery\", \"Meat\", \"Frozen Foods\")\n",
    "\n",
    "# Display a tuple on the screen\n",
    "print(\"Grocery Aisles:\", grocery_aisles)\n"
   ]
  },
  {
   "cell_type": "code",
   "execution_count": 2,
   "metadata": {},
   "outputs": [
    {
     "name": "stdout",
     "output_type": "stream",
     "text": [
      "Apple Type: Fuji\n"
     ]
    }
   ],
   "source": [
    "# Define a tuple with multiple data types\n",
    "apple_details = (\"apple\", 34, True, 1.99, \"Fuji\") \n",
    "\n",
    "# Get an element of a tuple by its index\n",
    "print(\"Apple Type:\", apple_details[4])  \n"
   ]
  },
  {
   "cell_type": "code",
   "execution_count": 4,
   "metadata": {},
   "outputs": [
    {
     "name": "stdout",
     "output_type": "stream",
     "text": [
      "('apple', 34, True, 1.99, 'Fuji', ['Washington', 'California', 'Michigan'])\n",
      "('apple', 34, True, 1.99, 'Fuji', ['Washington', 'California', 'Pennsylvania'])\n"
     ]
    }
   ],
   "source": [
    "# Tuple containing various data types and a nested list\n",
    "apple_details = (\"apple\", 34, True, 1.99, \"Fuji\", [\"Washington\", \"California\", \"Michigan\"]) \n",
    "print(apple_details)\n",
    "\n",
    "# Updating the mutable python list even while nested in an immutable data type (tuple)\n",
    "apple_details[5][2] = \"Pennsylvania\"\n",
    "print(apple_details)\n"
   ]
  },
  {
   "cell_type": "code",
   "execution_count": 5,
   "metadata": {},
   "outputs": [
    {
     "name": "stdout",
     "output_type": "stream",
     "text": [
      "Number of times 'apple' appears: 3\n",
      "The first occurrence of 'cherry' is at index: 2\n"
     ]
    }
   ],
   "source": [
    "# Example tuple containing a mix of integers and strings\n",
    "fruits = (\"apple\", \"banana\", \"cherry\", \"apple\", \"banana\", \"cherry\", \"apple\")\n",
    "\n",
    "# Use the `count()` method to determine how many times \"apple\" appears in the tuple\n",
    "apple_count = fruits.count(\"apple\")\n",
    "print(\"Number of times 'apple' appears:\", apple_count)\n",
    "\n",
    "# Use the `index()` method to find the first occurrence of \"cherry\" in the tuple\n",
    "cherry_index = fruits.index(\"cherry\")\n",
    "print(\"The first occurrence of 'cherry' is at index:\", cherry_index)\n"
   ]
  }
 ],
 "metadata": {
  "kernelspec": {
   "display_name": "venv",
   "language": "python",
   "name": "python3"
  },
  "language_info": {
   "codemirror_mode": {
    "name": "ipython",
    "version": 3
   },
   "file_extension": ".py",
   "mimetype": "text/x-python",
   "name": "python",
   "nbconvert_exporter": "python",
   "pygments_lexer": "ipython3",
   "version": "3.13.2"
  }
 },
 "nbformat": 4,
 "nbformat_minor": 2
}
