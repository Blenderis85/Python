{
 "cells": [
  {
   "cell_type": "code",
   "execution_count": 1,
   "metadata": {},
   "outputs": [
    {
     "name": "stdout",
     "output_type": "stream",
     "text": [
      "Price after applying the default discount: $90.0\n",
      "Price after applying a custom discount: $80.0\n"
     ]
    }
   ],
   "source": [
    "# Define a function with a default `discount` argument\n",
    "def apply_discount(price, discount=0.10):\n",
    "    discounted_price = price * (1 - discount)\n",
    "    return discounted_price\n",
    "\n",
    "# Call the function without providing a `discount`, using the default value\n",
    "default_discount_price = apply_discount(100)\n",
    "print(f\"Price after applying the default discount: ${default_discount_price}\")\n",
    "\n",
    "# Call the function with a custom `discount` value\n",
    "custom_discount_price = apply_discount(100, 0.20)\n",
    "print(f\"Price after applying a custom discount: ${custom_discount_price}\")\n"
   ]
  },
  {
   "cell_type": "code",
   "execution_count": 2,
   "metadata": {},
   "outputs": [
    {
     "name": "stdout",
     "output_type": "stream",
     "text": [
      "Total cost after applying discount: $89.25\n"
     ]
    }
   ],
   "source": [
    "# Function where `tax` has a default value\n",
    "def calculate_total(price, discount, tax=0.05):\n",
    "    total = price * (1 + tax) * (1 - discount)\n",
    "    return total\n",
    "\n",
    "# Calling the function using keyword arguments\n",
    "total_cost = calculate_total(price=100, discount=0.15)\n",
    "print(f\"Total cost after applying discount: ${total_cost}\")\n"
   ]
  },
  {
   "cell_type": "code",
   "execution_count": 3,
   "metadata": {},
   "outputs": [
    {
     "name": "stdout",
     "output_type": "stream",
     "text": [
      "Total cost with default discount and tax: $121.98\n",
      "Total cost with custom discount and tax: $97.20\n"
     ]
    }
   ],
   "source": [
    "def apply_discount(price, discount=0.05):\n",
    "    return price * (1 - discount)\n",
    "\n",
    "def apply_tax(price, tax=0.07):\n",
    "    return price * (1 + tax)\n",
    "\n",
    "def calculate_total(price, discount=0.05, tax=0.07):\n",
    "    discounted_price = apply_discount(price, discount)\n",
    "    total_price = apply_tax(discounted_price, tax)\n",
    "    return total_price\n",
    "\n",
    "# Using default discount and tax values\n",
    "total_price_default = calculate_total(120)\n",
    "print(f\"Total cost with default discount and tax: ${total_price_default:.2f}\")\n",
    "\n",
    "# Using custom discount and tax values\n",
    "total_price_custom = calculate_total(100, discount=0.10, tax=0.08)\n",
    "print(f\"Total cost with custom discount and tax: ${total_price_custom:.2f}\")\n"
   ]
  }
 ],
 "metadata": {
  "kernelspec": {
   "display_name": "venv",
   "language": "python",
   "name": "python3"
  },
  "language_info": {
   "codemirror_mode": {
    "name": "ipython",
    "version": 3
   },
   "file_extension": ".py",
   "mimetype": "text/x-python",
   "name": "python",
   "nbconvert_exporter": "python",
   "pygments_lexer": "ipython3",
   "version": "3.13.2"
  }
 },
 "nbformat": 4,
 "nbformat_minor": 2
}
