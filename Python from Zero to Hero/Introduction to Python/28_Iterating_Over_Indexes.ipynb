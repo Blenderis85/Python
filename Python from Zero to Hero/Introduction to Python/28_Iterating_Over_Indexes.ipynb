{
 "cells": [
  {
   "cell_type": "code",
   "execution_count": 1,
   "metadata": {},
   "outputs": [
    {
     "name": "stdout",
     "output_type": "stream",
     "text": [
      "Index: 0\n",
      "Item: Apples\n",
      "----\n",
      "Index: 1\n",
      "Item: Bananas\n",
      "----\n",
      "Index: 2\n",
      "Item: Carrots\n",
      "----\n",
      "Index: 3\n",
      "Item: Cucumbers\n",
      "----\n"
     ]
    }
   ],
   "source": [
    "# List of grocery items\n",
    "grocery_list = [\"Apples\", \"Bananas\", \"Carrots\", \"Cucumbers\"]\n",
    "\n",
    "# Initialize a for loop to iterate over indexes\n",
    "for item in range(len(grocery_list)):\n",
    "    print(\"Index:\", item)\n",
    "    print(\"Item:\", grocery_list[item])\n",
    "    print(\"----\")  # Printing a divider line for clarity\n"
   ]
  },
  {
   "cell_type": "code",
   "execution_count": 2,
   "metadata": {},
   "outputs": [
    {
     "name": "stdout",
     "output_type": "stream",
     "text": [
      "New price of item 1: $1.35\n",
      "New price of item 2: $1.8\n",
      "New price of item 3: $0.675\n",
      "New price of item 4: $2.925\n",
      "Updated prices: [1.35, 1.8, 0.675, 2.925]\n"
     ]
    }
   ],
   "source": [
    "# List of original prices of grocery items\n",
    "prices = [1.50, 2.00, 0.75, 3.25]\n",
    "\n",
    "# Discount factor (10% off each item)\n",
    "discount_factor = 0.10\n",
    "\n",
    "# Iterate over the list of prices using range(len())\n",
    "for cost in range(len(prices)):\n",
    "    # Apply the discount by reducing the price\n",
    "    prices[cost] -= prices[cost] * discount_factor\n",
    "    print(f\"New price of item {cost + 1}: ${prices[cost]}\")\n",
    "\n",
    "print(\"Updated prices:\", prices)\n"
   ]
  },
  {
   "cell_type": "code",
   "execution_count": 3,
   "metadata": {},
   "outputs": [
    {
     "name": "stdout",
     "output_type": "stream",
     "text": [
      "Stock updated for Apples: 150 units.\n",
      "Stock updated for Bananas: 200 units.\n",
      "Stock updated for Oranges: 115 units.\n",
      "Stock updated for Tomatoes: 175 units.\n",
      "\n",
      "Final stock quantities:\n",
      "Stock Items: [['Apples', 150], ['Bananas', 200], ['Oranges', 115], ['Tomatoes', 175]]\n"
     ]
    }
   ],
   "source": [
    "# List representing the current stock of items\n",
    "stock_items = [\n",
    "    [\"Apples\", 30],\n",
    "    [\"Bananas\", 20],\n",
    "    [\"Oranges\", 15],\n",
    "    [\"Tomatoes\", 25]\n",
    "]\n",
    "\n",
    "# Quantities received from the new shipment\n",
    "shipment_received = [[\"Apples\", 120], [\"Bananas\", 180], [\"Oranges\", 100], [\"Tomatoes\", 150]]\n",
    "\n",
    "# Loop through stock_items by index and update stock quantity\n",
    "for i in range(len(stock_items)):\n",
    "    stock_items[i][1] += shipment_received[i][1]  # Add received quantity to stock\n",
    "    print(f\"Stock updated for {stock_items[i][0]}: {stock_items[i][1]} units.\")\n",
    "\n",
    "# Print final stock quantities\n",
    "print(\"\\nFinal stock quantities:\")\n",
    "print(f\"Stock Items: {stock_items}\")\n"
   ]
  }
 ],
 "metadata": {
  "kernelspec": {
   "display_name": "venv",
   "language": "python",
   "name": "python3"
  },
  "language_info": {
   "codemirror_mode": {
    "name": "ipython",
    "version": 3
   },
   "file_extension": ".py",
   "mimetype": "text/x-python",
   "name": "python",
   "nbconvert_exporter": "python",
   "pygments_lexer": "ipython3",
   "version": "3.13.2"
  }
 },
 "nbformat": 4,
 "nbformat_minor": 2
}
