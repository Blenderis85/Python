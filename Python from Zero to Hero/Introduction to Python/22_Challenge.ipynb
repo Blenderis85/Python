{
 "cells": [
  {
   "cell_type": "code",
   "execution_count": 1,
   "metadata": {},
   "outputs": [
    {
     "name": "stdout",
     "output_type": "stream",
     "text": [
      "Number of Apples: 3\n",
      "First Banana Index: 2\n",
      "Apples need to be restocked.\n",
      "Grapes need to be restocked.\n",
      "Oranges are at index: 1\n"
     ]
    }
   ],
   "source": [
    "# Current inventory on shelf\n",
    "shelf = (\"apples\", \"oranges\", \"bananas\", \"apples\", \"grapes\", \"bananas\", \"apples\")\n",
    "\n",
    "# Count the number of apples\n",
    "apple_count = shelf.count(\"apples\")\n",
    "print(\"Number of Apples:\", apple_count)\n",
    "\n",
    "# Find the index of the first occurrence of bananas\n",
    "banana_index = shelf.index(\"bananas\")\n",
    "print(\"First Banana Index:\", banana_index)\n",
    "\n",
    "# Check if apples need to be restocked\n",
    "if apple_count < 5:\n",
    "    print(\"Apples need to be restocked.\")\n",
    "else:\n",
    "    print(\"Apples are sufficiently stocked.\")\n",
    "\n",
    "# Count the number of grapes\n",
    "grape_count = shelf.count(\"grapes\")\n",
    "if grape_count == 1:\n",
    "    print(\"Grapes need to be restocked.\")\n",
    "else:\n",
    "    print(\"Grapes are sufficiently stocked.\")\n",
    "\n",
    "# Check if oranges exist and find their index\n",
    "if \"oranges\" in shelf:\n",
    "    orange_index = shelf.index(\"oranges\")\n",
    "    print(\"Oranges are at index:\", orange_index)\n",
    "else:\n",
    "    print(\"Oranges are out of stock.\")\n"
   ]
  }
 ],
 "metadata": {
  "kernelspec": {
   "display_name": "venv",
   "language": "python",
   "name": "python3"
  },
  "language_info": {
   "codemirror_mode": {
    "name": "ipython",
    "version": 3
   },
   "file_extension": ".py",
   "mimetype": "text/x-python",
   "name": "python",
   "nbconvert_exporter": "python",
   "pygments_lexer": "ipython3",
   "version": "3.13.2"
  }
 },
 "nbformat": 4,
 "nbformat_minor": 2
}
