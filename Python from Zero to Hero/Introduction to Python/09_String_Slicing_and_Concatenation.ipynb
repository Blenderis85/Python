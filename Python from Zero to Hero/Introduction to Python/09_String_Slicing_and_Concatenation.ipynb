{
 "cells": [
  {
   "cell_type": "code",
   "execution_count": 1,
   "metadata": {},
   "outputs": [
    {
     "name": "stdout",
     "output_type": "stream",
     "text": [
      "Sliced part: Straw\n"
     ]
    }
   ],
   "source": [
    "fruit = \"Strawberries\"\n",
    "\n",
    "# Slicing the string to get \"Straw\"\n",
    "# Remember, the 'w' is indexed at 4 but if we want to include it in the slice, we need to go up to 5 \n",
    "sliced_fruit = fruit[0:5]\n",
    "\n",
    "print(\"Sliced part:\", sliced_fruit)\n"
   ]
  },
  {
   "cell_type": "code",
   "execution_count": 2,
   "metadata": {},
   "outputs": [
    {
     "name": "stdout",
     "output_type": "stream",
     "text": [
      "Concatenated word: Strawberry\n",
      "Straw berry\n"
     ]
    }
   ],
   "source": [
    "# Concatenating strings\n",
    "part1 = \"Straw\"\n",
    "part2 = \"berry\"\n",
    "new_word = part1 + part2  # \"Strawberry\"\n",
    "print(\"Concatenated word:\", new_word)\n",
    "\n",
    "# If you want to separate the words with a space, you need to add \" \" between the two parts\n",
    "print(part1 + \" \" + part2)  # \"Straw berry\"\n"
   ]
  },
  {
   "cell_type": "code",
   "execution_count": 9,
   "metadata": {},
   "outputs": [
    {
     "name": "stdout",
     "output_type": "stream",
     "text": [
      "We have dairy and bakery items: milk, cheese, and bread in aisle 5.\n"
     ]
    }
   ],
   "source": [
    "grocery_items = \"milk cheese bread apples oranges chicken\"\n",
    "dairy1 = grocery_items[0:4]\n",
    "dairy2 = grocery_items[5:11]\n",
    "bakery1 = grocery_items[12:17]\n",
    "\n",
    "print(\"We have dairy and bakery items:\" + \" \" + dairy1 + \", \" + dairy2 + \", \" + \"and\" + \" \" + bakery1 + \" \" + \"in aisle 5.\")\n"
   ]
  }
 ],
 "metadata": {
  "kernelspec": {
   "display_name": "venv",
   "language": "python",
   "name": "python3"
  },
  "language_info": {
   "codemirror_mode": {
    "name": "ipython",
    "version": 3
   },
   "file_extension": ".py",
   "mimetype": "text/x-python",
   "name": "python",
   "nbconvert_exporter": "python",
   "pygments_lexer": "ipython3",
   "version": "3.13.2"
  }
 },
 "nbformat": 4,
 "nbformat_minor": 2
}
