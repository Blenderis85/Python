{
 "cells": [
  {
   "cell_type": "code",
   "execution_count": 1,
   "metadata": {},
   "outputs": [
    {
     "name": "stdout",
     "output_type": "stream",
     "text": [
      "First character: M\n",
      "Last character: k\n"
     ]
    }
   ],
   "source": [
    "grocery_item = \"Milk\"\n",
    "\n",
    "# Accessing the first and last character using indexing\n",
    "first_character = grocery_item[0]  # 'M'\n",
    "last_character = grocery_item[-1]  # 'k', using negative indexing for the last character\n",
    "\n",
    "print(\"First character:\", first_character)\n",
    "print(\"Last character:\", last_character)\n"
   ]
  },
  {
   "cell_type": "code",
   "execution_count": 2,
   "metadata": {},
   "outputs": [
    {
     "name": "stdout",
     "output_type": "stream",
     "text": [
      "Length of store name: 19\n",
      "Character after the space: V\n"
     ]
    }
   ],
   "source": [
    "store_name = \"Green Valley Market\"\n",
    "\n",
    "# Find the length of the string, which includes spaces\n",
    "length_of_name = len(store_name)  # Includes spaces in the count\n",
    "\n",
    "# Accessing a character in a position after a space\n",
    "character_after_space = store_name[6]  # 'V'\n",
    "\n",
    "print(\"Length of store name:\", length_of_name)\n",
    "print(\"Character after the space:\", character_after_space)\n"
   ]
  },
  {
   "cell_type": "code",
   "execution_count": 3,
   "metadata": {},
   "outputs": [
    {
     "name": "stdout",
     "output_type": "stream",
     "text": [
      "Length of item name: 21\n",
      "First character of each word: G C S\n",
      "Last character of each word: d n d\n"
     ]
    }
   ],
   "source": [
    "grocery_item = \"Grilled Chicken Salad\"\n",
    "length_of_item = len(grocery_item)\n",
    "first_char = grocery_item[0]\n",
    "second_char = grocery_item[8]\n",
    "third_char = grocery_item[16]\n",
    "last_char1 = grocery_item[-15]\n",
    "last_char2 = grocery_item[-7]\n",
    "last_char3 = grocery_item[-1]\n",
    "\n",
    "print(\"Length of item name:\", length_of_item)\n",
    "print(\"First character of each word:\", first_char, second_char, third_char)\n",
    "print(\"Last character of each word:\", last_char1, last_char2, last_char3)\n"
   ]
  }
 ],
 "metadata": {
  "kernelspec": {
   "display_name": "venv",
   "language": "python",
   "name": "python3"
  },
  "language_info": {
   "codemirror_mode": {
    "name": "ipython",
    "version": 3
   },
   "file_extension": ".py",
   "mimetype": "text/x-python",
   "name": "python",
   "nbconvert_exporter": "python",
   "pygments_lexer": "ipython3",
   "version": "3.13.2"
  }
 },
 "nbformat": 4,
 "nbformat_minor": 2
}
