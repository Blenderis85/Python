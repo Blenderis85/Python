{
 "cells": [
  {
   "cell_type": "code",
   "execution_count": 1,
   "metadata": {},
   "outputs": [
    {
     "name": "stdout",
     "output_type": "stream",
     "text": [
      "Is the item perishable and high in stock? True\n"
     ]
    }
   ],
   "source": [
    "# Define the perishable and stock status conditions\n",
    "is_perishable = True\n",
    "item_quantity = 110\n",
    "perishable_highStockRisk = 100\n",
    "\n",
    "# Using the (and) operator to combine two conditions\n",
    "# The first condition (`is_perishable`) checks if the item is perishable\n",
    "# The second condition (`item_quantity >= perishable_highStockRisk`) checks if the item is high in stock \n",
    "# The `consider_discount` variable will become `True` only if both conditions are `True`\n",
    "consider_discount = is_perishable and (item_quantity >= perishable_highStockRisk)\n",
    "\n",
    "# Print the result\n",
    "print(\"Is the item perishable and high in stock?\", consider_discount)\n"
   ]
  },
  {
   "cell_type": "code",
   "execution_count": 2,
   "metadata": {},
   "outputs": [
    {
     "name": "stdout",
     "output_type": "stream",
     "text": [
      "Is this a seasonal or holiday item? True\n"
     ]
    }
   ],
   "source": [
    "# Define the seasonal and holiday status conditions \n",
    "seasonal_item = False\n",
    "holiday_item = True\n",
    "\n",
    "# Combine the conditions to check if the item is seasonal or discounted\n",
    "# (`temporary_stock`) will become `True` if either condition `seasonal_item` OR `holiday_item` is `True`\n",
    "temporary_stock = seasonal_item or holiday_item\n",
    "\n",
    "# Print the result\n",
    "print(\"Is this a seasonal or holiday item?\", temporary_stock) \n"
   ]
  },
  {
   "cell_type": "code",
   "execution_count": 3,
   "metadata": {},
   "outputs": [
    {
     "name": "stdout",
     "output_type": "stream",
     "text": [
      "Does the item need to be sold quickly? False\n"
     ]
    }
   ],
   "source": [
    "# Define the item status condition\n",
    "is_perishable = True\n",
    "\n",
    "# Use the `not` operator to check if the item is NOT perishable\n",
    "long_shelf_life = not is_perishable\n",
    "\n",
    "# Print the result\n",
    "print(\"Does the item need to be sold quickly?\", long_shelf_life) \n"
   ]
  },
  {
   "cell_type": "code",
   "execution_count": 5,
   "metadata": {},
   "outputs": [
    {
     "name": "stdout",
     "output_type": "stream",
     "text": [
      "Is the item eligible for promotion? False\n"
     ]
    }
   ],
   "source": [
    "# The item's discount and stock status have been defined\n",
    "discounted = False  \n",
    "lowStock = True    \n",
    "\n",
    "# Step 1: Combine the conditions to check if the item is either discounted or low in stock\n",
    "movingProduct = discounted or lowStock\n",
    "\n",
    "# Step 2: Use the appropriate operator to check if the item is not eligible for promotion\n",
    "promotion = not movingProduct\n",
    "\n",
    "# Step 3: Print the eligibility status, which should be `False` if the item is either discounted or low in stock\n",
    "print(\"Is the item eligible for promotion?\", promotion)\n"
   ]
  }
 ],
 "metadata": {
  "kernelspec": {
   "display_name": "venv",
   "language": "python",
   "name": "python3"
  },
  "language_info": {
   "codemirror_mode": {
    "name": "ipython",
    "version": 3
   },
   "file_extension": ".py",
   "mimetype": "text/x-python",
   "name": "python",
   "nbconvert_exporter": "python",
   "pygments_lexer": "ipython3",
   "version": "3.13.2"
  }
 },
 "nbformat": 4,
 "nbformat_minor": 2
}
