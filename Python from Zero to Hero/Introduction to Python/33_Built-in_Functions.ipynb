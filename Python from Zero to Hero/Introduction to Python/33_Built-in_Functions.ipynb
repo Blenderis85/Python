{
 "cells": [
  {
   "cell_type": "code",
   "execution_count": 1,
   "metadata": {},
   "outputs": [
    {
     "name": "stdout",
     "output_type": "stream",
     "text": [
      "12.47\n"
     ]
    }
   ],
   "source": [
    "checkout = [2.99, 5.49, 3.99]\n",
    "total = sum(checkout)\n",
    "print(total)  \n"
   ]
  },
  {
   "cell_type": "code",
   "execution_count": 2,
   "metadata": {},
   "outputs": [
    {
     "name": "stdout",
     "output_type": "stream",
     "text": [
      "41\n",
      "32\n"
     ]
    }
   ],
   "source": [
    "freezer_temperatures = [38, 32, 41, 34, 40]\n",
    "print(max(freezer_temperatures))  \n",
    "print(min(freezer_temperatures))\n"
   ]
  },
  {
   "cell_type": "code",
   "execution_count": 3,
   "metadata": {},
   "outputs": [
    {
     "name": "stdout",
     "output_type": "stream",
     "text": [
      "Price #1 is $3.99 and is of type <class 'float'>\n",
      "Price #2 is $12.0 and is of type <class 'float'>\n"
     ]
    }
   ],
   "source": [
    "price1 = \"3.99\"\n",
    "price2 = 12\n",
    "\n",
    "# Convert prices to float\n",
    "price1_converted = float(price1)\n",
    "price2_converted = float(price2)\n",
    "\n",
    "print(f\"Price #1 is ${price1_converted} and is of type {type(price1_converted)}\")\n",
    "print(f\"Price #2 is ${price2_converted} and is of type {type(price2_converted)}\")\n"
   ]
  },
  {
   "cell_type": "code",
   "execution_count": 4,
   "metadata": {},
   "outputs": [
    {
     "name": "stdout",
     "output_type": "stream",
     "text": [
      "The total cost for 4 items is $15.96\n",
      "Converting the total cost to an integer results in $15\n"
     ]
    }
   ],
   "source": [
    "price = 3.99\n",
    "quantity = \"4\"\n",
    "\n",
    "# Calculate the total cost\n",
    "total_cost = int(quantity) * price\n",
    "\n",
    "print(f\"The total cost for {quantity} items is ${total_cost}\")\n",
    "print(f\"Converting the total cost to an integer results in ${int(total_cost)}\")\n"
   ]
  },
  {
   "cell_type": "code",
   "execution_count": 5,
   "metadata": {},
   "outputs": [
    {
     "name": "stdout",
     "output_type": "stream",
     "text": [
      "['apples', 'bananas', 'cherries']\n"
     ]
    }
   ],
   "source": [
    "fruit_prices = {\"cherries\": 3.99, \"apples\": 2.99, \"bananas\": 1.49}\n",
    "\n",
    "# Sorting the dictionary keys alphabetically\n",
    "sorted_prices = sorted(fruit_prices)\n",
    "\n",
    "print(sorted_prices)\n"
   ]
  },
  {
   "cell_type": "code",
   "execution_count": 6,
   "metadata": {},
   "outputs": [
    {
     "name": "stdout",
     "output_type": "stream",
     "text": [
      "Product information: [('apple', 0.99, 50), ('banana', 0.59, 100), ('cherry', 2.99, 25)]\n"
     ]
    }
   ],
   "source": [
    "products = [\"apple\", \"banana\", \"cherry\"]\n",
    "prices = [0.99, 0.59, 2.99]\n",
    "stock = [50, 100, 25]\n",
    "\n",
    "# `zip()` combines the 3 lists into a series of tuples\n",
    "# `list()` converts the zip object into a list\n",
    "product_info = list(zip(products, prices, stock))\n",
    "\n",
    "print(\"Product information:\", product_info)\n"
   ]
  },
  {
   "cell_type": "code",
   "execution_count": 7,
   "metadata": {},
   "outputs": [
    {
     "name": "stdout",
     "output_type": "stream",
     "text": [
      "Total sales for Apple: $60.00\n",
      "Total sales for Banana: $50.00\n",
      "Total sales for Cherry: $62.50\n",
      "Total sales for Mango: $70.00\n",
      "Total sum of all sales: $242.50\n",
      "Minimum sales: $50.00\n",
      "Maximum sales: $70.00\n"
     ]
    }
   ],
   "source": [
    "# Dictionary of products with price and quantity sold as strings\n",
    "products = {\n",
    "    \"Apple\": [\"1.20\", \"50\"],   # \"Item\": [price, quantity sold]\n",
    "    \"Banana\": [\"0.50\", \"100\"],\n",
    "    \"Cherry\": [\"2.50\", \"25\"],\n",
    "    \"Mango\": [\"1.75\", \"40\"]\n",
    "}\n",
    "\n",
    "# List to store total sales for each product\n",
    "total_sales_list = []\n",
    "\n",
    "# Iterate over each product in the dictionary\n",
    "for product, values in products.items():\n",
    "    price = float(values[0])  # Convert price to float\n",
    "    quantity = int(values[1])  # Convert quantity to int\n",
    "    total_sales = price * quantity  # Calculate total sales\n",
    "    total_sales_list.append(total_sales)  # Append to list\n",
    "    print(f\"Total sales for {product}: ${total_sales:.2f}\")\n",
    "\n",
    "# Calculate total sum of all sales\n",
    "total_sum = sum(total_sales_list)\n",
    "print(f\"Total sum of all sales: ${total_sum:.2f}\")\n",
    "\n",
    "# Determine the minimum and maximum sales values\n",
    "min_sales = min(total_sales_list)\n",
    "max_sales = max(total_sales_list)\n",
    "\n",
    "print(f\"Minimum sales: ${min_sales:.2f}\")\n",
    "print(f\"Maximum sales: ${max_sales:.2f}\")\n"
   ]
  }
 ],
 "metadata": {
  "kernelspec": {
   "display_name": "venv",
   "language": "python",
   "name": "python3"
  },
  "language_info": {
   "codemirror_mode": {
    "name": "ipython",
    "version": 3
   },
   "file_extension": ".py",
   "mimetype": "text/x-python",
   "name": "python",
   "nbconvert_exporter": "python",
   "pygments_lexer": "ipython3",
   "version": "3.13.2"
  }
 },
 "nbformat": 4,
 "nbformat_minor": 2
}
