{
 "cells": [
  {
   "cell_type": "code",
   "execution_count": 1,
   "metadata": {},
   "outputs": [
    {
     "name": "stdout",
     "output_type": "stream",
     "text": [
      "Cardio Zone\n"
     ]
    }
   ],
   "source": [
    "heart_rate = 135\n",
    "\n",
    "if heart_rate >= 150:\n",
    "    print(\"Max Zone\")\n",
    "elif heart_rate >= 100:\n",
    "    print(\"Cardio Zone\")\n",
    "elif heart_rate >= 60:\n",
    "    print(\"Fat-Burning Zone\")\n",
    "else:\n",
    "    print(\"Resting Zone\")\n"
   ]
  }
 ],
 "metadata": {
  "kernelspec": {
   "display_name": "venv",
   "language": "python",
   "name": "python3"
  },
  "language_info": {
   "codemirror_mode": {
    "name": "ipython",
    "version": 3
   },
   "file_extension": ".py",
   "mimetype": "text/x-python",
   "name": "python",
   "nbconvert_exporter": "python",
   "pygments_lexer": "ipython3",
   "version": "3.13.2"
  }
 },
 "nbformat": 4,
 "nbformat_minor": 2
}
