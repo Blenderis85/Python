{
 "cells": [
  {
   "cell_type": "code",
   "execution_count": 1,
   "metadata": {},
   "outputs": [
    {
     "name": "stdout",
     "output_type": "stream",
     "text": [
      "Keep going! You need 2500 more steps to reach your goal.\n"
     ]
    }
   ],
   "source": [
    "steps_taken = 7500\n",
    "step_goal = 10000\n",
    "\n",
    "if steps_taken < step_goal:\n",
    "    print(f\"Keep going! You need {step_goal - steps_taken} more steps to reach your goal.\")\n"
   ]
  },
  {
   "cell_type": "code",
   "execution_count": 2,
   "metadata": {},
   "outputs": [
    {
     "name": "stdout",
     "output_type": "stream",
     "text": [
      "Push harder! You need 100 more calories burned to hit your goal.\n"
     ]
    }
   ],
   "source": [
    "calories_burned = 200\n",
    "calorie_goal = 300\n",
    "\n",
    "# Check calories\n",
    "if calories_burned < calorie_goal:\n",
    "    print(f\"Push harder! You need {calorie_goal - calories_burned} more calories burned to hit your goal.\")\n"
   ]
  }
 ],
 "metadata": {
  "kernelspec": {
   "display_name": "venv",
   "language": "python",
   "name": "python3"
  },
  "language_info": {
   "codemirror_mode": {
    "name": "ipython",
    "version": 3
   },
   "file_extension": ".py",
   "mimetype": "text/x-python",
   "name": "python",
   "nbconvert_exporter": "python",
   "pygments_lexer": "ipython3",
   "version": "3.13.2"
  }
 },
 "nbformat": 4,
 "nbformat_minor": 2
}
