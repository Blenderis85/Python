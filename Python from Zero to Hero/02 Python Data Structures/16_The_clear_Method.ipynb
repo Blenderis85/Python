{
 "cells": [
  {
   "cell_type": "code",
   "execution_count": 1,
   "metadata": {},
   "outputs": [
    {
     "name": "stdout",
     "output_type": "stream",
     "text": [
      "Before clearing: {'title': 'Pride and Prejudice', 'author': 'Jane Austen', 'year': 1813, 'genre': 'Romance'}\n",
      "After clearing: {}\n"
     ]
    }
   ],
   "source": [
    "# Creating a dictionary for book details\n",
    "book = {\n",
    "    \"title\": \"Pride and Prejudice\",\n",
    "    \"author\": \"Jane Austen\",\n",
    "    \"year\": 1813,\n",
    "    \"genre\": \"Romance\"\n",
    "}\n",
    "\n",
    "# Printing the dictionary before clearing\n",
    "print(\"Before clearing:\", book)\n",
    "\n",
    "# Clearing all items from the dictionary\n",
    "book.clear()\n",
    "\n",
    "# Printing the dictionary after clearing\n",
    "print(\"After clearing:\", book)\n"
   ]
  },
  {
   "cell_type": "code",
   "execution_count": 2,
   "metadata": {},
   "outputs": [
    {
     "name": "stdout",
     "output_type": "stream",
     "text": [
      "Updated dictionary: {}\n"
     ]
    }
   ],
   "source": [
    "authors_books = {\n",
    "    'William Shakespeare': ['Hamlet', 'Macbeth', 'Romeo and Juliet', 'Othello'],\n",
    "    'J.K. Rowling': ['Harry Potter and the Sorcerer\\'s Stone', 'Harry Potter and the Chamber of Secrets', 'Harry Potter and the Prisoner of Azkaban', 'Harry Potter and the Goblet of Fire'],\n",
    "    'George Orwell': ['1984', 'Animal Farm', 'Coming Up for Air'],\n",
    "    'Stephen King': ['It', 'The Shining', 'Carrie', 'Misery'],\n",
    "    'Agatha Christie': ['Murder on the Orient Express', 'The Murder of Roger Ackroyd', 'And Then There Were None', 'Death on the Nile']\n",
    "}\n",
    "\n",
    "# Write your code here\n",
    "authors_books.clear()\n",
    "\n",
    "# Testing\n",
    "print(\"Updated dictionary:\", authors_books)\n"
   ]
  }
 ],
 "metadata": {
  "kernelspec": {
   "display_name": "venv",
   "language": "python",
   "name": "python3"
  },
  "language_info": {
   "codemirror_mode": {
    "name": "ipython",
    "version": 3
   },
   "file_extension": ".py",
   "mimetype": "text/x-python",
   "name": "python",
   "nbconvert_exporter": "python",
   "pygments_lexer": "ipython3",
   "version": "3.13.2"
  }
 },
 "nbformat": 4,
 "nbformat_minor": 2
}
