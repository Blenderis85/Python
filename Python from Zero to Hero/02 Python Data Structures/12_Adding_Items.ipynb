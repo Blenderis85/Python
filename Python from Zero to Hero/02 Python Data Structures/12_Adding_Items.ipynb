{
 "cells": [
  {
   "cell_type": "code",
   "execution_count": 1,
   "metadata": {},
   "outputs": [
    {
     "name": "stdout",
     "output_type": "stream",
     "text": [
      "{'title': 'Pride and Prejudice', 'author': 'Jane Austen', 'year': 1813}\n"
     ]
    }
   ],
   "source": [
    "book = {\"title\": \"Pride and Prejudice\", \"author\": \"Jane Austen\", \"year\": 1813}\n",
    "print(book)\n"
   ]
  },
  {
   "cell_type": "code",
   "execution_count": 2,
   "metadata": {},
   "outputs": [
    {
     "name": "stdout",
     "output_type": "stream",
     "text": [
      "{'title': 'Pride and Prejudice', 'author': 'Jane Austen', 'year': 1813, 'genre': 'Romance'}\n"
     ]
    }
   ],
   "source": [
    "book = {\"title\": \"Pride and Prejudice\", \"author\": \"Jane Austen\", \"year\": 1813}\n",
    "\n",
    "book[\"genre\"] = \"Romance\"\n",
    "print(book)\n"
   ]
  },
  {
   "cell_type": "code",
   "execution_count": 3,
   "metadata": {},
   "outputs": [
    {
     "name": "stdout",
     "output_type": "stream",
     "text": [
      "{'title': 'Pride and Prejudice', 'author': 'Jane Austen', 'year': 1815, 'genre': 'Romance'}\n"
     ]
    }
   ],
   "source": [
    "book = {\"title\": \"Pride and Prejudice\", \"author\": \"Jane Austen\", \"year\": 1813, \"genre\": \"Romance\"}\n",
    "\n",
    "book[\"year\"] = 1815\n",
    "print(book)\n"
   ]
  },
  {
   "cell_type": "code",
   "execution_count": 4,
   "metadata": {},
   "outputs": [
    {
     "name": "stdout",
     "output_type": "stream",
     "text": [
      "Updated dictionary: {'William Shakespeare': ['Hamlet', 'Macbeth', 'Romeo and Juliet', 'Othello'], 'J.K. Rowling': [\"Harry Potter and the Sorcerer's Stone\", 'Harry Potter and the Chamber of Secrets', 'Harry Potter and the Prisoner of Azkaban', 'Harry Potter and the Goblet of Fire'], 'George Orwell': ['1984', 'Animal Farm', 'Coming Up for Air'], 'Stephen King': ['It', 'The Shining', 'Carrie', 'Misery'], 'Agatha Christie': ['Murder on the Orient Express', 'The Murder of Roger Ackroyd', 'And Then There Were None', 'Death on the Nile'], 'F. Scott Fitzgerald': ['The Great Gatsby', 'Tender Is the Night', 'This Side of Paradise', 'The Beautiful and Damned', 'The Last Tycoon']}\n"
     ]
    }
   ],
   "source": [
    "authors_books = {\n",
    "    'William Shakespeare': ['Hamlet', 'Macbeth', 'Romeo and Juliet', 'Othello'],\n",
    "    'J.K. Rowling': ['Harry Potter and the Sorcerer\\'s Stone', 'Harry Potter and the Chamber of Secrets', 'Harry Potter and the Prisoner of Azkaban', 'Harry Potter and the Goblet of Fire'],\n",
    "    'George Orwell': ['1984', 'Animal Farm', 'Coming Up for Air'],\n",
    "    'Stephen King': ['It', 'The Shining', 'Carrie', 'Misery'],\n",
    "    'Agatha Christie': ['Murder on the Orient Express', 'The Murder of Roger Ackroyd', 'And Then There Were None', 'Death on the Nile']\n",
    "}\n",
    "\n",
    "author_to_add = 'F. Scott Fitzgerald'\n",
    "fitzgeralds_books = ['The Great Gatsby', 'Tender Is the Night', 'This Side of Paradise', 'The Beautiful and Damned', 'The Last Tycoon']\n",
    "\n",
    "# Write your code here\n",
    "authors_books[author_to_add] = fitzgeralds_books\n",
    "\n",
    "# Testing\n",
    "print(\"Updated dictionary:\", authors_books)\n"
   ]
  }
 ],
 "metadata": {
  "kernelspec": {
   "display_name": "venv",
   "language": "python",
   "name": "python3"
  },
  "language_info": {
   "codemirror_mode": {
    "name": "ipython",
    "version": 3
   },
   "file_extension": ".py",
   "mimetype": "text/x-python",
   "name": "python",
   "nbconvert_exporter": "python",
   "pygments_lexer": "ipython3",
   "version": "3.13.2"
  }
 },
 "nbformat": 4,
 "nbformat_minor": 2
}
