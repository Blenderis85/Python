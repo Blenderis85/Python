{
 "cells": [
  {
   "cell_type": "code",
   "execution_count": 1,
   "metadata": {},
   "outputs": [
    {
     "name": "stdout",
     "output_type": "stream",
     "text": [
      "Original set: {'Interstellar', 'Tenet', 'Inception'}\n",
      "After clearing: set()\n"
     ]
    }
   ],
   "source": [
    "# Define a set of favorite movies\n",
    "movies = {\"Inception\", \"Interstellar\", \"Tenet\"}\n",
    "print(\"Original set:\", movies)\n",
    "\n",
    "# Clear the set\n",
    "movies.clear()\n",
    "print(\"After clearing:\", movies)\n"
   ]
  },
  {
   "cell_type": "code",
   "execution_count": 2,
   "metadata": {},
   "outputs": [
    {
     "name": "stdout",
     "output_type": "stream",
     "text": [
      "Updated set: set()\n"
     ]
    }
   ],
   "source": [
    "worst_movies = {'Kirk Cameron\\'s Saving Christmas', 'The Room', 'Gigli', 'Battlefield Earth', 'Slender Man', 'Catwoman'}\n",
    "\n",
    "# Write your code here\n",
    "worst_movies.clear()\n",
    "\n",
    "\n",
    "print(\"Updated set:\", worst_movies)\n"
   ]
  }
 ],
 "metadata": {
  "kernelspec": {
   "display_name": "venv",
   "language": "python",
   "name": "python3"
  },
  "language_info": {
   "codemirror_mode": {
    "name": "ipython",
    "version": 3
   },
   "file_extension": ".py",
   "mimetype": "text/x-python",
   "name": "python",
   "nbconvert_exporter": "python",
   "pygments_lexer": "ipython3",
   "version": "3.13.2"
  }
 },
 "nbformat": 4,
 "nbformat_minor": 2
}
