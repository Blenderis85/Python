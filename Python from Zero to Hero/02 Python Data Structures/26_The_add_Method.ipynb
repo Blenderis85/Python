{
 "cells": [
  {
   "cell_type": "code",
   "execution_count": 1,
   "metadata": {},
   "outputs": [
    {
     "name": "stdout",
     "output_type": "stream",
     "text": [
      "Initial set: set()\n",
      "Updated set: {'Interstellar', 'Dunkirk', 'Inception', 'Tenet'}\n"
     ]
    }
   ],
   "source": [
    "# Creating an empty set\n",
    "favorite_movies = set()\n",
    "print(\"Initial set:\", favorite_movies)  # Output - Initial set: set()\n",
    "\n",
    "# Adding movies to the set\n",
    "favorite_movies.add(\"Inception\")\n",
    "favorite_movies.add(\"Interstellar\")\n",
    "favorite_movies.add(\"Tenet\")\n",
    "favorite_movies.add(\"Dunkirk\")\n",
    "\n",
    "print(\"Updated set:\", favorite_movies)  # Output - Updated set: {'Interstellar', 'Dunkirk', 'Inception', 'Tenet'}\n"
   ]
  },
  {
   "cell_type": "code",
   "execution_count": 2,
   "metadata": {},
   "outputs": [
    {
     "name": "stdout",
     "output_type": "stream",
     "text": [
      "Updated set: {'Kill Bill: Vol. 2', 'Pulp Fiction', 'Inglourious Basterds', 'Once Upon a Time in Hollywood', 'Reservoir Dogs', 'Kill Bill: Vol. 1', 'Django Unchained'}\n"
     ]
    }
   ],
   "source": [
    "tarantino_movies = {\n",
    "    'Pulp Fiction',\n",
    "    'Kill Bill: Vol. 1',\n",
    "    'Kill Bill: Vol. 2',\n",
    "    'Inglourious Basterds',\n",
    "    'Django Unchained'\n",
    "}\n",
    "\n",
    "# Write your code here\n",
    "tarantino_movies.add(\"Reservoir Dogs\")\n",
    "tarantino_movies.add(\"Once Upon a Time in Hollywood\")\n",
    "\n",
    "# Testing\n",
    "print(\"Updated set:\", tarantino_movies)\n"
   ]
  }
 ],
 "metadata": {
  "kernelspec": {
   "display_name": "venv",
   "language": "python",
   "name": "python3"
  },
  "language_info": {
   "codemirror_mode": {
    "name": "ipython",
    "version": 3
   },
   "file_extension": ".py",
   "mimetype": "text/x-python",
   "name": "python",
   "nbconvert_exporter": "python",
   "pygments_lexer": "ipython3",
   "version": "3.13.2"
  }
 },
 "nbformat": 4,
 "nbformat_minor": 2
}
