{
 "cells": [
  {
   "cell_type": "code",
   "execution_count": 1,
   "metadata": {},
   "outputs": [
    {
     "name": "stdout",
     "output_type": "stream",
     "text": [
      "True\n",
      "False\n"
     ]
    }
   ],
   "source": [
    "# Define a set of favorite movies\n",
    "movies = {\"Inception\", \"Interstellar\", \"Tenet\", \"Dunkirk\", \"Memento\"}\n",
    "\n",
    "# Check if specific movies are in the set\n",
    "print(\"Inception\" in movies)  # True\n",
    "print(\"Avatar\" in movies)     # False\n"
   ]
  },
  {
   "cell_type": "code",
   "execution_count": 2,
   "metadata": {},
   "outputs": [
    {
     "name": "stdout",
     "output_type": "stream",
     "text": [
      "Movie collection:\n",
      "Inception\n",
      "Interstellar\n",
      "Tenet\n",
      "Memento\n",
      "Dunkirk\n"
     ]
    }
   ],
   "source": [
    "# Define a set of favorite movies\n",
    "movies = {\"Inception\", \"Interstellar\", \"Tenet\", \"Dunkirk\", \"Memento\"}\n",
    "\n",
    "# Iterate through the set and print each movie title\n",
    "print(\"Movie collection:\")\n",
    "for movie in movies:\n",
    "    print(movie)\n"
   ]
  },
  {
   "cell_type": "code",
   "execution_count": 3,
   "metadata": {},
   "outputs": [
    {
     "name": "stdout",
     "output_type": "stream",
     "text": [
      "Presence of movies in the set:\n",
      "The Green Mile: True;\n",
      "Titanic: False;\n",
      "Interstellar: True.\n"
     ]
    }
   ],
   "source": [
    "movies = {'The Shawshank Redemption', 'The Godfather', 'The Dark Knight', 'Pulp Fiction', 'Forrest Gump', 'Inception', 'Fight Club', 'The Matrix', 'The Lord of the Rings: The Return of the King', 'Star Wars: Episode IV - A New Hope', 'The Empire Strikes Back', 'The Godfather: Part II', 'Goodfellas', 'The Dark Knight Rises', 'The Silence of the Lambs', 'Schindler\\'s List', 'City of God', 'The Usual Suspects', 'Seven Samurai', 'The Lion King', 'The Departed', 'Interstellar', 'Gladiator', 'Terminator 2: Judgment Day', 'Back to the Future', 'Casablanca', 'The Prestige', 'The Green Mile', 'The Shining', 'The Intouchables', 'The Pianist', 'Léon: The Professional', 'The Lord of the Rings: The Fellowship of the Ring', 'Pulp Fiction', 'Whiplash', 'The Wolf of Wall Street', 'The Revenant', 'The Social Network', 'The Terminator', 'The Big Lebowski', 'Saving Private Ryan', 'A Clockwork Orange', 'The Grand Budapest Hotel', 'The Incredibles', '12 Angry Men', 'The Hunt', 'The Conjuring'}\n",
    "\n",
    "# Write your code here\n",
    "is_first_movie_present = \"The Green Mile\" in movies\n",
    "\n",
    "is_second_movie_present = \"Titanic\" in movies\n",
    "\n",
    "is_third_movie_present = \"Interstellar\" in movies\n",
    "\n",
    "# Testing\n",
    "print(f\"Presence of movies in the set:\\nThe Green Mile: {is_first_movie_present};\\nTitanic: {is_second_movie_present};\\nInterstellar: {is_third_movie_present}.\")\n"
   ]
  }
 ],
 "metadata": {
  "kernelspec": {
   "display_name": "venv",
   "language": "python",
   "name": "python3"
  },
  "language_info": {
   "codemirror_mode": {
    "name": "ipython",
    "version": 3
   },
   "file_extension": ".py",
   "mimetype": "text/x-python",
   "name": "python",
   "nbconvert_exporter": "python",
   "pygments_lexer": "ipython3",
   "version": "3.13.2"
  }
 },
 "nbformat": 4,
 "nbformat_minor": 2
}
