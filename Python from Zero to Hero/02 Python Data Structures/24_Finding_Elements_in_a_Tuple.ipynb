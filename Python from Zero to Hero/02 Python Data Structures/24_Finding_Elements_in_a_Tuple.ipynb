{
 "cells": [
  {
   "cell_type": "code",
   "execution_count": 1,
   "metadata": {},
   "outputs": [
    {
     "name": "stdout",
     "output_type": "stream",
     "text": [
      "'Tenet' is at index 2.\n"
     ]
    }
   ],
   "source": [
    "# Tuple of movies\n",
    "movies = (\"Inception\", \"Interstellar\", \"Tenet\", \"Dunkirk\", \"Memento\")\n",
    "\n",
    "# Find the index of \"Tenet\"\n",
    "tenet_index = movies.index(\"Tenet\")\n",
    "\n",
    "print(f\"'Tenet' is at index {tenet_index}.\")\n"
   ]
  },
  {
   "cell_type": "code",
   "execution_count": 2,
   "metadata": {},
   "outputs": [
    {
     "name": "stdout",
     "output_type": "stream",
     "text": [
      "The 'Fight Club' movie is at index: 4\n"
     ]
    }
   ],
   "source": [
    "drama_movies = (\n",
    "    'The Shawshank Redemption',\n",
    "    'Forrest Gump',\n",
    "    'The Godfather',\n",
    "    'A Beautiful Mind',\n",
    "    'Fight Club',\n",
    "    'The Green Mile',\n",
    "    'The Pursuit of Happyness',\n",
    "    'Schindler\\'s List'\n",
    ")\n",
    "\n",
    "# Write your code here\n",
    "fight_club_index = drama_movies.index('Fight Club')\n",
    "\n",
    "# Testing\n",
    "print(\"The 'Fight Club' movie is at index:\", fight_club_index)\n"
   ]
  }
 ],
 "metadata": {
  "kernelspec": {
   "display_name": "venv",
   "language": "python",
   "name": "python3"
  },
  "language_info": {
   "codemirror_mode": {
    "name": "ipython",
    "version": 3
   },
   "file_extension": ".py",
   "mimetype": "text/x-python",
   "name": "python",
   "nbconvert_exporter": "python",
   "pygments_lexer": "ipython3",
   "version": "3.13.2"
  }
 },
 "nbformat": 4,
 "nbformat_minor": 2
}
