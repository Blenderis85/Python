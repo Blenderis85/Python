{
 "cells": [
  {
   "cell_type": "code",
   "execution_count": 1,
   "metadata": {},
   "outputs": [
    {
     "name": "stdout",
     "output_type": "stream",
     "text": [
      "Final set: {'Interstellar', 'Tenet', 'Inception'}\n"
     ]
    }
   ],
   "source": [
    "# Define a set of favorite movies\n",
    "movies = {\"Inception\", \"Interstellar\", \"Tenet\", \"Dunkirk\", \"Memento\"}\n",
    "\n",
    "# Remove specific movies using discard\n",
    "movies.discard(\"Dunkirk\")\n",
    "movies.discard(\"Memento\")\n",
    "movies.discard(\"Avatar\")\n",
    "\n",
    "# Print the result\n",
    "print(\"Final set:\", movies)\n"
   ]
  },
  {
   "cell_type": "code",
   "execution_count": 2,
   "metadata": {},
   "outputs": [
    {
     "name": "stdout",
     "output_type": "stream",
     "text": [
      "Updated set: {'Black Panther', 'Guardians of the Galaxy', 'Iron Man', 'Avengers: Endgame', 'Spider-Man: No Way Home'}\n"
     ]
    }
   ],
   "source": [
    "marvel_movies = {\n",
    "    'Avengers: Endgame',\n",
    "    'Black Panther',\n",
    "    'Iron Man',\n",
    "\t'The Dark Knight',\n",
    "    'Spider-Man: No Way Home',\n",
    "    'Guardians of the Galaxy',\n",
    "\t'Justice League'\n",
    "}\n",
    "\n",
    "# Write your code here\n",
    "marvel_movies.discard(\"The Dark Knight\")\n",
    "\n",
    "marvel_movies.remove(\"Justice League\")\n",
    "\n",
    "# Testing\n",
    "print(\"Updated set:\", marvel_movies)\n"
   ]
  }
 ],
 "metadata": {
  "kernelspec": {
   "display_name": "venv",
   "language": "python",
   "name": "python3"
  },
  "language_info": {
   "codemirror_mode": {
    "name": "ipython",
    "version": 3
   },
   "file_extension": ".py",
   "mimetype": "text/x-python",
   "name": "python",
   "nbconvert_exporter": "python",
   "pygments_lexer": "ipython3",
   "version": "3.13.2"
  }
 },
 "nbformat": 4,
 "nbformat_minor": 2
}
