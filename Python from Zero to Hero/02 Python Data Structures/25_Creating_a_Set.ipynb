{
 "cells": [
  {
   "cell_type": "code",
   "execution_count": 1,
   "metadata": {},
   "outputs": [
    {
     "name": "stdout",
     "output_type": "stream",
     "text": [
      "{'n', 'a', 't', 'I', 'l', 's', 'r', 'e'}\n"
     ]
    }
   ],
   "source": [
    "# Creating a set which contains strings\n",
    "movie_set = set(\"Interstellar\")\n",
    "print(movie_set)\n"
   ]
  },
  {
   "cell_type": "code",
   "execution_count": 2,
   "metadata": {},
   "outputs": [
    {
     "name": "stdout",
     "output_type": "stream",
     "text": [
      "{'Interstellar', 'Tenet', 'Dunkirk', 'Inception'}\n"
     ]
    }
   ],
   "source": [
    "# Creating a set of movies using curly braces\n",
    "movies = {\"Inception\", \"Interstellar\", \"Tenet\", \"Dunkirk\", \"Tenet\"}\n",
    "print(movies)\n"
   ]
  },
  {
   "cell_type": "code",
   "execution_count": 3,
   "metadata": {},
   "outputs": [
    {
     "name": "stdout",
     "output_type": "stream",
     "text": [
      "{'Dunkirk', 'Tenet', 'Inception'}\n"
     ]
    }
   ],
   "source": [
    "# Using a list `[]`\n",
    "movies = set([\"Tenet\", \"Dunkirk\", \"Inception\"])\n",
    "print(movies)\n"
   ]
  },
  {
   "cell_type": "code",
   "execution_count": 4,
   "metadata": {},
   "outputs": [
    {
     "name": "stdout",
     "output_type": "stream",
     "text": [
      "{'Dunkirk', 'Tenet', 'Inception'}\n"
     ]
    }
   ],
   "source": [
    "# Using a tuple `(,)`\n",
    "movies = set((\"Tenet\", \"Dunkirk\", \"Inception\"))\n",
    "print(movies)\n"
   ]
  },
  {
   "cell_type": "code",
   "execution_count": 5,
   "metadata": {},
   "outputs": [
    {
     "name": "stdout",
     "output_type": "stream",
     "text": [
      "Nolan's movies: {'Interstellar', 'The Dark Knight', 'Tenet', 'Inception'}\n"
     ]
    }
   ],
   "source": [
    "# Write your code here\n",
    "nolan_movies = {\"Inception\", \"The Dark Knight\", \"Interstellar\", \"Tenet\"}\n",
    "\n",
    "# Testing\n",
    "print(\"Nolan's movies:\", nolan_movies)\n"
   ]
  }
 ],
 "metadata": {
  "kernelspec": {
   "display_name": "venv",
   "language": "python",
   "name": "python3"
  },
  "language_info": {
   "codemirror_mode": {
    "name": "ipython",
    "version": 3
   },
   "file_extension": ".py",
   "mimetype": "text/x-python",
   "name": "python",
   "nbconvert_exporter": "python",
   "pygments_lexer": "ipython3",
   "version": "3.13.2"
  }
 },
 "nbformat": 4,
 "nbformat_minor": 2
}
