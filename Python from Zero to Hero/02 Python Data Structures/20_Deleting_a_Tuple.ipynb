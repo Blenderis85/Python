{
 "cells": [
  {
   "cell_type": "code",
   "execution_count": 1,
   "metadata": {},
   "outputs": [
    {
     "name": "stdout",
     "output_type": "stream",
     "text": [
      "('Inception', 'Interstellar', 'Memento')\n"
     ]
    }
   ],
   "source": [
    "movies = (\"Inception\", \"Interstellar\", \"Tenet\", \"Dunkirk\", \"Memento\")\n",
    "\n",
    "# Convert the tuple to a list\n",
    "movies_list = list(movies)\n",
    "\n",
    "# Remove specific items\n",
    "movies_list.remove(\"Tenet\")\n",
    "movies_list.remove(\"Dunkirk\")\n",
    "\n",
    "# Convert the list back to a tuple\n",
    "movies = tuple(movies_list)\n",
    "\n",
    "print(movies)\n"
   ]
  },
  {
   "cell_type": "code",
   "execution_count": 2,
   "metadata": {},
   "outputs": [
    {
     "name": "stdout",
     "output_type": "stream",
     "text": [
      "Updated movie poster: ('Finding Nemo', '2001: A Space Odyssey', 'Interstellar', 'Gravity', 'The Martian')\n"
     ]
    }
   ],
   "source": [
    "movie_poster = ('The Lion King', 'Jurassic Park', 'Finding Nemo', '2001: A Space Odyssey', 'Interstellar', 'Gravity', 'The Martian')\n",
    "\n",
    "# Write your code here\n",
    "temp_list = list(movie_poster)\n",
    "\n",
    "temp_list.remove('The Lion King')\n",
    "temp_list.remove('Jurassic Park')\n",
    "\n",
    "movie_poster = tuple(temp_list)\n",
    "\n",
    "del temp_list\n",
    "\n",
    "# Testing \n",
    "print(\"Updated movie poster:\", movie_poster)\n"
   ]
  }
 ],
 "metadata": {
  "kernelspec": {
   "display_name": "venv",
   "language": "python",
   "name": "python3"
  },
  "language_info": {
   "codemirror_mode": {
    "name": "ipython",
    "version": 3
   },
   "file_extension": ".py",
   "mimetype": "text/x-python",
   "name": "python",
   "nbconvert_exporter": "python",
   "pygments_lexer": "ipython3",
   "version": "3.13.2"
  }
 },
 "nbformat": 4,
 "nbformat_minor": 2
}
