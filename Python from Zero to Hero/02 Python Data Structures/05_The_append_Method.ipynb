{
 "cells": [
  {
   "cell_type": "code",
   "execution_count": null,
   "metadata": {},
   "outputs": [],
   "source": [
    "travel_wishlist = [\"Paris\", \"Tokyo\", \"New York\", \"Rome\"]\n"
   ]
  },
  {
   "cell_type": "code",
   "execution_count": 1,
   "metadata": {},
   "outputs": [
    {
     "name": "stdout",
     "output_type": "stream",
     "text": [
      "['Paris', 'Tokyo', 'New York', 'Rome', 'Sydney']\n"
     ]
    }
   ],
   "source": [
    "travel_wishlist = ['Paris', 'Tokyo', 'New York', 'Rome']\n",
    "\n",
    "# Adding a new city to the travel wishlist\n",
    "travel_wishlist.append(\"Sydney\")\n",
    "\n",
    "print(travel_wishlist) # Output: ['Paris', 'Tokyo', 'New York', 'Rome', 'Sydney']\n"
   ]
  },
  {
   "cell_type": "code",
   "execution_count": 2,
   "metadata": {},
   "outputs": [
    {
     "name": "stdout",
     "output_type": "stream",
     "text": [
      "Updated list: ['Paris', 'Tokyo', 'Berlin', 'New York']\n"
     ]
    }
   ],
   "source": [
    "travel_wishlist = ['Paris', 'Tokyo']\n",
    "\n",
    "# Write your code below\n",
    "travel_wishlist.append(\"Berlin\")\n",
    "travel_wishlist.append(\"New York\")\n",
    "\n",
    "# Testing\n",
    "print(\"Updated list:\", travel_wishlist)\n"
   ]
  }
 ],
 "metadata": {
  "kernelspec": {
   "display_name": "venv",
   "language": "python",
   "name": "python3"
  },
  "language_info": {
   "codemirror_mode": {
    "name": "ipython",
    "version": 3
   },
   "file_extension": ".py",
   "mimetype": "text/x-python",
   "name": "python",
   "nbconvert_exporter": "python",
   "pygments_lexer": "ipython3",
   "version": "3.13.2"
  }
 },
 "nbformat": 4,
 "nbformat_minor": 2
}
