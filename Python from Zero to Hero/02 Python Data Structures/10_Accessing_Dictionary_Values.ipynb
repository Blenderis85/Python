{
 "cells": [
  {
   "cell_type": "code",
   "execution_count": 1,
   "metadata": {},
   "outputs": [
    {
     "name": "stdout",
     "output_type": "stream",
     "text": [
      "{'title': 'Pride and Prejudice', 'author': 'Jane Austen', 'year': 1813}\n"
     ]
    }
   ],
   "source": [
    "book = {\"title\": \"Pride and Prejudice\", \"author\": \"Jane Austen\", \"year\": 1813}\n",
    "print(book)\n"
   ]
  },
  {
   "cell_type": "code",
   "execution_count": 2,
   "metadata": {},
   "outputs": [
    {
     "name": "stdout",
     "output_type": "stream",
     "text": [
      "1813\n"
     ]
    }
   ],
   "source": [
    "book = {\"title\": \"Pride and Prejudice\", \"author\": \"Jane Austen\", \"year\": 1813}\n",
    "\n",
    "publication_year = book[\"year\"]\n",
    "print(publication_year)  # Output: 1813\n"
   ]
  },
  {
   "cell_type": "code",
   "execution_count": 3,
   "metadata": {},
   "outputs": [
    {
     "name": "stdout",
     "output_type": "stream",
     "text": [
      "William Shakespeare's books: ['Hamlet', 'Macbeth', 'Romeo and Juliet', 'Othello'] \n",
      "Stephen King's books: ['It', 'The Shining', 'Carrie', 'Misery']\n"
     ]
    }
   ],
   "source": [
    "authors_books = {\n",
    "    'William Shakespeare': ['Hamlet', 'Macbeth', 'Romeo and Juliet', 'Othello'],\n",
    "    'J.K. Rowling': ['Harry Potter and the Sorcerer\\'s Stone', 'Harry Potter and the Chamber of Secrets', 'Harry Potter and the Prisoner of Azkaban', 'Harry Potter and the Goblet of Fire'],\n",
    "    'George Orwell': ['1984', 'Animal Farm', 'Coming Up for Air'],\n",
    "    'Stephen King': ['It', 'The Shining', 'Carrie', 'Misery'],\n",
    "    'Agatha Christie': ['Murder on the Orient Express', 'The Murder of Roger Ackroyd', 'And Then There Were None', 'Death on the Nile']\n",
    "}\n",
    "\n",
    "# Write your code here\n",
    "kings_books = authors_books['Stephen King']\n",
    "shekspeares_books = authors_books['William Shakespeare']\n",
    "\n",
    "# Testing\n",
    "print(f'William Shakespeare\\'s books: {shekspeares_books} \\nStephen King\\'s books: {kings_books}')\n"
   ]
  }
 ],
 "metadata": {
  "kernelspec": {
   "display_name": "venv",
   "language": "python",
   "name": "python3"
  },
  "language_info": {
   "codemirror_mode": {
    "name": "ipython",
    "version": 3
   },
   "file_extension": ".py",
   "mimetype": "text/x-python",
   "name": "python",
   "nbconvert_exporter": "python",
   "pygments_lexer": "ipython3",
   "version": "3.13.2"
  }
 },
 "nbformat": 4,
 "nbformat_minor": 2
}
