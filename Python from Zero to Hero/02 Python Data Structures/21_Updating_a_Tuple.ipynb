{
 "cells": [
  {
   "cell_type": "code",
   "execution_count": 1,
   "metadata": {},
   "outputs": [
    {
     "name": "stdout",
     "output_type": "stream",
     "text": [
      "('Inception', 'Memento', 'The Prestige', 'Dunkirk')\n"
     ]
    }
   ],
   "source": [
    "current_movies = (\"Inception\", \"Interstellar\", \"Tenet\", \"Dunkirk\")\n",
    "\n",
    "# Step 1: Convert the tuple to a list\n",
    "movies_list = list(current_movies)\n",
    "\n",
    "# Step 2: Update the second and third movie titles\n",
    "movies_list[1] = \"Memento\"\n",
    "movies_list[2] = \"The Prestige\"\n",
    "\n",
    "# Step 3: Convert the list back to a tuple\n",
    "current_movies = tuple(movies_list)\n",
    "\n",
    "print(current_movies)\n"
   ]
  },
  {
   "cell_type": "code",
   "execution_count": 2,
   "metadata": {},
   "outputs": [
    {
     "name": "stdout",
     "output_type": "stream",
     "text": [
      "Updated genres: ('Action', 'Comedy', 'Thriller', 'Adventure', 'Sci-Fi')\n"
     ]
    }
   ],
   "source": [
    "movie_genres = (\"Action\", \"Comedy\", \"Drama\", \"Horror\", \"Sci-Fi\")\n",
    "\n",
    "# Write your code here\n",
    "temp_list = list(movie_genres)\n",
    "\n",
    "temp_list[2] = \"Thriller\"  \n",
    "temp_list[3] = \"Adventure\"  \n",
    "\n",
    "movie_genres = tuple(temp_list)\n",
    "\n",
    "del temp_list\n",
    "\n",
    "# Testing\n",
    "print(\"Updated genres:\", movie_genres)\n"
   ]
  }
 ],
 "metadata": {
  "kernelspec": {
   "display_name": "venv",
   "language": "python",
   "name": "python3"
  },
  "language_info": {
   "codemirror_mode": {
    "name": "ipython",
    "version": 3
   },
   "file_extension": ".py",
   "mimetype": "text/x-python",
   "name": "python",
   "nbconvert_exporter": "python",
   "pygments_lexer": "ipython3",
   "version": "3.13.2"
  }
 },
 "nbformat": 4,
 "nbformat_minor": 2
}
