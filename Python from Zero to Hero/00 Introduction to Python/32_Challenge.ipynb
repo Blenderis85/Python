{
 "cells": [
  {
   "cell_type": "code",
   "execution_count": 1,
   "metadata": {},
   "outputs": [
    {
     "name": "stdout",
     "output_type": "stream",
     "text": [
      "Bread should be sold at the regular price of 1.2.\n",
      "Eggs should be sold at the discounted price of 1.99.\n",
      "Apples need restocking.\n",
      "Apples should be sold at the regular price of 1.5.\n"
     ]
    }
   ],
   "source": [
    "# Inventory dictionary with stock, price, and discount price\n",
    "inventory = {\n",
    "    \"Bread\": [42, 1.20, 0.99],  # \"Item\": [current stock, regular price, discounted price]\n",
    "    \"Eggs\": [225, 2.12, 1.99],  # Eggs should be sold at a discount\n",
    "    \"Apples\": [9, 1.50, 1.35]   # Apples need to be restocked\n",
    "}\n",
    "\n",
    "# Loop through each item in the `inventory`\n",
    "for item, stock_info in inventory.items():\n",
    "    # Check if the stock is below 30 and notify for restocking\n",
    "    if stock_info[0] < 30:\n",
    "        print(f\"{item} need restocking.\")\n",
    "    \n",
    "    # Apply the discount if stock exceeds 100, otherwise sell at the regular price\n",
    "    if stock_info[0] > 100:\n",
    "        print(f\"{item} should be sold at the discounted price of {stock_info[2]}.\")\n",
    "    else:\n",
    "        print(f\"{item} should be sold at the regular price of {stock_info[1]}.\")\n"
   ]
  }
 ],
 "metadata": {
  "kernelspec": {
   "display_name": "venv",
   "language": "python",
   "name": "python3"
  },
  "language_info": {
   "codemirror_mode": {
    "name": "ipython",
    "version": 3
   },
   "file_extension": ".py",
   "mimetype": "text/x-python",
   "name": "python",
   "nbconvert_exporter": "python",
   "pygments_lexer": "ipython3",
   "version": "3.13.2"
  }
 },
 "nbformat": 4,
 "nbformat_minor": 2
}
