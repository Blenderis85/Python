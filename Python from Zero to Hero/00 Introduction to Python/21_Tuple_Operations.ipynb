{
 "cells": [
  {
   "cell_type": "code",
   "execution_count": 1,
   "metadata": {},
   "outputs": [
    {
     "name": "stdout",
     "output_type": "stream",
     "text": [
      "Consolidated quarterly sales: ('apples', 'oranges', 'apples', 'bananas', 'oranges', 'bananas', 'apples', 'bananas', 'apples')\n",
      "Apples have been on sale: 4 times.\n",
      "The first sale of apples this quarter was at index: 0\n"
     ]
    }
   ],
   "source": [
    "# Define lists with items that have been put on sale, recording each sale occurrence for different months\n",
    "janSales_list = [\"apples\", \"oranges\", \"apples\"]\n",
    "febSales_list = [\"bananas\", \"oranges\", \"bananas\"]\n",
    "marSales_list = [\"apples\", \"bananas\", \"apples\"]\n",
    "\n",
    "# Convert the lists to tuples to ensure immutability (unchangeable) \n",
    "janSales = tuple(janSales_list)\n",
    "febSales = tuple(febSales_list)\n",
    "marSales = tuple(marSales_list)\n",
    "\n",
    "# Concatenate all monthly sales into a single tuple for the quarter\n",
    "quarterlySales = janSales + febSales + marSales\n",
    "print(\"Consolidated quarterly sales:\", quarterlySales)\n",
    "\n",
    "# Use the `count()` method to determine how many times \"apples\" have been on sale during the quarter\n",
    "apples_sale_count = quarterlySales.count(\"apples\")\n",
    "print(\"Apples have been on sale:\", apples_sale_count, \"times.\")\n",
    "\n",
    "# Use the `index()` method to find the first occurrence of \"apples\" in the quarterly sales\n",
    "first_apple_sale_index = quarterlySales.index(\"apples\")\n",
    "print(\"The first sale of apples this quarter was at index:\", first_apple_sale_index)\n"
   ]
  },
  {
   "cell_type": "code",
   "execution_count": 2,
   "metadata": {},
   "outputs": [
    {
     "name": "stdout",
     "output_type": "stream",
     "text": [
      "Updated Shelf #1: ('celery', 'spinach', 'cucumbers', 'tomatoes', 'celery', 'cilantro')\n",
      "Number of Celery: 2\n",
      "Celery Index: 0\n"
     ]
    }
   ],
   "source": [
    "# Initial items on shelf #1 (provided as a tuple)\n",
    "shelf1 = (\"celery\", \"spinach\", \"cucumbers\")\n",
    "\n",
    "# Items being added to the shelf #1 (provided as a list)\n",
    "shelf1_update = [\"tomatoes\", \"celery\", \"cilantro\"]\n",
    "\n",
    "# Convert the list to a tuple\n",
    "shelf1_update_tuple = tuple(shelf1_update)\n",
    "\n",
    "# Concatenate tuples\n",
    "shelf1_concat = shelf1 + shelf1_update_tuple\n",
    "\n",
    "# Count occurrences of \"celery\"\n",
    "celery_count = shelf1_concat.count(\"celery\")\n",
    "\n",
    "# Find the index of the first occurrence of \"celery\"\n",
    "celery_index = shelf1_concat.index(\"celery\")\n",
    "\n",
    "# Print outputs\n",
    "print(\"Updated Shelf #1:\", shelf1_concat)\n",
    "print(\"Number of Celery:\", celery_count)\n",
    "print(\"Celery Index:\", celery_index)\n"
   ]
  }
 ],
 "metadata": {
  "kernelspec": {
   "display_name": "venv",
   "language": "python",
   "name": "python3"
  },
  "language_info": {
   "codemirror_mode": {
    "name": "ipython",
    "version": 3
   },
   "file_extension": ".py",
   "mimetype": "text/x-python",
   "name": "python",
   "nbconvert_exporter": "python",
   "pygments_lexer": "ipython3",
   "version": "3.13.2"
  }
 },
 "nbformat": 4,
 "nbformat_minor": 2
}
