{
 "cells": [
  {
   "cell_type": "code",
   "execution_count": 1,
   "metadata": {},
   "outputs": [
    {
     "name": "stdout",
     "output_type": "stream",
     "text": [
      "Stock is low\n"
     ]
    }
   ],
   "source": [
    "# Stock level of an item\n",
    "stock_level = 15\n",
    "\n",
    "# Simple `if`/`else` to check stock levels\n",
    "if stock_level < 20:\n",
    "    print(\"Stock is low\")\n",
    "else:\n",
    "    print(\"Stock is okay\")\n"
   ]
  },
  {
   "cell_type": "code",
   "execution_count": 2,
   "metadata": {},
   "outputs": [
    {
     "name": "stdout",
     "output_type": "stream",
     "text": [
      "10% discount applied\n"
     ]
    }
   ],
   "source": [
    "# Initial conditions\n",
    "totalCost = 150\n",
    "\n",
    "# Applying discounts based on purchase amount\n",
    "if totalCost >= 200:\n",
    "    print(\"20% discount applied\")\n",
    "elif totalCost >= 100:\n",
    "    print(\"10% discount applied\")\n",
    "else:\n",
    "    print(\"No discount for purchases under $100\")\n"
   ]
  },
  {
   "cell_type": "code",
   "execution_count": 3,
   "metadata": {},
   "outputs": [
    {
     "name": "stdout",
     "output_type": "stream",
     "text": [
      "No discount needed\n"
     ]
    }
   ],
   "source": [
    "# Initial conditions\n",
    "product = 'Non-Perishable'\n",
    "stock = 70\n",
    "daysDelivered = 2\n",
    "\n",
    "# Determine the handling of products based on type and condition\n",
    "if product == 'Perishable':\n",
    "    if daysDelivered >= 4:\n",
    "        print(\"Not fresh - Initiate discount\")\n",
    "    else:\n",
    "        print(\"Product is fresh\")\n",
    "elif product == 'Non-Perishable':\n",
    "    if stock > 100:\n",
    "        print(\"Consider discount\")\n",
    "    else:\n",
    "        print(\"No discount needed\")\n",
    "else:\n",
    "    print(\"The product is not specified\")\n"
   ]
  },
  {
   "cell_type": "code",
   "execution_count": 5,
   "metadata": {},
   "outputs": [
    {
     "name": "stdout",
     "output_type": "stream",
     "text": [
      "20% discount on Dairy today!\n"
     ]
    }
   ],
   "source": [
    "# Input variables\n",
    "product_type = \"Dairy\"  \n",
    "day_of_week = \"Wednesday\"\n",
    "\n",
    "if product_type == \"Fruits\" and day_of_week == \"Monday\":\n",
    "\tprint(\"10% discount on Fruits today!\")\n",
    "elif product_type == \"Vegetables\" and day_of_week == \"Tuesday\":\n",
    "\tprint(\"15% discount on Vegetables today!\")\n",
    "elif product_type == \"Dairy\" and day_of_week == \"Wednesday\":\n",
    "\tprint(\"20% discount on Dairy today!\")\n",
    "elif product_type == \"Other\":\n",
    "\tprint(\"No discount available.\")\n",
    "else:\n",
    "\tprint(\"No special discounts today.\")\n"
   ]
  }
 ],
 "metadata": {
  "kernelspec": {
   "display_name": "venv",
   "language": "python",
   "name": "python3"
  },
  "language_info": {
   "codemirror_mode": {
    "name": "ipython",
    "version": 3
   },
   "file_extension": ".py",
   "mimetype": "text/x-python",
   "name": "python",
   "nbconvert_exporter": "python",
   "pygments_lexer": "ipython3",
   "version": "3.13.2"
  }
 },
 "nbformat": 4,
 "nbformat_minor": 2
}
