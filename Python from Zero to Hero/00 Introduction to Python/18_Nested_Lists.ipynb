{
 "cells": [
  {
   "cell_type": "code",
   "execution_count": 1,
   "metadata": {},
   "outputs": [
    {
     "name": "stdout",
     "output_type": "stream",
     "text": [
      "Grocery List: [['Bread', 4.8, 3, 'Gluten Free'], ['Apple', 1.27, 12, 'Fuji'], ['Milk', 5.99, 2, '2% Milk']]\n",
      "Item: Milk\n",
      "Price: 5.99\n",
      "Quantity: 2\n",
      "Type: 2% Milk\n",
      "Updated Grocery List: [['Apple', 1.27, 12, 'Fuji'], ['Milk', 5.99, 2, '2% Milk'], ['Onions', 1.3, 10, 'Yellow']]\n"
     ]
    }
   ],
   "source": [
    "# Define individual grocery items as lists containing details\n",
    "bread = [\"Bread\", 4.80, 3, \"Gluten Free\"] # Item name, price, quantity, type\n",
    "milk = [\"Milk\", 5.99, 2, \"2% Milk\"]   # Item name, price, quantity, type\n",
    "apple = [\"Apple\", 1.27, 12, \"Fuji\"] # Item name, price, quantity, type\n",
    "\n",
    "# Create the main grocery list that contains these items\n",
    "grocery_list = [bread, apple, milk]\n",
    "print(\"Grocery List:\" , grocery_list)\n",
    "\n",
    "# Accessing and printing specific item details using indexing\n",
    "print(\"Item:\", grocery_list[2][0]) # Accesses \"Milk\" title\n",
    "print(\"Price:\", grocery_list[2][1]) # Accesses price of a Milk, which is 5.99\n",
    "print(\"Quantity:\", grocery_list[2][2]) # Accesses quantity of Milk, which is 2\n",
    "print(\"Type:\", grocery_list[2][3]) # Accesses type of Milk, which is \"2% Milk\"\n",
    "\n",
    "# Adding a new sublist item to the grocery list\n",
    "onion = [\"Onions\", 1.30, 10, \"Yellow\"]\n",
    "grocery_list.append(onion)\n",
    "\n",
    "# Removing an item from the grocery list\n",
    "grocery_list.remove(bread)\n",
    "\n",
    "# Sorting the grocery list alphabetically\n",
    "grocery_list.sort()\n",
    "print(\"Updated Grocery List:\", grocery_list)\n"
   ]
  },
  {
   "cell_type": "code",
   "execution_count": 2,
   "metadata": {},
   "outputs": [
    {
     "name": "stdout",
     "output_type": "stream",
     "text": [
      "Updated Vegetable Inventory: ['carrots', 'cucumbers', 'potatoes', 'tomatoes']\n"
     ]
    }
   ],
   "source": [
    "# Create a list of vegetables\n",
    "vegetables = [\"tomatoes\", \"potatoes\", \"onions\"]\n",
    "\n",
    "# Remove \"onions\" from the list\n",
    "vegetables.remove(\"onions\")\n",
    "\n",
    "# Add \"carrots\" if not already in the list\n",
    "if \"carrots\" not in vegetables:\n",
    "    vegetables.append(\"carrots\")\n",
    "else:\n",
    "    print(\"Carrots are already in the list.\")\n",
    "\n",
    "# Add \"cucumbers\" if not already in the list\n",
    "if \"cucumbers\" not in vegetables:\n",
    "    vegetables.append(\"cucumbers\")\n",
    "else:\n",
    "    print(\"Cucumbers are already in the list.\")\n",
    "\n",
    "# Sort the list alphabetically\n",
    "vegetables.sort()\n",
    "\n",
    "# Print the updated list\n",
    "print(\"Updated Vegetable Inventory:\", vegetables)\n"
   ]
  }
 ],
 "metadata": {
  "kernelspec": {
   "display_name": "venv",
   "language": "python",
   "name": "python3"
  },
  "language_info": {
   "codemirror_mode": {
    "name": "ipython",
    "version": 3
   },
   "file_extension": ".py",
   "mimetype": "text/x-python",
   "name": "python",
   "nbconvert_exporter": "python",
   "pygments_lexer": "ipython3",
   "version": "3.13.2"
  }
 },
 "nbformat": 4,
 "nbformat_minor": 2
}
