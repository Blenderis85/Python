{
 "cells": [
  {
   "cell_type": "code",
   "execution_count": 1,
   "metadata": {},
   "outputs": [
    {
     "name": "stdout",
     "output_type": "stream",
     "text": [
      "Every second city: \n",
      "Monako\n",
      "Liverpool\n",
      "Munchen\n",
      "The last three cities in reverse: \n",
      "Munchen\n",
      "Barcelona\n",
      "Liverpool\n"
     ]
    }
   ],
   "source": [
    "# List of travel destinations\n",
    "travel_list = [\"Monako\", \"Luxemburg\", \"Liverpool\", \"Barcelona\", \"Munchen\"]\n",
    "\n",
    "list_length = len(travel_list)\n",
    "\n",
    "# Task 1: Print every second city\n",
    "print(\"Every second city: \")\n",
    "for city in range(0, list_length, 2):\n",
    "    print(travel_list[city])\n",
    "\n",
    "# Task 2: Print the last three cities in reverse\n",
    "print(\"The last three cities in reverse: \")\n",
    "for city in range(list_length - 1, list_length - 4, -1):\n",
    "    print(travel_list[city])\n"
   ]
  }
 ],
 "metadata": {
  "kernelspec": {
   "display_name": "venv",
   "language": "python",
   "name": "python3"
  },
  "language_info": {
   "codemirror_mode": {
    "name": "ipython",
    "version": 3
   },
   "file_extension": ".py",
   "mimetype": "text/x-python",
   "name": "python",
   "nbconvert_exporter": "python",
   "pygments_lexer": "ipython3",
   "version": "3.13.2"
  }
 },
 "nbformat": 4,
 "nbformat_minor": 2
}
