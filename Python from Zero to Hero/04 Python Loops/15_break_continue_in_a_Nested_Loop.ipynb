{
 "cells": [
  {
   "cell_type": "code",
   "execution_count": 1,
   "metadata": {},
   "outputs": [
    {
     "name": "stdout",
     "output_type": "stream",
     "text": [
      "Processing expenses for Trip 1:\n",
      "Expense: $100\n",
      "Expense: $150\n",
      "Expense 300 exceeds the budget. Stopping this trip.\n",
      "\n",
      "Processing expenses for Trip 2:\n",
      "Expense: $200\n",
      "Expense 500 exceeds the budget. Stopping this trip.\n",
      "\n",
      "Processing expenses for Trip 3:\n",
      "Expense: $120\n",
      "Expense: $180\n",
      "Expense 400 exceeds the budget. Stopping this trip.\n",
      "\n"
     ]
    }
   ],
   "source": [
    "# List of trips with their respective expenses\n",
    "travel_costs = [\n",
    "    [100, 150, 300, 50],   # Trip 1\n",
    "    [200, 500, 100, 80],   # Trip 2\n",
    "    [120, 180, 400, 150]   # Trip 3\n",
    "]\n",
    "\n",
    "# Budget threshold\n",
    "budget = 200\n",
    "\n",
    "# Outer while loop to iterate through trips\n",
    "i = 0\n",
    "while i < len(travel_costs):\n",
    "    print(f\"Processing expenses for Trip {i + 1}:\")\n",
    "    \n",
    "    # Inner for loop to iterate through expenses\n",
    "    for cost in travel_costs[i]:\n",
    "        if cost > budget:  # If expense exceeds the budget, stop processing the current trip\n",
    "            print(f\"Expense {cost} exceeds the budget. Stopping this trip.\")\n",
    "            break\n",
    "        print(f\"Expense: ${cost}\")\n",
    "    \n",
    "    i += 1  # Move to the next trip\n",
    "    print(\"\")  # Add a new line for readability\n"
   ]
  },
  {
   "cell_type": "code",
   "execution_count": 2,
   "metadata": {},
   "outputs": [
    {
     "name": "stdout",
     "output_type": "stream",
     "text": [
      "Checking expenses for Trip 1:\n",
      "First significant expense: $300\n",
      "Checking expenses for Trip 2:\n",
      "First significant expense: $250\n",
      "Checking expenses for Trip 3:\n",
      "First significant expense: $400\n"
     ]
    }
   ],
   "source": [
    "# List of trips with their respective expenses\n",
    "travel_costs = [[50, 150, 300, 80], [90, 250, 100, 70], [120, 60, 400, 150]]\n",
    "\n",
    "# Thresholds\n",
    "min_expense = 100\n",
    "significant_expense = 200\n",
    "\n",
    "# Outer while loop to iterate through trips\n",
    "i = 0\n",
    "while i < len(travel_costs):\n",
    "    print(f\"Checking expenses for Trip {i + 1}:\")\n",
    "    # Inner for loop to check expenses in the current trip\n",
    "    for cost in travel_costs[i]:\n",
    "        if cost < min_expense:  # Skip expenses below the minimum\n",
    "            continue\n",
    "        elif cost > significant_expense:  # Stop at the first significant expense\n",
    "            print(f\"First significant expense: ${cost}\")\n",
    "            break\n",
    "    i += 1  # Move to the next trip\n"
   ]
  }
 ],
 "metadata": {
  "kernelspec": {
   "display_name": "venv",
   "language": "python",
   "name": "python3"
  },
  "language_info": {
   "codemirror_mode": {
    "name": "ipython",
    "version": 3
   },
   "file_extension": ".py",
   "mimetype": "text/x-python",
   "name": "python",
   "nbconvert_exporter": "python",
   "pygments_lexer": "ipython3",
   "version": "3.13.2"
  }
 },
 "nbformat": 4,
 "nbformat_minor": 2
}
