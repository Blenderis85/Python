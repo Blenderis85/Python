{
 "cells": [
  {
   "cell_type": "code",
   "execution_count": 1,
   "metadata": {},
   "outputs": [
    {
     "name": "stdout",
     "output_type": "stream",
     "text": [
      "Monako\n",
      "Luxemburg\n",
      "Liverpool\n",
      "Barcelona\n",
      "Munchen\n",
      "All destinations have been listed.\n"
     ]
    }
   ],
   "source": [
    "travel_list = [\"Monako\", \"Luxemburg\", \"Liverpool\", \"Barcelona\", \"Munchen\"]\n",
    "\n",
    "# Printing all destinations\n",
    "for city in travel_list:\n",
    "    print(city)\n",
    "else:\n",
    "    print(\"All destinations have been listed.\")\n"
   ]
  },
  {
   "cell_type": "code",
   "execution_count": 2,
   "metadata": {},
   "outputs": [
    {
     "name": "stdout",
     "output_type": "stream",
     "text": [
      "Monako\n",
      "Luxemburg\n",
      "Liverpool\n",
      "Barcelona\n"
     ]
    }
   ],
   "source": [
    "travel_list = [\"Monako\", \"Luxemburg\", \"Liverpool\", \"Barcelona\", \"Munchen\"]\n",
    "\n",
    "# Searching for a specific city\n",
    "for city in travel_list:\n",
    "    print(city)\n",
    "    if city == \"Barcelona\":\n",
    "        break\n",
    "else:\n",
    "    print(\"All destinations have been listed.\")\n"
   ]
  },
  {
   "cell_type": "code",
   "execution_count": 3,
   "metadata": {},
   "outputs": [
    {
     "name": "stdout",
     "output_type": "stream",
     "text": [
      "Paris is not in the travel list.\n"
     ]
    }
   ],
   "source": [
    "travel_list = [\"Monako\", \"Luxemburg\", \"Liverpool\", \"Barcelona\", \"Munchen\"]\n",
    "\n",
    "# Checking if a city is NOT in the list\n",
    "search_city = \"Paris\"\n",
    "\n",
    "if search_city not in travel_list:\n",
    "    print(f\"{search_city} is not in the travel list.\")\n",
    "else:\n",
    "    print(f\"{search_city} is in the travel list.\")\n"
   ]
  },
  {
   "cell_type": "code",
   "execution_count": 4,
   "metadata": {},
   "outputs": [
    {
     "name": "stdout",
     "output_type": "stream",
     "text": [
      "Luxemburg is not a favorite city!\n",
      "Not all cities are favorites!\n"
     ]
    }
   ],
   "source": [
    "travel_list = [\"Monako\", \"Luxemburg\", \"Liverpool\", \"Barcelona\", \"Munchen\"]\n",
    "\n",
    "# List of favorite cities\n",
    "favorite_cities = [\"Monako\", \"Barcelona\", \"Liverpool\"]\n",
    "\n",
    "# Check if all cities are favorites\n",
    "for city in travel_list:\n",
    "    if city not in favorite_cities:\n",
    "        print(f\"{city} is not a favorite city!\")\n",
    "        print(\"Not all cities are favorites!\")\n",
    "        break\n",
    "else:\n",
    "    print(\"All cities are favorites!\")\n"
   ]
  }
 ],
 "metadata": {
  "kernelspec": {
   "display_name": "venv",
   "language": "python",
   "name": "python3"
  },
  "language_info": {
   "codemirror_mode": {
    "name": "ipython",
    "version": 3
   },
   "file_extension": ".py",
   "mimetype": "text/x-python",
   "name": "python",
   "nbconvert_exporter": "python",
   "pygments_lexer": "ipython3",
   "version": "3.13.2"
  }
 },
 "nbformat": 4,
 "nbformat_minor": 2
}
