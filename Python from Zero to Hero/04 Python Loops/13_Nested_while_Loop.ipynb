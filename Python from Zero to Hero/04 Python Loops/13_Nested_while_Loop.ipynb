{
 "cells": [
  {
   "cell_type": "code",
   "execution_count": 1,
   "metadata": {},
   "outputs": [
    {
     "name": "stdout",
     "output_type": "stream",
     "text": [
      "Total cost for Trip 1: $950\n",
      "Total cost for Trip 2: $1170\n",
      "Total cost for Trip 3: $1030\n"
     ]
    }
   ],
   "source": [
    "# List of trips with their respective expenses\n",
    "travel_costs = [\n",
    "    [500, 200, 100, 150],  # Trip 1: Flights, Hotels, Food, Activities\n",
    "    [600, 250, 120, 200],  # Trip 2: Flights, Hotels, Food, Activities\n",
    "    [550, 180, 130, 170]   # Trip 3: Flights, Hotels, Food, Activities\n",
    "]\n",
    "\n",
    "# Initialize the outer loop to iterate over trips\n",
    "i = 0\n",
    "while i < len(travel_costs):\n",
    "    total_cost = 0  # Reset the total cost for the current trip\n",
    "    j = 0\n",
    "    \n",
    "    # Inner loop to iterate over expenses in each trip\n",
    "    while j < len(travel_costs[i]):\n",
    "        total_cost += travel_costs[i][j]  # Add the expense to the total cost\n",
    "        j += 1\n",
    "    \n",
    "    # Print the total cost for the current trip\n",
    "    print(f\"Total cost for Trip {i + 1}: ${total_cost}\")\n",
    "    i += 1  # Move to the next trip\n"
   ]
  },
  {
   "cell_type": "code",
   "execution_count": 2,
   "metadata": {},
   "outputs": [
    {
     "name": "stdout",
     "output_type": "stream",
     "text": [
      "Total cost for Trip 1: $950\n",
      "Total cost for Trip 2: $1170\n",
      "Total cost for Trip 3: $1030\n",
      "The most expensive trip is Trip 2 with a total cost of $1170.\n"
     ]
    }
   ],
   "source": [
    "# List of trips with their respective expenses [Flights, Hotels, Food, Activities]\n",
    "travel_costs = [\n",
    "    [500, 200, 100, 150],  # Trip 1\n",
    "    [600, 250, 120, 200],  # Trip 2\n",
    "    [550, 180, 130, 170]   # Trip 3\n",
    "]\n",
    "\n",
    "# Initialize variables to track the most expensive trip\n",
    "i = 0\n",
    "max_cost = 0\n",
    "expensive_trip_index = 0\n",
    "\n",
    "# Outer while loop to iterate through trips\n",
    "while i < len(travel_costs):\n",
    "    total_cost = 0  # Reset total cost for the current trip\n",
    "    j = 0\n",
    "    \n",
    "    # Inner while loop to sum up expenses for the current trip\n",
    "    while j < len(travel_costs[i]):\n",
    "        total_cost += travel_costs[i][j]\n",
    "        j += 1  # Move to the next expense in the current trip\n",
    "    \n",
    "    # Print the total cost for the current trip\n",
    "    print(f\"Total cost for Trip {i + 1}: ${total_cost}\")\n",
    "    \n",
    "    # Update the most expensive trip if needed\n",
    "    if total_cost > max_cost:\n",
    "        max_cost = total_cost\n",
    "        expensive_trip_index = i + 1\n",
    "    \n",
    "    i += 1  # Move to the next trip\n",
    "\n",
    "# Print the most expensive trip\n",
    "print(f\"The most expensive trip is Trip {expensive_trip_index} with a total cost of ${max_cost}.\")\n"
   ]
  }
 ],
 "metadata": {
  "kernelspec": {
   "display_name": "venv",
   "language": "python",
   "name": "python3"
  },
  "language_info": {
   "codemirror_mode": {
    "name": "ipython",
    "version": 3
   },
   "file_extension": ".py",
   "mimetype": "text/x-python",
   "name": "python",
   "nbconvert_exporter": "python",
   "pygments_lexer": "ipython3",
   "version": "3.13.2"
  }
 },
 "nbformat": 4,
 "nbformat_minor": 2
}
