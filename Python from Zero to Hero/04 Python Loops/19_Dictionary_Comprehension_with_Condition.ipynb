{
 "cells": [
  {
   "cell_type": "code",
   "execution_count": 1,
   "metadata": {},
   "outputs": [
    {
     "name": "stdout",
     "output_type": "stream",
     "text": [
      "{'Paris': 2000, 'New York': 2500, 'Kyoto': 1500}\n"
     ]
    }
   ],
   "source": [
    "travel_wishlist = [\n",
    "    [\"Paris\", \"France\", 2000],\n",
    "    [\"Tokyo\", \"Japan\", 3000],\n",
    "    [\"New York\", \"USA\", 2500],\n",
    "    [\"Kyoto\", \"Japan\", 1500],\n",
    "    [\"Sydney\", \"Australia\", 4000]\n",
    "]\n",
    "\n",
    "# Filter destinations within a $2500 budget using a for loop\n",
    "affordable_destinations = {}\n",
    "\n",
    "for city, country, budget in travel_wishlist:\n",
    "    if budget <= 2500:  # Check if the budget is within the limit\n",
    "        affordable_destinations[city] = budget\n",
    "\n",
    "print(affordable_destinations)\n"
   ]
  },
  {
   "cell_type": "code",
   "execution_count": 2,
   "metadata": {},
   "outputs": [
    {
     "name": "stdout",
     "output_type": "stream",
     "text": [
      "{'Paris': 2000, 'New York': 2500, 'Kyoto': 1500}\n"
     ]
    }
   ],
   "source": [
    "travel_wishlist = [\n",
    "    [\"Paris\", \"France\", 2000],\n",
    "    [\"Tokyo\", \"Japan\", 3000],\n",
    "    [\"New York\", \"USA\", 2500],\n",
    "    [\"Kyoto\", \"Japan\", 1500],\n",
    "    [\"Sydney\", \"Australia\", 4000]\n",
    "]\n",
    "\n",
    "# Use dictionary comprehension to filter destinations\n",
    "affordable_destinations = {city: budget for city, country, budget in travel_wishlist if budget <= 2500}\n",
    "\n",
    "print(affordable_destinations)  # Output: {'Paris': 2000, 'New York': 2500, 'Kyoto': 1500}\n"
   ]
  },
  {
   "cell_type": "code",
   "execution_count": 3,
   "metadata": {},
   "outputs": [
    {
     "name": "stdout",
     "output_type": "stream",
     "text": [
      "{'Tokyo': 3000, 'Kyoto': 1500}\n"
     ]
    }
   ],
   "source": [
    "travel_wishlist = [\n",
    "    [\"Paris\", \"France\", 2000],\n",
    "    [\"Tokyo\", \"Japan\", 3000],\n",
    "    [\"New York\", \"USA\", 2500],\n",
    "    [\"Kyoto\", \"Japan\", 1500],\n",
    "    [\"Sydney\", \"Australia\", 4000]\n",
    "]\n",
    "\n",
    "# Filter destinations in Japan using dictionary comprehension\n",
    "japanese_destinations = {city: budget for city, country, budget in travel_wishlist if country == \"Japan\"}\n",
    "\n",
    "print(japanese_destinations)  # Output: {'Tokyo': 3000, 'Kyoto': 1500}\n"
   ]
  }
 ],
 "metadata": {
  "kernelspec": {
   "display_name": "venv",
   "language": "python",
   "name": "python3"
  },
  "language_info": {
   "codemirror_mode": {
    "name": "ipython",
    "version": 3
   },
   "file_extension": ".py",
   "mimetype": "text/x-python",
   "name": "python",
   "nbconvert_exporter": "python",
   "pygments_lexer": "ipython3",
   "version": "3.13.2"
  }
 },
 "nbformat": 4,
 "nbformat_minor": 2
}
