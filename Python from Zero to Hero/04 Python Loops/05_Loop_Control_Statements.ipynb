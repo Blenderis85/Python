{
 "cells": [
  {
   "cell_type": "code",
   "execution_count": 1,
   "metadata": {},
   "outputs": [
    {
     "name": "stdout",
     "output_type": "stream",
     "text": [
      "Monako is not Barcelona\n",
      "Luxemburg is not Barcelona\n",
      "Liverpool is not Barcelona\n",
      "Found Barcelona!\n"
     ]
    }
   ],
   "source": [
    "travel_list = [\"Monako\", \"Luxemburg\", \"Liverpool\", \"Barcelona\", \"Munchen\"]\n",
    "\n",
    "# Searching for a specific city\n",
    "for city in travel_list:\n",
    "    if city == \"Barcelona\":\n",
    "        print(\"Found Barcelona!\")\n",
    "        break\n",
    "    else:\n",
    "        print(f\"{city} is not Barcelona\")\n"
   ]
  },
  {
   "cell_type": "code",
   "execution_count": 2,
   "metadata": {},
   "outputs": [
    {
     "name": "stdout",
     "output_type": "stream",
     "text": [
      "Processing Monako\n",
      "Processing Luxemburg\n",
      "Processing Liverpool\n",
      "Processing Munchen\n"
     ]
    }
   ],
   "source": [
    "travel_list = [\"Monako\", \"Luxemburg\", \"Liverpool\", \"Barcelona\", \"Munchen\"]\n",
    "\n",
    "for city in travel_list:\n",
    "    if city == \"Barcelona\":\n",
    "        # Skip the rest of the code for this iteration\n",
    "        continue\n",
    "        print(f\"{city} is marked for later processing.\")  # This won't run after `continue`\n",
    "    else:\n",
    "        print(f\"Processing {city}\")\n"
   ]
  },
  {
   "cell_type": "code",
   "execution_count": 3,
   "metadata": {},
   "outputs": [
    {
     "name": "stdout",
     "output_type": "stream",
     "text": [
      "Processing Monako\n",
      "Processing Luxemburg\n",
      "Processing Liverpool\n",
      "Barcelona is marked for later processing.\n",
      "Processing Munchen\n"
     ]
    }
   ],
   "source": [
    "travel_list = [\"Monako\", \"Luxemburg\", \"Liverpool\", \"Barcelona\", \"Munchen\"]\n",
    "\n",
    "for city in travel_list:\n",
    "    if city == \"Barcelona\":\n",
    "        # Placeholder for future logic\n",
    "        pass\n",
    "        print(f\"{city} is marked for later processing.\")  # Code still runs after 'pass'\n",
    "    else:\n",
    "        print(f\"Processing {city}\")\n"
   ]
  },
  {
   "cell_type": "code",
   "execution_count": 4,
   "metadata": {},
   "outputs": [
    {
     "name": "stdout",
     "output_type": "stream",
     "text": [
      "Found Barcelona!\n"
     ]
    }
   ],
   "source": [
    "travel_list = [\"Monako\", \"Luxemburg\", \"Liverpool\", \"Barcelona\", \"Munchen\"]\n",
    "\n",
    "# Define the city to search for\n",
    "target_city = \"Barcelona\"\n",
    "\n",
    "# Search for the city in the list\n",
    "for city in travel_list:\n",
    "    if target_city == target_city:\n",
    "        print(f\"Found {target_city}!\")\n",
    "        break\n",
    "else:\n",
    "    print(f\"{target_city} is not found.\")\n"
   ]
  }
 ],
 "metadata": {
  "kernelspec": {
   "display_name": "venv",
   "language": "python",
   "name": "python3"
  },
  "language_info": {
   "codemirror_mode": {
    "name": "ipython",
    "version": 3
   },
   "file_extension": ".py",
   "mimetype": "text/x-python",
   "name": "python",
   "nbconvert_exporter": "python",
   "pygments_lexer": "ipython3",
   "version": "3.13.2"
  }
 },
 "nbformat": 4,
 "nbformat_minor": 2
}
