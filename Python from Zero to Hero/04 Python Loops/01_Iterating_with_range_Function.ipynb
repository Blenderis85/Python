{
 "cells": [
  {
   "cell_type": "code",
   "execution_count": 1,
   "metadata": {},
   "outputs": [
    {
     "name": "stdout",
     "output_type": "stream",
     "text": [
      "Monako\n",
      "Luxemburg\n",
      "Liverpool\n"
     ]
    }
   ],
   "source": [
    "# List of travel destinations\n",
    "travel_list = [\"Monako\", \"Luxemburg\", \"Liverpool\", \"Barcelona\", \"Munchen\"]\n",
    "\n",
    "# Printing the first three destinations\n",
    "for i in range(3):  # Indices: 0, 1, 2\n",
    "    print(travel_list[i])\n"
   ]
  },
  {
   "cell_type": "code",
   "execution_count": 2,
   "metadata": {},
   "outputs": [
    {
     "name": "stdout",
     "output_type": "stream",
     "text": [
      "Munchen\n",
      "Barcelona\n",
      "Liverpool\n",
      "Luxemburg\n",
      "Monako\n"
     ]
    }
   ],
   "source": [
    "travel_list = [\"Monako\", \"Luxemburg\", \"Liverpool\", \"Barcelona\", \"Munchen\"]\n",
    "\n",
    "# Printing travel destinations in reverse\n",
    "for i in range(len(travel_list) - 1, -1, -1):  # Start at last index, end at -1, step -1\n",
    "    print(travel_list[i])\n"
   ]
  }
 ],
 "metadata": {
  "kernelspec": {
   "display_name": "venv",
   "language": "python",
   "name": "python3"
  },
  "language_info": {
   "codemirror_mode": {
    "name": "ipython",
    "version": 3
   },
   "file_extension": ".py",
   "mimetype": "text/x-python",
   "name": "python",
   "nbconvert_exporter": "python",
   "pygments_lexer": "ipython3",
   "version": "3.13.2"
  }
 },
 "nbformat": 4,
 "nbformat_minor": 2
}
