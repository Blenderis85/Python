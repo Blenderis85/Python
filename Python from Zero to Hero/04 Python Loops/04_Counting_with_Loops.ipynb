{
 "cells": [
  {
   "cell_type": "code",
   "execution_count": 1,
   "metadata": {},
   "outputs": [
    {
     "name": "stdout",
     "output_type": "stream",
     "text": [
      "Total length of all city names: 40\n"
     ]
    }
   ],
   "source": [
    "travel_list = [\"Monako\", \"Luxemburg\", \"Liverpool\", \"Barcelona\", \"Munchen\"]\n",
    "\n",
    "# Initialize counter\n",
    "total_length = 0\n",
    "\n",
    "# Iteration through the list\n",
    "for city in travel_list:\n",
    "    # Add the length of each city name\n",
    "    total_length += len(city)\n",
    "\n",
    "print(f\"Total length of all city names: {total_length}\")\n"
   ]
  },
  {
   "cell_type": "code",
   "execution_count": 2,
   "metadata": {},
   "outputs": [
    {
     "name": "stdout",
     "output_type": "stream",
     "text": [
      "Number of cities with names longer than 8 characters: 3\n"
     ]
    }
   ],
   "source": [
    "travel_list = [\"Monako\", \"Luxemburg\", \"Liverpool\", \"Barcelona\", \"Munchen\"]\n",
    "\n",
    "# Initialize counter\n",
    "total_length = 0\n",
    "\n",
    "# Count cities with names longer than 8 characters\n",
    "for city in travel_list:\n",
    "    if len(city) > 8:\n",
    "        total_length += 1\n",
    "\n",
    "# Print the result\n",
    "print(f\"Number of cities with names longer than 8 characters: {total_length}\")\n"
   ]
  }
 ],
 "metadata": {
  "kernelspec": {
   "display_name": "venv",
   "language": "python",
   "name": "python3"
  },
  "language_info": {
   "codemirror_mode": {
    "name": "ipython",
    "version": 3
   },
   "file_extension": ".py",
   "mimetype": "text/x-python",
   "name": "python",
   "nbconvert_exporter": "python",
   "pygments_lexer": "ipython3",
   "version": "3.13.2"
  }
 },
 "nbformat": 4,
 "nbformat_minor": 2
}
