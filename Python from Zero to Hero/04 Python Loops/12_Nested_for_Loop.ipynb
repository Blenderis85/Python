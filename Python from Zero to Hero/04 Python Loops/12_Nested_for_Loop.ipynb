{
 "cells": [
  {
   "cell_type": "code",
   "execution_count": 1,
   "metadata": {},
   "outputs": [
    {
     "name": "stdout",
     "output_type": "stream",
     "text": [
      "Monako \n",
      "Monako Luxemburg \n",
      "Monako Luxemburg Liverpool \n",
      "Monako Luxemburg Liverpool Barcelona \n",
      "Monako Luxemburg Liverpool Barcelona Munchen \n"
     ]
    }
   ],
   "source": [
    "travel_list = [\"Monako\", \"Luxemburg\", \"Liverpool\", \"Barcelona\", \"Munchen\"]\n",
    "\n",
    "# Outer loop for controlling rows\n",
    "for i in range(1, len(travel_list) + 1):\n",
    "    # Inner loop for controlling columns\n",
    "    for j in range(i):\n",
    "        print(travel_list[j], end=' ')  # Print cities in a row\n",
    "    print('')  # Move to the next line after each row\n"
   ]
  },
  {
   "cell_type": "code",
   "execution_count": 2,
   "metadata": {},
   "outputs": [
    {
     "name": "stdout",
     "output_type": "stream",
     "text": [
      "Trip 1:\n",
      "Paris London Berlin \n",
      "Trip 2:\n",
      "Tokyo Kyoto Osaka \n",
      "Trip 3:\n",
      "New York Boston Chicago \n"
     ]
    }
   ],
   "source": [
    "trips = [\n",
    "    [\"Paris\", \"London\", \"Berlin\"],\n",
    "    [\"Tokyo\", \"Kyoto\", \"Osaka\"],\n",
    "    [\"New York\", \"Boston\", \"Chicago\"]\n",
    "]\n",
    "\n",
    "# Outer loop to iterate through trips with trip_index\n",
    "for trip_index, trip in enumerate(trips, start=1):\n",
    "    print(f\"Trip {trip_index}:\")\n",
    "    # Inner loop to iterate through destinations in the current trip\n",
    "    for destination in trip:\n",
    "        print(destination, end=' ')\n",
    "    print('')  # Move to the next line after each trip\n"
   ]
  }
 ],
 "metadata": {
  "kernelspec": {
   "display_name": "venv",
   "language": "python",
   "name": "python3"
  },
  "language_info": {
   "codemirror_mode": {
    "name": "ipython",
    "version": 3
   },
   "file_extension": ".py",
   "mimetype": "text/x-python",
   "name": "python",
   "nbconvert_exporter": "python",
   "pygments_lexer": "ipython3",
   "version": "3.13.2"
  }
 },
 "nbformat": 4,
 "nbformat_minor": 2
}
