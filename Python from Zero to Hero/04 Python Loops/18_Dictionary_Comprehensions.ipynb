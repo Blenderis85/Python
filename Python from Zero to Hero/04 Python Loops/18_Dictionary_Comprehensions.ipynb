{
 "cells": [
  {
   "cell_type": "code",
   "execution_count": 1,
   "metadata": {},
   "outputs": [
    {
     "name": "stdout",
     "output_type": "stream",
     "text": [
      "{'Paris': 2000, 'Tokyo': 3000, 'New York': 2500, 'Kyoto': 1500, 'Sydney': 4000}\n"
     ]
    }
   ],
   "source": [
    "travel_wishlist = [\n",
    "    [\"Paris\", 2000],\n",
    "    [\"Tokyo\", 3000],\n",
    "    [\"New York\", 2500],\n",
    "    [\"Kyoto\", 1500],\n",
    "    [\"Sydney\", 4000]\n",
    "]\n",
    "\n",
    "# Initialize an empty dictionary\n",
    "travel_budget = {}\n",
    "\n",
    "# Populate the dictionary using a for loop\n",
    "for destination, cost in travel_wishlist:\n",
    "    travel_budget[destination] = cost\n",
    "\n",
    "print(travel_budget)\n"
   ]
  },
  {
   "cell_type": "code",
   "execution_count": 2,
   "metadata": {},
   "outputs": [
    {
     "name": "stdout",
     "output_type": "stream",
     "text": [
      "{'Paris': 2000, 'Tokyo': 3000, 'New York': 2500, 'Kyoto': 1500, 'Sydney': 4000}\n"
     ]
    }
   ],
   "source": [
    "travel_wishlist = [\n",
    "    [\"Paris\", 2000],\n",
    "    [\"Tokyo\", 3000],\n",
    "    [\"New York\", 2500],\n",
    "    [\"Kyoto\", 1500],\n",
    "    [\"Sydney\", 4000]\n",
    "]\n",
    "\n",
    "# Create the dictionary using dictionary comprehension\n",
    "travel_budget = {destination: cost for destination, cost in travel_wishlist}\n",
    "\n",
    "print(travel_budget)\n"
   ]
  },
  {
   "cell_type": "code",
   "execution_count": 3,
   "metadata": {},
   "outputs": [
    {
     "name": "stdout",
     "output_type": "stream",
     "text": [
      "{'Paris': 'France', 'Tokyo': 'Japan', 'New York': 'USA', 'Kyoto': 'Japan', 'Sydney': 'Australia'}\n"
     ]
    }
   ],
   "source": [
    "travel_wishlist = [\n",
    "    [\"Paris\", \"France\", 2000],\n",
    "    [\"Tokyo\", \"Japan\", 3000],\n",
    "    [\"New York\", \"USA\", 2500],\n",
    "    [\"Kyoto\", \"Japan\", 1500],\n",
    "    [\"Sydney\", \"Australia\", 4000]\n",
    "]\n",
    "\n",
    "# Create a dictionary mapping city to country\n",
    "city_to_country = {city: country for city, country, budget in travel_wishlist}\n",
    "\n",
    "print(city_to_country)\n"
   ]
  }
 ],
 "metadata": {
  "kernelspec": {
   "display_name": "venv",
   "language": "python",
   "name": "python3"
  },
  "language_info": {
   "codemirror_mode": {
    "name": "ipython",
    "version": 3
   },
   "file_extension": ".py",
   "mimetype": "text/x-python",
   "name": "python",
   "nbconvert_exporter": "python",
   "pygments_lexer": "ipython3",
   "version": "3.13.2"
  }
 },
 "nbformat": 4,
 "nbformat_minor": 2
}
